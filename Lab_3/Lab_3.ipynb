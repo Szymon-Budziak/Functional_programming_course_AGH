{
 "cells": [
  {
   "cell_type": "markdown",
   "id": "6509a659",
   "metadata": {},
   "source": [
    "# Labs 3"
   ]
  },
  {
   "cell_type": "markdown",
   "id": "08810747",
   "metadata": {},
   "source": [
    "## 1) Funkcje anonimowe i currying"
   ]
  },
  {
   "cell_type": "markdown",
   "id": "1de04d3f",
   "metadata": {},
   "source": [
    "**1. Napisać funkcje anonimowe (wyrażenia lambda) odpowiadające:**\n",
    "\n",
    "**Uwaga: Sprawdzić działanie dla wybranych wartości argumentów**"
   ]
  },
  {
   "cell_type": "markdown",
   "id": "0566f079",
   "metadata": {},
   "source": [
    "**a) f1(x) = x − 2; x ∈ ℝ,**"
   ]
  },
  {
   "cell_type": "code",
   "execution_count": 1,
   "id": "b553d44e",
   "metadata": {},
   "outputs": [
    {
     "data": {
      "text/plain": [
       "3"
      ]
     },
     "metadata": {},
     "output_type": "display_data"
    }
   ],
   "source": [
    "let f1 = \\x -> x - 2\n",
    "f1 5"
   ]
  },
  {
   "cell_type": "markdown",
   "id": "8c04f548",
   "metadata": {},
   "source": [
    "**b) f2(x, y) = sqrt(x^2 + y^2); x, y ∈ ℝ,**"
   ]
  },
  {
   "cell_type": "code",
   "execution_count": 2,
   "id": "a496b8c0",
   "metadata": {},
   "outputs": [
    {
     "data": {
      "text/plain": [
       "5.0"
      ]
     },
     "metadata": {},
     "output_type": "display_data"
    }
   ],
   "source": [
    "let f2 = \\x y -> sqrt(x^2 + y^2)\n",
    "f2 3 4"
   ]
  },
  {
   "cell_type": "markdown",
   "id": "a94f37c3",
   "metadata": {},
   "source": [
    "**c) f3(x, y, z) = sqrt(x^2 + y^2 + z^2); x, y, z ∈ ℤ**"
   ]
  },
  {
   "cell_type": "code",
   "execution_count": 3,
   "id": "5120ac81",
   "metadata": {},
   "outputs": [
    {
     "data": {
      "text/plain": [
       "3.7416573867739413"
      ]
     },
     "metadata": {},
     "output_type": "display_data"
    }
   ],
   "source": [
    "let f3 = \\(x, y, z) -> sqrt(x^2 + y^2 + z^2)\n",
    "f3 (1, 2, 3)"
   ]
  },
  {
   "cell_type": "markdown",
   "id": "09eef92d",
   "metadata": {},
   "source": [
    "**2. Napisać funkcje anonimowe (wyrażenia lambda) odpowiadające:**\n",
    "\n",
    "**Uwaga: Sprawdzić działanie dla wybranych wartości argumentów**"
   ]
  },
  {
   "cell_type": "markdown",
   "id": "25217dd1",
   "metadata": {},
   "source": [
    "**a) (2*)**"
   ]
  },
  {
   "cell_type": "code",
   "execution_count": 4,
   "id": "55131262",
   "metadata": {},
   "outputs": [
    {
     "data": {
      "text/plain": [
       "10"
      ]
     },
     "metadata": {},
     "output_type": "display_data"
    }
   ],
   "source": [
    "let f4 = \\x -> 2*x\n",
    "f4 5"
   ]
  },
  {
   "cell_type": "markdown",
   "id": "768db856",
   "metadata": {},
   "source": [
    "**b) (*2)**"
   ]
  },
  {
   "cell_type": "code",
   "execution_count": 5,
   "id": "08e0aecb",
   "metadata": {},
   "outputs": [
    {
     "data": {
      "text/plain": [
       "10"
      ]
     },
     "metadata": {},
     "output_type": "display_data"
    }
   ],
   "source": [
    "let f5 = \\x -> x*2\n",
    "f5 5"
   ]
  },
  {
   "cell_type": "markdown",
   "id": "866fcb92",
   "metadata": {},
   "source": [
    "**c) (2^)**"
   ]
  },
  {
   "cell_type": "code",
   "execution_count": 6,
   "id": "644e3190",
   "metadata": {},
   "outputs": [
    {
     "data": {
      "text/plain": [
       "32"
      ]
     },
     "metadata": {},
     "output_type": "display_data"
    }
   ],
   "source": [
    "let f6 = \\x -> 2^x\n",
    "f6 5"
   ]
  },
  {
   "cell_type": "markdown",
   "id": "685194ec",
   "metadata": {},
   "source": [
    "**d) (^2)**"
   ]
  },
  {
   "cell_type": "code",
   "execution_count": 7,
   "id": "751d8447",
   "metadata": {},
   "outputs": [
    {
     "data": {
      "text/plain": [
       "25"
      ]
     },
     "metadata": {},
     "output_type": "display_data"
    }
   ],
   "source": [
    "let f7 = \\x -> x^2\n",
    "f7 5"
   ]
  },
  {
   "cell_type": "markdown",
   "id": "67c34ea2",
   "metadata": {},
   "source": [
    "**e) (2/)**"
   ]
  },
  {
   "cell_type": "code",
   "execution_count": 8,
   "id": "5a2cb2ef",
   "metadata": {},
   "outputs": [
    {
     "data": {
      "text/plain": [
       "0.4"
      ]
     },
     "metadata": {},
     "output_type": "display_data"
    }
   ],
   "source": [
    "let f8 = \\x -> 2/x\n",
    "f8 5"
   ]
  },
  {
   "cell_type": "markdown",
   "id": "19a2efff",
   "metadata": {},
   "source": [
    "**f) (/3)**"
   ]
  },
  {
   "cell_type": "code",
   "execution_count": 9,
   "id": "8e40cefe",
   "metadata": {},
   "outputs": [
    {
     "data": {
      "text/plain": [
       "2.0"
      ]
     },
     "metadata": {},
     "output_type": "display_data"
    }
   ],
   "source": [
    "let f9 = \\x -> x/3\n",
    "f9 6"
   ]
  },
  {
   "cell_type": "markdown",
   "id": "62f67532",
   "metadata": {},
   "source": [
    "**g) (4-)**"
   ]
  },
  {
   "cell_type": "code",
   "execution_count": 10,
   "id": "06a57fa4",
   "metadata": {},
   "outputs": [
    {
     "data": {
      "text/plain": [
       "-1"
      ]
     },
     "metadata": {},
     "output_type": "display_data"
    }
   ],
   "source": [
    "let f10 = \\x -> 4-x\n",
    "f10 5"
   ]
  },
  {
   "cell_type": "markdown",
   "id": "a16c8ffd",
   "metadata": {},
   "source": [
    "**3. Napisać funkcje anonimowe (wyrażenia lambda) odpowiadające:**\n",
    "\n",
    "**Uwaga: Sprawdzić działanie dla wybranych wartości argumentów**"
   ]
  },
  {
   "cell_type": "markdown",
   "id": "183b26e8",
   "metadata": {},
   "source": [
    "**a) sqrt**"
   ]
  },
  {
   "cell_type": "code",
   "execution_count": 11,
   "id": "4f8d719c",
   "metadata": {},
   "outputs": [
    {
     "data": {
      "text/plain": [
       "6.0"
      ]
     },
     "metadata": {},
     "output_type": "display_data"
    }
   ],
   "source": [
    "let sqrt' = \\x -> sqrt(x)\n",
    "sqrt' 36"
   ]
  },
  {
   "cell_type": "markdown",
   "id": "d87b4c42",
   "metadata": {},
   "source": [
    "**b) abs**"
   ]
  },
  {
   "cell_type": "code",
   "execution_count": 12,
   "id": "ab4bab60",
   "metadata": {},
   "outputs": [
    {
     "data": {
      "text/plain": [
       "17"
      ]
     },
     "metadata": {},
     "output_type": "display_data"
    }
   ],
   "source": [
    "let abs' = \\x -> if x < 0 then -x\n",
    "                else  x\n",
    "abs' (-17)"
   ]
  },
  {
   "cell_type": "markdown",
   "id": "0e3dc368",
   "metadata": {},
   "source": [
    "**c) log**"
   ]
  },
  {
   "cell_type": "code",
   "execution_count": 13,
   "id": "b482f524",
   "metadata": {},
   "outputs": [
    {
     "data": {
      "text/plain": [
       "2.9444389791664403"
      ]
     },
     "metadata": {},
     "output_type": "display_data"
    }
   ],
   "source": [
    "let log' = \\x -> log(x)\n",
    "log' 19"
   ]
  },
  {
   "cell_type": "markdown",
   "id": "a9adc985",
   "metadata": {},
   "source": [
    "**d) id**"
   ]
  },
  {
   "cell_type": "code",
   "execution_count": 14,
   "id": "9f68576e",
   "metadata": {},
   "outputs": [
    {
     "data": {
      "text/plain": [
       "-5"
      ]
     },
     "metadata": {},
     "output_type": "display_data"
    }
   ],
   "source": [
    "let id' = \\x -> x\n",
    "id' (-5)"
   ]
  },
  {
   "cell_type": "markdown",
   "id": "4a1ce729",
   "metadata": {},
   "source": [
    "**e) const**"
   ]
  },
  {
   "cell_type": "code",
   "execution_count": 15,
   "id": "34d128cf",
   "metadata": {},
   "outputs": [
    {
     "data": {
      "text/plain": [
       "4"
      ]
     },
     "metadata": {},
     "output_type": "display_data"
    }
   ],
   "source": [
    "let const' = \\x -> 4\n",
    "const' (-5)"
   ]
  },
  {
   "cell_type": "markdown",
   "id": "cc3d71d5",
   "metadata": {},
   "source": [
    "**4. Npisać funkcje anonimowe (wyrażenia lambda) odpowiadające:**\n",
    "\n",
    "**Uwaga: Sprawdzić działanie dla wybranych wartości argumentów**"
   ]
  },
  {
   "cell_type": "markdown",
   "id": "11092920",
   "metadata": {},
   "source": [
    "**a) f11 x = if x `mod` 2 == 0 then True else False**"
   ]
  },
  {
   "cell_type": "code",
   "execution_count": 16,
   "id": "a86fd57b",
   "metadata": {},
   "outputs": [
    {
     "data": {
      "text/plain": [
       "True"
      ]
     },
     "metadata": {},
     "output_type": "display_data"
    }
   ],
   "source": [
    "let f11' = \\x -> if x `mod` 2 == 0 then True\n",
    "                 else False\n",
    "f11' 8"
   ]
  },
  {
   "cell_type": "markdown",
   "id": "a00c10a9",
   "metadata": {},
   "source": [
    "**b) f12 x = let y = sqrt x in 2 * y^3 * (y + 1)**"
   ]
  },
  {
   "cell_type": "code",
   "execution_count": 17,
   "id": "1be95721",
   "metadata": {},
   "outputs": [
    {
     "data": {
      "text/plain": [
       "173.2548339959391"
      ]
     },
     "metadata": {},
     "output_type": "display_data"
    }
   ],
   "source": [
    "let f12' = \\x -> 2 * (sqrt x)^3 * ((sqrt x) + 1)\n",
    "f12' 8"
   ]
  },
  {
   "cell_type": "markdown",
   "id": "9a69a1e7",
   "metadata": {},
   "source": [
    "**c)**\n",
    "\n",
    "**f13 1 = 3**\n",
    "\n",
    "**f13 _ = 0**"
   ]
  },
  {
   "cell_type": "code",
   "execution_count": 18,
   "id": "a01c1213",
   "metadata": {},
   "outputs": [
    {
     "data": {
      "text/plain": [
       "3"
      ]
     },
     "metadata": {},
     "output_type": "display_data"
    },
    {
     "data": {
      "text/plain": [
       "0"
      ]
     },
     "metadata": {},
     "output_type": "display_data"
    }
   ],
   "source": [
    "let f13' = \\x -> if x == 1 then 3\n",
    "                 else 0\n",
    "f13' 1\n",
    "f13' 15"
   ]
  },
  {
   "cell_type": "markdown",
   "id": "2a52effa",
   "metadata": {},
   "source": [
    "## 2) Funkcje wyższego rzędu: funkcje jako parametry/argumenty"
   ]
  },
  {
   "cell_type": "markdown",
   "id": "86abba1a",
   "metadata": {},
   "source": [
    "**5. Napisać funkcję sumSqr' (sumującą kwadraty elementów listy):**"
   ]
  },
  {
   "cell_type": "code",
   "execution_count": 19,
   "id": "f5019bf1",
   "metadata": {},
   "outputs": [
    {
     "data": {
      "text/html": [
       "<style>/* Styles used for the Hoogle display in the pager */\n",
       ".hoogle-doc {\n",
       "display: block;\n",
       "padding-bottom: 1.3em;\n",
       "padding-left: 0.4em;\n",
       "}\n",
       ".hoogle-code {\n",
       "display: block;\n",
       "font-family: monospace;\n",
       "white-space: pre;\n",
       "}\n",
       ".hoogle-text {\n",
       "display: block;\n",
       "}\n",
       ".hoogle-name {\n",
       "color: green;\n",
       "font-weight: bold;\n",
       "}\n",
       ".hoogle-head {\n",
       "font-weight: bold;\n",
       "}\n",
       ".hoogle-sub {\n",
       "display: block;\n",
       "margin-left: 0.4em;\n",
       "}\n",
       ".hoogle-package {\n",
       "font-weight: bold;\n",
       "font-style: italic;\n",
       "}\n",
       ".hoogle-module {\n",
       "font-weight: bold;\n",
       "}\n",
       ".hoogle-class {\n",
       "font-weight: bold;\n",
       "}\n",
       ".get-type {\n",
       "color: green;\n",
       "font-weight: bold;\n",
       "font-family: monospace;\n",
       "display: block;\n",
       "white-space: pre-wrap;\n",
       "}\n",
       ".show-type {\n",
       "color: green;\n",
       "font-weight: bold;\n",
       "font-family: monospace;\n",
       "margin-left: 1em;\n",
       "}\n",
       ".mono {\n",
       "font-family: monospace;\n",
       "display: block;\n",
       "}\n",
       ".err-msg {\n",
       "color: red;\n",
       "font-style: italic;\n",
       "font-family: monospace;\n",
       "white-space: pre;\n",
       "display: block;\n",
       "}\n",
       "#unshowable {\n",
       "color: red;\n",
       "font-weight: bold;\n",
       "}\n",
       ".err-msg.in.collapse {\n",
       "padding-top: 0.7em;\n",
       "}\n",
       ".highlight-code {\n",
       "white-space: pre;\n",
       "font-family: monospace;\n",
       "}\n",
       ".suggestion-warning { \n",
       "font-weight: bold;\n",
       "color: rgb(200, 130, 0);\n",
       "}\n",
       ".suggestion-error { \n",
       "font-weight: bold;\n",
       "color: red;\n",
       "}\n",
       ".suggestion-name {\n",
       "font-weight: bold;\n",
       "}\n",
       "</style><div class=\"suggestion-name\" style=\"clear:both;\">Use foldr</div><div class=\"suggestion-row\" style=\"float: left;\"><div class=\"suggestion-warning\">Found:</div><div class=\"highlight-code\" id=\"haskell\">sumSqr' [] = 0\n",
       "sumSqr' (x : xs) = x ^ 2 + sumSqr' xs</div></div><div class=\"suggestion-row\" style=\"float: left;\"><div class=\"suggestion-warning\">Why Not:</div><div class=\"highlight-code\" id=\"haskell\">sumSqr' xs = foldr (\\ x -> (+) (x ^ 2)) 0 xs</div></div>"
      ],
      "text/plain": [
       "Line 2: Use foldr\n",
       "Found:\n",
       "sumSqr' [] = 0\n",
       "sumSqr' (x : xs) = x ^ 2 + sumSqr' xs\n",
       "Why not:\n",
       "sumSqr' xs = foldr (\\ x -> (+) (x ^ 2)) 0 xs"
      ]
     },
     "metadata": {},
     "output_type": "display_data"
    },
    {
     "data": {
      "text/plain": [
       "30"
      ]
     },
     "metadata": {},
     "output_type": "display_data"
    }
   ],
   "source": [
    "sumSqr' :: Num a => [a] -> a\n",
    "sumSqr' [] = 0\n",
    "sumSqr' (x:xs) = x^2 + sumSqr' xs\n",
    "\n",
    "sumSqr' [1, 2, 3, 4]"
   ]
  },
  {
   "cell_type": "markdown",
   "id": "3e6810e2",
   "metadata": {},
   "source": [
    "**6. Zdefiniować funkcję:**\n",
    "\n",
    "**sumWith :: Num a => (a -> a) -> [a] -> a**"
   ]
  },
  {
   "cell_type": "code",
   "execution_count": 20,
   "id": "f6f3ba96",
   "metadata": {},
   "outputs": [
    {
     "data": {
      "text/html": [
       "<style>/* Styles used for the Hoogle display in the pager */\n",
       ".hoogle-doc {\n",
       "display: block;\n",
       "padding-bottom: 1.3em;\n",
       "padding-left: 0.4em;\n",
       "}\n",
       ".hoogle-code {\n",
       "display: block;\n",
       "font-family: monospace;\n",
       "white-space: pre;\n",
       "}\n",
       ".hoogle-text {\n",
       "display: block;\n",
       "}\n",
       ".hoogle-name {\n",
       "color: green;\n",
       "font-weight: bold;\n",
       "}\n",
       ".hoogle-head {\n",
       "font-weight: bold;\n",
       "}\n",
       ".hoogle-sub {\n",
       "display: block;\n",
       "margin-left: 0.4em;\n",
       "}\n",
       ".hoogle-package {\n",
       "font-weight: bold;\n",
       "font-style: italic;\n",
       "}\n",
       ".hoogle-module {\n",
       "font-weight: bold;\n",
       "}\n",
       ".hoogle-class {\n",
       "font-weight: bold;\n",
       "}\n",
       ".get-type {\n",
       "color: green;\n",
       "font-weight: bold;\n",
       "font-family: monospace;\n",
       "display: block;\n",
       "white-space: pre-wrap;\n",
       "}\n",
       ".show-type {\n",
       "color: green;\n",
       "font-weight: bold;\n",
       "font-family: monospace;\n",
       "margin-left: 1em;\n",
       "}\n",
       ".mono {\n",
       "font-family: monospace;\n",
       "display: block;\n",
       "}\n",
       ".err-msg {\n",
       "color: red;\n",
       "font-style: italic;\n",
       "font-family: monospace;\n",
       "white-space: pre;\n",
       "display: block;\n",
       "}\n",
       "#unshowable {\n",
       "color: red;\n",
       "font-weight: bold;\n",
       "}\n",
       ".err-msg.in.collapse {\n",
       "padding-top: 0.7em;\n",
       "}\n",
       ".highlight-code {\n",
       "white-space: pre;\n",
       "font-family: monospace;\n",
       "}\n",
       ".suggestion-warning { \n",
       "font-weight: bold;\n",
       "color: rgb(200, 130, 0);\n",
       "}\n",
       ".suggestion-error { \n",
       "font-weight: bold;\n",
       "color: red;\n",
       "}\n",
       ".suggestion-name {\n",
       "font-weight: bold;\n",
       "}\n",
       "</style><div class=\"suggestion-name\" style=\"clear:both;\">Use foldr</div><div class=\"suggestion-row\" style=\"float: left;\"><div class=\"suggestion-warning\">Found:</div><div class=\"highlight-code\" id=\"haskell\">sumWith f [] = 0\n",
       "sumWith f (x : xs) = f x + sumWith f xs</div></div><div class=\"suggestion-row\" style=\"float: left;\"><div class=\"suggestion-warning\">Why Not:</div><div class=\"highlight-code\" id=\"haskell\">sumWith f xs = foldr ((+) . f) 0 xs</div></div>"
      ],
      "text/plain": [
       "Line 2: Use foldr\n",
       "Found:\n",
       "sumWith f [] = 0\n",
       "sumWith f (x : xs) = f x + sumWith f xs\n",
       "Why not:\n",
       "sumWith f xs = foldr ((+) . f) 0 xs"
      ]
     },
     "metadata": {},
     "output_type": "display_data"
    },
    {
     "data": {
      "text/plain": [
       "26"
      ]
     },
     "metadata": {},
     "output_type": "display_data"
    }
   ],
   "source": [
    "sumWith :: Num a => (a -> a) -> [a] -> a\n",
    "sumWith f [] = 0\n",
    "sumWith f (x:xs) = f x + sumWith f xs\n",
    "\n",
    "sumWith (+4) [1, 2, 3, 4]"
   ]
  },
  {
   "cell_type": "markdown",
   "id": "1bf9e726",
   "metadata": {},
   "source": [
    "**7. Wykorzystując funkcję sumWith zdefiniować:**"
   ]
  },
  {
   "cell_type": "markdown",
   "id": "88d8817e",
   "metadata": {},
   "source": [
    "**a) sum' = sumWith ...**"
   ]
  },
  {
   "cell_type": "code",
   "execution_count": 21,
   "id": "a51ae9f2",
   "metadata": {},
   "outputs": [
    {
     "data": {
      "text/plain": [
       "10"
      ]
     },
     "metadata": {},
     "output_type": "display_data"
    }
   ],
   "source": [
    "sum' = sumWith id\n",
    "\n",
    "sum' [1, 2, 3, 4]"
   ]
  },
  {
   "cell_type": "markdown",
   "id": "e2c348b1",
   "metadata": {},
   "source": [
    "**b) sumSqr' = sumWith ...**"
   ]
  },
  {
   "cell_type": "code",
   "execution_count": 22,
   "id": "8388d7fd",
   "metadata": {},
   "outputs": [
    {
     "data": {
      "text/plain": [
       "30"
      ]
     },
     "metadata": {},
     "output_type": "display_data"
    }
   ],
   "source": [
    "sumSqr' = sumWith (^2)\n",
    "\n",
    "sumSqr' [1, 2, 3, 4]"
   ]
  },
  {
   "cell_type": "markdown",
   "id": "ed0c3ba6",
   "metadata": {},
   "source": [
    "**c) sumCube' = sumWith ...**"
   ]
  },
  {
   "cell_type": "code",
   "execution_count": 23,
   "id": "b13b9dce",
   "metadata": {},
   "outputs": [
    {
     "data": {
      "text/plain": [
       "100"
      ]
     },
     "metadata": {},
     "output_type": "display_data"
    }
   ],
   "source": [
    "sumCube' = sumWith (^3)\n",
    "\n",
    "sumCube' [1, 2, 3, 4]"
   ]
  },
  {
   "cell_type": "markdown",
   "id": "07b21bd5",
   "metadata": {},
   "source": [
    "**d) sumAbs' = sumWith ...**"
   ]
  },
  {
   "cell_type": "code",
   "execution_count": 24,
   "id": "7316e49c",
   "metadata": {},
   "outputs": [
    {
     "data": {
      "text/plain": [
       "10"
      ]
     },
     "metadata": {},
     "output_type": "display_data"
    }
   ],
   "source": [
    "sumAbs' = sumWith abs\n",
    "\n",
    "sumAbs' [1, 2, 3, 4]"
   ]
  },
  {
   "cell_type": "markdown",
   "id": "87adc621",
   "metadata": {},
   "source": [
    "**8. Wykorzystując funkcję sumWidth zdefiniować:**\n",
    "\n",
    "**listLength = sumWith ...**"
   ]
  },
  {
   "cell_type": "code",
   "execution_count": 25,
   "id": "02128f39",
   "metadata": {},
   "outputs": [
    {
     "data": {
      "text/html": [
       "<style>/* Styles used for the Hoogle display in the pager */\n",
       ".hoogle-doc {\n",
       "display: block;\n",
       "padding-bottom: 1.3em;\n",
       "padding-left: 0.4em;\n",
       "}\n",
       ".hoogle-code {\n",
       "display: block;\n",
       "font-family: monospace;\n",
       "white-space: pre;\n",
       "}\n",
       ".hoogle-text {\n",
       "display: block;\n",
       "}\n",
       ".hoogle-name {\n",
       "color: green;\n",
       "font-weight: bold;\n",
       "}\n",
       ".hoogle-head {\n",
       "font-weight: bold;\n",
       "}\n",
       ".hoogle-sub {\n",
       "display: block;\n",
       "margin-left: 0.4em;\n",
       "}\n",
       ".hoogle-package {\n",
       "font-weight: bold;\n",
       "font-style: italic;\n",
       "}\n",
       ".hoogle-module {\n",
       "font-weight: bold;\n",
       "}\n",
       ".hoogle-class {\n",
       "font-weight: bold;\n",
       "}\n",
       ".get-type {\n",
       "color: green;\n",
       "font-weight: bold;\n",
       "font-family: monospace;\n",
       "display: block;\n",
       "white-space: pre-wrap;\n",
       "}\n",
       ".show-type {\n",
       "color: green;\n",
       "font-weight: bold;\n",
       "font-family: monospace;\n",
       "margin-left: 1em;\n",
       "}\n",
       ".mono {\n",
       "font-family: monospace;\n",
       "display: block;\n",
       "}\n",
       ".err-msg {\n",
       "color: red;\n",
       "font-style: italic;\n",
       "font-family: monospace;\n",
       "white-space: pre;\n",
       "display: block;\n",
       "}\n",
       "#unshowable {\n",
       "color: red;\n",
       "font-weight: bold;\n",
       "}\n",
       ".err-msg.in.collapse {\n",
       "padding-top: 0.7em;\n",
       "}\n",
       ".highlight-code {\n",
       "white-space: pre;\n",
       "font-family: monospace;\n",
       "}\n",
       ".suggestion-warning { \n",
       "font-weight: bold;\n",
       "color: rgb(200, 130, 0);\n",
       "}\n",
       ".suggestion-error { \n",
       "font-weight: bold;\n",
       "color: red;\n",
       "}\n",
       ".suggestion-name {\n",
       "font-weight: bold;\n",
       "}\n",
       "</style><div class=\"suggestion-name\" style=\"clear:both;\">Use const</div><div class=\"suggestion-row\" style=\"float: left;\"><div class=\"suggestion-warning\">Found:</div><div class=\"highlight-code\" id=\"haskell\">\\ x -> 1</div></div><div class=\"suggestion-row\" style=\"float: left;\"><div class=\"suggestion-warning\">Why Not:</div><div class=\"highlight-code\" id=\"haskell\">const 1</div></div>"
      ],
      "text/plain": [
       "Line 1: Use const\n",
       "Found:\n",
       "\\ x -> 1\n",
       "Why not:\n",
       "const 1"
      ]
     },
     "metadata": {},
     "output_type": "display_data"
    },
    {
     "data": {
      "text/plain": [
       "4"
      ]
     },
     "metadata": {},
     "output_type": "display_data"
    }
   ],
   "source": [
    "listLength = sumWith (\\x -> 1)\n",
    "\n",
    "listLength [1, 2, 3, 4]"
   ]
  },
  {
   "cell_type": "markdown",
   "id": "fb30ebbf",
   "metadata": {},
   "source": [
    "**9. Na podstawie (schematu) definicji sum' napisać funkcję:**\n",
    "\n",
    "**prod' :: Num a => [a] -> a**\n",
    "\n",
    "**obliczającą iloczyn elementów listy.**"
   ]
  },
  {
   "cell_type": "code",
   "execution_count": 26,
   "id": "37f5ecc2",
   "metadata": {},
   "outputs": [
    {
     "data": {
      "text/html": [
       "<style>/* Styles used for the Hoogle display in the pager */\n",
       ".hoogle-doc {\n",
       "display: block;\n",
       "padding-bottom: 1.3em;\n",
       "padding-left: 0.4em;\n",
       "}\n",
       ".hoogle-code {\n",
       "display: block;\n",
       "font-family: monospace;\n",
       "white-space: pre;\n",
       "}\n",
       ".hoogle-text {\n",
       "display: block;\n",
       "}\n",
       ".hoogle-name {\n",
       "color: green;\n",
       "font-weight: bold;\n",
       "}\n",
       ".hoogle-head {\n",
       "font-weight: bold;\n",
       "}\n",
       ".hoogle-sub {\n",
       "display: block;\n",
       "margin-left: 0.4em;\n",
       "}\n",
       ".hoogle-package {\n",
       "font-weight: bold;\n",
       "font-style: italic;\n",
       "}\n",
       ".hoogle-module {\n",
       "font-weight: bold;\n",
       "}\n",
       ".hoogle-class {\n",
       "font-weight: bold;\n",
       "}\n",
       ".get-type {\n",
       "color: green;\n",
       "font-weight: bold;\n",
       "font-family: monospace;\n",
       "display: block;\n",
       "white-space: pre-wrap;\n",
       "}\n",
       ".show-type {\n",
       "color: green;\n",
       "font-weight: bold;\n",
       "font-family: monospace;\n",
       "margin-left: 1em;\n",
       "}\n",
       ".mono {\n",
       "font-family: monospace;\n",
       "display: block;\n",
       "}\n",
       ".err-msg {\n",
       "color: red;\n",
       "font-style: italic;\n",
       "font-family: monospace;\n",
       "white-space: pre;\n",
       "display: block;\n",
       "}\n",
       "#unshowable {\n",
       "color: red;\n",
       "font-weight: bold;\n",
       "}\n",
       ".err-msg.in.collapse {\n",
       "padding-top: 0.7em;\n",
       "}\n",
       ".highlight-code {\n",
       "white-space: pre;\n",
       "font-family: monospace;\n",
       "}\n",
       ".suggestion-warning { \n",
       "font-weight: bold;\n",
       "color: rgb(200, 130, 0);\n",
       "}\n",
       ".suggestion-error { \n",
       "font-weight: bold;\n",
       "color: red;\n",
       "}\n",
       ".suggestion-name {\n",
       "font-weight: bold;\n",
       "}\n",
       "</style><div class=\"suggestion-name\" style=\"clear:both;\">Use foldr</div><div class=\"suggestion-row\" style=\"float: left;\"><div class=\"suggestion-warning\">Found:</div><div class=\"highlight-code\" id=\"haskell\">prod' [] = 1\n",
       "prod' (x : xs) = x * prod' xs</div></div><div class=\"suggestion-row\" style=\"float: left;\"><div class=\"suggestion-warning\">Why Not:</div><div class=\"highlight-code\" id=\"haskell\">prod' xs = foldr (*) 1 xs</div></div>"
      ],
      "text/plain": [
       "Line 2: Use foldr\n",
       "Found:\n",
       "prod' [] = 1\n",
       "prod' (x : xs) = x * prod' xs\n",
       "Why not:\n",
       "prod' xs = foldr (*) 1 xs"
      ]
     },
     "metadata": {},
     "output_type": "display_data"
    },
    {
     "data": {
      "text/plain": [
       "24"
      ]
     },
     "metadata": {},
     "output_type": "display_data"
    }
   ],
   "source": [
    "prod' :: Num a => [a] -> a\n",
    "prod' [] = 1\n",
    "prod' (x:xs) = x * prod' xs\n",
    "\n",
    "prod' [1, 2, 3, 4]"
   ]
  },
  {
   "cell_type": "markdown",
   "id": "2fdf1d7c",
   "metadata": {},
   "source": [
    "**10. Na podstawie definicji sumWith napisać funkcję:**"
   ]
  },
  {
   "cell_type": "markdown",
   "id": "77b15bc4",
   "metadata": {},
   "source": [
    "**prodWith :: Num a => (a -> a) -> [a] -> a**"
   ]
  },
  {
   "cell_type": "code",
   "execution_count": 27,
   "id": "7a4f41ad",
   "metadata": {},
   "outputs": [
    {
     "data": {
      "text/html": [
       "<style>/* Styles used for the Hoogle display in the pager */\n",
       ".hoogle-doc {\n",
       "display: block;\n",
       "padding-bottom: 1.3em;\n",
       "padding-left: 0.4em;\n",
       "}\n",
       ".hoogle-code {\n",
       "display: block;\n",
       "font-family: monospace;\n",
       "white-space: pre;\n",
       "}\n",
       ".hoogle-text {\n",
       "display: block;\n",
       "}\n",
       ".hoogle-name {\n",
       "color: green;\n",
       "font-weight: bold;\n",
       "}\n",
       ".hoogle-head {\n",
       "font-weight: bold;\n",
       "}\n",
       ".hoogle-sub {\n",
       "display: block;\n",
       "margin-left: 0.4em;\n",
       "}\n",
       ".hoogle-package {\n",
       "font-weight: bold;\n",
       "font-style: italic;\n",
       "}\n",
       ".hoogle-module {\n",
       "font-weight: bold;\n",
       "}\n",
       ".hoogle-class {\n",
       "font-weight: bold;\n",
       "}\n",
       ".get-type {\n",
       "color: green;\n",
       "font-weight: bold;\n",
       "font-family: monospace;\n",
       "display: block;\n",
       "white-space: pre-wrap;\n",
       "}\n",
       ".show-type {\n",
       "color: green;\n",
       "font-weight: bold;\n",
       "font-family: monospace;\n",
       "margin-left: 1em;\n",
       "}\n",
       ".mono {\n",
       "font-family: monospace;\n",
       "display: block;\n",
       "}\n",
       ".err-msg {\n",
       "color: red;\n",
       "font-style: italic;\n",
       "font-family: monospace;\n",
       "white-space: pre;\n",
       "display: block;\n",
       "}\n",
       "#unshowable {\n",
       "color: red;\n",
       "font-weight: bold;\n",
       "}\n",
       ".err-msg.in.collapse {\n",
       "padding-top: 0.7em;\n",
       "}\n",
       ".highlight-code {\n",
       "white-space: pre;\n",
       "font-family: monospace;\n",
       "}\n",
       ".suggestion-warning { \n",
       "font-weight: bold;\n",
       "color: rgb(200, 130, 0);\n",
       "}\n",
       ".suggestion-error { \n",
       "font-weight: bold;\n",
       "color: red;\n",
       "}\n",
       ".suggestion-name {\n",
       "font-weight: bold;\n",
       "}\n",
       "</style><div class=\"suggestion-name\" style=\"clear:both;\">Use foldr</div><div class=\"suggestion-row\" style=\"float: left;\"><div class=\"suggestion-warning\">Found:</div><div class=\"highlight-code\" id=\"haskell\">prodWith f [] = 1\n",
       "prodWith f (x : xs) = f x * prodWith f xs</div></div><div class=\"suggestion-row\" style=\"float: left;\"><div class=\"suggestion-warning\">Why Not:</div><div class=\"highlight-code\" id=\"haskell\">prodWith f xs = foldr ((*) . f) 1 xs</div></div>"
      ],
      "text/plain": [
       "Line 2: Use foldr\n",
       "Found:\n",
       "prodWith f [] = 1\n",
       "prodWith f (x : xs) = f x * prodWith f xs\n",
       "Why not:\n",
       "prodWith f xs = foldr ((*) . f) 1 xs"
      ]
     },
     "metadata": {},
     "output_type": "display_data"
    },
    {
     "data": {
      "text/plain": [
       "240000"
      ]
     },
     "metadata": {},
     "output_type": "display_data"
    }
   ],
   "source": [
    "prodWith :: Num a => (a -> a) -> [a] -> a\n",
    "prodWith f [] = 1\n",
    "prodWith f (x:xs) = f x * prodWith f xs\n",
    "\n",
    "prodWith (*10) [1, 2, 3, 4]"
   ]
  },
  {
   "cell_type": "markdown",
   "id": "ed2f4443",
   "metadata": {},
   "source": [
    "**a następnie funkcje:**"
   ]
  },
  {
   "cell_type": "markdown",
   "id": "e395f38b",
   "metadata": {},
   "source": [
    "**a) prod = prodWith ...**"
   ]
  },
  {
   "cell_type": "code",
   "execution_count": 28,
   "id": "a90a3047",
   "metadata": {},
   "outputs": [
    {
     "data": {
      "text/plain": [
       "24"
      ]
     },
     "metadata": {},
     "output_type": "display_data"
    }
   ],
   "source": [
    "prod = prodWith id\n",
    "\n",
    "prod [1, 2, 3, 4]"
   ]
  },
  {
   "cell_type": "markdown",
   "id": "2a2e807c",
   "metadata": {},
   "source": [
    "**b) prodSqr = prodWith ...**"
   ]
  },
  {
   "cell_type": "code",
   "execution_count": 29,
   "id": "2e32cd3e",
   "metadata": {},
   "outputs": [
    {
     "data": {
      "text/plain": [
       "576"
      ]
     },
     "metadata": {},
     "output_type": "display_data"
    }
   ],
   "source": [
    "prodSqr = prodWith (^2)\n",
    "\n",
    "prodSqr [1, 2, 3, 4]"
   ]
  },
  {
   "cell_type": "markdown",
   "id": "e8a52f26",
   "metadata": {},
   "source": [
    "**c) prodCube = prodWith ...**"
   ]
  },
  {
   "cell_type": "code",
   "execution_count": 30,
   "id": "59b64c81",
   "metadata": {},
   "outputs": [
    {
     "data": {
      "text/plain": [
       "13824"
      ]
     },
     "metadata": {},
     "output_type": "display_data"
    }
   ],
   "source": [
    "prodCube = prodWith (^3)\n",
    "\n",
    "prodCube [1, 2, 3, 4]"
   ]
  },
  {
   "cell_type": "markdown",
   "id": "44860d9b",
   "metadata": {},
   "source": [
    "**d) prodAbs = prodWith ...**"
   ]
  },
  {
   "cell_type": "code",
   "execution_count": 31,
   "id": "6db1150c",
   "metadata": {},
   "outputs": [
    {
     "data": {
      "text/plain": [
       "24"
      ]
     },
     "metadata": {},
     "output_type": "display_data"
    }
   ],
   "source": [
    "prodAbs  = prodWith abs\n",
    "\n",
    "prodAbs [1, 2, 3, 4]"
   ]
  },
  {
   "cell_type": "markdown",
   "id": "55c434d5",
   "metadata": {},
   "source": [
    "## 3) Funkcje wyższego rzędu: funkcje jako wyniki"
   ]
  },
  {
   "cell_type": "markdown",
   "id": "308214a6",
   "metadata": {},
   "source": [
    "**11. Napisać funkcję:**\n",
    "\n",
    "**expApproxUpTo :: Int -> Double -> Double**\n",
    "\n",
    "**expApproxUpTo n = ...**\n",
    "\n",
    "**zwracającą rozwinięcie funkcji e^x w szereg MacLaurina o długości n+1, n < 6, tzn. expApproxUpTo n = n∑k=0 x^k/k!.**"
   ]
  },
  {
   "cell_type": "code",
   "execution_count": 32,
   "id": "e6abd592",
   "metadata": {},
   "outputs": [
    {
     "data": {
      "text/plain": [
       "91.41666666666667"
      ]
     },
     "metadata": {},
     "output_type": "display_data"
    }
   ],
   "source": [
    "factorial 0 = 1\n",
    "factorial n = n * factorial (n-1)\n",
    "\n",
    "expApproxUpTo :: Int -> Double -> Double\n",
    "expApproxUpTo n x = sum[(x^k)/ fromIntegral (prod [1..k]) | k <- [0..n]]\n",
    "\n",
    "expApproxUpTo 5 5"
   ]
  },
  {
   "cell_type": "markdown",
   "id": "78a248c8",
   "metadata": {},
   "source": [
    "**12. Napisać funkcję:**\n",
    "\n",
    "**dfr :: (Double -> Double) -> Double -> (Double -> Double)**\n",
    "\n",
    "**zwracającą dla zadanej funkcji f przybliżenie jej pochodnej obliczone wg schematu różnicowego**\n",
    "\n",
    "**f′(x0, h) ≈ (f(x0 + h) − f(x0))/h. Sprawdzić dokładność uzyskiwanych wyników w zależności od wartości h.**"
   ]
  },
  {
   "cell_type": "code",
   "execution_count": 33,
   "id": "5baf1e33",
   "metadata": {},
   "outputs": [
    {
     "data": {
      "text/plain": [
       "258.75"
      ]
     },
     "metadata": {},
     "output_type": "display_data"
    }
   ],
   "source": [
    "dfr :: (Double -> Double) -> Double -> (Double -> Double)\n",
    "dfr f h x = (f (x+h) - f x)/ h\n",
    "\n",
    "dfr (\\x -> x^3 + 2*x) 0.5 9"
   ]
  },
  {
   "cell_type": "markdown",
   "id": "48f03d16",
   "metadata": {},
   "source": [
    "**13. Napisać funkcję:**\n",
    "\n",
    "**dfc :: (Double -> Double) -> Double -> (Double -> Double)**\n",
    "\n",
    "**zwracającą dla zadanej funkcji f przybliżenie jej pochodnej obliczone wg schematu różnicowego**\n",
    "\n",
    "**f′(x0, h) ≈ (f(x0 + h) − f(x0 − h))/2*h. Sprawdzić dokładność uzyskiwanych wyników w zależności od wartości h i porównać z poprzednimi.**"
   ]
  },
  {
   "cell_type": "code",
   "execution_count": 34,
   "id": "9083b92a",
   "metadata": {},
   "outputs": [
    {
     "data": {
      "text/plain": [
       "61.3125"
      ]
     },
     "metadata": {},
     "output_type": "display_data"
    }
   ],
   "source": [
    "dfc :: (Double -> Double) -> Double -> (Double -> Double)\n",
    "dfc f h x = (f (x + h) - f (x-h))/ 2*h\n",
    "\n",
    "dfc (\\x -> x^3 + 2*x) 0.5 9"
   ]
  },
  {
   "cell_type": "markdown",
   "id": "528456c6",
   "metadata": {},
   "source": [
    "## 5) Operator złożenia funkcji (.) (i notacja point-free)"
   ]
  },
  {
   "cell_type": "markdown",
   "id": "d5e58b01",
   "metadata": {},
   "source": [
    "**14. Wykorzystując funkcje sort i reverse oraz operator . napisać funkcję sortującą malejąco podaną listę.**\n",
    "\n",
    "**sortDesc :: Ord a => [a] -> [a]**\n",
    "\n",
    "**Uwaga: potrzebny będzie import Data.List,**"
   ]
  },
  {
   "cell_type": "code",
   "execution_count": 35,
   "id": "e6b05470",
   "metadata": {},
   "outputs": [
    {
     "data": {
      "text/html": [
       "<style>/* Styles used for the Hoogle display in the pager */\n",
       ".hoogle-doc {\n",
       "display: block;\n",
       "padding-bottom: 1.3em;\n",
       "padding-left: 0.4em;\n",
       "}\n",
       ".hoogle-code {\n",
       "display: block;\n",
       "font-family: monospace;\n",
       "white-space: pre;\n",
       "}\n",
       ".hoogle-text {\n",
       "display: block;\n",
       "}\n",
       ".hoogle-name {\n",
       "color: green;\n",
       "font-weight: bold;\n",
       "}\n",
       ".hoogle-head {\n",
       "font-weight: bold;\n",
       "}\n",
       ".hoogle-sub {\n",
       "display: block;\n",
       "margin-left: 0.4em;\n",
       "}\n",
       ".hoogle-package {\n",
       "font-weight: bold;\n",
       "font-style: italic;\n",
       "}\n",
       ".hoogle-module {\n",
       "font-weight: bold;\n",
       "}\n",
       ".hoogle-class {\n",
       "font-weight: bold;\n",
       "}\n",
       ".get-type {\n",
       "color: green;\n",
       "font-weight: bold;\n",
       "font-family: monospace;\n",
       "display: block;\n",
       "white-space: pre-wrap;\n",
       "}\n",
       ".show-type {\n",
       "color: green;\n",
       "font-weight: bold;\n",
       "font-family: monospace;\n",
       "margin-left: 1em;\n",
       "}\n",
       ".mono {\n",
       "font-family: monospace;\n",
       "display: block;\n",
       "}\n",
       ".err-msg {\n",
       "color: red;\n",
       "font-style: italic;\n",
       "font-family: monospace;\n",
       "white-space: pre;\n",
       "display: block;\n",
       "}\n",
       "#unshowable {\n",
       "color: red;\n",
       "font-weight: bold;\n",
       "}\n",
       ".err-msg.in.collapse {\n",
       "padding-top: 0.7em;\n",
       "}\n",
       ".highlight-code {\n",
       "white-space: pre;\n",
       "font-family: monospace;\n",
       "}\n",
       ".suggestion-warning { \n",
       "font-weight: bold;\n",
       "color: rgb(200, 130, 0);\n",
       "}\n",
       ".suggestion-error { \n",
       "font-weight: bold;\n",
       "color: red;\n",
       "}\n",
       ".suggestion-name {\n",
       "font-weight: bold;\n",
       "}\n",
       "</style><div class=\"suggestion-name\" style=\"clear:both;\">Eta reduce</div><div class=\"suggestion-row\" style=\"float: left;\"><div class=\"suggestion-warning\">Found:</div><div class=\"highlight-code\" id=\"haskell\">sortDesc xs = (reverse . sort) xs</div></div><div class=\"suggestion-row\" style=\"float: left;\"><div class=\"suggestion-warning\">Why Not:</div><div class=\"highlight-code\" id=\"haskell\">sortDesc = (reverse . sort)</div></div>"
      ],
      "text/plain": [
       "Line 4: Eta reduce\n",
       "Found:\n",
       "sortDesc xs = (reverse . sort) xs\n",
       "Why not:\n",
       "sortDesc = (reverse . sort)"
      ]
     },
     "metadata": {},
     "output_type": "display_data"
    },
    {
     "data": {
      "text/plain": [
       "[19,9,6,3,1]"
      ]
     },
     "metadata": {},
     "output_type": "display_data"
    }
   ],
   "source": [
    "import Data.List\n",
    "\n",
    "sortDesc :: Ord a => [a] -> [a]\n",
    "sortDesc xs = (reverse . sort) xs\n",
    "\n",
    "sortDesc [1, 6, 9, 3, 19]"
   ]
  },
  {
   "cell_type": "markdown",
   "id": "0ee467c9",
   "metadata": {},
   "source": [
    "**15. Przepisać funkcję sortDesc do wersji point-free.**"
   ]
  },
  {
   "cell_type": "code",
   "execution_count": 36,
   "id": "a0bf89e5",
   "metadata": {},
   "outputs": [
    {
     "data": {
      "text/plain": [
       "[19,9,6,3,1]"
      ]
     },
     "metadata": {},
     "output_type": "display_data"
    }
   ],
   "source": [
    "sortDesc' :: Ord a => [a] -> [a]\n",
    "sortDesc' xs = reverse (sort xs)\n",
    "\n",
    "sortDesc' [1, 6, 9, 3, 19]"
   ]
  },
  {
   "cell_type": "markdown",
   "id": "b823578c",
   "metadata": {},
   "source": [
    "**16. Napisać funkcję:**\n",
    "\n",
    "**are2FunsEqAt :: Eq a => (t -> a) -> (t -> a) -> [t] -> Bool**\n",
    "\n",
    "**sprawdzającą, czy funkcje f i g mają równe wartości we wszystkich punktach podanych w liście xs.**"
   ]
  },
  {
   "cell_type": "code",
   "execution_count": 37,
   "id": "077c0ed6",
   "metadata": {
    "scrolled": true
   },
   "outputs": [
    {
     "data": {
      "text/html": [
       "<style>/* Styles used for the Hoogle display in the pager */\n",
       ".hoogle-doc {\n",
       "display: block;\n",
       "padding-bottom: 1.3em;\n",
       "padding-left: 0.4em;\n",
       "}\n",
       ".hoogle-code {\n",
       "display: block;\n",
       "font-family: monospace;\n",
       "white-space: pre;\n",
       "}\n",
       ".hoogle-text {\n",
       "display: block;\n",
       "}\n",
       ".hoogle-name {\n",
       "color: green;\n",
       "font-weight: bold;\n",
       "}\n",
       ".hoogle-head {\n",
       "font-weight: bold;\n",
       "}\n",
       ".hoogle-sub {\n",
       "display: block;\n",
       "margin-left: 0.4em;\n",
       "}\n",
       ".hoogle-package {\n",
       "font-weight: bold;\n",
       "font-style: italic;\n",
       "}\n",
       ".hoogle-module {\n",
       "font-weight: bold;\n",
       "}\n",
       ".hoogle-class {\n",
       "font-weight: bold;\n",
       "}\n",
       ".get-type {\n",
       "color: green;\n",
       "font-weight: bold;\n",
       "font-family: monospace;\n",
       "display: block;\n",
       "white-space: pre-wrap;\n",
       "}\n",
       ".show-type {\n",
       "color: green;\n",
       "font-weight: bold;\n",
       "font-family: monospace;\n",
       "margin-left: 1em;\n",
       "}\n",
       ".mono {\n",
       "font-family: monospace;\n",
       "display: block;\n",
       "}\n",
       ".err-msg {\n",
       "color: red;\n",
       "font-style: italic;\n",
       "font-family: monospace;\n",
       "white-space: pre;\n",
       "display: block;\n",
       "}\n",
       "#unshowable {\n",
       "color: red;\n",
       "font-weight: bold;\n",
       "}\n",
       ".err-msg.in.collapse {\n",
       "padding-top: 0.7em;\n",
       "}\n",
       ".highlight-code {\n",
       "white-space: pre;\n",
       "font-family: monospace;\n",
       "}\n",
       ".suggestion-warning { \n",
       "font-weight: bold;\n",
       "color: rgb(200, 130, 0);\n",
       "}\n",
       ".suggestion-error { \n",
       "font-weight: bold;\n",
       "color: red;\n",
       "}\n",
       ".suggestion-name {\n",
       "font-weight: bold;\n",
       "}\n",
       "</style><div class=\"suggestion-name\" style=\"clear:both;\">Redundant if</div><div class=\"suggestion-row\" style=\"float: left;\"><div class=\"suggestion-warning\">Found:</div><div class=\"highlight-code\" id=\"haskell\">if f x /= g x then False else are2FunsEqAt f g xs</div></div><div class=\"suggestion-row\" style=\"float: left;\"><div class=\"suggestion-warning\">Why Not:</div><div class=\"highlight-code\" id=\"haskell\">not (f x /= g x) && are2FunsEqAt f g xs</div></div><div class=\"suggestion-name\" style=\"clear:both;\">Avoid lambda using `infix`</div><div class=\"suggestion-row\" style=\"float: left;\"><div class=\"suggestion-warning\">Found:</div><div class=\"highlight-code\" id=\"haskell\">(\\ x -> x + 2)</div></div><div class=\"suggestion-row\" style=\"float: left;\"><div class=\"suggestion-warning\">Why Not:</div><div class=\"highlight-code\" id=\"haskell\">(+ 2)</div></div>"
      ],
      "text/plain": [
       "Line 3: Redundant if\n",
       "Found:\n",
       "if f x /= g x then False else are2FunsEqAt f g xs\n",
       "Why not:\n",
       "not (f x /= g x) && are2FunsEqAt f g xsLine 6: Avoid lambda using `infix`\n",
       "Found:\n",
       "(\\ x -> x + 2)\n",
       "Why not:\n",
       "(+ 2)"
      ]
     },
     "metadata": {},
     "output_type": "display_data"
    },
    {
     "data": {
      "text/plain": [
       "True"
      ]
     },
     "metadata": {},
     "output_type": "display_data"
    }
   ],
   "source": [
    "are2FunsEqAt :: Eq a => (t -> a) -> (t -> a) -> [t] -> Bool\n",
    "are2FunsEqAt f g [] = True\n",
    "are2FunsEqAt f g (x:xs) = if f x /= g x then False\n",
    "                          else are2FunsEqAt f g xs\n",
    "\n",
    "are2FunsEqAt (+2) (\\x -> x + 2) [1..1000]"
   ]
  },
  {
   "cell_type": "markdown",
   "id": "8030afa2",
   "metadata": {},
   "source": [
    "**17. Napisać funkcję:**\n",
    "\n",
    "**infixl 9 >.>**\n",
    "\n",
    "**(>.>) :: (a -> b) -> (b -> c) -> (a -> c)**\n",
    "\n",
    "**g >.> f = ...**\n",
    "\n",
    "**i sprawdzić jej działanie.**"
   ]
  },
  {
   "cell_type": "code",
   "execution_count": 38,
   "id": "86c52210",
   "metadata": {},
   "outputs": [
    {
     "data": {
      "text/plain": [
       "7"
      ]
     },
     "metadata": {},
     "output_type": "display_data"
    }
   ],
   "source": [
    "infixl 9 >.>\n",
    "(>.>) :: (a -> b) -> (b -> c) -> (a -> c)\n",
    "g >.> f = f . g\n",
    "\n",
    "func1 x = x*2\n",
    "func2 x = x-5\n",
    "func3 x = x+2\n",
    "func1 >.> func2 >.> func3 $ 5"
   ]
  },
  {
   "cell_type": "markdown",
   "id": "2cd23889",
   "metadata": {},
   "source": [
    "**18. Napisać funkcję (kompozycja/złożenie listy funkcji):**\n",
    "\n",
    "**composeFunList :: [a -> a] -> (a -> a)**"
   ]
  },
  {
   "cell_type": "code",
   "execution_count": 39,
   "id": "06ea825e",
   "metadata": {},
   "outputs": [
    {
     "data": {
      "text/html": [
       "<style>/* Styles used for the Hoogle display in the pager */\n",
       ".hoogle-doc {\n",
       "display: block;\n",
       "padding-bottom: 1.3em;\n",
       "padding-left: 0.4em;\n",
       "}\n",
       ".hoogle-code {\n",
       "display: block;\n",
       "font-family: monospace;\n",
       "white-space: pre;\n",
       "}\n",
       ".hoogle-text {\n",
       "display: block;\n",
       "}\n",
       ".hoogle-name {\n",
       "color: green;\n",
       "font-weight: bold;\n",
       "}\n",
       ".hoogle-head {\n",
       "font-weight: bold;\n",
       "}\n",
       ".hoogle-sub {\n",
       "display: block;\n",
       "margin-left: 0.4em;\n",
       "}\n",
       ".hoogle-package {\n",
       "font-weight: bold;\n",
       "font-style: italic;\n",
       "}\n",
       ".hoogle-module {\n",
       "font-weight: bold;\n",
       "}\n",
       ".hoogle-class {\n",
       "font-weight: bold;\n",
       "}\n",
       ".get-type {\n",
       "color: green;\n",
       "font-weight: bold;\n",
       "font-family: monospace;\n",
       "display: block;\n",
       "white-space: pre-wrap;\n",
       "}\n",
       ".show-type {\n",
       "color: green;\n",
       "font-weight: bold;\n",
       "font-family: monospace;\n",
       "margin-left: 1em;\n",
       "}\n",
       ".mono {\n",
       "font-family: monospace;\n",
       "display: block;\n",
       "}\n",
       ".err-msg {\n",
       "color: red;\n",
       "font-style: italic;\n",
       "font-family: monospace;\n",
       "white-space: pre;\n",
       "display: block;\n",
       "}\n",
       "#unshowable {\n",
       "color: red;\n",
       "font-weight: bold;\n",
       "}\n",
       ".err-msg.in.collapse {\n",
       "padding-top: 0.7em;\n",
       "}\n",
       ".highlight-code {\n",
       "white-space: pre;\n",
       "font-family: monospace;\n",
       "}\n",
       ".suggestion-warning { \n",
       "font-weight: bold;\n",
       "color: rgb(200, 130, 0);\n",
       "}\n",
       ".suggestion-error { \n",
       "font-weight: bold;\n",
       "color: red;\n",
       "}\n",
       ".suggestion-name {\n",
       "font-weight: bold;\n",
       "}\n",
       "</style><div class=\"suggestion-name\" style=\"clear:both;\">Use foldr</div><div class=\"suggestion-row\" style=\"float: left;\"><div class=\"suggestion-warning\">Found:</div><div class=\"highlight-code\" id=\"haskell\">composeFunList [] = id\n",
       "composeFunList (x : xs) = x . composeFunList xs</div></div><div class=\"suggestion-row\" style=\"float: left;\"><div class=\"suggestion-warning\">Why Not:</div><div class=\"highlight-code\" id=\"haskell\">composeFunList xs = foldr (.) id xs</div></div>"
      ],
      "text/plain": [
       "Line 2: Use foldr\n",
       "Found:\n",
       "composeFunList [] = id\n",
       "composeFunList (x : xs) = x . composeFunList xs\n",
       "Why not:\n",
       "composeFunList xs = foldr (.) id xs"
      ]
     },
     "metadata": {},
     "output_type": "display_data"
    },
    {
     "data": {
      "text/plain": [
       "196"
      ]
     },
     "metadata": {},
     "output_type": "display_data"
    }
   ],
   "source": [
    "composeFunList :: [a -> a] -> (a -> a)\n",
    "composeFunList [] = id\n",
    "composeFunList (x:xs) = x . composeFunList xs\n",
    "\n",
    "composeFunList [(^2), (+4), (*2)] 5"
   ]
  },
  {
   "cell_type": "markdown",
   "id": "c59d4cf7",
   "metadata": {},
   "source": [
    "## 6) Operator “aplikacji” funkcji ($)"
   ]
  },
  {
   "cell_type": "markdown",
   "id": "dcd46f1a",
   "metadata": {},
   "source": [
    "**19. Dodać nawiasy w wyrażeniu (,) $ 1 $ 2, aby otrzymać wynik (1,2)**"
   ]
  },
  {
   "cell_type": "code",
   "execution_count": 40,
   "id": "e32b7ffd",
   "metadata": {},
   "outputs": [
    {
     "data": {
      "text/html": [
       "<style>/* Styles used for the Hoogle display in the pager */\n",
       ".hoogle-doc {\n",
       "display: block;\n",
       "padding-bottom: 1.3em;\n",
       "padding-left: 0.4em;\n",
       "}\n",
       ".hoogle-code {\n",
       "display: block;\n",
       "font-family: monospace;\n",
       "white-space: pre;\n",
       "}\n",
       ".hoogle-text {\n",
       "display: block;\n",
       "}\n",
       ".hoogle-name {\n",
       "color: green;\n",
       "font-weight: bold;\n",
       "}\n",
       ".hoogle-head {\n",
       "font-weight: bold;\n",
       "}\n",
       ".hoogle-sub {\n",
       "display: block;\n",
       "margin-left: 0.4em;\n",
       "}\n",
       ".hoogle-package {\n",
       "font-weight: bold;\n",
       "font-style: italic;\n",
       "}\n",
       ".hoogle-module {\n",
       "font-weight: bold;\n",
       "}\n",
       ".hoogle-class {\n",
       "font-weight: bold;\n",
       "}\n",
       ".get-type {\n",
       "color: green;\n",
       "font-weight: bold;\n",
       "font-family: monospace;\n",
       "display: block;\n",
       "white-space: pre-wrap;\n",
       "}\n",
       ".show-type {\n",
       "color: green;\n",
       "font-weight: bold;\n",
       "font-family: monospace;\n",
       "margin-left: 1em;\n",
       "}\n",
       ".mono {\n",
       "font-family: monospace;\n",
       "display: block;\n",
       "}\n",
       ".err-msg {\n",
       "color: red;\n",
       "font-style: italic;\n",
       "font-family: monospace;\n",
       "white-space: pre;\n",
       "display: block;\n",
       "}\n",
       "#unshowable {\n",
       "color: red;\n",
       "font-weight: bold;\n",
       "}\n",
       ".err-msg.in.collapse {\n",
       "padding-top: 0.7em;\n",
       "}\n",
       ".highlight-code {\n",
       "white-space: pre;\n",
       "font-family: monospace;\n",
       "}\n",
       ".suggestion-warning { \n",
       "font-weight: bold;\n",
       "color: rgb(200, 130, 0);\n",
       "}\n",
       ".suggestion-error { \n",
       "font-weight: bold;\n",
       "color: red;\n",
       "}\n",
       ".suggestion-name {\n",
       "font-weight: bold;\n",
       "}\n",
       "</style><div class=\"suggestion-name\" style=\"clear:both;\">Use tuple-section</div><div class=\"suggestion-row\" style=\"float: left;\"><div class=\"suggestion-warning\">Found:</div><div class=\"highlight-code\" id=\"haskell\">((,) $ 1)</div></div><div class=\"suggestion-row\" style=\"float: left;\"><div class=\"suggestion-warning\">Why Not:</div><div class=\"highlight-code\" id=\"haskell\">(1,)</div></div><div class=\"suggestion-name\" style=\"clear:both;\">Redundant $</div><div class=\"suggestion-row\" style=\"float: left;\"><div class=\"suggestion-warning\">Found:</div><div class=\"highlight-code\" id=\"haskell\">(,) $ 1</div></div><div class=\"suggestion-row\" style=\"float: left;\"><div class=\"suggestion-warning\">Why Not:</div><div class=\"highlight-code\" id=\"haskell\">(,) 1</div></div><div class=\"suggestion-name\" style=\"clear:both;\">Redundant $</div><div class=\"suggestion-row\" style=\"float: left;\"><div class=\"suggestion-warning\">Found:</div><div class=\"highlight-code\" id=\"haskell\">((,) $ 1) $ 2</div></div><div class=\"suggestion-row\" style=\"float: left;\"><div class=\"suggestion-warning\">Why Not:</div><div class=\"highlight-code\" id=\"haskell\">((,) $ 1) 2</div></div>"
      ],
      "text/plain": [
       "Line 1: Use tuple-section\n",
       "Found:\n",
       "((,) $ 1)\n",
       "Why not:\n",
       "(1,)Line 1: Redundant $\n",
       "Found:\n",
       "(,) $ 1\n",
       "Why not:\n",
       "(,) 1Line 1: Redundant $\n",
       "Found:\n",
       "((,) $ 1) $ 2\n",
       "Why not:\n",
       "((,) $ 1) 2"
      ]
     },
     "metadata": {},
     "output_type": "display_data"
    },
    {
     "data": {
      "text/plain": [
       "(1,2)"
      ]
     },
     "metadata": {},
     "output_type": "display_data"
    }
   ],
   "source": [
    "((,) $ 1) $ 2"
   ]
  },
  {
   "cell_type": "markdown",
   "id": "c084ab0d",
   "metadata": {},
   "source": [
    "## 7) Funkcje wyższego rzędu: filter"
   ]
  },
  {
   "cell_type": "markdown",
   "id": "fb44647a",
   "metadata": {},
   "source": [
    "**20. Napisać definicje funkcji onlyOdd i onlyUpper:**\n",
    "\n",
    "**onlyOdd [1..10] -- [1,3,5,7,9]**\n",
    "\n",
    "**onlyUpper \"My name is Inigo Montoya. You killed my father. Prepare to die.\" -- \"MIMYP\"**"
   ]
  },
  {
   "cell_type": "code",
   "execution_count": 41,
   "id": "344a01de",
   "metadata": {},
   "outputs": [
    {
     "data": {
      "text/plain": [
       "[1,3,5,7,9]"
      ]
     },
     "metadata": {},
     "output_type": "display_data"
    }
   ],
   "source": [
    "onlyOdd [] = []\n",
    "onlyOdd (x:xs)\n",
    " | x `mod` 2 == 1 = x : onlyOdd xs\n",
    " | otherwise    = onlyOdd xs\n",
    " \n",
    "onlyOdd [1..10]"
   ]
  },
  {
   "cell_type": "code",
   "execution_count": 42,
   "id": "346534cb",
   "metadata": {},
   "outputs": [
    {
     "data": {
      "text/html": [
       "<style>/* Styles used for the Hoogle display in the pager */\n",
       ".hoogle-doc {\n",
       "display: block;\n",
       "padding-bottom: 1.3em;\n",
       "padding-left: 0.4em;\n",
       "}\n",
       ".hoogle-code {\n",
       "display: block;\n",
       "font-family: monospace;\n",
       "white-space: pre;\n",
       "}\n",
       ".hoogle-text {\n",
       "display: block;\n",
       "}\n",
       ".hoogle-name {\n",
       "color: green;\n",
       "font-weight: bold;\n",
       "}\n",
       ".hoogle-head {\n",
       "font-weight: bold;\n",
       "}\n",
       ".hoogle-sub {\n",
       "display: block;\n",
       "margin-left: 0.4em;\n",
       "}\n",
       ".hoogle-package {\n",
       "font-weight: bold;\n",
       "font-style: italic;\n",
       "}\n",
       ".hoogle-module {\n",
       "font-weight: bold;\n",
       "}\n",
       ".hoogle-class {\n",
       "font-weight: bold;\n",
       "}\n",
       ".get-type {\n",
       "color: green;\n",
       "font-weight: bold;\n",
       "font-family: monospace;\n",
       "display: block;\n",
       "white-space: pre-wrap;\n",
       "}\n",
       ".show-type {\n",
       "color: green;\n",
       "font-weight: bold;\n",
       "font-family: monospace;\n",
       "margin-left: 1em;\n",
       "}\n",
       ".mono {\n",
       "font-family: monospace;\n",
       "display: block;\n",
       "}\n",
       ".err-msg {\n",
       "color: red;\n",
       "font-style: italic;\n",
       "font-family: monospace;\n",
       "white-space: pre;\n",
       "display: block;\n",
       "}\n",
       "#unshowable {\n",
       "color: red;\n",
       "font-weight: bold;\n",
       "}\n",
       ".err-msg.in.collapse {\n",
       "padding-top: 0.7em;\n",
       "}\n",
       ".highlight-code {\n",
       "white-space: pre;\n",
       "font-family: monospace;\n",
       "}\n",
       ".suggestion-warning { \n",
       "font-weight: bold;\n",
       "color: rgb(200, 130, 0);\n",
       "}\n",
       ".suggestion-error { \n",
       "font-weight: bold;\n",
       "color: red;\n",
       "}\n",
       ".suggestion-name {\n",
       "font-weight: bold;\n",
       "}\n",
       "</style><div class=\"suggestion-name\" style=\"clear:both;\">Use isAsciiUpper</div><div class=\"suggestion-row\" style=\"float: left;\"><div class=\"suggestion-warning\">Found:</div><div class=\"highlight-code\" id=\"haskell\">x >= 'A' && x <= 'Z'</div></div><div class=\"suggestion-row\" style=\"float: left;\"><div class=\"suggestion-warning\">Why Not:</div><div class=\"highlight-code\" id=\"haskell\">isAsciiUpper x</div></div>"
      ],
      "text/plain": [
       "Line 4: Use isAsciiUpper\n",
       "Found:\n",
       "x >= 'A' && x <= 'Z'\n",
       "Why not:\n",
       "isAsciiUpper x"
      ]
     },
     "metadata": {},
     "output_type": "display_data"
    },
    {
     "data": {
      "text/plain": [
       "\"MIMYP\""
      ]
     },
     "metadata": {},
     "output_type": "display_data"
    }
   ],
   "source": [
    "-- 1st solution\n",
    "onlyUpper [] = []\n",
    "onlyUpper (x:xs)\n",
    " | x >= 'A' && x <= 'Z' = x : onlyUpper xs\n",
    " | otherwise            = onlyUpper xs\n",
    " \n",
    "onlyUpper \"My name is Inigo Montoya. You killed my father. Prepare to die.\""
   ]
  },
  {
   "cell_type": "code",
   "execution_count": 43,
   "id": "23d9aa4c",
   "metadata": {},
   "outputs": [
    {
     "data": {
      "text/plain": [
       "\"MIMYP\""
      ]
     },
     "metadata": {},
     "output_type": "display_data"
    }
   ],
   "source": [
    "-- 2nd solution\n",
    "import Data.Char\n",
    "onlyUpper' [] = []\n",
    "onlyUpper' (x:xs)\n",
    " | isUpper x = x : onlyUpper xs\n",
    " | otherwise = onlyUpper xs\n",
    "\n",
    "onlyUpper' \"My name is Inigo Montoya. You killed my father. Prepare to die.\""
   ]
  },
  {
   "cell_type": "markdown",
   "id": "82f1e894",
   "metadata": {},
   "source": [
    "**21. Uogólnić poprzednie rozwiązania wprowadzając funkcję filter'**\n",
    "\n",
    "**filter' :: (a -> Bool) -> [a] -> [a]**"
   ]
  },
  {
   "cell_type": "code",
   "execution_count": 44,
   "id": "e5d2bc2a",
   "metadata": {},
   "outputs": [
    {
     "data": {
      "text/plain": [
       "[2,3,1]"
      ]
     },
     "metadata": {},
     "output_type": "display_data"
    }
   ],
   "source": [
    "filter' :: (a -> Bool) -> [a] -> [a]\n",
    "filter' p [] = []\n",
    "filter' p (x:xs)\n",
    " | p x = x : filter' p xs\n",
    " | otherwise = filter' p xs\n",
    " \n",
    "filter' (<4) [5, 2, 7, 3, 1]"
   ]
  },
  {
   "cell_type": "markdown",
   "id": "d66a3d1d",
   "metadata": {},
   "source": [
    "**a) onlyEven**"
   ]
  },
  {
   "cell_type": "code",
   "execution_count": 45,
   "id": "fb3200a8",
   "metadata": {},
   "outputs": [
    {
     "data": {
      "text/plain": [
       "[2,4,6,8,10]"
      ]
     },
     "metadata": {},
     "output_type": "display_data"
    }
   ],
   "source": [
    "-- 1st solution\n",
    "onlyEven' = filter' even\n",
    "\n",
    "onlyEven' [1..10]"
   ]
  },
  {
   "cell_type": "code",
   "execution_count": 46,
   "id": "c3adca0d",
   "metadata": {},
   "outputs": [
    {
     "data": {
      "text/html": [
       "<style>/* Styles used for the Hoogle display in the pager */\n",
       ".hoogle-doc {\n",
       "display: block;\n",
       "padding-bottom: 1.3em;\n",
       "padding-left: 0.4em;\n",
       "}\n",
       ".hoogle-code {\n",
       "display: block;\n",
       "font-family: monospace;\n",
       "white-space: pre;\n",
       "}\n",
       ".hoogle-text {\n",
       "display: block;\n",
       "}\n",
       ".hoogle-name {\n",
       "color: green;\n",
       "font-weight: bold;\n",
       "}\n",
       ".hoogle-head {\n",
       "font-weight: bold;\n",
       "}\n",
       ".hoogle-sub {\n",
       "display: block;\n",
       "margin-left: 0.4em;\n",
       "}\n",
       ".hoogle-package {\n",
       "font-weight: bold;\n",
       "font-style: italic;\n",
       "}\n",
       ".hoogle-module {\n",
       "font-weight: bold;\n",
       "}\n",
       ".hoogle-class {\n",
       "font-weight: bold;\n",
       "}\n",
       ".get-type {\n",
       "color: green;\n",
       "font-weight: bold;\n",
       "font-family: monospace;\n",
       "display: block;\n",
       "white-space: pre-wrap;\n",
       "}\n",
       ".show-type {\n",
       "color: green;\n",
       "font-weight: bold;\n",
       "font-family: monospace;\n",
       "margin-left: 1em;\n",
       "}\n",
       ".mono {\n",
       "font-family: monospace;\n",
       "display: block;\n",
       "}\n",
       ".err-msg {\n",
       "color: red;\n",
       "font-style: italic;\n",
       "font-family: monospace;\n",
       "white-space: pre;\n",
       "display: block;\n",
       "}\n",
       "#unshowable {\n",
       "color: red;\n",
       "font-weight: bold;\n",
       "}\n",
       ".err-msg.in.collapse {\n",
       "padding-top: 0.7em;\n",
       "}\n",
       ".highlight-code {\n",
       "white-space: pre;\n",
       "font-family: monospace;\n",
       "}\n",
       ".suggestion-warning { \n",
       "font-weight: bold;\n",
       "color: rgb(200, 130, 0);\n",
       "}\n",
       ".suggestion-error { \n",
       "font-weight: bold;\n",
       "color: red;\n",
       "}\n",
       ".suggestion-name {\n",
       "font-weight: bold;\n",
       "}\n",
       "</style><div class=\"suggestion-name\" style=\"clear:both;\">Use even</div><div class=\"suggestion-row\" style=\"float: left;\"><div class=\"suggestion-warning\">Found:</div><div class=\"highlight-code\" id=\"haskell\">x `mod` 2 == 0</div></div><div class=\"suggestion-row\" style=\"float: left;\"><div class=\"suggestion-warning\">Why Not:</div><div class=\"highlight-code\" id=\"haskell\">even x</div></div>"
      ],
      "text/plain": [
       "Line 2: Use even\n",
       "Found:\n",
       "x `mod` 2 == 0\n",
       "Why not:\n",
       "even x"
      ]
     },
     "metadata": {},
     "output_type": "display_data"
    },
    {
     "data": {
      "text/plain": [
       "[2,4,6,8,10]"
      ]
     },
     "metadata": {},
     "output_type": "display_data"
    }
   ],
   "source": [
    "-- 2nd solution\n",
    "onlyEven'' = filter' (\\x -> x `mod` 2 == 0)\n",
    "\n",
    "onlyEven'' [1..10]"
   ]
  },
  {
   "cell_type": "markdown",
   "id": "c65ba4f4",
   "metadata": {},
   "source": [
    "**b) onlyOdd**"
   ]
  },
  {
   "cell_type": "code",
   "execution_count": 47,
   "id": "9eee0df0",
   "metadata": {},
   "outputs": [
    {
     "data": {
      "text/plain": [
       "[1,3,5,7,9]"
      ]
     },
     "metadata": {},
     "output_type": "display_data"
    }
   ],
   "source": [
    "-- 1st solution\n",
    "onlyOdd' = filter' odd\n",
    "\n",
    "onlyOdd' [1..10]"
   ]
  },
  {
   "cell_type": "code",
   "execution_count": 48,
   "id": "0199fb2e",
   "metadata": {},
   "outputs": [
    {
     "data": {
      "text/plain": [
       "[1,3,5,7,9]"
      ]
     },
     "metadata": {},
     "output_type": "display_data"
    }
   ],
   "source": [
    "-- 2nd solution\n",
    "onlyOdd'' = filter' (\\x -> x `mod` 2 == 1)\n",
    "\n",
    "onlyOdd'' [1..10]"
   ]
  },
  {
   "cell_type": "markdown",
   "id": "2ce41a86",
   "metadata": {},
   "source": [
    "**c) onlyUpper**"
   ]
  },
  {
   "cell_type": "code",
   "execution_count": 49,
   "id": "5ab7e8ee",
   "metadata": {},
   "outputs": [
    {
     "data": {
      "text/plain": [
       "\"MIMYP\""
      ]
     },
     "metadata": {},
     "output_type": "display_data"
    }
   ],
   "source": [
    "-- 1st solution\n",
    "onlyUpper' = filter' isUpper\n",
    "\n",
    "onlyUpper' \"My name is Inigo Montoya. You killed my father. Prepare to die.\""
   ]
  },
  {
   "cell_type": "code",
   "execution_count": 50,
   "id": "331426ed",
   "metadata": {},
   "outputs": [
    {
     "data": {
      "text/html": [
       "<style>/* Styles used for the Hoogle display in the pager */\n",
       ".hoogle-doc {\n",
       "display: block;\n",
       "padding-bottom: 1.3em;\n",
       "padding-left: 0.4em;\n",
       "}\n",
       ".hoogle-code {\n",
       "display: block;\n",
       "font-family: monospace;\n",
       "white-space: pre;\n",
       "}\n",
       ".hoogle-text {\n",
       "display: block;\n",
       "}\n",
       ".hoogle-name {\n",
       "color: green;\n",
       "font-weight: bold;\n",
       "}\n",
       ".hoogle-head {\n",
       "font-weight: bold;\n",
       "}\n",
       ".hoogle-sub {\n",
       "display: block;\n",
       "margin-left: 0.4em;\n",
       "}\n",
       ".hoogle-package {\n",
       "font-weight: bold;\n",
       "font-style: italic;\n",
       "}\n",
       ".hoogle-module {\n",
       "font-weight: bold;\n",
       "}\n",
       ".hoogle-class {\n",
       "font-weight: bold;\n",
       "}\n",
       ".get-type {\n",
       "color: green;\n",
       "font-weight: bold;\n",
       "font-family: monospace;\n",
       "display: block;\n",
       "white-space: pre-wrap;\n",
       "}\n",
       ".show-type {\n",
       "color: green;\n",
       "font-weight: bold;\n",
       "font-family: monospace;\n",
       "margin-left: 1em;\n",
       "}\n",
       ".mono {\n",
       "font-family: monospace;\n",
       "display: block;\n",
       "}\n",
       ".err-msg {\n",
       "color: red;\n",
       "font-style: italic;\n",
       "font-family: monospace;\n",
       "white-space: pre;\n",
       "display: block;\n",
       "}\n",
       "#unshowable {\n",
       "color: red;\n",
       "font-weight: bold;\n",
       "}\n",
       ".err-msg.in.collapse {\n",
       "padding-top: 0.7em;\n",
       "}\n",
       ".highlight-code {\n",
       "white-space: pre;\n",
       "font-family: monospace;\n",
       "}\n",
       ".suggestion-warning { \n",
       "font-weight: bold;\n",
       "color: rgb(200, 130, 0);\n",
       "}\n",
       ".suggestion-error { \n",
       "font-weight: bold;\n",
       "color: red;\n",
       "}\n",
       ".suggestion-name {\n",
       "font-weight: bold;\n",
       "}\n",
       "</style><div class=\"suggestion-name\" style=\"clear:both;\">Avoid lambda</div><div class=\"suggestion-row\" style=\"float: left;\"><div class=\"suggestion-warning\">Found:</div><div class=\"highlight-code\" id=\"haskell\">(\\ x -> isUpper x)</div></div><div class=\"suggestion-row\" style=\"float: left;\"><div class=\"suggestion-warning\">Why Not:</div><div class=\"highlight-code\" id=\"haskell\">isUpper</div></div>"
      ],
      "text/plain": [
       "Line 2: Avoid lambda\n",
       "Found:\n",
       "(\\ x -> isUpper x)\n",
       "Why not:\n",
       "isUpper"
      ]
     },
     "metadata": {},
     "output_type": "display_data"
    },
    {
     "data": {
      "text/plain": [
       "\"MIMYP\""
      ]
     },
     "metadata": {},
     "output_type": "display_data"
    }
   ],
   "source": [
    "-- 2nd solution\n",
    "onlyUpper'' = filter' (\\x -> isUpper x)\n",
    "\n",
    "onlyUpper'' \"My name is Inigo Montoya. You killed my father. Prepare to die.\""
   ]
  },
  {
   "cell_type": "markdown",
   "id": "cc74bba8",
   "metadata": {},
   "source": [
    "**22. Przepisać używając list comprehensions:**\n",
    "\n",
    "**length (filter even [1..10^6])**"
   ]
  },
  {
   "cell_type": "code",
   "execution_count": 51,
   "id": "68ea9635",
   "metadata": {},
   "outputs": [
    {
     "data": {
      "text/plain": [
       "500000"
      ]
     },
     "metadata": {},
     "output_type": "display_data"
    }
   ],
   "source": [
    "length [x | x <- [1..10^6], even x]"
   ]
  },
  {
   "cell_type": "markdown",
   "id": "f2dbaa34",
   "metadata": {},
   "source": [
    "## 8) Funkcje wyższego rzędu: map"
   ]
  },
  {
   "cell_type": "markdown",
   "id": "8f1f8c68",
   "metadata": {},
   "source": [
    "**23. Napisać (wg podanego schematu) definicje funkcji sqrElems i lowerCase**\n",
    "\n",
    "**sqrElems [1..3] -- [1,4,9]**\n",
    "\n",
    "**lowerCase \"ABCD\" -- \"abcd\", konieczny import Data.Char**"
   ]
  },
  {
   "cell_type": "code",
   "execution_count": 52,
   "id": "d51ab173",
   "metadata": {},
   "outputs": [
    {
     "data": {
      "text/html": [
       "<style>/* Styles used for the Hoogle display in the pager */\n",
       ".hoogle-doc {\n",
       "display: block;\n",
       "padding-bottom: 1.3em;\n",
       "padding-left: 0.4em;\n",
       "}\n",
       ".hoogle-code {\n",
       "display: block;\n",
       "font-family: monospace;\n",
       "white-space: pre;\n",
       "}\n",
       ".hoogle-text {\n",
       "display: block;\n",
       "}\n",
       ".hoogle-name {\n",
       "color: green;\n",
       "font-weight: bold;\n",
       "}\n",
       ".hoogle-head {\n",
       "font-weight: bold;\n",
       "}\n",
       ".hoogle-sub {\n",
       "display: block;\n",
       "margin-left: 0.4em;\n",
       "}\n",
       ".hoogle-package {\n",
       "font-weight: bold;\n",
       "font-style: italic;\n",
       "}\n",
       ".hoogle-module {\n",
       "font-weight: bold;\n",
       "}\n",
       ".hoogle-class {\n",
       "font-weight: bold;\n",
       "}\n",
       ".get-type {\n",
       "color: green;\n",
       "font-weight: bold;\n",
       "font-family: monospace;\n",
       "display: block;\n",
       "white-space: pre-wrap;\n",
       "}\n",
       ".show-type {\n",
       "color: green;\n",
       "font-weight: bold;\n",
       "font-family: monospace;\n",
       "margin-left: 1em;\n",
       "}\n",
       ".mono {\n",
       "font-family: monospace;\n",
       "display: block;\n",
       "}\n",
       ".err-msg {\n",
       "color: red;\n",
       "font-style: italic;\n",
       "font-family: monospace;\n",
       "white-space: pre;\n",
       "display: block;\n",
       "}\n",
       "#unshowable {\n",
       "color: red;\n",
       "font-weight: bold;\n",
       "}\n",
       ".err-msg.in.collapse {\n",
       "padding-top: 0.7em;\n",
       "}\n",
       ".highlight-code {\n",
       "white-space: pre;\n",
       "font-family: monospace;\n",
       "}\n",
       ".suggestion-warning { \n",
       "font-weight: bold;\n",
       "color: rgb(200, 130, 0);\n",
       "}\n",
       ".suggestion-error { \n",
       "font-weight: bold;\n",
       "color: red;\n",
       "}\n",
       ".suggestion-name {\n",
       "font-weight: bold;\n",
       "}\n",
       "</style><div class=\"suggestion-name\" style=\"clear:both;\">Use map</div><div class=\"suggestion-row\" style=\"float: left;\"><div class=\"suggestion-warning\">Found:</div><div class=\"highlight-code\" id=\"haskell\">sqrElems [] = []\n",
       "sqrElems (x : xs) = x ^ 2 : sqrElems xs</div></div><div class=\"suggestion-row\" style=\"float: left;\"><div class=\"suggestion-warning\">Why Not:</div><div class=\"highlight-code\" id=\"haskell\">sqrElems xs = map (^ 2) xs</div></div>"
      ],
      "text/plain": [
       "Line 1: Use map\n",
       "Found:\n",
       "sqrElems [] = []\n",
       "sqrElems (x : xs) = x ^ 2 : sqrElems xs\n",
       "Why not:\n",
       "sqrElems xs = map (^ 2) xs"
      ]
     },
     "metadata": {},
     "output_type": "display_data"
    },
    {
     "data": {
      "text/plain": [
       "[1,4,9]"
      ]
     },
     "metadata": {},
     "output_type": "display_data"
    }
   ],
   "source": [
    "sqrElems [] = []\n",
    "sqrElems (x:xs) = x^2 : sqrElems xs\n",
    "\n",
    "sqrElems [1..3]"
   ]
  },
  {
   "cell_type": "code",
   "execution_count": 53,
   "id": "b244497b",
   "metadata": {},
   "outputs": [
    {
     "data": {
      "text/html": [
       "<style>/* Styles used for the Hoogle display in the pager */\n",
       ".hoogle-doc {\n",
       "display: block;\n",
       "padding-bottom: 1.3em;\n",
       "padding-left: 0.4em;\n",
       "}\n",
       ".hoogle-code {\n",
       "display: block;\n",
       "font-family: monospace;\n",
       "white-space: pre;\n",
       "}\n",
       ".hoogle-text {\n",
       "display: block;\n",
       "}\n",
       ".hoogle-name {\n",
       "color: green;\n",
       "font-weight: bold;\n",
       "}\n",
       ".hoogle-head {\n",
       "font-weight: bold;\n",
       "}\n",
       ".hoogle-sub {\n",
       "display: block;\n",
       "margin-left: 0.4em;\n",
       "}\n",
       ".hoogle-package {\n",
       "font-weight: bold;\n",
       "font-style: italic;\n",
       "}\n",
       ".hoogle-module {\n",
       "font-weight: bold;\n",
       "}\n",
       ".hoogle-class {\n",
       "font-weight: bold;\n",
       "}\n",
       ".get-type {\n",
       "color: green;\n",
       "font-weight: bold;\n",
       "font-family: monospace;\n",
       "display: block;\n",
       "white-space: pre-wrap;\n",
       "}\n",
       ".show-type {\n",
       "color: green;\n",
       "font-weight: bold;\n",
       "font-family: monospace;\n",
       "margin-left: 1em;\n",
       "}\n",
       ".mono {\n",
       "font-family: monospace;\n",
       "display: block;\n",
       "}\n",
       ".err-msg {\n",
       "color: red;\n",
       "font-style: italic;\n",
       "font-family: monospace;\n",
       "white-space: pre;\n",
       "display: block;\n",
       "}\n",
       "#unshowable {\n",
       "color: red;\n",
       "font-weight: bold;\n",
       "}\n",
       ".err-msg.in.collapse {\n",
       "padding-top: 0.7em;\n",
       "}\n",
       ".highlight-code {\n",
       "white-space: pre;\n",
       "font-family: monospace;\n",
       "}\n",
       ".suggestion-warning { \n",
       "font-weight: bold;\n",
       "color: rgb(200, 130, 0);\n",
       "}\n",
       ".suggestion-error { \n",
       "font-weight: bold;\n",
       "color: red;\n",
       "}\n",
       ".suggestion-name {\n",
       "font-weight: bold;\n",
       "}\n",
       "</style><div class=\"suggestion-name\" style=\"clear:both;\">Use map</div><div class=\"suggestion-row\" style=\"float: left;\"><div class=\"suggestion-warning\">Found:</div><div class=\"highlight-code\" id=\"haskell\">lowerCase [] = []\n",
       "lowerCase (x : xs) = toLower x : lowerCase xs</div></div><div class=\"suggestion-row\" style=\"float: left;\"><div class=\"suggestion-warning\">Why Not:</div><div class=\"highlight-code\" id=\"haskell\">lowerCase xs = map toLower xs</div></div>"
      ],
      "text/plain": [
       "Line 2: Use map\n",
       "Found:\n",
       "lowerCase [] = []\n",
       "lowerCase (x : xs) = toLower x : lowerCase xs\n",
       "Why not:\n",
       "lowerCase xs = map toLower xs"
      ]
     },
     "metadata": {},
     "output_type": "display_data"
    },
    {
     "data": {
      "text/plain": [
       "\"abcd\""
      ]
     },
     "metadata": {},
     "output_type": "display_data"
    }
   ],
   "source": [
    "import Data.Char\n",
    "lowerCase [] = []\n",
    "lowerCase (x:xs) = toLower x : lowerCase xs\n",
    "\n",
    "lowerCase \"ABCD\""
   ]
  },
  {
   "cell_type": "markdown",
   "id": "0e8eabd7",
   "metadata": {},
   "source": [
    "**24. Uogólnić poprzednie rozwiązania wprowadzając funkcję map'**\n",
    "\n",
    "**map' :: (a -> b) -> [a] -> [b]**"
   ]
  },
  {
   "cell_type": "code",
   "execution_count": 54,
   "id": "313c9107",
   "metadata": {},
   "outputs": [
    {
     "data": {
      "text/html": [
       "<style>/* Styles used for the Hoogle display in the pager */\n",
       ".hoogle-doc {\n",
       "display: block;\n",
       "padding-bottom: 1.3em;\n",
       "padding-left: 0.4em;\n",
       "}\n",
       ".hoogle-code {\n",
       "display: block;\n",
       "font-family: monospace;\n",
       "white-space: pre;\n",
       "}\n",
       ".hoogle-text {\n",
       "display: block;\n",
       "}\n",
       ".hoogle-name {\n",
       "color: green;\n",
       "font-weight: bold;\n",
       "}\n",
       ".hoogle-head {\n",
       "font-weight: bold;\n",
       "}\n",
       ".hoogle-sub {\n",
       "display: block;\n",
       "margin-left: 0.4em;\n",
       "}\n",
       ".hoogle-package {\n",
       "font-weight: bold;\n",
       "font-style: italic;\n",
       "}\n",
       ".hoogle-module {\n",
       "font-weight: bold;\n",
       "}\n",
       ".hoogle-class {\n",
       "font-weight: bold;\n",
       "}\n",
       ".get-type {\n",
       "color: green;\n",
       "font-weight: bold;\n",
       "font-family: monospace;\n",
       "display: block;\n",
       "white-space: pre-wrap;\n",
       "}\n",
       ".show-type {\n",
       "color: green;\n",
       "font-weight: bold;\n",
       "font-family: monospace;\n",
       "margin-left: 1em;\n",
       "}\n",
       ".mono {\n",
       "font-family: monospace;\n",
       "display: block;\n",
       "}\n",
       ".err-msg {\n",
       "color: red;\n",
       "font-style: italic;\n",
       "font-family: monospace;\n",
       "white-space: pre;\n",
       "display: block;\n",
       "}\n",
       "#unshowable {\n",
       "color: red;\n",
       "font-weight: bold;\n",
       "}\n",
       ".err-msg.in.collapse {\n",
       "padding-top: 0.7em;\n",
       "}\n",
       ".highlight-code {\n",
       "white-space: pre;\n",
       "font-family: monospace;\n",
       "}\n",
       ".suggestion-warning { \n",
       "font-weight: bold;\n",
       "color: rgb(200, 130, 0);\n",
       "}\n",
       ".suggestion-error { \n",
       "font-weight: bold;\n",
       "color: red;\n",
       "}\n",
       ".suggestion-name {\n",
       "font-weight: bold;\n",
       "}\n",
       "</style><div class=\"suggestion-name\" style=\"clear:both;\">Use map</div><div class=\"suggestion-row\" style=\"float: left;\"><div class=\"suggestion-warning\">Found:</div><div class=\"highlight-code\" id=\"haskell\">map' f [] = []\n",
       "map' f (x : xs) = f x : map' f xs</div></div><div class=\"suggestion-row\" style=\"float: left;\"><div class=\"suggestion-warning\">Why Not:</div><div class=\"highlight-code\" id=\"haskell\">map' f xs = map f xs</div></div>"
      ],
      "text/plain": [
       "Line 2: Use map\n",
       "Found:\n",
       "map' f [] = []\n",
       "map' f (x : xs) = f x : map' f xs\n",
       "Why not:\n",
       "map' f xs = map f xs"
      ]
     },
     "metadata": {},
     "output_type": "display_data"
    }
   ],
   "source": [
    "map' :: (a -> b) -> [a] -> [b]\n",
    "map' f [] = []\n",
    "map' f (x:xs) = f x : map' f xs"
   ]
  },
  {
   "cell_type": "markdown",
   "id": "dd84693a",
   "metadata": {},
   "source": [
    "**a) doubleElems'**"
   ]
  },
  {
   "cell_type": "code",
   "execution_count": 55,
   "id": "09b0d47c",
   "metadata": {},
   "outputs": [
    {
     "data": {
      "text/plain": [
       "[2,4,6]"
      ]
     },
     "metadata": {},
     "output_type": "display_data"
    }
   ],
   "source": [
    "doubleElems' = map' (*2)\n",
    "\n",
    "doubleElems' [1..3]"
   ]
  },
  {
   "cell_type": "markdown",
   "id": "ae60fa29",
   "metadata": {},
   "source": [
    "**b) sqrElems'**"
   ]
  },
  {
   "cell_type": "code",
   "execution_count": 56,
   "id": "04e9ba61",
   "metadata": {},
   "outputs": [
    {
     "data": {
      "text/plain": [
       "[1,4,9]"
      ]
     },
     "metadata": {},
     "output_type": "display_data"
    }
   ],
   "source": [
    "sqrElems' = map' (^2)\n",
    "\n",
    "sqrElems' [1..3]"
   ]
  },
  {
   "cell_type": "markdown",
   "id": "1556ab8a",
   "metadata": {},
   "source": [
    "**c) lowerCase'**"
   ]
  },
  {
   "cell_type": "code",
   "execution_count": 57,
   "id": "7c804afa",
   "metadata": {},
   "outputs": [
    {
     "data": {
      "text/plain": [
       "\"abcd\""
      ]
     },
     "metadata": {},
     "output_type": "display_data"
    }
   ],
   "source": [
    "lowerCase' = map' toLower\n",
    "\n",
    "lowerCase' \"ABCD\""
   ]
  },
  {
   "cell_type": "markdown",
   "id": "76bdc827",
   "metadata": {},
   "source": [
    "**25. Przepisać powyższe funkcje używając list comprehensions:**"
   ]
  },
  {
   "cell_type": "markdown",
   "id": "f0844f89",
   "metadata": {},
   "source": [
    "**a) doubleElems''**"
   ]
  },
  {
   "cell_type": "code",
   "execution_count": 58,
   "id": "5b698a9b",
   "metadata": {},
   "outputs": [
    {
     "data": {
      "text/plain": [
       "[2,4,6]"
      ]
     },
     "metadata": {},
     "output_type": "display_data"
    }
   ],
   "source": [
    "doubleElems'' xs = [2*x | x <- xs]\n",
    "\n",
    "doubleElems'' [1..3]"
   ]
  },
  {
   "cell_type": "markdown",
   "id": "55f93093",
   "metadata": {},
   "source": [
    "**b) sqrElems''**"
   ]
  },
  {
   "cell_type": "code",
   "execution_count": 59,
   "id": "e2243896",
   "metadata": {},
   "outputs": [
    {
     "data": {
      "text/plain": [
       "[1,4,9]"
      ]
     },
     "metadata": {},
     "output_type": "display_data"
    }
   ],
   "source": [
    "sqrElems'' xs = [x^2 | x <- xs]\n",
    "\n",
    "sqrElems'' [1..3]"
   ]
  },
  {
   "cell_type": "markdown",
   "id": "95f837c7",
   "metadata": {},
   "source": [
    "**c) lowerCase''**"
   ]
  },
  {
   "cell_type": "code",
   "execution_count": 60,
   "id": "3555468b",
   "metadata": {},
   "outputs": [
    {
     "data": {
      "text/plain": [
       "\"abcd\""
      ]
     },
     "metadata": {},
     "output_type": "display_data"
    }
   ],
   "source": [
    "lowerCase'' xs = [toLower x | x <- xs]\n",
    "\n",
    "lowerCase'' \"ABCD\""
   ]
  },
  {
   "cell_type": "markdown",
   "id": "9c3606ce",
   "metadata": {},
   "source": [
    "**26. Zdefiniować funkcję evalFuncListAt wykorzystując map**\n",
    "\n",
    "**evalFuncListAt :: a -> [a -> b] -> [b]**"
   ]
  },
  {
   "cell_type": "code",
   "execution_count": 61,
   "id": "10098068",
   "metadata": {},
   "outputs": [],
   "source": [
    "evalFuncListAt :: a -> [a -> b] -> [b]\n",
    "evalFuncListAt x = map ($x)"
   ]
  },
  {
   "cell_type": "markdown",
   "id": "9853a3c9",
   "metadata": {},
   "source": [
    "## 9) Funkcje wyższego rzędu: foldr i foldl"
   ]
  },
  {
   "cell_type": "markdown",
   "id": "80e1ad65",
   "metadata": {},
   "source": [
    "**27. Uogólnić sumWith i prodWith wprowadzając funkcję foldr'.**\n",
    "\n",
    "**foldr' :: (a -> b -> b) -> b -> [a] -> b**"
   ]
  },
  {
   "cell_type": "code",
   "execution_count": 62,
   "id": "f93e1992",
   "metadata": {},
   "outputs": [
    {
     "data": {
      "text/html": [
       "<style>/* Styles used for the Hoogle display in the pager */\n",
       ".hoogle-doc {\n",
       "display: block;\n",
       "padding-bottom: 1.3em;\n",
       "padding-left: 0.4em;\n",
       "}\n",
       ".hoogle-code {\n",
       "display: block;\n",
       "font-family: monospace;\n",
       "white-space: pre;\n",
       "}\n",
       ".hoogle-text {\n",
       "display: block;\n",
       "}\n",
       ".hoogle-name {\n",
       "color: green;\n",
       "font-weight: bold;\n",
       "}\n",
       ".hoogle-head {\n",
       "font-weight: bold;\n",
       "}\n",
       ".hoogle-sub {\n",
       "display: block;\n",
       "margin-left: 0.4em;\n",
       "}\n",
       ".hoogle-package {\n",
       "font-weight: bold;\n",
       "font-style: italic;\n",
       "}\n",
       ".hoogle-module {\n",
       "font-weight: bold;\n",
       "}\n",
       ".hoogle-class {\n",
       "font-weight: bold;\n",
       "}\n",
       ".get-type {\n",
       "color: green;\n",
       "font-weight: bold;\n",
       "font-family: monospace;\n",
       "display: block;\n",
       "white-space: pre-wrap;\n",
       "}\n",
       ".show-type {\n",
       "color: green;\n",
       "font-weight: bold;\n",
       "font-family: monospace;\n",
       "margin-left: 1em;\n",
       "}\n",
       ".mono {\n",
       "font-family: monospace;\n",
       "display: block;\n",
       "}\n",
       ".err-msg {\n",
       "color: red;\n",
       "font-style: italic;\n",
       "font-family: monospace;\n",
       "white-space: pre;\n",
       "display: block;\n",
       "}\n",
       "#unshowable {\n",
       "color: red;\n",
       "font-weight: bold;\n",
       "}\n",
       ".err-msg.in.collapse {\n",
       "padding-top: 0.7em;\n",
       "}\n",
       ".highlight-code {\n",
       "white-space: pre;\n",
       "font-family: monospace;\n",
       "}\n",
       ".suggestion-warning { \n",
       "font-weight: bold;\n",
       "color: rgb(200, 130, 0);\n",
       "}\n",
       ".suggestion-error { \n",
       "font-weight: bold;\n",
       "color: red;\n",
       "}\n",
       ".suggestion-name {\n",
       "font-weight: bold;\n",
       "}\n",
       "</style><div class=\"suggestion-name\" style=\"clear:both;\">Use foldr</div><div class=\"suggestion-row\" style=\"float: left;\"><div class=\"suggestion-warning\">Found:</div><div class=\"highlight-code\" id=\"haskell\">foldr' f z [] = z\n",
       "foldr' f z (x : xs) = f x (foldr' f z xs)</div></div><div class=\"suggestion-row\" style=\"float: left;\"><div class=\"suggestion-warning\">Why Not:</div><div class=\"highlight-code\" id=\"haskell\">foldr' f z xs = foldr f z xs</div></div>"
      ],
      "text/plain": [
       "Line 2: Use foldr\n",
       "Found:\n",
       "foldr' f z [] = z\n",
       "foldr' f z (x : xs) = f x (foldr' f z xs)\n",
       "Why not:\n",
       "foldr' f z xs = foldr f z xs"
      ]
     },
     "metadata": {},
     "output_type": "display_data"
    }
   ],
   "source": [
    "foldr' :: (a -> b -> b) -> b -> [a] -> b\n",
    "foldr' f z [] = z\n",
    "foldr' f z (x:xs) = f x (foldr' f z xs)"
   ]
  },
  {
   "cell_type": "code",
   "execution_count": 63,
   "id": "8f0d1a85",
   "metadata": {},
   "outputs": [
    {
     "data": {
      "text/plain": [
       "30"
      ]
     },
     "metadata": {},
     "output_type": "display_data"
    }
   ],
   "source": [
    "sumWith g  = foldr' (\\x acc -> g x + acc) 0\n",
    "\n",
    "sumWith (*2) [1..5]"
   ]
  },
  {
   "cell_type": "code",
   "execution_count": 64,
   "id": "bc6b6db8",
   "metadata": {},
   "outputs": [
    {
     "data": {
      "text/plain": [
       "2520"
      ]
     },
     "metadata": {},
     "output_type": "display_data"
    }
   ],
   "source": [
    "prodWith g = foldr' (\\x acc -> g x * acc) 1\n",
    "\n",
    "prodWith (+2) [1..5]"
   ]
  },
  {
   "cell_type": "markdown",
   "id": "b2cb7f64",
   "metadata": {},
   "source": [
    "**28. Uogólnić sumWith' i prodWith' wprowadzając funkcję foldl'.**"
   ]
  },
  {
   "cell_type": "code",
   "execution_count": 65,
   "id": "2451ed15",
   "metadata": {},
   "outputs": [],
   "source": [
    "foldl' :: (b -> a -> b) -> b -> [a] -> b\n",
    "foldl' f z [] = z\n",
    "foldl' f z (x:xs) = foldl' f (f z x) xs"
   ]
  },
  {
   "cell_type": "code",
   "execution_count": 66,
   "id": "408a208b",
   "metadata": {},
   "outputs": [
    {
     "data": {
      "text/plain": [
       "15"
      ]
     },
     "metadata": {},
     "output_type": "display_data"
    }
   ],
   "source": [
    "sumWith' g = foldl' (\\acc x -> g x + acc) 0\n",
    "\n",
    "sumWith' (+0) [1..5]"
   ]
  },
  {
   "cell_type": "code",
   "execution_count": 67,
   "id": "5f41b73e",
   "metadata": {},
   "outputs": [
    {
     "data": {
      "text/plain": [
       "120"
      ]
     },
     "metadata": {},
     "output_type": "display_data"
    }
   ],
   "source": [
    "prodWith' g = foldl' (\\acc x -> g x * acc) 1\n",
    "\n",
    "prodWith (*1) [1..5]"
   ]
  },
  {
   "cell_type": "markdown",
   "id": "8584f244",
   "metadata": {},
   "source": [
    "**29. Napisać definicje funkcji:**"
   ]
  },
  {
   "cell_type": "markdown",
   "id": "b44329c5",
   "metadata": {},
   "source": [
    "**a) map wykorzystując foldr**"
   ]
  },
  {
   "cell_type": "code",
   "execution_count": 68,
   "id": "5e221016",
   "metadata": {},
   "outputs": [
    {
     "data": {
      "text/html": [
       "<style>/* Styles used for the Hoogle display in the pager */\n",
       ".hoogle-doc {\n",
       "display: block;\n",
       "padding-bottom: 1.3em;\n",
       "padding-left: 0.4em;\n",
       "}\n",
       ".hoogle-code {\n",
       "display: block;\n",
       "font-family: monospace;\n",
       "white-space: pre;\n",
       "}\n",
       ".hoogle-text {\n",
       "display: block;\n",
       "}\n",
       ".hoogle-name {\n",
       "color: green;\n",
       "font-weight: bold;\n",
       "}\n",
       ".hoogle-head {\n",
       "font-weight: bold;\n",
       "}\n",
       ".hoogle-sub {\n",
       "display: block;\n",
       "margin-left: 0.4em;\n",
       "}\n",
       ".hoogle-package {\n",
       "font-weight: bold;\n",
       "font-style: italic;\n",
       "}\n",
       ".hoogle-module {\n",
       "font-weight: bold;\n",
       "}\n",
       ".hoogle-class {\n",
       "font-weight: bold;\n",
       "}\n",
       ".get-type {\n",
       "color: green;\n",
       "font-weight: bold;\n",
       "font-family: monospace;\n",
       "display: block;\n",
       "white-space: pre-wrap;\n",
       "}\n",
       ".show-type {\n",
       "color: green;\n",
       "font-weight: bold;\n",
       "font-family: monospace;\n",
       "margin-left: 1em;\n",
       "}\n",
       ".mono {\n",
       "font-family: monospace;\n",
       "display: block;\n",
       "}\n",
       ".err-msg {\n",
       "color: red;\n",
       "font-style: italic;\n",
       "font-family: monospace;\n",
       "white-space: pre;\n",
       "display: block;\n",
       "}\n",
       "#unshowable {\n",
       "color: red;\n",
       "font-weight: bold;\n",
       "}\n",
       ".err-msg.in.collapse {\n",
       "padding-top: 0.7em;\n",
       "}\n",
       ".highlight-code {\n",
       "white-space: pre;\n",
       "font-family: monospace;\n",
       "}\n",
       ".suggestion-warning { \n",
       "font-weight: bold;\n",
       "color: rgb(200, 130, 0);\n",
       "}\n",
       ".suggestion-error { \n",
       "font-weight: bold;\n",
       "color: red;\n",
       "}\n",
       ".suggestion-name {\n",
       "font-weight: bold;\n",
       "}\n",
       "</style><div class=\"suggestion-name\" style=\"clear:both;\">Eta reduce</div><div class=\"suggestion-row\" style=\"float: left;\"><div class=\"suggestion-warning\">Found:</div><div class=\"highlight-code\" id=\"haskell\">map' f xs = foldr (\\ x acc -> f x : acc) [] xs</div></div><div class=\"suggestion-row\" style=\"float: left;\"><div class=\"suggestion-warning\">Why Not:</div><div class=\"highlight-code\" id=\"haskell\">map' f = foldr (\\ x acc -> f x : acc) []</div></div><div class=\"suggestion-name\" style=\"clear:both;\">Use map</div><div class=\"suggestion-row\" style=\"float: left;\"><div class=\"suggestion-warning\">Found:</div><div class=\"highlight-code\" id=\"haskell\">foldr (\\ x acc -> f x : acc) []</div></div><div class=\"suggestion-row\" style=\"float: left;\"><div class=\"suggestion-warning\">Why Not:</div><div class=\"highlight-code\" id=\"haskell\">map (\\ x -> f x)</div></div>"
      ],
      "text/plain": [
       "Line 2: Eta reduce\n",
       "Found:\n",
       "map' f xs = foldr (\\ x acc -> f x : acc) [] xs\n",
       "Why not:\n",
       "map' f = foldr (\\ x acc -> f x : acc) []Line 2: Use map\n",
       "Found:\n",
       "foldr (\\ x acc -> f x : acc) []\n",
       "Why not:\n",
       "map (\\ x -> f x)"
      ]
     },
     "metadata": {},
     "output_type": "display_data"
    },
    {
     "data": {
      "text/plain": [
       "[1,4,9,16]"
      ]
     },
     "metadata": {},
     "output_type": "display_data"
    }
   ],
   "source": [
    "map' :: (a -> b) -> [a] -> [b]\n",
    "map' f xs = foldr (\\x acc -> f x : acc) [] xs\n",
    "\n",
    "map' (^2) [1..4]"
   ]
  },
  {
   "cell_type": "markdown",
   "id": "92fbfbe2",
   "metadata": {},
   "source": [
    "**b) map wykorzystując foldl**"
   ]
  },
  {
   "cell_type": "code",
   "execution_count": 69,
   "id": "896a6694",
   "metadata": {},
   "outputs": [
    {
     "data": {
      "text/html": [
       "<style>/* Styles used for the Hoogle display in the pager */\n",
       ".hoogle-doc {\n",
       "display: block;\n",
       "padding-bottom: 1.3em;\n",
       "padding-left: 0.4em;\n",
       "}\n",
       ".hoogle-code {\n",
       "display: block;\n",
       "font-family: monospace;\n",
       "white-space: pre;\n",
       "}\n",
       ".hoogle-text {\n",
       "display: block;\n",
       "}\n",
       ".hoogle-name {\n",
       "color: green;\n",
       "font-weight: bold;\n",
       "}\n",
       ".hoogle-head {\n",
       "font-weight: bold;\n",
       "}\n",
       ".hoogle-sub {\n",
       "display: block;\n",
       "margin-left: 0.4em;\n",
       "}\n",
       ".hoogle-package {\n",
       "font-weight: bold;\n",
       "font-style: italic;\n",
       "}\n",
       ".hoogle-module {\n",
       "font-weight: bold;\n",
       "}\n",
       ".hoogle-class {\n",
       "font-weight: bold;\n",
       "}\n",
       ".get-type {\n",
       "color: green;\n",
       "font-weight: bold;\n",
       "font-family: monospace;\n",
       "display: block;\n",
       "white-space: pre-wrap;\n",
       "}\n",
       ".show-type {\n",
       "color: green;\n",
       "font-weight: bold;\n",
       "font-family: monospace;\n",
       "margin-left: 1em;\n",
       "}\n",
       ".mono {\n",
       "font-family: monospace;\n",
       "display: block;\n",
       "}\n",
       ".err-msg {\n",
       "color: red;\n",
       "font-style: italic;\n",
       "font-family: monospace;\n",
       "white-space: pre;\n",
       "display: block;\n",
       "}\n",
       "#unshowable {\n",
       "color: red;\n",
       "font-weight: bold;\n",
       "}\n",
       ".err-msg.in.collapse {\n",
       "padding-top: 0.7em;\n",
       "}\n",
       ".highlight-code {\n",
       "white-space: pre;\n",
       "font-family: monospace;\n",
       "}\n",
       ".suggestion-warning { \n",
       "font-weight: bold;\n",
       "color: rgb(200, 130, 0);\n",
       "}\n",
       ".suggestion-error { \n",
       "font-weight: bold;\n",
       "color: red;\n",
       "}\n",
       ".suggestion-name {\n",
       "font-weight: bold;\n",
       "}\n",
       "</style><div class=\"suggestion-name\" style=\"clear:both;\">Eta reduce</div><div class=\"suggestion-row\" style=\"float: left;\"><div class=\"suggestion-warning\">Found:</div><div class=\"highlight-code\" id=\"haskell\">map'' f xs = foldl (\\ acc x -> acc ++ [f x]) [] xs</div></div><div class=\"suggestion-row\" style=\"float: left;\"><div class=\"suggestion-warning\">Why Not:</div><div class=\"highlight-code\" id=\"haskell\">map'' f = foldl (\\ acc x -> acc ++ [f x]) []</div></div>"
      ],
      "text/plain": [
       "Line 2: Eta reduce\n",
       "Found:\n",
       "map'' f xs = foldl (\\ acc x -> acc ++ [f x]) [] xs\n",
       "Why not:\n",
       "map'' f = foldl (\\ acc x -> acc ++ [f x]) []"
      ]
     },
     "metadata": {},
     "output_type": "display_data"
    },
    {
     "data": {
      "text/plain": [
       "[1,4,9,16]"
      ]
     },
     "metadata": {},
     "output_type": "display_data"
    }
   ],
   "source": [
    "map'' :: (a -> b) -> [a] -> [b]\n",
    "map'' f xs = foldl(\\acc x -> acc ++ [f x]) [] xs\n",
    "\n",
    "map'' (^2) [1..4]"
   ]
  },
  {
   "cell_type": "markdown",
   "id": "8e07cd65",
   "metadata": {},
   "source": [
    "**c) filter wykorzystując foldr**"
   ]
  },
  {
   "cell_type": "code",
   "execution_count": 70,
   "id": "7c5d087f",
   "metadata": {},
   "outputs": [
    {
     "data": {
      "text/plain": [
       "[4,5]"
      ]
     },
     "metadata": {},
     "output_type": "display_data"
    }
   ],
   "source": [
    "filter' :: (a -> Bool) -> [a] -> [a]\n",
    "filter' f = foldr(\\x acc -> if f x then x : acc else acc) []\n",
    "\n",
    "filter' (>3) [1..5]"
   ]
  },
  {
   "cell_type": "markdown",
   "id": "e1dd1de6",
   "metadata": {},
   "source": [
    "**d) filter wykorzystując foldl**"
   ]
  },
  {
   "cell_type": "code",
   "execution_count": 71,
   "id": "0e093edc",
   "metadata": {},
   "outputs": [
    {
     "data": {
      "text/plain": [
       "[4,5]"
      ]
     },
     "metadata": {},
     "output_type": "display_data"
    }
   ],
   "source": [
    "filter'' :: (a -> Bool) -> [a] -> [a]\n",
    "filter'' f = foldl(\\acc x -> if f x then acc ++ [x] else acc) []\n",
    "\n",
    "filter'' (>3) [1..5]"
   ]
  },
  {
   "cell_type": "markdown",
   "id": "3892ce15",
   "metadata": {},
   "source": [
    "**e) foldl wykorzystując foldr**"
   ]
  },
  {
   "cell_type": "code",
   "execution_count": 72,
   "id": "2ef2366f",
   "metadata": {},
   "outputs": [
    {
     "data": {
      "text/plain": [
       "15"
      ]
     },
     "metadata": {},
     "output_type": "display_data"
    }
   ],
   "source": [
    "foldl' f z xs = foldr (\\acc g x -> g (f x acc)) id xs z\n",
    "\n",
    "foldl' (+) 0 [1..5]"
   ]
  },
  {
   "cell_type": "markdown",
   "id": "820a76d7",
   "metadata": {},
   "source": [
    "**f) foldr wykorzystując foldl**"
   ]
  },
  {
   "cell_type": "code",
   "execution_count": 73,
   "id": "573b7f3d",
   "metadata": {},
   "outputs": [
    {
     "data": {
      "text/plain": [
       "15"
      ]
     },
     "metadata": {},
     "output_type": "display_data"
    }
   ],
   "source": [
    "foldr' f z xs = foldl (\\g acc x -> g (f acc x)) id xs z\n",
    "\n",
    "foldr' (+) 0 [1..5]"
   ]
  },
  {
   "cell_type": "markdown",
   "id": "26d5b5c5",
   "metadata": {},
   "source": [
    "## 10) Funkcje: zip, unzip i zipWith"
   ]
  },
  {
   "cell_type": "markdown",
   "id": "1ed9a5d7",
   "metadata": {},
   "source": [
    "**30. Wykorzystując zip lub zipWith napisać funkcję:**\n",
    "\n",
    "**isSortedAsc :: Ord a => [a] -> Bool**"
   ]
  },
  {
   "cell_type": "code",
   "execution_count": 74,
   "id": "d03da1fd",
   "metadata": {},
   "outputs": [
    {
     "data": {
      "text/plain": [
       "True"
      ]
     },
     "metadata": {},
     "output_type": "display_data"
    },
    {
     "data": {
      "text/plain": [
       "False"
      ]
     },
     "metadata": {},
     "output_type": "display_data"
    }
   ],
   "source": [
    "-- 1st solution\n",
    "isSortedAsc :: Ord a => [a] -> Bool\n",
    "isSortedAsc xs = and $ zipWith (<=) xs (tail xs)\n",
    "\n",
    "isSortedAsc [1,2,2,3]\n",
    "isSortedAsc [1,2,1]"
   ]
  },
  {
   "cell_type": "code",
   "execution_count": 75,
   "id": "fc2b7c5f",
   "metadata": {},
   "outputs": [
    {
     "data": {
      "text/html": [
       "<style>/* Styles used for the Hoogle display in the pager */\n",
       ".hoogle-doc {\n",
       "display: block;\n",
       "padding-bottom: 1.3em;\n",
       "padding-left: 0.4em;\n",
       "}\n",
       ".hoogle-code {\n",
       "display: block;\n",
       "font-family: monospace;\n",
       "white-space: pre;\n",
       "}\n",
       ".hoogle-text {\n",
       "display: block;\n",
       "}\n",
       ".hoogle-name {\n",
       "color: green;\n",
       "font-weight: bold;\n",
       "}\n",
       ".hoogle-head {\n",
       "font-weight: bold;\n",
       "}\n",
       ".hoogle-sub {\n",
       "display: block;\n",
       "margin-left: 0.4em;\n",
       "}\n",
       ".hoogle-package {\n",
       "font-weight: bold;\n",
       "font-style: italic;\n",
       "}\n",
       ".hoogle-module {\n",
       "font-weight: bold;\n",
       "}\n",
       ".hoogle-class {\n",
       "font-weight: bold;\n",
       "}\n",
       ".get-type {\n",
       "color: green;\n",
       "font-weight: bold;\n",
       "font-family: monospace;\n",
       "display: block;\n",
       "white-space: pre-wrap;\n",
       "}\n",
       ".show-type {\n",
       "color: green;\n",
       "font-weight: bold;\n",
       "font-family: monospace;\n",
       "margin-left: 1em;\n",
       "}\n",
       ".mono {\n",
       "font-family: monospace;\n",
       "display: block;\n",
       "}\n",
       ".err-msg {\n",
       "color: red;\n",
       "font-style: italic;\n",
       "font-family: monospace;\n",
       "white-space: pre;\n",
       "display: block;\n",
       "}\n",
       "#unshowable {\n",
       "color: red;\n",
       "font-weight: bold;\n",
       "}\n",
       ".err-msg.in.collapse {\n",
       "padding-top: 0.7em;\n",
       "}\n",
       ".highlight-code {\n",
       "white-space: pre;\n",
       "font-family: monospace;\n",
       "}\n",
       ".suggestion-warning { \n",
       "font-weight: bold;\n",
       "color: rgb(200, 130, 0);\n",
       "}\n",
       ".suggestion-error { \n",
       "font-weight: bold;\n",
       "color: red;\n",
       "}\n",
       ".suggestion-name {\n",
       "font-weight: bold;\n",
       "}\n",
       "</style><div class=\"suggestion-name\" style=\"clear:both;\">Use notElem</div><div class=\"suggestion-row\" style=\"float: left;\"><div class=\"suggestion-warning\">Found:</div><div class=\"highlight-code\" id=\"haskell\">not (False `elem` zipWith (<=) xs (tail xs))</div></div><div class=\"suggestion-row\" style=\"float: left;\"><div class=\"suggestion-warning\">Why Not:</div><div class=\"highlight-code\" id=\"haskell\">notElem False (zipWith (<=) xs (tail xs))</div></div>"
      ],
      "text/plain": [
       "Line 3: Use notElem\n",
       "Found:\n",
       "not (False `elem` zipWith (<=) xs (tail xs))\n",
       "Why not:\n",
       "notElem False (zipWith (<=) xs (tail xs))"
      ]
     },
     "metadata": {},
     "output_type": "display_data"
    },
    {
     "data": {
      "text/plain": [
       "True"
      ]
     },
     "metadata": {},
     "output_type": "display_data"
    },
    {
     "data": {
      "text/plain": [
       "False"
      ]
     },
     "metadata": {},
     "output_type": "display_data"
    }
   ],
   "source": [
    "-- 2nd solution\n",
    "isSortedAsc' :: Ord a => [a] -> Bool\n",
    "isSortedAsc' xs = not (False `elem` zipWith (<=) xs (tail xs))\n",
    "\n",
    "isSortedAsc' [1,2,2,3]\n",
    "isSortedAsc' [1,2,1]"
   ]
  },
  {
   "cell_type": "markdown",
   "id": "e17e03ba",
   "metadata": {},
   "source": [
    "**31. Napisać funkcję:**\n",
    "\n",
    "**everySecond :: [t] -> [t]**"
   ]
  },
  {
   "cell_type": "code",
   "execution_count": 76,
   "id": "e78da838",
   "metadata": {},
   "outputs": [
    {
     "data": {
      "text/plain": [
       "[1,3,5,7]"
      ]
     },
     "metadata": {},
     "output_type": "display_data"
    }
   ],
   "source": [
    "everySecond :: [t] -> [t]\n",
    "everySecond xs = map fst $ filter (odd . snd) $ zip xs [1..length xs]\n",
    "\n",
    "everySecond [1..8]"
   ]
  },
  {
   "cell_type": "markdown",
   "id": "42cc9aad",
   "metadata": {},
   "source": [
    "**32. Napisać funkcje:**"
   ]
  },
  {
   "cell_type": "markdown",
   "id": "1023c252",
   "metadata": {},
   "source": [
    "**a) zip3'**"
   ]
  },
  {
   "cell_type": "code",
   "execution_count": 77,
   "id": "5f6eb3ab",
   "metadata": {},
   "outputs": [
    {
     "data": {
      "text/plain": [
       "[(1,4,7),(2,5,8),(3,6,9)]"
      ]
     },
     "metadata": {},
     "output_type": "display_data"
    }
   ],
   "source": [
    "zip3' :: [a] -> [b] -> [c] -> [(a,b,c)]\n",
    "zip3' [] _ _ = []\n",
    "zip3' _ [] _ = []\n",
    "zip3' _ _ [] = []\n",
    "zip3' (x:xs) (y:ys) (z:zs) = (x,y,z) : zip3' xs ys zs\n",
    "\n",
    "zip3' [1,2,3] [4,5,6] [7,8,9]"
   ]
  },
  {
   "cell_type": "markdown",
   "id": "98bfb47f",
   "metadata": {},
   "source": [
    "**b) unzip3'**"
   ]
  },
  {
   "cell_type": "code",
   "execution_count": 78,
   "id": "436a6bdf",
   "metadata": {},
   "outputs": [
    {
     "data": {
      "text/plain": [
       "([1,1,4],[4,7,2],[5,9,1])"
      ]
     },
     "metadata": {},
     "output_type": "display_data"
    }
   ],
   "source": [
    "unzip3' :: [(a, b, c)] -> ([a], [b], [c])\n",
    "unzip3' [] = ([], [], [])\n",
    "unzip3' xs = (map (\\(a, _, _) -> a) xs,\n",
    "             map (\\(_, b, _) -> b) xs,\n",
    "             map (\\(_, _, c) -> c) xs)\n",
    "\n",
    "unzip3' [(1,4,5), (1,7,9), (4,2,1)]"
   ]
  },
  {
   "cell_type": "markdown",
   "id": "5fba6b8e",
   "metadata": {},
   "source": [
    "**c) isSortedDesc**"
   ]
  },
  {
   "cell_type": "code",
   "execution_count": 79,
   "id": "6fb0ebbb",
   "metadata": {},
   "outputs": [
    {
     "data": {
      "text/plain": [
       "True"
      ]
     },
     "metadata": {},
     "output_type": "display_data"
    },
    {
     "data": {
      "text/plain": [
       "False"
      ]
     },
     "metadata": {},
     "output_type": "display_data"
    }
   ],
   "source": [
    "-- 1st solution\n",
    "isSortedDesc :: Ord a => [a] -> Bool\n",
    "isSortedDesc xs = and $ zipWith (>=) xs (tail xs)\n",
    "\n",
    "isSortedDesc [3,2,2,1]\n",
    "isSortedDesc [1,2,3]"
   ]
  },
  {
   "cell_type": "code",
   "execution_count": 80,
   "id": "d42eaa3a",
   "metadata": {},
   "outputs": [
    {
     "data": {
      "text/html": [
       "<style>/* Styles used for the Hoogle display in the pager */\n",
       ".hoogle-doc {\n",
       "display: block;\n",
       "padding-bottom: 1.3em;\n",
       "padding-left: 0.4em;\n",
       "}\n",
       ".hoogle-code {\n",
       "display: block;\n",
       "font-family: monospace;\n",
       "white-space: pre;\n",
       "}\n",
       ".hoogle-text {\n",
       "display: block;\n",
       "}\n",
       ".hoogle-name {\n",
       "color: green;\n",
       "font-weight: bold;\n",
       "}\n",
       ".hoogle-head {\n",
       "font-weight: bold;\n",
       "}\n",
       ".hoogle-sub {\n",
       "display: block;\n",
       "margin-left: 0.4em;\n",
       "}\n",
       ".hoogle-package {\n",
       "font-weight: bold;\n",
       "font-style: italic;\n",
       "}\n",
       ".hoogle-module {\n",
       "font-weight: bold;\n",
       "}\n",
       ".hoogle-class {\n",
       "font-weight: bold;\n",
       "}\n",
       ".get-type {\n",
       "color: green;\n",
       "font-weight: bold;\n",
       "font-family: monospace;\n",
       "display: block;\n",
       "white-space: pre-wrap;\n",
       "}\n",
       ".show-type {\n",
       "color: green;\n",
       "font-weight: bold;\n",
       "font-family: monospace;\n",
       "margin-left: 1em;\n",
       "}\n",
       ".mono {\n",
       "font-family: monospace;\n",
       "display: block;\n",
       "}\n",
       ".err-msg {\n",
       "color: red;\n",
       "font-style: italic;\n",
       "font-family: monospace;\n",
       "white-space: pre;\n",
       "display: block;\n",
       "}\n",
       "#unshowable {\n",
       "color: red;\n",
       "font-weight: bold;\n",
       "}\n",
       ".err-msg.in.collapse {\n",
       "padding-top: 0.7em;\n",
       "}\n",
       ".highlight-code {\n",
       "white-space: pre;\n",
       "font-family: monospace;\n",
       "}\n",
       ".suggestion-warning { \n",
       "font-weight: bold;\n",
       "color: rgb(200, 130, 0);\n",
       "}\n",
       ".suggestion-error { \n",
       "font-weight: bold;\n",
       "color: red;\n",
       "}\n",
       ".suggestion-name {\n",
       "font-weight: bold;\n",
       "}\n",
       "</style><div class=\"suggestion-name\" style=\"clear:both;\">Use notElem</div><div class=\"suggestion-row\" style=\"float: left;\"><div class=\"suggestion-warning\">Found:</div><div class=\"highlight-code\" id=\"haskell\">not (False `elem` zipWith (>=) xs (tail xs))</div></div><div class=\"suggestion-row\" style=\"float: left;\"><div class=\"suggestion-warning\">Why Not:</div><div class=\"highlight-code\" id=\"haskell\">notElem False (zipWith (>=) xs (tail xs))</div></div>"
      ],
      "text/plain": [
       "Line 3: Use notElem\n",
       "Found:\n",
       "not (False `elem` zipWith (>=) xs (tail xs))\n",
       "Why not:\n",
       "notElem False (zipWith (>=) xs (tail xs))"
      ]
     },
     "metadata": {},
     "output_type": "display_data"
    },
    {
     "data": {
      "text/plain": [
       "True"
      ]
     },
     "metadata": {},
     "output_type": "display_data"
    },
    {
     "data": {
      "text/plain": [
       "False"
      ]
     },
     "metadata": {},
     "output_type": "display_data"
    }
   ],
   "source": [
    "-- 2nd solution\n",
    "isSortedDesc' :: Ord a => [a] -> Bool\n",
    "isSortedDesc' xs = not (False `elem` zipWith (>=) xs (tail xs))\n",
    "\n",
    "isSortedDesc' [3,2,2,1]\n",
    "isSortedDesc' [1,2,3]"
   ]
  },
  {
   "cell_type": "markdown",
   "id": "06b20660",
   "metadata": {},
   "source": [
    "**d) isSorted**"
   ]
  },
  {
   "cell_type": "code",
   "execution_count": 81,
   "id": "dd066059",
   "metadata": {},
   "outputs": [
    {
     "data": {
      "text/plain": [
       "True"
      ]
     },
     "metadata": {},
     "output_type": "display_data"
    },
    {
     "data": {
      "text/plain": [
       "True"
      ]
     },
     "metadata": {},
     "output_type": "display_data"
    }
   ],
   "source": [
    "-- 1st solution\n",
    "isSorted :: Ord a => [a] -> Bool\n",
    "isSorted xs = isSortedAsc xs || isSortedDesc xs\n",
    "\n",
    "isSorted [1,2,2,3]\n",
    "isSorted [3,2,1]"
   ]
  },
  {
   "cell_type": "code",
   "execution_count": 82,
   "id": "e8919e67",
   "metadata": {},
   "outputs": [
    {
     "data": {
      "text/plain": [
       "True"
      ]
     },
     "metadata": {},
     "output_type": "display_data"
    },
    {
     "data": {
      "text/plain": [
       "True"
      ]
     },
     "metadata": {},
     "output_type": "display_data"
    }
   ],
   "source": [
    "-- 2nd solution\n",
    "isSorted' :: Ord a => [a] -> Bool\n",
    "isSorted' xs = isSortedAsc' xs || isSortedDesc' xs\n",
    "\n",
    "isSorted' [1,2,2,3]\n",
    "isSorted' [3,2,1]"
   ]
  },
  {
   "cell_type": "markdown",
   "id": "13a2c018",
   "metadata": {},
   "source": [
    "## 11) Funkcje concat i concatMap"
   ]
  },
  {
   "cell_type": "markdown",
   "id": "a3f46420",
   "metadata": {},
   "source": [
    "**33. Napisać definicję funkcji concat wykorzystując**"
   ]
  },
  {
   "cell_type": "markdown",
   "id": "a4dfcd40",
   "metadata": {},
   "source": [
    "**a) list comprehension**"
   ]
  },
  {
   "cell_type": "code",
   "execution_count": 83,
   "id": "f6b8a1e3",
   "metadata": {},
   "outputs": [
    {
     "data": {
      "text/plain": [
       "[1,2,3,4]"
      ]
     },
     "metadata": {},
     "output_type": "display_data"
    }
   ],
   "source": [
    "concat' :: [[a]] -> [a]\n",
    "concat' [] = []\n",
    "concat' xs = [y | x <- xs, y <- x]\n",
    "\n",
    "concat' [[1,2], [3,4]]"
   ]
  },
  {
   "cell_type": "markdown",
   "id": "c80eefa6",
   "metadata": {},
   "source": [
    "**b) foldr**"
   ]
  },
  {
   "cell_type": "code",
   "execution_count": 84,
   "id": "75cff003",
   "metadata": {},
   "outputs": [
    {
     "data": {
      "text/html": [
       "<style>/* Styles used for the Hoogle display in the pager */\n",
       ".hoogle-doc {\n",
       "display: block;\n",
       "padding-bottom: 1.3em;\n",
       "padding-left: 0.4em;\n",
       "}\n",
       ".hoogle-code {\n",
       "display: block;\n",
       "font-family: monospace;\n",
       "white-space: pre;\n",
       "}\n",
       ".hoogle-text {\n",
       "display: block;\n",
       "}\n",
       ".hoogle-name {\n",
       "color: green;\n",
       "font-weight: bold;\n",
       "}\n",
       ".hoogle-head {\n",
       "font-weight: bold;\n",
       "}\n",
       ".hoogle-sub {\n",
       "display: block;\n",
       "margin-left: 0.4em;\n",
       "}\n",
       ".hoogle-package {\n",
       "font-weight: bold;\n",
       "font-style: italic;\n",
       "}\n",
       ".hoogle-module {\n",
       "font-weight: bold;\n",
       "}\n",
       ".hoogle-class {\n",
       "font-weight: bold;\n",
       "}\n",
       ".get-type {\n",
       "color: green;\n",
       "font-weight: bold;\n",
       "font-family: monospace;\n",
       "display: block;\n",
       "white-space: pre-wrap;\n",
       "}\n",
       ".show-type {\n",
       "color: green;\n",
       "font-weight: bold;\n",
       "font-family: monospace;\n",
       "margin-left: 1em;\n",
       "}\n",
       ".mono {\n",
       "font-family: monospace;\n",
       "display: block;\n",
       "}\n",
       ".err-msg {\n",
       "color: red;\n",
       "font-style: italic;\n",
       "font-family: monospace;\n",
       "white-space: pre;\n",
       "display: block;\n",
       "}\n",
       "#unshowable {\n",
       "color: red;\n",
       "font-weight: bold;\n",
       "}\n",
       ".err-msg.in.collapse {\n",
       "padding-top: 0.7em;\n",
       "}\n",
       ".highlight-code {\n",
       "white-space: pre;\n",
       "font-family: monospace;\n",
       "}\n",
       ".suggestion-warning { \n",
       "font-weight: bold;\n",
       "color: rgb(200, 130, 0);\n",
       "}\n",
       ".suggestion-error { \n",
       "font-weight: bold;\n",
       "color: red;\n",
       "}\n",
       ".suggestion-name {\n",
       "font-weight: bold;\n",
       "}\n",
       "</style><div class=\"suggestion-name\" style=\"clear:both;\">Use concat</div><div class=\"suggestion-row\" style=\"float: left;\"><div class=\"suggestion-warning\">Found:</div><div class=\"highlight-code\" id=\"haskell\">foldr (++) []</div></div><div class=\"suggestion-row\" style=\"float: left;\"><div class=\"suggestion-warning\">Why Not:</div><div class=\"highlight-code\" id=\"haskell\">concat</div></div>"
      ],
      "text/plain": [
       "Line 3: Use concat\n",
       "Found:\n",
       "foldr (++) []\n",
       "Why not:\n",
       "concat"
      ]
     },
     "metadata": {},
     "output_type": "display_data"
    },
    {
     "data": {
      "text/plain": [
       "[1,2,3,4]"
      ]
     },
     "metadata": {},
     "output_type": "display_data"
    }
   ],
   "source": [
    "concat'' :: [[a]] -> [a]\n",
    "concat'' [] = []\n",
    "concat'' xs = foldr (++) [] xs\n",
    "\n",
    "concat'' [[1,2], [3,4]]"
   ]
  }
 ],
 "metadata": {
  "kernelspec": {
   "display_name": "Haskell",
   "language": "haskell",
   "name": "haskell"
  },
  "language_info": {
   "codemirror_mode": "ihaskell",
   "file_extension": ".hs",
   "mimetype": "text/x-haskell",
   "name": "haskell",
   "pygments_lexer": "Haskell",
   "version": "8.10.7"
  }
 },
 "nbformat": 4,
 "nbformat_minor": 5
}

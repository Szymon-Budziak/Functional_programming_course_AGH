{
 "cells": [
  {
   "cell_type": "markdown",
   "id": "05b3a37d",
   "metadata": {},
   "source": [
    "# Labs 2"
   ]
  },
  {
   "cell_type": "markdown",
   "id": "3c895e85",
   "metadata": {},
   "source": [
    "**1. Zdefiniować i sprawdzić działanie funkcji:**"
   ]
  },
  {
   "cell_type": "code",
   "execution_count": 1,
   "id": "24ea107e",
   "metadata": {},
   "outputs": [
    {
     "data": {
      "text/plain": [
       "125"
      ]
     },
     "metadata": {},
     "output_type": "display_data"
    }
   ],
   "source": [
    "fiveToPower_ :: Integer -> Integer\n",
    "fiveToPower_ x = 5^x\n",
    "\n",
    "fiveToPower_ 3"
   ]
  },
  {
   "cell_type": "code",
   "execution_count": 2,
   "id": "c05fca65",
   "metadata": {},
   "outputs": [
    {
     "data": {
      "text/plain": [
       "32"
      ]
     },
     "metadata": {},
     "output_type": "display_data"
    }
   ],
   "source": [
    "_ToPower5 :: Num a => a -> a\n",
    "_ToPower5 x = x^5\n",
    "\n",
    "_ToPower5 2"
   ]
  },
  {
   "cell_type": "code",
   "execution_count": 3,
   "id": "795439a5",
   "metadata": {},
   "outputs": [
    {
     "data": {
      "text/plain": [
       "2"
      ]
     },
     "metadata": {},
     "output_type": "display_data"
    }
   ],
   "source": [
    "subtrNFrom5 :: Num a => a -> a\n",
    "subtrNFrom5 x = 5 - x\n",
    "\n",
    "subtrNFrom5 3"
   ]
  },
  {
   "cell_type": "code",
   "execution_count": 4,
   "id": "42613adc",
   "metadata": {},
   "outputs": [
    {
     "data": {
      "text/plain": [
       "1"
      ]
     },
     "metadata": {},
     "output_type": "display_data"
    }
   ],
   "source": [
    "subtr5From_ :: Num a => a -> a\n",
    "subtr5From_ x = x - 5\n",
    "\n",
    "subtr5From_ 6"
   ]
  },
  {
   "cell_type": "markdown",
   "id": "2d0c6dc2",
   "metadata": {},
   "source": [
    "**2. Zdefiniować funkcję flip2 będącą odpowiednikiem funkcji flip.**"
   ]
  },
  {
   "cell_type": "code",
   "execution_count": 5,
   "id": "1f9af37f",
   "metadata": {},
   "outputs": [
    {
     "data": {
      "text/plain": [
       "5"
      ]
     },
     "metadata": {},
     "output_type": "display_data"
    }
   ],
   "source": [
    "flip2 :: (a -> b -> c) -> b -> a -> c\n",
    "flip2 f x y = f y x\n",
    "\n",
    "flip2 (^) 1 5"
   ]
  },
  {
   "cell_type": "markdown",
   "id": "75a6b7f5",
   "metadata": {},
   "source": [
    "**3. Zdefiniować funkcję isPalindrome.**"
   ]
  },
  {
   "cell_type": "code",
   "execution_count": 6,
   "id": "cf77fde5",
   "metadata": {},
   "outputs": [
    {
     "data": {
      "text/plain": [
       "True"
      ]
     },
     "metadata": {},
     "output_type": "display_data"
    }
   ],
   "source": [
    "isPalindrome :: [Char] -> Bool\n",
    "isPalindrome x = x == reverse x\n",
    "\n",
    "isPalindrome \"ABBCBBA\""
   ]
  },
  {
   "cell_type": "markdown",
   "id": "64d7b0c7",
   "metadata": {},
   "source": [
    "**4. Zdefiniować funkcję getElemAtIdx wykorzystując funkcje poznane powyżej (np. drop , head , tail).**"
   ]
  },
  {
   "cell_type": "code",
   "execution_count": 7,
   "id": "84a02302",
   "metadata": {},
   "outputs": [
    {
     "data": {
      "text/html": [
       "<style>/* Styles used for the Hoogle display in the pager */\n",
       ".hoogle-doc {\n",
       "display: block;\n",
       "padding-bottom: 1.3em;\n",
       "padding-left: 0.4em;\n",
       "}\n",
       ".hoogle-code {\n",
       "display: block;\n",
       "font-family: monospace;\n",
       "white-space: pre;\n",
       "}\n",
       ".hoogle-text {\n",
       "display: block;\n",
       "}\n",
       ".hoogle-name {\n",
       "color: green;\n",
       "font-weight: bold;\n",
       "}\n",
       ".hoogle-head {\n",
       "font-weight: bold;\n",
       "}\n",
       ".hoogle-sub {\n",
       "display: block;\n",
       "margin-left: 0.4em;\n",
       "}\n",
       ".hoogle-package {\n",
       "font-weight: bold;\n",
       "font-style: italic;\n",
       "}\n",
       ".hoogle-module {\n",
       "font-weight: bold;\n",
       "}\n",
       ".hoogle-class {\n",
       "font-weight: bold;\n",
       "}\n",
       ".get-type {\n",
       "color: green;\n",
       "font-weight: bold;\n",
       "font-family: monospace;\n",
       "display: block;\n",
       "white-space: pre-wrap;\n",
       "}\n",
       ".show-type {\n",
       "color: green;\n",
       "font-weight: bold;\n",
       "font-family: monospace;\n",
       "margin-left: 1em;\n",
       "}\n",
       ".mono {\n",
       "font-family: monospace;\n",
       "display: block;\n",
       "}\n",
       ".err-msg {\n",
       "color: red;\n",
       "font-style: italic;\n",
       "font-family: monospace;\n",
       "white-space: pre;\n",
       "display: block;\n",
       "}\n",
       "#unshowable {\n",
       "color: red;\n",
       "font-weight: bold;\n",
       "}\n",
       ".err-msg.in.collapse {\n",
       "padding-top: 0.7em;\n",
       "}\n",
       ".highlight-code {\n",
       "white-space: pre;\n",
       "font-family: monospace;\n",
       "}\n",
       ".suggestion-warning { \n",
       "font-weight: bold;\n",
       "color: rgb(200, 130, 0);\n",
       "}\n",
       ".suggestion-error { \n",
       "font-weight: bold;\n",
       "color: red;\n",
       "}\n",
       ".suggestion-name {\n",
       "font-weight: bold;\n",
       "}\n",
       "</style><div class=\"suggestion-name\" style=\"clear:both;\">Use !!</div><div class=\"suggestion-row\" style=\"float: left;\"><div class=\"suggestion-warning\">Found:</div><div class=\"highlight-code\" id=\"haskell\">head (drop idx xs)</div></div><div class=\"suggestion-row\" style=\"float: left;\"><div class=\"suggestion-warning\">Why Not:</div><div class=\"highlight-code\" id=\"haskell\">xs !! max 0 idx</div></div>"
      ],
      "text/plain": [
       "Line 2: Use !!\n",
       "Found:\n",
       "head (drop idx xs)\n",
       "Why not:\n",
       "xs !! max 0 idx"
      ]
     },
     "metadata": {},
     "output_type": "display_data"
    },
    {
     "data": {
      "text/plain": [
       "87"
      ]
     },
     "metadata": {},
     "output_type": "display_data"
    }
   ],
   "source": [
    "getElemAtIdx :: Int -> [a] -> a\n",
    "getElemAtIdx idx xs = head(drop idx xs)\n",
    "\n",
    "getElemAtIdx 2 [1,5,87,1,5]"
   ]
  },
  {
   "cell_type": "markdown",
   "id": "7219e541",
   "metadata": {},
   "source": [
    "**5. Zdefiniować funkcję capitalize.**"
   ]
  },
  {
   "cell_type": "code",
   "execution_count": 8,
   "id": "9d392c0a",
   "metadata": {},
   "outputs": [
    {
     "data": {
      "text/plain": [
       "\"Hello\""
      ]
     },
     "metadata": {},
     "output_type": "display_data"
    }
   ],
   "source": [
    "capitalize :: [Char] -> [Char]\n",
    "capitalize w = toEnum(fromEnum (head w) - 32) : tail w\n",
    "\n",
    "capitalize \"hello\""
   ]
  },
  {
   "cell_type": "markdown",
   "id": "7d82dca7",
   "metadata": {},
   "source": [
    "**6. Napisać wyrażenie obliczające, ile jest w przedziale [1,100] trójek liczb całkowitych reprezentujących długości boków trójkąta prostokątnego.**"
   ]
  },
  {
   "cell_type": "code",
   "execution_count": 9,
   "id": "bdbda2ac",
   "metadata": {},
   "outputs": [
    {
     "data": {
      "text/plain": [
       "52"
      ]
     },
     "metadata": {},
     "output_type": "display_data"
    }
   ],
   "source": [
    "length [(a,b,c) | a <- [1..100], b <- [a..100], c <- [b..100], a^2+b^2==c^2]"
   ]
  },
  {
   "cell_type": "markdown",
   "id": "47dee6d2",
   "metadata": {},
   "source": [
    "**7. Czy poniższa definicja funkcji (sprawdzającej, czy liczba jest pierwsza) jest poprawna?**"
   ]
  },
  {
   "cell_type": "code",
   "execution_count": 10,
   "id": "42a9c188",
   "metadata": {},
   "outputs": [
    {
     "data": {
      "text/html": [
       "<style>/* Styles used for the Hoogle display in the pager */\n",
       ".hoogle-doc {\n",
       "display: block;\n",
       "padding-bottom: 1.3em;\n",
       "padding-left: 0.4em;\n",
       "}\n",
       ".hoogle-code {\n",
       "display: block;\n",
       "font-family: monospace;\n",
       "white-space: pre;\n",
       "}\n",
       ".hoogle-text {\n",
       "display: block;\n",
       "}\n",
       ".hoogle-name {\n",
       "color: green;\n",
       "font-weight: bold;\n",
       "}\n",
       ".hoogle-head {\n",
       "font-weight: bold;\n",
       "}\n",
       ".hoogle-sub {\n",
       "display: block;\n",
       "margin-left: 0.4em;\n",
       "}\n",
       ".hoogle-package {\n",
       "font-weight: bold;\n",
       "font-style: italic;\n",
       "}\n",
       ".hoogle-module {\n",
       "font-weight: bold;\n",
       "}\n",
       ".hoogle-class {\n",
       "font-weight: bold;\n",
       "}\n",
       ".get-type {\n",
       "color: green;\n",
       "font-weight: bold;\n",
       "font-family: monospace;\n",
       "display: block;\n",
       "white-space: pre-wrap;\n",
       "}\n",
       ".show-type {\n",
       "color: green;\n",
       "font-weight: bold;\n",
       "font-family: monospace;\n",
       "margin-left: 1em;\n",
       "}\n",
       ".mono {\n",
       "font-family: monospace;\n",
       "display: block;\n",
       "}\n",
       ".err-msg {\n",
       "color: red;\n",
       "font-style: italic;\n",
       "font-family: monospace;\n",
       "white-space: pre;\n",
       "display: block;\n",
       "}\n",
       "#unshowable {\n",
       "color: red;\n",
       "font-weight: bold;\n",
       "}\n",
       ".err-msg.in.collapse {\n",
       "padding-top: 0.7em;\n",
       "}\n",
       ".highlight-code {\n",
       "white-space: pre;\n",
       "font-family: monospace;\n",
       "}\n",
       ".suggestion-warning { \n",
       "font-weight: bold;\n",
       "color: rgb(200, 130, 0);\n",
       "}\n",
       ".suggestion-error { \n",
       "font-weight: bold;\n",
       "color: red;\n",
       "}\n",
       ".suggestion-name {\n",
       "font-weight: bold;\n",
       "}\n",
       "</style><div class=\"suggestion-name\" style=\"clear:both;\">Use null</div><div class=\"suggestion-row\" style=\"float: left;\"><div class=\"suggestion-warning\">Found:</div><div class=\"highlight-code\" id=\"haskell\">[i | i <- [2 .. n - 1], n `mod` i == 0] == []</div></div><div class=\"suggestion-row\" style=\"float: left;\"><div class=\"suggestion-warning\">Why Not:</div><div class=\"highlight-code\" id=\"haskell\">null ([i | i <- [2 .. n - 1], n `mod` i == 0])</div></div>"
      ],
      "text/plain": [
       "Line 2: Use null\n",
       "Found:\n",
       "[i | i <- [2 .. n - 1], n `mod` i == 0] == []\n",
       "Why not:\n",
       "null ([i | i <- [2 .. n - 1], n `mod` i == 0])"
      ]
     },
     "metadata": {},
     "output_type": "display_data"
    },
    {
     "data": {
      "text/plain": [
       "True"
      ]
     },
     "metadata": {},
     "output_type": "display_data"
    },
    {
     "data": {
      "text/plain": [
       "False"
      ]
     },
     "metadata": {},
     "output_type": "display_data"
    },
    {
     "data": {
      "text/plain": [
       "True"
      ]
     },
     "metadata": {},
     "output_type": "display_data"
    }
   ],
   "source": [
    "isPrime :: Integral t => t -> Bool\n",
    "isPrime n = [i | i <- [2..n-1], n `mod` i == 0] == []\n",
    "\n",
    "isPrime 0\n",
    "isPrime 8\n",
    "isPrime 17\n",
    "-- The implementation is not correct because 0 is not a prime number."
   ]
  },
  {
   "cell_type": "markdown",
   "id": "9b3518cc",
   "metadata": {},
   "source": [
    "**Czy jest to efektywna implementacja?**"
   ]
  },
  {
   "cell_type": "code",
   "execution_count": 11,
   "id": "88f2bbd5",
   "metadata": {},
   "outputs": [
    {
     "data": {
      "text/html": [
       "<style>/* Styles used for the Hoogle display in the pager */\n",
       ".hoogle-doc {\n",
       "display: block;\n",
       "padding-bottom: 1.3em;\n",
       "padding-left: 0.4em;\n",
       "}\n",
       ".hoogle-code {\n",
       "display: block;\n",
       "font-family: monospace;\n",
       "white-space: pre;\n",
       "}\n",
       ".hoogle-text {\n",
       "display: block;\n",
       "}\n",
       ".hoogle-name {\n",
       "color: green;\n",
       "font-weight: bold;\n",
       "}\n",
       ".hoogle-head {\n",
       "font-weight: bold;\n",
       "}\n",
       ".hoogle-sub {\n",
       "display: block;\n",
       "margin-left: 0.4em;\n",
       "}\n",
       ".hoogle-package {\n",
       "font-weight: bold;\n",
       "font-style: italic;\n",
       "}\n",
       ".hoogle-module {\n",
       "font-weight: bold;\n",
       "}\n",
       ".hoogle-class {\n",
       "font-weight: bold;\n",
       "}\n",
       ".get-type {\n",
       "color: green;\n",
       "font-weight: bold;\n",
       "font-family: monospace;\n",
       "display: block;\n",
       "white-space: pre-wrap;\n",
       "}\n",
       ".show-type {\n",
       "color: green;\n",
       "font-weight: bold;\n",
       "font-family: monospace;\n",
       "margin-left: 1em;\n",
       "}\n",
       ".mono {\n",
       "font-family: monospace;\n",
       "display: block;\n",
       "}\n",
       ".err-msg {\n",
       "color: red;\n",
       "font-style: italic;\n",
       "font-family: monospace;\n",
       "white-space: pre;\n",
       "display: block;\n",
       "}\n",
       "#unshowable {\n",
       "color: red;\n",
       "font-weight: bold;\n",
       "}\n",
       ".err-msg.in.collapse {\n",
       "padding-top: 0.7em;\n",
       "}\n",
       ".highlight-code {\n",
       "white-space: pre;\n",
       "font-family: monospace;\n",
       "}\n",
       ".suggestion-warning { \n",
       "font-weight: bold;\n",
       "color: rgb(200, 130, 0);\n",
       "}\n",
       ".suggestion-error { \n",
       "font-weight: bold;\n",
       "color: red;\n",
       "}\n",
       ".suggestion-name {\n",
       "font-weight: bold;\n",
       "}\n",
       "</style><div class=\"suggestion-name\" style=\"clear:both;\">Use null</div><div class=\"suggestion-row\" style=\"float: left;\"><div class=\"suggestion-warning\">Found:</div><div class=\"highlight-code\" id=\"haskell\">[i | i <- [2 .. n - 1], n `mod` i == 0] == []</div></div><div class=\"suggestion-row\" style=\"float: left;\"><div class=\"suggestion-warning\">Why Not:</div><div class=\"highlight-code\" id=\"haskell\">null ([i | i <- [2 .. n - 1], n `mod` i == 0])</div></div>"
      ],
      "text/plain": [
       "Line 5: Use null\n",
       "Found:\n",
       "[i | i <- [2 .. n - 1], n `mod` i == 0] == []\n",
       "Why not:\n",
       "null ([i | i <- [2 .. n - 1], n `mod` i == 0])"
      ]
     },
     "metadata": {},
     "output_type": "display_data"
    },
    {
     "data": {
      "text/plain": [
       "False"
      ]
     },
     "metadata": {},
     "output_type": "display_data"
    },
    {
     "data": {
      "text/plain": [
       "False"
      ]
     },
     "metadata": {},
     "output_type": "display_data"
    },
    {
     "data": {
      "text/plain": [
       "True"
      ]
     },
     "metadata": {},
     "output_type": "display_data"
    }
   ],
   "source": [
    "-- More effective implementation.\n",
    "isPrime' :: Integral t => t -> Bool\n",
    "isPrime' 0 = False\n",
    "isPrime' 1 = False\n",
    "isPrime' n = [i | i <- [2..n-1], n `mod` i == 0] == []\n",
    "\n",
    "isPrime' 0\n",
    "isPrime' 8\n",
    "isPrime' 17"
   ]
  },
  {
   "cell_type": "markdown",
   "id": "746f61d9",
   "metadata": {},
   "source": [
    "**8. Napisać wyrażenie obliczające, ile jest w przedziale [1,10000] liczb pierwszych.**"
   ]
  },
  {
   "cell_type": "code",
   "execution_count": 12,
   "id": "4a9f14ba",
   "metadata": {},
   "outputs": [
    {
     "data": {
      "text/plain": [
       "1229"
      ]
     },
     "metadata": {},
     "output_type": "display_data"
    }
   ],
   "source": [
    "length [a | a <- [1..10000], isPrime' a]"
   ]
  },
  {
   "cell_type": "markdown",
   "id": "49f74485",
   "metadata": {},
   "source": [
    "**9. Wykorzystując wynik poprzedniego ćwiczenia napisać funkcję, która podaje, ile jest liczb pierwszych w przedziale [1,n] , gdzie n jest parametrem funkcji.**"
   ]
  },
  {
   "cell_type": "code",
   "execution_count": 13,
   "id": "59c159f7",
   "metadata": {},
   "outputs": [
    {
     "data": {
      "text/plain": [
       "4"
      ]
     },
     "metadata": {},
     "output_type": "display_data"
    }
   ],
   "source": [
    "primeNumbers :: Integral t => t -> Int\n",
    "primeNumbers 0 = 0\n",
    "primeNumbers 1 = 0\n",
    "primeNumbers n = length [a | a <- [2..n-1], isPrime a]\n",
    "\n",
    "primeNumbers 10"
   ]
  },
  {
   "cell_type": "markdown",
   "id": "01cd66b9",
   "metadata": {},
   "source": [
    "**10. Napisać definicję funkcji allEqual.**"
   ]
  },
  {
   "cell_type": "code",
   "execution_count": 14,
   "id": "d6e8ed4a",
   "metadata": {},
   "outputs": [
    {
     "data": {
      "text/plain": [
       "True"
      ]
     },
     "metadata": {},
     "output_type": "display_data"
    },
    {
     "data": {
      "text/plain": [
       "False"
      ]
     },
     "metadata": {},
     "output_type": "display_data"
    }
   ],
   "source": [
    "allEqual :: Eq a => [a] -> Bool\n",
    "allEqual [] = True\n",
    "allEqual [x] = True\n",
    "allEqual (x:xs) = all (==x) xs\n",
    "\n",
    "allEqual [1,1,1]\n",
    "allEqual [1,2,1]"
   ]
  },
  {
   "cell_type": "markdown",
   "id": "acab9748",
   "metadata": {},
   "source": [
    "**11. Napisać definicję funkcji fib.**"
   ]
  },
  {
   "cell_type": "code",
   "execution_count": 15,
   "id": "63088119",
   "metadata": {},
   "outputs": [
    {
     "data": {
      "text/plain": [
       "55"
      ]
     },
     "metadata": {},
     "output_type": "display_data"
    }
   ],
   "source": [
    "fib :: (Num a, Eq a) => a -> a\n",
    "fib n = if n == 0 || n == 1 then n\n",
    "        else fib (n - 2) + fib (n - 1)\n",
    "\n",
    "fib 10"
   ]
  },
  {
   "cell_type": "markdown",
   "id": "289fca1b",
   "metadata": {},
   "source": [
    "**12. Napisać definicję funkcji fib na podstawie poniższej (korekursywnej) definicji ciągu Fibonacciego.**"
   ]
  },
  {
   "cell_type": "code",
   "execution_count": 16,
   "id": "a23d78fe",
   "metadata": {},
   "outputs": [
    {
     "data": {
      "text/plain": [
       "6765"
      ]
     },
     "metadata": {},
     "output_type": "display_data"
    }
   ],
   "source": [
    "fibs = 0 : 1 : zipWith (+) fibs (tail fibs) :: [Int]\n",
    "\n",
    "fibs !! 20"
   ]
  },
  {
   "cell_type": "markdown",
   "id": "da75f806",
   "metadata": {},
   "source": [
    "**13. Napisać rekurencyjną definicje funkcji: prod'.**"
   ]
  },
  {
   "cell_type": "code",
   "execution_count": 17,
   "id": "a67f7540",
   "metadata": {},
   "outputs": [
    {
     "data": {
      "text/html": [
       "<style>/* Styles used for the Hoogle display in the pager */\n",
       ".hoogle-doc {\n",
       "display: block;\n",
       "padding-bottom: 1.3em;\n",
       "padding-left: 0.4em;\n",
       "}\n",
       ".hoogle-code {\n",
       "display: block;\n",
       "font-family: monospace;\n",
       "white-space: pre;\n",
       "}\n",
       ".hoogle-text {\n",
       "display: block;\n",
       "}\n",
       ".hoogle-name {\n",
       "color: green;\n",
       "font-weight: bold;\n",
       "}\n",
       ".hoogle-head {\n",
       "font-weight: bold;\n",
       "}\n",
       ".hoogle-sub {\n",
       "display: block;\n",
       "margin-left: 0.4em;\n",
       "}\n",
       ".hoogle-package {\n",
       "font-weight: bold;\n",
       "font-style: italic;\n",
       "}\n",
       ".hoogle-module {\n",
       "font-weight: bold;\n",
       "}\n",
       ".hoogle-class {\n",
       "font-weight: bold;\n",
       "}\n",
       ".get-type {\n",
       "color: green;\n",
       "font-weight: bold;\n",
       "font-family: monospace;\n",
       "display: block;\n",
       "white-space: pre-wrap;\n",
       "}\n",
       ".show-type {\n",
       "color: green;\n",
       "font-weight: bold;\n",
       "font-family: monospace;\n",
       "margin-left: 1em;\n",
       "}\n",
       ".mono {\n",
       "font-family: monospace;\n",
       "display: block;\n",
       "}\n",
       ".err-msg {\n",
       "color: red;\n",
       "font-style: italic;\n",
       "font-family: monospace;\n",
       "white-space: pre;\n",
       "display: block;\n",
       "}\n",
       "#unshowable {\n",
       "color: red;\n",
       "font-weight: bold;\n",
       "}\n",
       ".err-msg.in.collapse {\n",
       "padding-top: 0.7em;\n",
       "}\n",
       ".highlight-code {\n",
       "white-space: pre;\n",
       "font-family: monospace;\n",
       "}\n",
       ".suggestion-warning { \n",
       "font-weight: bold;\n",
       "color: rgb(200, 130, 0);\n",
       "}\n",
       ".suggestion-error { \n",
       "font-weight: bold;\n",
       "color: red;\n",
       "}\n",
       ".suggestion-name {\n",
       "font-weight: bold;\n",
       "}\n",
       "</style><div class=\"suggestion-name\" style=\"clear:both;\">Use foldr</div><div class=\"suggestion-row\" style=\"float: left;\"><div class=\"suggestion-warning\">Found:</div><div class=\"highlight-code\" id=\"haskell\">prod' [] = 1\n",
       "prod' (x : xs) = x * prod' xs</div></div><div class=\"suggestion-row\" style=\"float: left;\"><div class=\"suggestion-warning\">Why Not:</div><div class=\"highlight-code\" id=\"haskell\">prod' xs = foldr (*) 1 xs</div></div>"
      ],
      "text/plain": [
       "Line 2: Use foldr\n",
       "Found:\n",
       "prod' [] = 1\n",
       "prod' (x : xs) = x * prod' xs\n",
       "Why not:\n",
       "prod' xs = foldr (*) 1 xs"
      ]
     },
     "metadata": {},
     "output_type": "display_data"
    },
    {
     "data": {
      "text/plain": [
       "24"
      ]
     },
     "metadata": {},
     "output_type": "display_data"
    }
   ],
   "source": [
    "prod' :: Num a => [a] -> a\n",
    "prod' [] = 1\n",
    "prod' (x:xs) = x * prod' xs\n",
    "\n",
    "prod' [1,2,3,4]"
   ]
  },
  {
   "cell_type": "markdown",
   "id": "f7a596b6",
   "metadata": {},
   "source": [
    "**14. Napisać rekurencyjną definicje funkcji: length'.**"
   ]
  },
  {
   "cell_type": "code",
   "execution_count": 18,
   "id": "29f031e8",
   "metadata": {},
   "outputs": [
    {
     "data": {
      "text/html": [
       "<style>/* Styles used for the Hoogle display in the pager */\n",
       ".hoogle-doc {\n",
       "display: block;\n",
       "padding-bottom: 1.3em;\n",
       "padding-left: 0.4em;\n",
       "}\n",
       ".hoogle-code {\n",
       "display: block;\n",
       "font-family: monospace;\n",
       "white-space: pre;\n",
       "}\n",
       ".hoogle-text {\n",
       "display: block;\n",
       "}\n",
       ".hoogle-name {\n",
       "color: green;\n",
       "font-weight: bold;\n",
       "}\n",
       ".hoogle-head {\n",
       "font-weight: bold;\n",
       "}\n",
       ".hoogle-sub {\n",
       "display: block;\n",
       "margin-left: 0.4em;\n",
       "}\n",
       ".hoogle-package {\n",
       "font-weight: bold;\n",
       "font-style: italic;\n",
       "}\n",
       ".hoogle-module {\n",
       "font-weight: bold;\n",
       "}\n",
       ".hoogle-class {\n",
       "font-weight: bold;\n",
       "}\n",
       ".get-type {\n",
       "color: green;\n",
       "font-weight: bold;\n",
       "font-family: monospace;\n",
       "display: block;\n",
       "white-space: pre-wrap;\n",
       "}\n",
       ".show-type {\n",
       "color: green;\n",
       "font-weight: bold;\n",
       "font-family: monospace;\n",
       "margin-left: 1em;\n",
       "}\n",
       ".mono {\n",
       "font-family: monospace;\n",
       "display: block;\n",
       "}\n",
       ".err-msg {\n",
       "color: red;\n",
       "font-style: italic;\n",
       "font-family: monospace;\n",
       "white-space: pre;\n",
       "display: block;\n",
       "}\n",
       "#unshowable {\n",
       "color: red;\n",
       "font-weight: bold;\n",
       "}\n",
       ".err-msg.in.collapse {\n",
       "padding-top: 0.7em;\n",
       "}\n",
       ".highlight-code {\n",
       "white-space: pre;\n",
       "font-family: monospace;\n",
       "}\n",
       ".suggestion-warning { \n",
       "font-weight: bold;\n",
       "color: rgb(200, 130, 0);\n",
       "}\n",
       ".suggestion-error { \n",
       "font-weight: bold;\n",
       "color: red;\n",
       "}\n",
       ".suggestion-name {\n",
       "font-weight: bold;\n",
       "}\n",
       "</style><div class=\"suggestion-name\" style=\"clear:both;\">Use foldr</div><div class=\"suggestion-row\" style=\"float: left;\"><div class=\"suggestion-warning\">Found:</div><div class=\"highlight-code\" id=\"haskell\">length' [] = 0\n",
       "length' (x : xs) = 1 + length' xs</div></div><div class=\"suggestion-row\" style=\"float: left;\"><div class=\"suggestion-warning\">Why Not:</div><div class=\"highlight-code\" id=\"haskell\">length' xs = foldr (\\ x -> (+) 1) 0 xs</div></div>"
      ],
      "text/plain": [
       "Line 2: Use foldr\n",
       "Found:\n",
       "length' [] = 0\n",
       "length' (x : xs) = 1 + length' xs\n",
       "Why not:\n",
       "length' xs = foldr (\\ x -> (+) 1) 0 xs"
      ]
     },
     "metadata": {},
     "output_type": "display_data"
    },
    {
     "data": {
      "text/plain": [
       "4"
      ]
     },
     "metadata": {},
     "output_type": "display_data"
    }
   ],
   "source": [
    "length' :: [a] -> Int\n",
    "length' [] = 0\n",
    "length' (x:xs) = 1 + length' xs\n",
    "\n",
    "length' [1,2,3,4]"
   ]
  },
  {
   "cell_type": "markdown",
   "id": "c2fe0c59",
   "metadata": {},
   "source": [
    "**15. Napisać rekurencyjną definicje funkcji: or'.**"
   ]
  },
  {
   "cell_type": "code",
   "execution_count": 19,
   "id": "1bee2ce0",
   "metadata": {},
   "outputs": [
    {
     "data": {
      "text/html": [
       "<style>/* Styles used for the Hoogle display in the pager */\n",
       ".hoogle-doc {\n",
       "display: block;\n",
       "padding-bottom: 1.3em;\n",
       "padding-left: 0.4em;\n",
       "}\n",
       ".hoogle-code {\n",
       "display: block;\n",
       "font-family: monospace;\n",
       "white-space: pre;\n",
       "}\n",
       ".hoogle-text {\n",
       "display: block;\n",
       "}\n",
       ".hoogle-name {\n",
       "color: green;\n",
       "font-weight: bold;\n",
       "}\n",
       ".hoogle-head {\n",
       "font-weight: bold;\n",
       "}\n",
       ".hoogle-sub {\n",
       "display: block;\n",
       "margin-left: 0.4em;\n",
       "}\n",
       ".hoogle-package {\n",
       "font-weight: bold;\n",
       "font-style: italic;\n",
       "}\n",
       ".hoogle-module {\n",
       "font-weight: bold;\n",
       "}\n",
       ".hoogle-class {\n",
       "font-weight: bold;\n",
       "}\n",
       ".get-type {\n",
       "color: green;\n",
       "font-weight: bold;\n",
       "font-family: monospace;\n",
       "display: block;\n",
       "white-space: pre-wrap;\n",
       "}\n",
       ".show-type {\n",
       "color: green;\n",
       "font-weight: bold;\n",
       "font-family: monospace;\n",
       "margin-left: 1em;\n",
       "}\n",
       ".mono {\n",
       "font-family: monospace;\n",
       "display: block;\n",
       "}\n",
       ".err-msg {\n",
       "color: red;\n",
       "font-style: italic;\n",
       "font-family: monospace;\n",
       "white-space: pre;\n",
       "display: block;\n",
       "}\n",
       "#unshowable {\n",
       "color: red;\n",
       "font-weight: bold;\n",
       "}\n",
       ".err-msg.in.collapse {\n",
       "padding-top: 0.7em;\n",
       "}\n",
       ".highlight-code {\n",
       "white-space: pre;\n",
       "font-family: monospace;\n",
       "}\n",
       ".suggestion-warning { \n",
       "font-weight: bold;\n",
       "color: rgb(200, 130, 0);\n",
       "}\n",
       ".suggestion-error { \n",
       "font-weight: bold;\n",
       "color: red;\n",
       "}\n",
       ".suggestion-name {\n",
       "font-weight: bold;\n",
       "}\n",
       "</style><div class=\"suggestion-name\" style=\"clear:both;\">Use foldr</div><div class=\"suggestion-row\" style=\"float: left;\"><div class=\"suggestion-warning\">Found:</div><div class=\"highlight-code\" id=\"haskell\">or' [] = False\n",
       "or' (x : xs) = x || or' xs</div></div><div class=\"suggestion-row\" style=\"float: left;\"><div class=\"suggestion-warning\">Why Not:</div><div class=\"highlight-code\" id=\"haskell\">or' xs = foldr (||) False xs</div></div>"
      ],
      "text/plain": [
       "Line 2: Use foldr\n",
       "Found:\n",
       "or' [] = False\n",
       "or' (x : xs) = x || or' xs\n",
       "Why not:\n",
       "or' xs = foldr (||) False xs"
      ]
     },
     "metadata": {},
     "output_type": "display_data"
    },
    {
     "data": {
      "text/plain": [
       "True"
      ]
     },
     "metadata": {},
     "output_type": "display_data"
    }
   ],
   "source": [
    "or' :: [Bool] -> Bool\n",
    "or' [] = False\n",
    "or' (x:xs) = x || or' xs\n",
    "\n",
    "or' [True, False]"
   ]
  },
  {
   "cell_type": "markdown",
   "id": "98cf89f8",
   "metadata": {},
   "source": [
    "**16. Napisać rekurencyjną definicje funkcji: and'.**"
   ]
  },
  {
   "cell_type": "code",
   "execution_count": 20,
   "id": "443022ce",
   "metadata": {},
   "outputs": [
    {
     "data": {
      "text/html": [
       "<style>/* Styles used for the Hoogle display in the pager */\n",
       ".hoogle-doc {\n",
       "display: block;\n",
       "padding-bottom: 1.3em;\n",
       "padding-left: 0.4em;\n",
       "}\n",
       ".hoogle-code {\n",
       "display: block;\n",
       "font-family: monospace;\n",
       "white-space: pre;\n",
       "}\n",
       ".hoogle-text {\n",
       "display: block;\n",
       "}\n",
       ".hoogle-name {\n",
       "color: green;\n",
       "font-weight: bold;\n",
       "}\n",
       ".hoogle-head {\n",
       "font-weight: bold;\n",
       "}\n",
       ".hoogle-sub {\n",
       "display: block;\n",
       "margin-left: 0.4em;\n",
       "}\n",
       ".hoogle-package {\n",
       "font-weight: bold;\n",
       "font-style: italic;\n",
       "}\n",
       ".hoogle-module {\n",
       "font-weight: bold;\n",
       "}\n",
       ".hoogle-class {\n",
       "font-weight: bold;\n",
       "}\n",
       ".get-type {\n",
       "color: green;\n",
       "font-weight: bold;\n",
       "font-family: monospace;\n",
       "display: block;\n",
       "white-space: pre-wrap;\n",
       "}\n",
       ".show-type {\n",
       "color: green;\n",
       "font-weight: bold;\n",
       "font-family: monospace;\n",
       "margin-left: 1em;\n",
       "}\n",
       ".mono {\n",
       "font-family: monospace;\n",
       "display: block;\n",
       "}\n",
       ".err-msg {\n",
       "color: red;\n",
       "font-style: italic;\n",
       "font-family: monospace;\n",
       "white-space: pre;\n",
       "display: block;\n",
       "}\n",
       "#unshowable {\n",
       "color: red;\n",
       "font-weight: bold;\n",
       "}\n",
       ".err-msg.in.collapse {\n",
       "padding-top: 0.7em;\n",
       "}\n",
       ".highlight-code {\n",
       "white-space: pre;\n",
       "font-family: monospace;\n",
       "}\n",
       ".suggestion-warning { \n",
       "font-weight: bold;\n",
       "color: rgb(200, 130, 0);\n",
       "}\n",
       ".suggestion-error { \n",
       "font-weight: bold;\n",
       "color: red;\n",
       "}\n",
       ".suggestion-name {\n",
       "font-weight: bold;\n",
       "}\n",
       "</style><div class=\"suggestion-name\" style=\"clear:both;\">Use foldr</div><div class=\"suggestion-row\" style=\"float: left;\"><div class=\"suggestion-warning\">Found:</div><div class=\"highlight-code\" id=\"haskell\">and' [] = True\n",
       "and' (x : xs) = x && and' xs</div></div><div class=\"suggestion-row\" style=\"float: left;\"><div class=\"suggestion-warning\">Why Not:</div><div class=\"highlight-code\" id=\"haskell\">and' xs = foldr (&&) True xs</div></div>"
      ],
      "text/plain": [
       "Line 2: Use foldr\n",
       "Found:\n",
       "and' [] = True\n",
       "and' (x : xs) = x && and' xs\n",
       "Why not:\n",
       "and' xs = foldr (&&) True xs"
      ]
     },
     "metadata": {},
     "output_type": "display_data"
    },
    {
     "data": {
      "text/plain": [
       "False"
      ]
     },
     "metadata": {},
     "output_type": "display_data"
    }
   ],
   "source": [
    "and' :: [Bool] -> Bool\n",
    "and' [] = True\n",
    "and' (x:xs) = x && and' xs\n",
    "\n",
    "and' [False, True]"
   ]
  },
  {
   "cell_type": "markdown",
   "id": "7af54a32",
   "metadata": {},
   "source": [
    "**17. Napisać rekurencyjną definicje funkcji: elem'.**"
   ]
  },
  {
   "cell_type": "code",
   "execution_count": 21,
   "id": "75974bf5",
   "metadata": {},
   "outputs": [
    {
     "data": {
      "text/plain": [
       "True"
      ]
     },
     "metadata": {},
     "output_type": "display_data"
    }
   ],
   "source": [
    "elem' :: Eq a => a -> [a] -> Bool\n",
    "elem' a [] = False\n",
    "elem' a (x:xs)\n",
    "    | a == x = True\n",
    "    | otherwise = a `elem'` xs\n",
    "    \n",
    "elem' 3 [1,2,3,4]"
   ]
  },
  {
   "cell_type": "markdown",
   "id": "b09a4753",
   "metadata": {},
   "source": [
    "**18. Napisać rekurencyjną definicje funkcji: doubleAll.**"
   ]
  },
  {
   "cell_type": "code",
   "execution_count": 22,
   "id": "5ee37acf",
   "metadata": {},
   "outputs": [
    {
     "data": {
      "text/html": [
       "<style>/* Styles used for the Hoogle display in the pager */\n",
       ".hoogle-doc {\n",
       "display: block;\n",
       "padding-bottom: 1.3em;\n",
       "padding-left: 0.4em;\n",
       "}\n",
       ".hoogle-code {\n",
       "display: block;\n",
       "font-family: monospace;\n",
       "white-space: pre;\n",
       "}\n",
       ".hoogle-text {\n",
       "display: block;\n",
       "}\n",
       ".hoogle-name {\n",
       "color: green;\n",
       "font-weight: bold;\n",
       "}\n",
       ".hoogle-head {\n",
       "font-weight: bold;\n",
       "}\n",
       ".hoogle-sub {\n",
       "display: block;\n",
       "margin-left: 0.4em;\n",
       "}\n",
       ".hoogle-package {\n",
       "font-weight: bold;\n",
       "font-style: italic;\n",
       "}\n",
       ".hoogle-module {\n",
       "font-weight: bold;\n",
       "}\n",
       ".hoogle-class {\n",
       "font-weight: bold;\n",
       "}\n",
       ".get-type {\n",
       "color: green;\n",
       "font-weight: bold;\n",
       "font-family: monospace;\n",
       "display: block;\n",
       "white-space: pre-wrap;\n",
       "}\n",
       ".show-type {\n",
       "color: green;\n",
       "font-weight: bold;\n",
       "font-family: monospace;\n",
       "margin-left: 1em;\n",
       "}\n",
       ".mono {\n",
       "font-family: monospace;\n",
       "display: block;\n",
       "}\n",
       ".err-msg {\n",
       "color: red;\n",
       "font-style: italic;\n",
       "font-family: monospace;\n",
       "white-space: pre;\n",
       "display: block;\n",
       "}\n",
       "#unshowable {\n",
       "color: red;\n",
       "font-weight: bold;\n",
       "}\n",
       ".err-msg.in.collapse {\n",
       "padding-top: 0.7em;\n",
       "}\n",
       ".highlight-code {\n",
       "white-space: pre;\n",
       "font-family: monospace;\n",
       "}\n",
       ".suggestion-warning { \n",
       "font-weight: bold;\n",
       "color: rgb(200, 130, 0);\n",
       "}\n",
       ".suggestion-error { \n",
       "font-weight: bold;\n",
       "color: red;\n",
       "}\n",
       ".suggestion-name {\n",
       "font-weight: bold;\n",
       "}\n",
       "</style><div class=\"suggestion-name\" style=\"clear:both;\">Use map</div><div class=\"suggestion-row\" style=\"float: left;\"><div class=\"suggestion-warning\">Found:</div><div class=\"highlight-code\" id=\"haskell\">doubleAll [] = []\n",
       "doubleAll (x : xs) = 2 * x : doubleAll xs</div></div><div class=\"suggestion-row\" style=\"float: left;\"><div class=\"suggestion-warning\">Why Not:</div><div class=\"highlight-code\" id=\"haskell\">doubleAll xs = map (2 *) xs</div></div>"
      ],
      "text/plain": [
       "Line 2: Use map\n",
       "Found:\n",
       "doubleAll [] = []\n",
       "doubleAll (x : xs) = 2 * x : doubleAll xs\n",
       "Why not:\n",
       "doubleAll xs = map (2 *) xs"
      ]
     },
     "metadata": {},
     "output_type": "display_data"
    },
    {
     "data": {
      "text/plain": [
       "[2,4,6,8]"
      ]
     },
     "metadata": {},
     "output_type": "display_data"
    }
   ],
   "source": [
    "doubleAll :: Num t => [t] -> [t]\n",
    "doubleAll [] = []\n",
    "doubleAll (x:xs) = 2*x : doubleAll xs\n",
    "\n",
    "doubleAll [1,2,3,4]"
   ]
  },
  {
   "cell_type": "markdown",
   "id": "67d4d24c",
   "metadata": {},
   "source": [
    "**19. Napisać rekurencyjną definicje funkcji: squareAll.**"
   ]
  },
  {
   "cell_type": "code",
   "execution_count": 23,
   "id": "204c1be1",
   "metadata": {},
   "outputs": [
    {
     "data": {
      "text/html": [
       "<style>/* Styles used for the Hoogle display in the pager */\n",
       ".hoogle-doc {\n",
       "display: block;\n",
       "padding-bottom: 1.3em;\n",
       "padding-left: 0.4em;\n",
       "}\n",
       ".hoogle-code {\n",
       "display: block;\n",
       "font-family: monospace;\n",
       "white-space: pre;\n",
       "}\n",
       ".hoogle-text {\n",
       "display: block;\n",
       "}\n",
       ".hoogle-name {\n",
       "color: green;\n",
       "font-weight: bold;\n",
       "}\n",
       ".hoogle-head {\n",
       "font-weight: bold;\n",
       "}\n",
       ".hoogle-sub {\n",
       "display: block;\n",
       "margin-left: 0.4em;\n",
       "}\n",
       ".hoogle-package {\n",
       "font-weight: bold;\n",
       "font-style: italic;\n",
       "}\n",
       ".hoogle-module {\n",
       "font-weight: bold;\n",
       "}\n",
       ".hoogle-class {\n",
       "font-weight: bold;\n",
       "}\n",
       ".get-type {\n",
       "color: green;\n",
       "font-weight: bold;\n",
       "font-family: monospace;\n",
       "display: block;\n",
       "white-space: pre-wrap;\n",
       "}\n",
       ".show-type {\n",
       "color: green;\n",
       "font-weight: bold;\n",
       "font-family: monospace;\n",
       "margin-left: 1em;\n",
       "}\n",
       ".mono {\n",
       "font-family: monospace;\n",
       "display: block;\n",
       "}\n",
       ".err-msg {\n",
       "color: red;\n",
       "font-style: italic;\n",
       "font-family: monospace;\n",
       "white-space: pre;\n",
       "display: block;\n",
       "}\n",
       "#unshowable {\n",
       "color: red;\n",
       "font-weight: bold;\n",
       "}\n",
       ".err-msg.in.collapse {\n",
       "padding-top: 0.7em;\n",
       "}\n",
       ".highlight-code {\n",
       "white-space: pre;\n",
       "font-family: monospace;\n",
       "}\n",
       ".suggestion-warning { \n",
       "font-weight: bold;\n",
       "color: rgb(200, 130, 0);\n",
       "}\n",
       ".suggestion-error { \n",
       "font-weight: bold;\n",
       "color: red;\n",
       "}\n",
       ".suggestion-name {\n",
       "font-weight: bold;\n",
       "}\n",
       "</style><div class=\"suggestion-name\" style=\"clear:both;\">Use map</div><div class=\"suggestion-row\" style=\"float: left;\"><div class=\"suggestion-warning\">Found:</div><div class=\"highlight-code\" id=\"haskell\">squareAll [] = []\n",
       "squareAll (x : xs) = x ^ 2 : squareAll xs</div></div><div class=\"suggestion-row\" style=\"float: left;\"><div class=\"suggestion-warning\">Why Not:</div><div class=\"highlight-code\" id=\"haskell\">squareAll xs = map (^ 2) xs</div></div>"
      ],
      "text/plain": [
       "Line 2: Use map\n",
       "Found:\n",
       "squareAll [] = []\n",
       "squareAll (x : xs) = x ^ 2 : squareAll xs\n",
       "Why not:\n",
       "squareAll xs = map (^ 2) xs"
      ]
     },
     "metadata": {},
     "output_type": "display_data"
    },
    {
     "data": {
      "text/plain": [
       "[1,4,9,16]"
      ]
     },
     "metadata": {},
     "output_type": "display_data"
    }
   ],
   "source": [
    "squareAll :: Num t => [t] -> [t]\n",
    "squareAll [] = []\n",
    "squareAll (x:xs) = x^2 : squareAll xs\n",
    "\n",
    "squareAll [1,2,3,4]"
   ]
  },
  {
   "cell_type": "markdown",
   "id": "abe1d42c",
   "metadata": {},
   "source": [
    "**20. Napisać rekurencyjną definicje funkcji: selectEven.**"
   ]
  },
  {
   "cell_type": "code",
   "execution_count": 24,
   "id": "0f4a556b",
   "metadata": {},
   "outputs": [
    {
     "data": {
      "text/html": [
       "<style>/* Styles used for the Hoogle display in the pager */\n",
       ".hoogle-doc {\n",
       "display: block;\n",
       "padding-bottom: 1.3em;\n",
       "padding-left: 0.4em;\n",
       "}\n",
       ".hoogle-code {\n",
       "display: block;\n",
       "font-family: monospace;\n",
       "white-space: pre;\n",
       "}\n",
       ".hoogle-text {\n",
       "display: block;\n",
       "}\n",
       ".hoogle-name {\n",
       "color: green;\n",
       "font-weight: bold;\n",
       "}\n",
       ".hoogle-head {\n",
       "font-weight: bold;\n",
       "}\n",
       ".hoogle-sub {\n",
       "display: block;\n",
       "margin-left: 0.4em;\n",
       "}\n",
       ".hoogle-package {\n",
       "font-weight: bold;\n",
       "font-style: italic;\n",
       "}\n",
       ".hoogle-module {\n",
       "font-weight: bold;\n",
       "}\n",
       ".hoogle-class {\n",
       "font-weight: bold;\n",
       "}\n",
       ".get-type {\n",
       "color: green;\n",
       "font-weight: bold;\n",
       "font-family: monospace;\n",
       "display: block;\n",
       "white-space: pre-wrap;\n",
       "}\n",
       ".show-type {\n",
       "color: green;\n",
       "font-weight: bold;\n",
       "font-family: monospace;\n",
       "margin-left: 1em;\n",
       "}\n",
       ".mono {\n",
       "font-family: monospace;\n",
       "display: block;\n",
       "}\n",
       ".err-msg {\n",
       "color: red;\n",
       "font-style: italic;\n",
       "font-family: monospace;\n",
       "white-space: pre;\n",
       "display: block;\n",
       "}\n",
       "#unshowable {\n",
       "color: red;\n",
       "font-weight: bold;\n",
       "}\n",
       ".err-msg.in.collapse {\n",
       "padding-top: 0.7em;\n",
       "}\n",
       ".highlight-code {\n",
       "white-space: pre;\n",
       "font-family: monospace;\n",
       "}\n",
       ".suggestion-warning { \n",
       "font-weight: bold;\n",
       "color: rgb(200, 130, 0);\n",
       "}\n",
       ".suggestion-error { \n",
       "font-weight: bold;\n",
       "color: red;\n",
       "}\n",
       ".suggestion-name {\n",
       "font-weight: bold;\n",
       "}\n",
       "</style><div class=\"suggestion-name\" style=\"clear:both;\">Use even</div><div class=\"suggestion-row\" style=\"float: left;\"><div class=\"suggestion-warning\">Found:</div><div class=\"highlight-code\" id=\"haskell\">x `mod` 2 == 0</div></div><div class=\"suggestion-row\" style=\"float: left;\"><div class=\"suggestion-warning\">Why Not:</div><div class=\"highlight-code\" id=\"haskell\">even x</div></div>"
      ],
      "text/plain": [
       "Line 4: Use even\n",
       "Found:\n",
       "x `mod` 2 == 0\n",
       "Why not:\n",
       "even x"
      ]
     },
     "metadata": {},
     "output_type": "display_data"
    },
    {
     "data": {
      "text/plain": [
       "[2,4]"
      ]
     },
     "metadata": {},
     "output_type": "display_data"
    }
   ],
   "source": [
    "selectEven :: Integral t => [t] -> [t]\n",
    "selectEven [] = []\n",
    "selectEven (x:xs)\n",
    "    | x `mod` 2 == 0 = x : selectEven xs\n",
    "    | otherwise = selectEven xs\n",
    "    \n",
    "selectEven [1,2,3,4]"
   ]
  },
  {
   "cell_type": "markdown",
   "id": "c63a9b69",
   "metadata": {},
   "source": [
    "**21. Napisać funkcję obliczającą średnią arytmetyczną elementów listy.**"
   ]
  },
  {
   "cell_type": "code",
   "execution_count": 25,
   "id": "1338f11f",
   "metadata": {},
   "outputs": [
    {
     "data": {
      "text/plain": [
       "2.5"
      ]
     },
     "metadata": {},
     "output_type": "display_data"
    }
   ],
   "source": [
    "arithmeticMean :: (Real a, Fractional b) => [a] -> b\n",
    "arithmeticMean [] = 0\n",
    "arithmeticMean xs = realToFrac(sum xs) / fromIntegral(length' xs)\n",
    "\n",
    "arithmeticMean [1,2,3,4]"
   ]
  },
  {
   "cell_type": "markdown",
   "id": "f9dd629f",
   "metadata": {},
   "source": [
    "**22. Napisać definicje funkcji prod'2 wykorzystujące ‘akumulator’ i funkcję pomocniczą/wewnętrzną.**"
   ]
  },
  {
   "cell_type": "code",
   "execution_count": 26,
   "id": "e5f09a8c",
   "metadata": {},
   "outputs": [
    {
     "data": {
      "text/plain": [
       "24"
      ]
     },
     "metadata": {},
     "output_type": "display_data"
    }
   ],
   "source": [
    "-- 1st solution\n",
    "prod'2 :: Num a => [a] -> a\n",
    "prod'2 xs = loop 1 xs\n",
    "    where loop acc []     = acc\n",
    "          loop acc (x:xs) = loop (x*acc) xs\n",
    "\n",
    "prod'2 [1,2,3,4]"
   ]
  },
  {
   "cell_type": "code",
   "execution_count": 27,
   "id": "9be75d56",
   "metadata": {},
   "outputs": [
    {
     "data": {
      "text/plain": [
       "24"
      ]
     },
     "metadata": {},
     "output_type": "display_data"
    }
   ],
   "source": [
    "-- 2nd solution\n",
    "prod''2 :: Num a => [a] -> a\n",
    "prod''2 = loop 1\n",
    "    where loop acc []     = acc\n",
    "          loop acc (x:xs) = loop (x*acc) xs\n",
    "\n",
    "prod''2 [1,2,3,4]"
   ]
  },
  {
   "cell_type": "markdown",
   "id": "1f34d533",
   "metadata": {},
   "source": [
    "**23. Napisać definicje funkcji length'2 wykorzystujące ‘akumulator’ i funkcję pomocniczą/wewnętrzną.**"
   ]
  },
  {
   "cell_type": "code",
   "execution_count": 28,
   "id": "bb69837a",
   "metadata": {},
   "outputs": [
    {
     "data": {
      "text/plain": [
       "4"
      ]
     },
     "metadata": {},
     "output_type": "display_data"
    }
   ],
   "source": [
    "-- 1st solution\n",
    "length'2 :: [a] -> Int\n",
    "length'2 xs = loop 0 xs\n",
    "    where loop acc []     = acc\n",
    "          loop acc (x:xs) = loop (1+acc) xs\n",
    "\n",
    "length'2 [1..4]"
   ]
  },
  {
   "cell_type": "code",
   "execution_count": 29,
   "id": "c4dadd52",
   "metadata": {},
   "outputs": [
    {
     "data": {
      "text/plain": [
       "4"
      ]
     },
     "metadata": {},
     "output_type": "display_data"
    }
   ],
   "source": [
    "-- 2nd solution\n",
    "length''2 :: [a] -> Int\n",
    "length''2 = loop 0\n",
    "    where loop acc []     = acc\n",
    "          loop acc (x:xs) = loop (1+acc) xs\n",
    "\n",
    "length''2 [1..4]"
   ]
  },
  {
   "cell_type": "markdown",
   "id": "50b433e3",
   "metadata": {},
   "source": [
    "**24. Napisać nową definicje funkcji sum.**"
   ]
  },
  {
   "cell_type": "code",
   "execution_count": 30,
   "id": "f054610c",
   "metadata": {},
   "outputs": [
    {
     "data": {
      "text/plain": [
       "55"
      ]
     },
     "metadata": {},
     "output_type": "display_data"
    }
   ],
   "source": [
    "{-# LANGUAGE BangPatterns #-}\n",
    "sum'4 :: Num a => [a] -> a\n",
    "sum'4 = loop 0\n",
    "    where loop !acc []     = acc\n",
    "          loop !acc (x:xs) = loop (x + acc) xs\n",
    "      \n",
    "sum'4 [1..10]"
   ]
  },
  {
   "cell_type": "markdown",
   "id": "355448fb",
   "metadata": {},
   "source": [
    "**25. Napisać funkcję qSort i sprawdzić jej działanie.**"
   ]
  },
  {
   "cell_type": "code",
   "execution_count": 31,
   "id": "c2988202",
   "metadata": {},
   "outputs": [
    {
     "data": {
      "text/plain": [
       "[0,2,3,5,7,9]"
      ]
     },
     "metadata": {},
     "output_type": "display_data"
    }
   ],
   "source": [
    "qSort :: Ord a => [a] -> [a]\n",
    "qSort [] = []\n",
    "qSort (x:xs) = qSort (leftPart xs) ++ [x] ++ qSort(rightPart xs)\n",
    " where leftPart xs = [y | y <- xs, y <= x]\n",
    "       rightPart xs = [y | y <- xs, y > x]\n",
    "\n",
    "qSort [5, 2, 7, 3, 9,0]"
   ]
  },
  {
   "cell_type": "markdown",
   "id": "660e1ea9",
   "metadata": {},
   "source": [
    "**26. Zmodyfikować funkcje wewnętrzne leftPart i rightPart tak, aby zamiast list comprehensions wykorzystać funkcję filter (z biblioteki standardowej).**"
   ]
  },
  {
   "cell_type": "code",
   "execution_count": 32,
   "id": "cb176cc0",
   "metadata": {},
   "outputs": [
    {
     "data": {
      "text/plain": [
       "[0,2,3,5,7,9]"
      ]
     },
     "metadata": {},
     "output_type": "display_data"
    }
   ],
   "source": [
    "qSort' :: Ord a => [a] -> [a]\n",
    "qSort' [] = []\n",
    "qSort' (x:xs) = qSort (leftPart xs) ++ [x] ++ qSort(rightPart xs)\n",
    " where leftPart xs = filter(<= x) xs\n",
    "       rightPart xs = filter(> x) xs\n",
    "\n",
    "qSort' [5, 2, 7, 3, 9,0]"
   ]
  },
  {
   "cell_type": "markdown",
   "id": "fadd1641",
   "metadata": {},
   "source": [
    "**27. Zdefiniować funkcję mSort (implementacja algorytmu MergeSort).**"
   ]
  },
  {
   "cell_type": "code",
   "execution_count": 33,
   "id": "89d22c50",
   "metadata": {},
   "outputs": [
    {
     "data": {
      "text/plain": [
       "[0,2,4,7,9,11]"
      ]
     },
     "metadata": {},
     "output_type": "display_data"
    }
   ],
   "source": [
    "merge :: Ord a => [a] -> [a] -> [a]\n",
    "merge xs [] = xs\n",
    "merge [] ys = ys\n",
    "merge (x:xs) (y:ys) | x <= y    = x:merge xs (y:ys)\n",
    "                    | otherwise = y:merge (x:xs) ys\n",
    "\n",
    "mSort :: Ord a => [a] -> [a]\n",
    "mSort [] = []\n",
    "mSort [a] = [a]\n",
    "mSort xs = merge (mSort(firstHalf xs)) (mSort(secondHalf xs))\n",
    "    where firstHalf xs  = take (div (length xs) 2) xs\n",
    "          secondHalf xs = drop (div (length xs) 2) xs\n",
    "          \n",
    "mSort [7, 2, 4, 9, 11, 0]"
   ]
  },
  {
   "cell_type": "markdown",
   "id": "592c3b13",
   "metadata": {},
   "source": [
    "**28. Zdefiniować funkcję iSort (implementacja algorytmu Insertion Sort).**"
   ]
  },
  {
   "cell_type": "code",
   "execution_count": 34,
   "id": "4b0fdced",
   "metadata": {},
   "outputs": [
    {
     "data": {
      "text/html": [
       "<style>/* Styles used for the Hoogle display in the pager */\n",
       ".hoogle-doc {\n",
       "display: block;\n",
       "padding-bottom: 1.3em;\n",
       "padding-left: 0.4em;\n",
       "}\n",
       ".hoogle-code {\n",
       "display: block;\n",
       "font-family: monospace;\n",
       "white-space: pre;\n",
       "}\n",
       ".hoogle-text {\n",
       "display: block;\n",
       "}\n",
       ".hoogle-name {\n",
       "color: green;\n",
       "font-weight: bold;\n",
       "}\n",
       ".hoogle-head {\n",
       "font-weight: bold;\n",
       "}\n",
       ".hoogle-sub {\n",
       "display: block;\n",
       "margin-left: 0.4em;\n",
       "}\n",
       ".hoogle-package {\n",
       "font-weight: bold;\n",
       "font-style: italic;\n",
       "}\n",
       ".hoogle-module {\n",
       "font-weight: bold;\n",
       "}\n",
       ".hoogle-class {\n",
       "font-weight: bold;\n",
       "}\n",
       ".get-type {\n",
       "color: green;\n",
       "font-weight: bold;\n",
       "font-family: monospace;\n",
       "display: block;\n",
       "white-space: pre-wrap;\n",
       "}\n",
       ".show-type {\n",
       "color: green;\n",
       "font-weight: bold;\n",
       "font-family: monospace;\n",
       "margin-left: 1em;\n",
       "}\n",
       ".mono {\n",
       "font-family: monospace;\n",
       "display: block;\n",
       "}\n",
       ".err-msg {\n",
       "color: red;\n",
       "font-style: italic;\n",
       "font-family: monospace;\n",
       "white-space: pre;\n",
       "display: block;\n",
       "}\n",
       "#unshowable {\n",
       "color: red;\n",
       "font-weight: bold;\n",
       "}\n",
       ".err-msg.in.collapse {\n",
       "padding-top: 0.7em;\n",
       "}\n",
       ".highlight-code {\n",
       "white-space: pre;\n",
       "font-family: monospace;\n",
       "}\n",
       ".suggestion-warning { \n",
       "font-weight: bold;\n",
       "color: rgb(200, 130, 0);\n",
       "}\n",
       ".suggestion-error { \n",
       "font-weight: bold;\n",
       "color: red;\n",
       "}\n",
       ".suggestion-name {\n",
       "font-weight: bold;\n",
       "}\n",
       "</style><div class=\"suggestion-name\" style=\"clear:both;\">Use foldr</div><div class=\"suggestion-row\" style=\"float: left;\"><div class=\"suggestion-warning\">Found:</div><div class=\"highlight-code\" id=\"haskell\">iSort [] = []\n",
       "iSort (x : xs) = insert x (iSort xs)</div></div><div class=\"suggestion-row\" style=\"float: left;\"><div class=\"suggestion-warning\">Why Not:</div><div class=\"highlight-code\" id=\"haskell\">iSort xs = foldr insert [] xs</div></div>"
      ],
      "text/plain": [
       "Line 7: Use foldr\n",
       "Found:\n",
       "iSort [] = []\n",
       "iSort (x : xs) = insert x (iSort xs)\n",
       "Why not:\n",
       "iSort xs = foldr insert [] xs"
      ]
     },
     "metadata": {},
     "output_type": "display_data"
    },
    {
     "data": {
      "text/plain": [
       "[0,2,4,7,9,11]"
      ]
     },
     "metadata": {},
     "output_type": "display_data"
    }
   ],
   "source": [
    "insert :: Ord a => a -> [a] -> [a]\n",
    "insert x [] = [x]\n",
    "insert x (y:ys) | x < y     = x:y:ys\n",
    "                | otherwise = y:insert x ys\n",
    "\n",
    "iSort :: Ord a => [a] -> [a]\n",
    "iSort [] = []\n",
    "iSort (x:xs) = insert x (iSort xs)\n",
    "\n",
    "iSort [7, 2, 4, 9, 11, 0]"
   ]
  },
  {
   "cell_type": "markdown",
   "id": "c7e4dd43",
   "metadata": {},
   "source": [
    "**29. Naspiać dwie wersje funkcji concat :: [[a]] -> [a]**\n",
    "\n",
    "**- concat' - z wykorzystaniem list comprehension,**"
   ]
  },
  {
   "cell_type": "code",
   "execution_count": 35,
   "id": "0382e404",
   "metadata": {},
   "outputs": [
    {
     "data": {
      "text/plain": [
       "[1,2,3,4,5,6,7,8]"
      ]
     },
     "metadata": {},
     "output_type": "display_data"
    }
   ],
   "source": [
    "concat' :: [[a]] -> [a]\n",
    "concat' xs = [y | x <- xs, y <- x]\n",
    "\n",
    "concat' [[1,2,3], [4,5], [6], [7,8]]"
   ]
  },
  {
   "cell_type": "markdown",
   "id": "10ebbdec",
   "metadata": {},
   "source": [
    "**- concat'' z wykorzystaniem rekursji.**"
   ]
  },
  {
   "cell_type": "code",
   "execution_count": 36,
   "id": "e7eb8bdf",
   "metadata": {},
   "outputs": [
    {
     "data": {
      "text/html": [
       "<style>/* Styles used for the Hoogle display in the pager */\n",
       ".hoogle-doc {\n",
       "display: block;\n",
       "padding-bottom: 1.3em;\n",
       "padding-left: 0.4em;\n",
       "}\n",
       ".hoogle-code {\n",
       "display: block;\n",
       "font-family: monospace;\n",
       "white-space: pre;\n",
       "}\n",
       ".hoogle-text {\n",
       "display: block;\n",
       "}\n",
       ".hoogle-name {\n",
       "color: green;\n",
       "font-weight: bold;\n",
       "}\n",
       ".hoogle-head {\n",
       "font-weight: bold;\n",
       "}\n",
       ".hoogle-sub {\n",
       "display: block;\n",
       "margin-left: 0.4em;\n",
       "}\n",
       ".hoogle-package {\n",
       "font-weight: bold;\n",
       "font-style: italic;\n",
       "}\n",
       ".hoogle-module {\n",
       "font-weight: bold;\n",
       "}\n",
       ".hoogle-class {\n",
       "font-weight: bold;\n",
       "}\n",
       ".get-type {\n",
       "color: green;\n",
       "font-weight: bold;\n",
       "font-family: monospace;\n",
       "display: block;\n",
       "white-space: pre-wrap;\n",
       "}\n",
       ".show-type {\n",
       "color: green;\n",
       "font-weight: bold;\n",
       "font-family: monospace;\n",
       "margin-left: 1em;\n",
       "}\n",
       ".mono {\n",
       "font-family: monospace;\n",
       "display: block;\n",
       "}\n",
       ".err-msg {\n",
       "color: red;\n",
       "font-style: italic;\n",
       "font-family: monospace;\n",
       "white-space: pre;\n",
       "display: block;\n",
       "}\n",
       "#unshowable {\n",
       "color: red;\n",
       "font-weight: bold;\n",
       "}\n",
       ".err-msg.in.collapse {\n",
       "padding-top: 0.7em;\n",
       "}\n",
       ".highlight-code {\n",
       "white-space: pre;\n",
       "font-family: monospace;\n",
       "}\n",
       ".suggestion-warning { \n",
       "font-weight: bold;\n",
       "color: rgb(200, 130, 0);\n",
       "}\n",
       ".suggestion-error { \n",
       "font-weight: bold;\n",
       "color: red;\n",
       "}\n",
       ".suggestion-name {\n",
       "font-weight: bold;\n",
       "}\n",
       "</style><div class=\"suggestion-name\" style=\"clear:both;\">Use foldr</div><div class=\"suggestion-row\" style=\"float: left;\"><div class=\"suggestion-warning\">Found:</div><div class=\"highlight-code\" id=\"haskell\">concat'' [] = []\n",
       "concat'' (x : xs) = x ++ concat'' xs</div></div><div class=\"suggestion-row\" style=\"float: left;\"><div class=\"suggestion-warning\">Why Not:</div><div class=\"highlight-code\" id=\"haskell\">concat'' xs = foldr (++) [] xs</div></div>"
      ],
      "text/plain": [
       "Line 2: Use foldr\n",
       "Found:\n",
       "concat'' [] = []\n",
       "concat'' (x : xs) = x ++ concat'' xs\n",
       "Why not:\n",
       "concat'' xs = foldr (++) [] xs"
      ]
     },
     "metadata": {},
     "output_type": "display_data"
    },
    {
     "data": {
      "text/plain": [
       "[1,2,3,4,5,6,7,8]"
      ]
     },
     "metadata": {},
     "output_type": "display_data"
    }
   ],
   "source": [
    "concat'' :: [[a]] -> [a]\n",
    "concat'' [] = []\n",
    "concat'' (x:xs) = x ++ concat'' xs\n",
    "\n",
    "concat'' [[1,2,3], [4,5], [6], [7,8]]"
   ]
  },
  {
   "cell_type": "markdown",
   "id": "d9fb017a",
   "metadata": {},
   "source": [
    "**30. Napisać definicje funkcji isSorted.**"
   ]
  },
  {
   "cell_type": "code",
   "execution_count": 37,
   "id": "0a6c7608",
   "metadata": {},
   "outputs": [
    {
     "data": {
      "text/plain": [
       "False"
      ]
     },
     "metadata": {},
     "output_type": "display_data"
    },
    {
     "data": {
      "text/plain": [
       "True"
      ]
     },
     "metadata": {},
     "output_type": "display_data"
    }
   ],
   "source": [
    "isSorted :: (Ord a) => [a] -> Bool\n",
    "isSorted [] = True\n",
    "isSorted [x] = True\n",
    "isSorted (x:y:xs) = x <= y && isSorted(y:xs)\n",
    "\n",
    "isSorted [1,2,3,9,5]\n",
    "isSorted [1,2,2,3]"
   ]
  },
  {
   "cell_type": "markdown",
   "id": "f7aa26d2",
   "metadata": {},
   "source": [
    "**31. Napisać definicje funkcji isSorted.**"
   ]
  },
  {
   "cell_type": "code",
   "execution_count": 38,
   "id": "175b478a",
   "metadata": {},
   "outputs": [
    {
     "data": {
      "text/plain": [
       "[3,2,1]"
      ]
     },
     "metadata": {},
     "output_type": "display_data"
    }
   ],
   "source": [
    "reverse' :: [a] -> [a]\n",
    "reverse' [] = []\n",
    "reverse' (x:xs) = reverse' xs ++ [x]\n",
    "\n",
    "reverse' [1,2,3]"
   ]
  },
  {
   "cell_type": "markdown",
   "id": "a55f225a",
   "metadata": {},
   "source": [
    "**32. Napisać definicje funkcji zip.**"
   ]
  },
  {
   "cell_type": "code",
   "execution_count": 39,
   "id": "b08b57a2",
   "metadata": {},
   "outputs": [
    {
     "data": {
      "text/plain": [
       "[(1,3),(2,4)]"
      ]
     },
     "metadata": {},
     "output_type": "display_data"
    }
   ],
   "source": [
    "zip' :: [a] -> [b] -> [(a,b)]\n",
    "zip' _ [] = []\n",
    "zip' [] _ = []\n",
    "zip' (x:xs) (y:ys) = (x,y):zip' xs ys\n",
    "\n",
    "zip' [1,2] [3,4]"
   ]
  },
  {
   "cell_type": "markdown",
   "id": "4f5e419a",
   "metadata": {},
   "source": [
    "**33. Napisać definicje funkcji unzip.**"
   ]
  },
  {
   "cell_type": "code",
   "execution_count": 40,
   "id": "f8c3e6e3",
   "metadata": {},
   "outputs": [
    {
     "data": {
      "text/plain": [
       "([1,3],[2,4])"
      ]
     },
     "metadata": {},
     "output_type": "display_data"
    }
   ],
   "source": [
    "unzip' :: [(a, b)] -> ([a],[b])\n",
    "unzip' [] = ([], [])\n",
    "unzip' xs = (map fst xs, map snd xs)\n",
    "\n",
    "unzip' [(1,2), (3,4)]"
   ]
  },
  {
   "cell_type": "markdown",
   "id": "709594cc",
   "metadata": {},
   "source": [
    "**34. Napisać definicje funkcji zip3.**"
   ]
  },
  {
   "cell_type": "code",
   "execution_count": 41,
   "id": "fba9e6e5",
   "metadata": {},
   "outputs": [
    {
     "data": {
      "text/plain": [
       "[(1,3,5),(2,4,6)]"
      ]
     },
     "metadata": {},
     "output_type": "display_data"
    }
   ],
   "source": [
    "zip3' :: [a] -> [b] -> [c] -> [(a,b,c)]\n",
    "zip3' _ _ [] = []\n",
    "zip3' _ [] _ = []\n",
    "zip3' [] _ _ = []\n",
    "zip3' (x:xs) (y:ys) (z:zs) = (x,y,z):zip3' xs ys zs\n",
    "\n",
    "zip3' [1,2] [3,4] [5,6]"
   ]
  },
  {
   "cell_type": "markdown",
   "id": "a9fcda67",
   "metadata": {},
   "source": [
    "**35. Napisać definicje funkcji subList.**"
   ]
  },
  {
   "cell_type": "code",
   "execution_count": 42,
   "id": "afb210bc",
   "metadata": {},
   "outputs": [
    {
     "data": {
      "text/plain": [
       "True"
      ]
     },
     "metadata": {},
     "output_type": "display_data"
    }
   ],
   "source": [
    "subList :: Eq a => [a] -> [a] -> Bool\n",
    "subList [] [] = True\n",
    "subList _ [] = False\n",
    "subList [] _ = True\n",
    "subList (x:xs) (y:ys)\n",
    "    | x == y = subList xs ys\n",
    "    | otherwise = subList (x:xs) ys\n",
    "    \n",
    "subList [1,2] [3,1,2,4]"
   ]
  },
  {
   "cell_type": "markdown",
   "id": "9abcd8a8",
   "metadata": {},
   "source": [
    "**36. Napisać definicję funkcji sprawdzającej, czy pierwszy element listy jest podzielnikiem drugiego.**"
   ]
  },
  {
   "cell_type": "code",
   "execution_count": 43,
   "id": "30a1cd51",
   "metadata": {},
   "outputs": [
    {
     "data": {
      "text/plain": [
       "True"
      ]
     },
     "metadata": {},
     "output_type": "display_data"
    }
   ],
   "source": [
    "fstDivSec :: Integral a => [a] -> Bool\n",
    "fstDivSec (x:y:_) | y `mod` x == 0 = True\n",
    "fstDivSec _                        = False\n",
    "\n",
    "fstDivSec [2,4,3,4]"
   ]
  },
  {
   "cell_type": "markdown",
   "id": "80d1af8a",
   "metadata": {},
   "source": [
    "**37. Napisać definicję funkcji sprawdzającej, czy pierwszy element listy jest podzielnikiem trzeciego.**"
   ]
  },
  {
   "cell_type": "code",
   "execution_count": 44,
   "id": "dcad603e",
   "metadata": {
    "scrolled": true
   },
   "outputs": [
    {
     "data": {
      "text/plain": [
       "True"
      ]
     },
     "metadata": {},
     "output_type": "display_data"
    }
   ],
   "source": [
    "fstDivThr :: Integral a => [a] -> Bool\n",
    "fstDivThr (x:y:z:_) | z `mod` x == 0 = True\n",
    "                    | otherwise = False\n",
    "\n",
    "fstDivThr [2,1,16,7,9]"
   ]
  }
 ],
 "metadata": {
  "kernelspec": {
   "display_name": "Haskell",
   "language": "haskell",
   "name": "haskell"
  },
  "language_info": {
   "codemirror_mode": "ihaskell",
   "file_extension": ".hs",
   "mimetype": "text/x-haskell",
   "name": "haskell",
   "pygments_lexer": "Haskell",
   "version": "8.10.7"
  }
 },
 "nbformat": 4,
 "nbformat_minor": 5
}

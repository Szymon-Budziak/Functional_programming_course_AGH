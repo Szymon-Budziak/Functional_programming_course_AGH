{
 "cells": [
  {
   "cell_type": "markdown",
   "id": "7e09bd8c",
   "metadata": {},
   "source": [
    "# Labs 4"
   ]
  },
  {
   "cell_type": "markdown",
   "id": "4b117293",
   "metadata": {},
   "source": [
    "## 1) Typy w Haskellu: type vs. newtype"
   ]
  },
  {
   "cell_type": "markdown",
   "id": "f1fb7646",
   "metadata": {},
   "source": [
    "**1. Sprawdzić działanie funkcji:**"
   ]
  },
  {
   "cell_type": "code",
   "execution_count": 1,
   "id": "3e07f799",
   "metadata": {},
   "outputs": [],
   "source": [
    "personInfoToString :: (String, String, String) -> String\n",
    "personInfoToString (nm, snm, addr) =\n",
    " \"name: \" ++ nm ++ \", surname: \" ++ snm ++ \", addr: \" ++ addr"
   ]
  },
  {
   "cell_type": "markdown",
   "id": "350977b0",
   "metadata": {},
   "source": [
    "**np. dla następujących danych wejściowych:**"
   ]
  },
  {
   "cell_type": "code",
   "execution_count": 2,
   "id": "8c9724ef",
   "metadata": {},
   "outputs": [
    {
     "data": {
      "text/plain": [
       "\"name: Michail, surname: Berlioz, addr: ul. Sadowa 302a, m.50\""
      ]
     },
     "metadata": {},
     "output_type": "display_data"
    }
   ],
   "source": [
    "personInfoToString (\"Michail\", \"Berlioz\", \"ul. Sadowa 302a, m.50\")"
   ]
  },
  {
   "cell_type": "code",
   "execution_count": 3,
   "id": "2904520a",
   "metadata": {},
   "outputs": [
    {
     "data": {
      "text/plain": [
       "\"name: ul. Sadowa 302a, m.50, surname: Stiopa, addr: Lichodiejew\""
      ]
     },
     "metadata": {},
     "output_type": "display_data"
    }
   ],
   "source": [
    "personInfoToString (\"ul. Sadowa 302a, m.50\", \"Stiopa\", \"Lichodiejew\")"
   ]
  },
  {
   "cell_type": "markdown",
   "id": "5282d02d",
   "metadata": {},
   "source": [
    "**2. Dodać aliasy:**"
   ]
  },
  {
   "cell_type": "code",
   "execution_count": 4,
   "id": "686c8672",
   "metadata": {},
   "outputs": [],
   "source": [
    "type Name' = String\n",
    "type Surname' = String\n",
    "type Address' = String\n",
    "type PersonInfo' = (Name', Surname', Address')\n",
    "type PersonInfoToStringType' = PersonInfo' -> String"
   ]
  },
  {
   "cell_type": "markdown",
   "id": "6cca4ed5",
   "metadata": {},
   "source": [
    "**oraz napisać i sprawdzić działanie funkcji:**"
   ]
  },
  {
   "cell_type": "code",
   "execution_count": 5,
   "id": "35278fc7",
   "metadata": {},
   "outputs": [],
   "source": [
    "personInfoToString' :: PersonInfoToStringType'\n",
    "personInfoToString' (nm, snm, addr) =\n",
    " \"name: \" ++ nm ++ \", surname: \" ++ snm ++ \", addr: \" ++ addr"
   ]
  },
  {
   "cell_type": "code",
   "execution_count": 6,
   "id": "26ee9610",
   "metadata": {},
   "outputs": [
    {
     "data": {
      "text/plain": [
       "\"name: Michail, surname: Berlioz, addr: ul. Sadowa 302a, m.50\""
      ]
     },
     "metadata": {},
     "output_type": "display_data"
    }
   ],
   "source": [
    "personInfoToString' (\"Michail\", \"Berlioz\", \"ul. Sadowa 302a, m.50\")"
   ]
  },
  {
   "cell_type": "markdown",
   "id": "939df2ea",
   "metadata": {},
   "source": [
    "**3. Wykorzystując newtype napisać funkcję:**"
   ]
  },
  {
   "cell_type": "code",
   "execution_count": 7,
   "id": "1b81e504",
   "metadata": {},
   "outputs": [],
   "source": [
    "newtype Name'' a = MkName'' a deriving(Show)\n",
    "newtype Surname'' a = MkSurname'' a deriving(Show)\n",
    "newtype Address'' a = MkAddress'' a deriving(Show)\n",
    "\n",
    "type PersonInfo'' = (Name'' String, Surname'' String, Address'' String)\n",
    "\n",
    "personInfoToString'' :: PersonInfo'' -> String\n",
    "personInfoToString'' (MkName'' nm, MkSurname'' snm, MkAddress'' addr) =\n",
    " \"name: \" ++ nm ++ \", surname: \" ++ snm ++ \", addr: \" ++ addr"
   ]
  },
  {
   "cell_type": "code",
   "execution_count": 8,
   "id": "ca893212",
   "metadata": {},
   "outputs": [
    {
     "data": {
      "text/plain": [
       "\"name: Michail, surname: Berlioz, addr: ul. Sadowa 302a, m.50\""
      ]
     },
     "metadata": {},
     "output_type": "display_data"
    }
   ],
   "source": [
    "personInfoToString'' (MkName'' \"Michail\",\n",
    "                      MkSurname'' \"Berlioz\",\n",
    "                      MkAddress'' \"ul. Sadowa 302a, m.50\")"
   ]
  },
  {
   "cell_type": "markdown",
   "id": "adb17623",
   "metadata": {},
   "source": [
    "**która będzie bardziej ‘odporna’ na błędne dane wejściowe; sprawdzić działanie funkcji.**"
   ]
  },
  {
   "cell_type": "markdown",
   "id": "deabb860",
   "metadata": {},
   "source": [
    "## 2) Algebraiczne typy danych 1: product & sum types, record syntax"
   ]
  },
  {
   "cell_type": "markdown",
   "id": "72cf19cd",
   "metadata": {},
   "source": [
    "**4. Zdefiniować funkcje dostępowe np. xCoord3D itd. dla następującego typu (reprezentacja wektorów w 3D, współrzędne kartezjańskie):**"
   ]
  },
  {
   "cell_type": "code",
   "execution_count": 9,
   "id": "b69fa365",
   "metadata": {},
   "outputs": [],
   "source": [
    "data Cart3DVec a = MkCart3DVec a a a\n",
    "\n",
    "xCord3D :: Cart3DVec a -> a\n",
    "xCord3D (MkCart3DVec x _ _) = x\n",
    "\n",
    "yCord3D :: Cart3DVec a -> a\n",
    "yCord3D (MkCart3DVec _ y _) = y\n",
    "\n",
    "zCord3D :: Cart3DVec a -> a\n",
    "zCord3D (MkCart3DVec _ _ z) = z"
   ]
  },
  {
   "cell_type": "code",
   "execution_count": 10,
   "id": "eb4c12c6",
   "metadata": {},
   "outputs": [
    {
     "data": {
      "text/plain": [
       "5"
      ]
     },
     "metadata": {},
     "output_type": "display_data"
    },
    {
     "data": {
      "text/plain": [
       "6"
      ]
     },
     "metadata": {},
     "output_type": "display_data"
    },
    {
     "data": {
      "text/plain": [
       "10"
      ]
     },
     "metadata": {},
     "output_type": "display_data"
    }
   ],
   "source": [
    "let threeD = MkCart3DVec 5 6 10\n",
    "\n",
    "xCord3D threeD\n",
    "yCord3D threeD\n",
    "zCord3D threeD"
   ]
  },
  {
   "cell_type": "markdown",
   "id": "ccddc1a3",
   "metadata": {},
   "source": [
    "**a następnie sprawdzić ich działanie.**"
   ]
  },
  {
   "cell_type": "markdown",
   "id": "a4122745",
   "metadata": {},
   "source": [
    "**5. Wykorzystując record syntax napisać nową wersję Cart3DVec, a następnie sprawdzić istnienie odpowiednich (wygenerowanych przez kompilator) funkcji dostępowych.**"
   ]
  },
  {
   "cell_type": "code",
   "execution_count": 11,
   "id": "a4d416e0",
   "metadata": {},
   "outputs": [],
   "source": [
    "data Cart3DVec' a = MkCart3DVec' {x3d :: a, y3d :: a, z3d :: a}\n",
    "\n",
    "xCord3D' :: Cart3DVec' a -> a\n",
    "xCord3D' MkCart3DVec' {x3d = xVal, y3d = _, z3d = _} = xVal\n",
    "\n",
    "yCord3D' :: Cart3DVec' a -> a\n",
    "yCord3D' MkCart3DVec' {x3d= _, y3d = yVal, z3d = _} = yVal\n",
    "\n",
    "zCord3D' :: Cart3DVec' a -> a\n",
    "zCord3D' MkCart3DVec' {x3d = _,y3d = _, z3d = zVal} = zVal"
   ]
  },
  {
   "cell_type": "code",
   "execution_count": 12,
   "id": "e2c10c47",
   "metadata": {},
   "outputs": [
    {
     "data": {
      "text/plain": [
       "-10"
      ]
     },
     "metadata": {},
     "output_type": "display_data"
    },
    {
     "data": {
      "text/plain": [
       "12"
      ]
     },
     "metadata": {},
     "output_type": "display_data"
    },
    {
     "data": {
      "text/plain": [
       "1"
      ]
     },
     "metadata": {},
     "output_type": "display_data"
    }
   ],
   "source": [
    "let threeD' = MkCart3DVec' {y3d = 12, z3d = 1, x3d = -10}\n",
    "\n",
    "xCord3D' threeD'\n",
    "yCord3D' threeD'\n",
    "zCord3D' threeD'"
   ]
  },
  {
   "cell_type": "markdown",
   "id": "741afb34",
   "metadata": {},
   "source": [
    "**6. Zdefiniować odpowiednie wersje typów (bez i z record syntax) dla wektorów 2D w układzie biegunowym:**"
   ]
  },
  {
   "cell_type": "markdown",
   "id": "699a5aab",
   "metadata": {},
   "source": [
    "Bez record syntax"
   ]
  },
  {
   "cell_type": "code",
   "execution_count": 13,
   "id": "53cdfef6",
   "metadata": {},
   "outputs": [],
   "source": [
    "data Cart2DVec a = MkCart2DVec a a\n",
    "\n",
    "xCord2D :: Cart2DVec a -> a\n",
    "xCord2D (MkCart2DVec x _) = x\n",
    "\n",
    "yCord2D :: Cart2DVec a -> a\n",
    "yCord2D (MkCart2DVec _ y) = y"
   ]
  },
  {
   "cell_type": "code",
   "execution_count": 14,
   "id": "3085aa54",
   "metadata": {},
   "outputs": [
    {
     "data": {
      "text/plain": [
       "17"
      ]
     },
     "metadata": {},
     "output_type": "display_data"
    },
    {
     "data": {
      "text/plain": [
       "18"
      ]
     },
     "metadata": {},
     "output_type": "display_data"
    }
   ],
   "source": [
    "let twoD = MkCart2DVec 17 18\n",
    "\n",
    "xCord2D twoD\n",
    "yCord2D twoD"
   ]
  },
  {
   "cell_type": "markdown",
   "id": "79d9f960",
   "metadata": {},
   "source": [
    "Z record syntax"
   ]
  },
  {
   "cell_type": "code",
   "execution_count": 15,
   "id": "f7c3bdac",
   "metadata": {},
   "outputs": [],
   "source": [
    "data Cart2DVec' a = MkCart2DVec' {x2d :: a, y2d :: a}\n",
    "\n",
    "xCord2D' :: Cart2DVec' a -> a\n",
    "xCord2D' MkCart2DVec' {x2d = xVal, y2d = _} = xVal\n",
    "\n",
    "yCord2D' :: Cart2DVec' a -> a\n",
    "yCord2D' MkCart2DVec' {x2d = _, y2d = yVal} = yVal"
   ]
  },
  {
   "cell_type": "code",
   "execution_count": 16,
   "id": "1878144c",
   "metadata": {},
   "outputs": [
    {
     "data": {
      "text/plain": [
       "14"
      ]
     },
     "metadata": {},
     "output_type": "display_data"
    },
    {
     "data": {
      "text/plain": [
       "16"
      ]
     },
     "metadata": {},
     "output_type": "display_data"
    }
   ],
   "source": [
    "let twoD' = MkCart2DVec' {x2d = 14, y2d = 16}\n",
    "x2d twoD'\n",
    "y2d twoD'"
   ]
  },
  {
   "cell_type": "markdown",
   "id": "1f6f8c59",
   "metadata": {},
   "source": [
    "**7. Zdefiniować funkcję:**\n",
    "\n",
    "**area :: Shape -> Float**"
   ]
  },
  {
   "cell_type": "markdown",
   "id": "c9f901a2",
   "metadata": {},
   "source": [
    "**obliczającą pole powierzchni (figury płaskiej); założyć, że:**"
   ]
  },
  {
   "cell_type": "code",
   "execution_count": 17,
   "id": "610f769c",
   "metadata": {},
   "outputs": [],
   "source": [
    "data Shape = Circle Float |\n",
    "             Rectangle Float Float"
   ]
  },
  {
   "cell_type": "code",
   "execution_count": 18,
   "id": "732c576a",
   "metadata": {},
   "outputs": [],
   "source": [
    "area :: Shape -> Float\n",
    "area (Circle r) = pi * r^2\n",
    "area (Rectangle a b) = a * b"
   ]
  },
  {
   "cell_type": "code",
   "execution_count": 19,
   "id": "2df76857",
   "metadata": {},
   "outputs": [
    {
     "data": {
      "text/plain": [
       "78.53982"
      ]
     },
     "metadata": {},
     "output_type": "display_data"
    }
   ],
   "source": [
    "area (Circle 5)"
   ]
  },
  {
   "cell_type": "code",
   "execution_count": 20,
   "id": "4474392d",
   "metadata": {},
   "outputs": [
    {
     "data": {
      "text/plain": [
       "67.5"
      ]
     },
     "metadata": {},
     "output_type": "display_data"
    }
   ],
   "source": [
    "area (Rectangle 7.5 9)"
   ]
  },
  {
   "cell_type": "markdown",
   "id": "93a7ec76",
   "metadata": {},
   "source": [
    "**8. Zdefiniować funkcję:**\n",
    "\n",
    "**rootValue :: Tree a -> a**\n",
    "\n",
    "**zwracającą element przechowywany w korzeniu drzewa binarnego zdefiniowanego w następujący sposób:**"
   ]
  },
  {
   "cell_type": "code",
   "execution_count": 21,
   "id": "ff2f4fb2",
   "metadata": {},
   "outputs": [],
   "source": [
    "data Tree a = EmptyT |\n",
    "              Node a (Tree a) (Tree a)\n",
    "              deriving Show"
   ]
  },
  {
   "cell_type": "code",
   "execution_count": 22,
   "id": "37b9f0f4",
   "metadata": {},
   "outputs": [],
   "source": [
    "rootValue :: Tree a -> a\n",
    "rootValue EmptyT = error \"Tree empty\"\n",
    "rootValue (Node a _ _) = a"
   ]
  },
  {
   "cell_type": "code",
   "execution_count": 23,
   "id": "5a5773f2",
   "metadata": {},
   "outputs": [
    {
     "ename": "",
     "evalue": "",
     "output_type": "error",
     "traceback": [
      "Tree empty\nCallStack (from HasCallStack):\n  error, called at <interactive>:2:20 in interactive:Ghci710"
     ]
    }
   ],
   "source": [
    "rootValue EmptyT"
   ]
  },
  {
   "cell_type": "code",
   "execution_count": 24,
   "id": "f2d75c09",
   "metadata": {},
   "outputs": [
    {
     "data": {
      "text/plain": [
       "5"
      ]
     },
     "metadata": {},
     "output_type": "display_data"
    }
   ],
   "source": [
    "rootValue (Node 5 (Node 4 EmptyT EmptyT) EmptyT)"
   ]
  },
  {
   "cell_type": "markdown",
   "id": "5d5fd038",
   "metadata": {},
   "source": [
    "**Uwaga: dla pustego drzewa funkcja powinna zgłaszać błąd (funkcja error).**"
   ]
  },
  {
   "cell_type": "markdown",
   "id": "a01091d2",
   "metadata": {},
   "source": [
    "**9. Zdefiniować typ wyliczeniowy TrafficLights dla sygnalizacji świetlnej oraz funkcję:**\n",
    "\n",
    "**actionFor :: TrafficLights -> String**\n",
    "\n",
    "**podającą, co powinien robić kierowca, widząc dane światło.**"
   ]
  },
  {
   "cell_type": "code",
   "execution_count": 25,
   "id": "b93297b8",
   "metadata": {},
   "outputs": [],
   "source": [
    "data TrafficLights = Red |\n",
    "                      Yellow |\n",
    "                      Green\n",
    "\n",
    "actionFor :: TrafficLights -> String\n",
    "actionFor Red = \"Stop\"\n",
    "actionFor Yellow = \"Prepare\"\n",
    "actionFor Green = \"Go\""
   ]
  },
  {
   "cell_type": "code",
   "execution_count": 26,
   "id": "269ea600",
   "metadata": {},
   "outputs": [
    {
     "data": {
      "text/plain": [
       "\"Prepare\""
      ]
     },
     "metadata": {},
     "output_type": "display_data"
    },
    {
     "data": {
      "text/plain": [
       "\"Go\""
      ]
     },
     "metadata": {},
     "output_type": "display_data"
    }
   ],
   "source": [
    "actionFor Yellow\n",
    "actionFor Green"
   ]
  },
  {
   "cell_type": "markdown",
   "id": "1bb931b3",
   "metadata": {},
   "source": [
    "**10. Zdefiniować typ wyliczeniowy dla ‘akcji’ z poprzedniego zadania (działanie kierowcy w danej sytuacji).**"
   ]
  },
  {
   "cell_type": "code",
   "execution_count": 27,
   "id": "d57b90e3",
   "metadata": {},
   "outputs": [],
   "source": [
    "data DriveAction = Stop |\n",
    "                   Slower |\n",
    "                   Continue\n",
    "                   deriving (Show)\n",
    "\n",
    "wheelAction :: TrafficLights -> DriveAction\n",
    "wheelAction Red = Stop\n",
    "wheelAction Yellow = Slower\n",
    "wheelAction Green = Continue"
   ]
  },
  {
   "cell_type": "code",
   "execution_count": 28,
   "id": "0e9612a4",
   "metadata": {
    "scrolled": true
   },
   "outputs": [
    {
     "data": {
      "text/plain": [
       "Stop"
      ]
     },
     "metadata": {},
     "output_type": "display_data"
    },
    {
     "data": {
      "text/plain": [
       "Continue"
      ]
     },
     "metadata": {},
     "output_type": "display_data"
    }
   ],
   "source": [
    "wheelAction Red\n",
    "wheelAction Green"
   ]
  },
  {
   "cell_type": "markdown",
   "id": "0ca90354",
   "metadata": {},
   "source": [
    "## 3) Algebraiczne typy danych 2: rekursja strukturalna"
   ]
  },
  {
   "cell_type": "code",
   "execution_count": 29,
   "id": "8cf82d5b",
   "metadata": {},
   "outputs": [],
   "source": [
    "data BinTree a = EmptyBT |\n",
    "                 NodeBT a (BinTree a) (BinTree a)"
   ]
  },
  {
   "cell_type": "markdown",
   "id": "148f9b91",
   "metadata": {},
   "source": [
    "**11. Napisać definicje następujących funkcji:**"
   ]
  },
  {
   "cell_type": "markdown",
   "id": "74cf1fd5",
   "metadata": {},
   "source": [
    "depthOfBT -- głębokość drzewa binarnego"
   ]
  },
  {
   "cell_type": "code",
   "execution_count": 30,
   "id": "44436c10",
   "metadata": {},
   "outputs": [],
   "source": [
    "depthOfBT :: BinTree a -> Int\n",
    "depthOfBT EmptyBT = 0\n",
    "depthOfBT (NodeBT n lt rt) = 1 + max (depthOfBT lt) (depthOfBT rt)"
   ]
  },
  {
   "cell_type": "code",
   "execution_count": 31,
   "id": "f79ea3bb",
   "metadata": {},
   "outputs": [
    {
     "data": {
      "text/plain": [
       "2"
      ]
     },
     "metadata": {},
     "output_type": "display_data"
    }
   ],
   "source": [
    "depthOfBT $ NodeBT 5 (NodeBT 2 EmptyBT EmptyBT) (NodeBT 11 EmptyBT EmptyBT)"
   ]
  },
  {
   "cell_type": "markdown",
   "id": "628474be",
   "metadata": {},
   "source": [
    "flattenBT -- napisać trzy wersje: preorder, inorder, postorder"
   ]
  },
  {
   "cell_type": "code",
   "execution_count": 32,
   "id": "41ede3f2",
   "metadata": {},
   "outputs": [],
   "source": [
    "-- preorder\n",
    "flattenBTpr :: BinTree a -> [a]\n",
    "flattenBTpr EmptyBT = []\n",
    "flattenBTpr (NodeBT n lt rt) = [n] ++ flattenBTpr lt ++ flattenBTpr rt"
   ]
  },
  {
   "cell_type": "code",
   "execution_count": 33,
   "id": "18940c27",
   "metadata": {},
   "outputs": [
    {
     "data": {
      "text/plain": [
       "[5,2,11]"
      ]
     },
     "metadata": {},
     "output_type": "display_data"
    }
   ],
   "source": [
    "flattenBTpr $ NodeBT 5 (NodeBT 2 EmptyBT EmptyBT) (NodeBT 11 EmptyBT EmptyBT)"
   ]
  },
  {
   "cell_type": "code",
   "execution_count": 34,
   "id": "ab234050",
   "metadata": {},
   "outputs": [],
   "source": [
    "-- inorder\n",
    "flattenBTin :: BinTree a -> [a]\n",
    "flattenBTin EmptyBT = []\n",
    "flattenBTin (NodeBT n lt rt) = flattenBTin lt ++ [n] ++ flattenBTin rt"
   ]
  },
  {
   "cell_type": "code",
   "execution_count": 35,
   "id": "c36b606b",
   "metadata": {},
   "outputs": [
    {
     "data": {
      "text/plain": [
       "[2,5,11]"
      ]
     },
     "metadata": {},
     "output_type": "display_data"
    }
   ],
   "source": [
    "flattenBTin $ NodeBT 5 (NodeBT 2 EmptyBT EmptyBT) (NodeBT 11 EmptyBT EmptyBT)"
   ]
  },
  {
   "cell_type": "code",
   "execution_count": 36,
   "id": "ce49f8da",
   "metadata": {},
   "outputs": [],
   "source": [
    "-- postorder\n",
    "flattenBTps :: BinTree a -> [a]\n",
    "flattenBTps EmptyBT = []\n",
    "flattenBTps (NodeBT n lt rt) = flattenBTps lt ++ flattenBTps rt ++ [n]"
   ]
  },
  {
   "cell_type": "code",
   "execution_count": 37,
   "id": "f785ec40",
   "metadata": {},
   "outputs": [
    {
     "data": {
      "text/plain": [
       "[2,11,5]"
      ]
     },
     "metadata": {},
     "output_type": "display_data"
    }
   ],
   "source": [
    "flattenBTps $ NodeBT 5 (NodeBT 2 EmptyBT EmptyBT) (NodeBT 11 EmptyBT EmptyBT)"
   ]
  },
  {
   "cell_type": "markdown",
   "id": "9e2a98bd",
   "metadata": {},
   "source": [
    "mapBT -- funkcja map dla drzewa binarnego"
   ]
  },
  {
   "cell_type": "code",
   "execution_count": 38,
   "id": "907148ef",
   "metadata": {},
   "outputs": [],
   "source": [
    "mapBT :: (a -> b) -> BinTree a -> BinTree b\n",
    "mapBT f EmptyBT = EmptyBT\n",
    "mapBT f (NodeBT n lt rt) = NodeBT (f n) (mapBT f lt) (mapBT f rt)"
   ]
  },
  {
   "cell_type": "code",
   "execution_count": 39,
   "id": "2f38fdc1",
   "metadata": {},
   "outputs": [
    {
     "data": {
      "text/plain": [
       "[4,10,22]"
      ]
     },
     "metadata": {},
     "output_type": "display_data"
    }
   ],
   "source": [
    "flattenBTin $ mapBT (*2) (NodeBT 5 (NodeBT 2 EmptyBT EmptyBT) (NodeBT 11 EmptyBT EmptyBT))"
   ]
  },
  {
   "cell_type": "markdown",
   "id": "c12fe3f2",
   "metadata": {},
   "source": [
    "insert -- insert element into BinTree"
   ]
  },
  {
   "cell_type": "code",
   "execution_count": 40,
   "id": "bd81d0f0",
   "metadata": {},
   "outputs": [],
   "source": [
    "insert :: Ord a => a -> BinTree a -> BinTree a\n",
    "insert x EmptyBT = NodeBT x EmptyBT EmptyBT\n",
    "insert x (NodeBT n lt rt)\n",
    "    | n == x = NodeBT n lt rt\n",
    "    | n < x = NodeBT n lt (insert x rt)\n",
    "    | otherwise = NodeBT n (insert x lt) rt"
   ]
  },
  {
   "cell_type": "code",
   "execution_count": 41,
   "id": "ea004729",
   "metadata": {},
   "outputs": [
    {
     "data": {
      "text/plain": [
       "[5,4,9]"
      ]
     },
     "metadata": {},
     "output_type": "display_data"
    }
   ],
   "source": [
    "flattenBTin $ insert 9 (NodeBT 4 (NodeBT 5 EmptyBT EmptyBT) EmptyBT)"
   ]
  },
  {
   "cell_type": "markdown",
   "id": "b82fcafb",
   "metadata": {},
   "source": [
    "list2BST -- list to Binary Search Tree (BST)"
   ]
  },
  {
   "cell_type": "code",
   "execution_count": 42,
   "id": "0a9dce5a",
   "metadata": {},
   "outputs": [
    {
     "data": {
      "text/html": [
       "<style>/* Styles used for the Hoogle display in the pager */\n",
       ".hoogle-doc {\n",
       "display: block;\n",
       "padding-bottom: 1.3em;\n",
       "padding-left: 0.4em;\n",
       "}\n",
       ".hoogle-code {\n",
       "display: block;\n",
       "font-family: monospace;\n",
       "white-space: pre;\n",
       "}\n",
       ".hoogle-text {\n",
       "display: block;\n",
       "}\n",
       ".hoogle-name {\n",
       "color: green;\n",
       "font-weight: bold;\n",
       "}\n",
       ".hoogle-head {\n",
       "font-weight: bold;\n",
       "}\n",
       ".hoogle-sub {\n",
       "display: block;\n",
       "margin-left: 0.4em;\n",
       "}\n",
       ".hoogle-package {\n",
       "font-weight: bold;\n",
       "font-style: italic;\n",
       "}\n",
       ".hoogle-module {\n",
       "font-weight: bold;\n",
       "}\n",
       ".hoogle-class {\n",
       "font-weight: bold;\n",
       "}\n",
       ".get-type {\n",
       "color: green;\n",
       "font-weight: bold;\n",
       "font-family: monospace;\n",
       "display: block;\n",
       "white-space: pre-wrap;\n",
       "}\n",
       ".show-type {\n",
       "color: green;\n",
       "font-weight: bold;\n",
       "font-family: monospace;\n",
       "margin-left: 1em;\n",
       "}\n",
       ".mono {\n",
       "font-family: monospace;\n",
       "display: block;\n",
       "}\n",
       ".err-msg {\n",
       "color: red;\n",
       "font-style: italic;\n",
       "font-family: monospace;\n",
       "white-space: pre;\n",
       "display: block;\n",
       "}\n",
       "#unshowable {\n",
       "color: red;\n",
       "font-weight: bold;\n",
       "}\n",
       ".err-msg.in.collapse {\n",
       "padding-top: 0.7em;\n",
       "}\n",
       ".highlight-code {\n",
       "white-space: pre;\n",
       "font-family: monospace;\n",
       "}\n",
       ".suggestion-warning { \n",
       "font-weight: bold;\n",
       "color: rgb(200, 130, 0);\n",
       "}\n",
       ".suggestion-error { \n",
       "font-weight: bold;\n",
       "color: red;\n",
       "}\n",
       ".suggestion-name {\n",
       "font-weight: bold;\n",
       "}\n",
       "</style><div class=\"suggestion-name\" style=\"clear:both;\">Use foldr</div><div class=\"suggestion-row\" style=\"float: left;\"><div class=\"suggestion-warning\">Found:</div><div class=\"highlight-code\" id=\"haskell\">list2BST [] = EmptyBT\n",
       "list2BST (x : xs) = insert x (list2BST xs)</div></div><div class=\"suggestion-row\" style=\"float: left;\"><div class=\"suggestion-warning\">Why Not:</div><div class=\"highlight-code\" id=\"haskell\">list2BST xs = foldr insert EmptyBT xs</div></div>"
      ],
      "text/plain": [
       "Line 2: Use foldr\n",
       "Found:\n",
       "list2BST [] = EmptyBT\n",
       "list2BST (x : xs) = insert x (list2BST xs)\n",
       "Why not:\n",
       "list2BST xs = foldr insert EmptyBT xs"
      ]
     },
     "metadata": {},
     "output_type": "display_data"
    }
   ],
   "source": [
    "list2BST :: Ord a => [a] -> BinTree a\n",
    "list2BST [] = EmptyBT\n",
    "list2BST (x:xs) = insert x (list2BST xs) "
   ]
  },
  {
   "cell_type": "code",
   "execution_count": 43,
   "id": "b23c78c2",
   "metadata": {},
   "outputs": [
    {
     "data": {
      "text/plain": [
       "[5,6,7,8,9]"
      ]
     },
     "metadata": {},
     "output_type": "display_data"
    }
   ],
   "source": [
    "flattenBTin (list2BST [5, 6, 7, 8, 9])"
   ]
  },
  {
   "cell_type": "markdown",
   "id": "de9014c4",
   "metadata": {},
   "source": [
    "**12. Napisać definicje następujących funkcji:**"
   ]
  },
  {
   "cell_type": "markdown",
   "id": "bfbaa0d8",
   "metadata": {},
   "source": [
    "occurs -- liczba wystąpień elementu w drzewie binarnym"
   ]
  },
  {
   "cell_type": "code",
   "execution_count": 44,
   "id": "48b1bae5",
   "metadata": {},
   "outputs": [],
   "source": [
    "occurs :: Eq a => a -> BinTree a -> Int\n",
    "occurs _ EmptyBT = 0\n",
    "occurs x (NodeBT n lt rt)\n",
    "    | x == n = 1 + occurs x lt + occurs x rt\n",
    "    | otherwise = occurs x lt + occurs x rt"
   ]
  },
  {
   "cell_type": "code",
   "execution_count": 45,
   "id": "02bb12a3",
   "metadata": {},
   "outputs": [
    {
     "data": {
      "text/plain": [
       "2"
      ]
     },
     "metadata": {},
     "output_type": "display_data"
    }
   ],
   "source": [
    "occurs 2 (NodeBT 2 (NodeBT 4 EmptyBT EmptyBT) (NodeBT 2 EmptyBT EmptyBT))"
   ]
  },
  {
   "cell_type": "markdown",
   "id": "06799a38",
   "metadata": {},
   "source": [
    "elemOf -- sprawdzenie, czy element znajduje się w drzewie"
   ]
  },
  {
   "cell_type": "code",
   "execution_count": 46,
   "id": "84eb7e06",
   "metadata": {},
   "outputs": [],
   "source": [
    "elemOf :: Eq a => a -> BinTree a -> Bool\n",
    "elemOf _ EmptyBT = False\n",
    "elemOf x (NodeBT n lt rt)\n",
    "    | x == n = True\n",
    "    | otherwise = elemOf x lt || elemOf x rt"
   ]
  },
  {
   "cell_type": "code",
   "execution_count": 47,
   "id": "7a8ee648",
   "metadata": {},
   "outputs": [
    {
     "data": {
      "text/plain": [
       "True"
      ]
     },
     "metadata": {},
     "output_type": "display_data"
    }
   ],
   "source": [
    "elemOf 4 (NodeBT 2 (NodeBT 4 EmptyBT EmptyBT) (NodeBT 2 EmptyBT EmptyBT))"
   ]
  },
  {
   "cell_type": "markdown",
   "id": "6500e0d6",
   "metadata": {},
   "source": [
    "reflect -- 'odbicie lustrzane' drzewa binarnego"
   ]
  },
  {
   "cell_type": "code",
   "execution_count": 48,
   "id": "0b288472",
   "metadata": {},
   "outputs": [],
   "source": [
    "reflect :: BinTree a -> BinTree a\n",
    "reflect EmptyBT = EmptyBT\n",
    "reflect (NodeBT n lt rt) = NodeBT n (reflect lt) (reflect rt)"
   ]
  },
  {
   "cell_type": "code",
   "execution_count": 49,
   "id": "57816edb",
   "metadata": {},
   "outputs": [
    {
     "data": {
      "text/plain": [
       "[4,2,2]"
      ]
     },
     "metadata": {},
     "output_type": "display_data"
    }
   ],
   "source": [
    "flattenBTin (NodeBT 2 (NodeBT 4 EmptyBT EmptyBT) (NodeBT 2 EmptyBT EmptyBT))"
   ]
  },
  {
   "cell_type": "markdown",
   "id": "a265635c",
   "metadata": {},
   "source": [
    "minElemOf"
   ]
  },
  {
   "cell_type": "code",
   "execution_count": 50,
   "id": "15ae18c3",
   "metadata": {},
   "outputs": [],
   "source": [
    "minElemOf :: Ord a => BinTree a -> a\n",
    "minElemOf EmptyBT = error \"Tree is empty\"\n",
    "minElemOf (NodeBT n lt rt) = loop n (NodeBT n lt rt)\n",
    "    where loop acc EmptyBT = acc\n",
    "          loop acc (NodeBT n lt rt)\n",
    "              | acc < n && acc < minLeft && acc < minRight = acc\n",
    "              | n < acc && n < minLeft && n < minRight = n\n",
    "              | minLeft < acc && minLeft < minRight && minLeft < n = minLeft\n",
    "              | otherwise = minRight\n",
    "              where minLeft = loop acc lt\n",
    "                    minRight = loop acc rt"
   ]
  },
  {
   "cell_type": "code",
   "execution_count": 51,
   "id": "c0c8de31",
   "metadata": {},
   "outputs": [
    {
     "data": {
      "text/plain": [
       "1"
      ]
     },
     "metadata": {},
     "output_type": "display_data"
    }
   ],
   "source": [
    "minElemOf (NodeBT 2 (NodeBT 4 EmptyBT EmptyBT) (NodeBT 1 EmptyBT EmptyBT))"
   ]
  },
  {
   "cell_type": "markdown",
   "id": "6e62ccee",
   "metadata": {},
   "source": [
    "maxElemOf"
   ]
  },
  {
   "cell_type": "code",
   "execution_count": 52,
   "id": "4b6a2f71",
   "metadata": {},
   "outputs": [],
   "source": [
    "-- BST tree\n",
    "maxElemOf :: Ord a => BinTree a -> a\n",
    "maxElemOf EmptyBT = error \"Tree is empty\"\n",
    "maxElemOf (NodeBT n _ EmptyBT) = n\n",
    "maxElemOf (NodeBT n _ rt) = maxElemOf rt"
   ]
  },
  {
   "cell_type": "code",
   "execution_count": 53,
   "id": "ac3426ea",
   "metadata": {},
   "outputs": [
    {
     "data": {
      "text/plain": [
       "5"
      ]
     },
     "metadata": {},
     "output_type": "display_data"
    }
   ],
   "source": [
    "maxElemOf (NodeBT 2 (NodeBT 1 EmptyBT EmptyBT) (NodeBT 5 EmptyBT EmptyBT))"
   ]
  },
  {
   "cell_type": "markdown",
   "id": "1cb5581c",
   "metadata": {},
   "source": [
    "foldBinTree -- fold dla drzewa binarnego"
   ]
  },
  {
   "cell_type": "code",
   "execution_count": 54,
   "id": "8551fe90",
   "metadata": {},
   "outputs": [],
   "source": [
    "foldBinTree :: (a -> b -> b -> b) -> b -> BinTree a -> b\n",
    "foldBinTree _ x EmptyBT = x\n",
    "foldBinTree f x (NodeBT n lt rt) = f n (foldBinTree f x lt) (foldBinTree f x rt)"
   ]
  },
  {
   "cell_type": "code",
   "execution_count": 55,
   "id": "f4725468",
   "metadata": {
    "scrolled": true
   },
   "outputs": [
    {
     "data": {
      "text/plain": [
       "15"
      ]
     },
     "metadata": {},
     "output_type": "display_data"
    }
   ],
   "source": [
    "foldBinTree (\\a b c -> a+b+c) 2 $ NodeBT 2 (NodeBT 4 EmptyBT EmptyBT) (NodeBT 1 EmptyBT EmptyBT)\n",
    "-- 2 + (2 + 2) + (2 + 4) + (2 + 1) = 15<"
   ]
  },
  {
   "cell_type": "markdown",
   "id": "d4474639",
   "metadata": {},
   "source": [
    "**13. Zaproponować implementacje funkcji zipBT (zip dla drzew binarnych).**"
   ]
  },
  {
   "cell_type": "code",
   "execution_count": 56,
   "id": "568fc016",
   "metadata": {},
   "outputs": [],
   "source": [
    "zipBT :: BinTree a -> BinTree b -> BinTree (a, b)\n",
    "zipBT _ EmptyBT = EmptyBT\n",
    "zipBT EmptyBT _ = EmptyBT\n",
    "zipBT (NodeBT n1 l1 r1) (NodeBT n2 l2 r2) = NodeBT (n1, n2) (zipBT l1 l2) (zipBT r1 r2)"
   ]
  },
  {
   "cell_type": "code",
   "execution_count": 57,
   "id": "ff39bc1f",
   "metadata": {},
   "outputs": [
    {
     "data": {
      "text/plain": [
       "[(4,1),(2,7),(2,12)]"
      ]
     },
     "metadata": {},
     "output_type": "display_data"
    }
   ],
   "source": [
    "flattenBTin $ zipBT (NodeBT 2 (NodeBT 4 EmptyBT EmptyBT) (NodeBT 2 EmptyBT EmptyBT)) (NodeBT 7 (NodeBT 1 EmptyBT EmptyBT) (NodeBT 12 EmptyBT EmptyBT))"
   ]
  },
  {
   "cell_type": "markdown",
   "id": "fdb1aed2",
   "metadata": {},
   "source": [
    "**14. Uogólnić typ BinTree do:**"
   ]
  },
  {
   "cell_type": "code",
   "execution_count": 58,
   "id": "947812eb",
   "metadata": {},
   "outputs": [],
   "source": [
    "data GTree a = Leaf a |\n",
    "               GNode [GTree a]\n",
    "               deriving Show"
   ]
  },
  {
   "cell_type": "markdown",
   "id": "a4b1b641",
   "metadata": {},
   "source": [
    "**oraz napisać odpowiednie wersje następujących funkcji:**"
   ]
  },
  {
   "cell_type": "markdown",
   "id": "ab18983c",
   "metadata": {},
   "source": [
    "sumGTree"
   ]
  },
  {
   "cell_type": "code",
   "execution_count": 59,
   "id": "2b8e94d0",
   "metadata": {},
   "outputs": [],
   "source": [
    "sumGTree :: Num a => GTree a -> a\n",
    "sumGTree (Leaf n) = n\n",
    "sumGTree (GNode []) = 0\n",
    "sumGTree (GNode (x:xs)) = sumGTree x + sumGTree (GNode xs)"
   ]
  },
  {
   "cell_type": "code",
   "execution_count": 60,
   "id": "329b8d6b",
   "metadata": {},
   "outputs": [
    {
     "data": {
      "text/plain": [
       "15"
      ]
     },
     "metadata": {},
     "output_type": "display_data"
    },
    {
     "data": {
      "text/plain": [
       "24"
      ]
     },
     "metadata": {},
     "output_type": "display_data"
    }
   ],
   "source": [
    "sumGTree (Leaf 15)\n",
    "sumGTree (GNode [Leaf 4, Leaf 5, GNode [Leaf 15]])"
   ]
  },
  {
   "cell_type": "markdown",
   "id": "d3818962",
   "metadata": {},
   "source": [
    "elemOfGTree"
   ]
  },
  {
   "cell_type": "code",
   "execution_count": 61,
   "id": "f367a98c",
   "metadata": {},
   "outputs": [],
   "source": [
    "elemOfGTree :: Eq a => a -> GTree a -> Bool\n",
    "elemOfGTree n (Leaf x) = n == x\n",
    "elemOfGTree n (GNode []) = False\n",
    "elemOfGTree n (GNode (x:xs)) = elemOfGTree n x || elemOfGTree n (GNode xs)"
   ]
  },
  {
   "cell_type": "code",
   "execution_count": 62,
   "id": "d3eb55c9",
   "metadata": {},
   "outputs": [
    {
     "data": {
      "text/plain": [
       "True"
      ]
     },
     "metadata": {},
     "output_type": "display_data"
    }
   ],
   "source": [
    "elemOfGTree 15 (GNode [Leaf 4, Leaf 5, GNode [Leaf 15]])"
   ]
  },
  {
   "cell_type": "markdown",
   "id": "4b3ddc44",
   "metadata": {},
   "source": [
    "depthOfGTree"
   ]
  },
  {
   "cell_type": "code",
   "execution_count": 63,
   "id": "40839318",
   "metadata": {},
   "outputs": [],
   "source": [
    "depthOfGTree :: GTree a -> Int\n",
    "depthOfGTree (Leaf _) = 0\n",
    "depthOfGTree (GNode [x]) = 1 + depthOfGTree x\n",
    "depthOfGTree (GNode (x:xs))\n",
    "    | depthOfGTree x > depthOfGTree (GNode xs) = 1 + depthOfGTree x\n",
    "    | otherwise = depthOfGTree (GNode xs)"
   ]
  },
  {
   "cell_type": "code",
   "execution_count": 64,
   "id": "2ae4ec96",
   "metadata": {},
   "outputs": [
    {
     "data": {
      "text/plain": [
       "2"
      ]
     },
     "metadata": {},
     "output_type": "display_data"
    }
   ],
   "source": [
    "depthOfGTree (GNode [Leaf 4, Leaf 5, GNode [Leaf 15]])"
   ]
  },
  {
   "cell_type": "markdown",
   "id": "53d6b0e3",
   "metadata": {},
   "source": [
    "mapGTree"
   ]
  },
  {
   "cell_type": "code",
   "execution_count": 65,
   "id": "b5a594e5",
   "metadata": {},
   "outputs": [],
   "source": [
    "mapGTree :: (a -> b) -> GTree a -> GTree b\n",
    "mapGTree f (Leaf x) = Leaf (f x)\n",
    "mapGTree f (GNode xs) = GNode (map (mapGTree f) xs)"
   ]
  },
  {
   "cell_type": "code",
   "execution_count": 66,
   "id": "063f44f4",
   "metadata": {},
   "outputs": [
    {
     "data": {
      "text/plain": [
       "GNode [Leaf 8,Leaf 10,GNode [Leaf 30]]"
      ]
     },
     "metadata": {},
     "output_type": "display_data"
    }
   ],
   "source": [
    "mapGTree (*2) (GNode [Leaf 4, Leaf 5, GNode [Leaf 15]])"
   ]
  },
  {
   "cell_type": "markdown",
   "id": "8957ee53",
   "metadata": {},
   "source": [
    "flattenGTree"
   ]
  },
  {
   "cell_type": "code",
   "execution_count": 67,
   "id": "f78ae591",
   "metadata": {},
   "outputs": [],
   "source": [
    "flattenGTree :: GTree a -> [a]\n",
    "flattenGTree (Leaf x) = [x]\n",
    "flattenGTree (GNode xs) = concatMap flattenGTree xs"
   ]
  },
  {
   "cell_type": "code",
   "execution_count": 68,
   "id": "a1d33eb4",
   "metadata": {},
   "outputs": [
    {
     "data": {
      "text/plain": [
       "[4,5,15,3]"
      ]
     },
     "metadata": {},
     "output_type": "display_data"
    }
   ],
   "source": [
    "flattenGTree (GNode [Leaf 4, Leaf 5, GNode [Leaf 15, Leaf 3]])"
   ]
  },
  {
   "cell_type": "markdown",
   "id": "571573e2",
   "metadata": {},
   "source": [
    "countGTreeLeaves"
   ]
  },
  {
   "cell_type": "code",
   "execution_count": 69,
   "id": "1e680c2d",
   "metadata": {},
   "outputs": [],
   "source": [
    "countGTreeLeaves :: GTree a -> Int\n",
    "countGTreeLeaves (Leaf _) = 1\n",
    "countGTreeLeaves (GNode xs) = sum(map countGTreeLeaves xs)"
   ]
  },
  {
   "cell_type": "code",
   "execution_count": 70,
   "id": "741987ed",
   "metadata": {},
   "outputs": [
    {
     "data": {
      "text/plain": [
       "4"
      ]
     },
     "metadata": {},
     "output_type": "display_data"
    }
   ],
   "source": [
    "countGTreeLeaves (GNode [Leaf 4, Leaf 5, GNode [Leaf 15, Leaf 3]])"
   ]
  },
  {
   "cell_type": "markdown",
   "id": "186e6b21",
   "metadata": {},
   "source": [
    "**15. Rozszerzyć definicję typu data Expr a o operacje odejmowania i mnożenia oraz zmodyfikować odpowiednio funkcje show' i eval'.**"
   ]
  },
  {
   "cell_type": "code",
   "execution_count": 71,
   "id": "111b1536",
   "metadata": {},
   "outputs": [],
   "source": [
    "data Expr a = Lit a\n",
    "              | Add (Expr a) (Expr a)\n",
    "              | Subtr (Expr a) (Expr a)\n",
    "              | Mult (Expr a) (Expr a)"
   ]
  },
  {
   "cell_type": "code",
   "execution_count": 72,
   "id": "efd6d733",
   "metadata": {},
   "outputs": [],
   "source": [
    "eval' :: Num a => Expr a -> a\n",
    "eval' (Lit n) = n\n",
    "eval' (Add e1 e2) = eval' e1 + eval' e2\n",
    "eval' (Subtr e1 e2) = eval' e1 - eval' e2\n",
    "eval' (Mult e1 e2) = eval' e1 * eval' e2"
   ]
  },
  {
   "cell_type": "code",
   "execution_count": 73,
   "id": "147f95aa",
   "metadata": {},
   "outputs": [],
   "source": [
    "show' :: Show a => Expr a -> String\n",
    "show' (Lit n) = show n\n",
    "show' (Add e1 e2) = \"(\" ++ show' e1 ++ \"+\" ++ show' e2 ++ \")\"\n",
    "show' (Subtr e1 e2) = \"(\" ++ show' e1 ++ \"-\" ++ show' e2 ++ \")\"\n",
    "show' (Mult e1 e2) = \"(\" ++ show' e1 ++ \"*\" ++ show' e2 ++ \")\""
   ]
  },
  {
   "cell_type": "code",
   "execution_count": 74,
   "id": "c34c02ab",
   "metadata": {},
   "outputs": [
    {
     "data": {
      "text/plain": [
       "\"4\""
      ]
     },
     "metadata": {},
     "output_type": "display_data"
    },
    {
     "data": {
      "text/plain": [
       "\"(7+5)\""
      ]
     },
     "metadata": {},
     "output_type": "display_data"
    },
    {
     "data": {
      "text/plain": [
       "12"
      ]
     },
     "metadata": {},
     "output_type": "display_data"
    },
    {
     "data": {
      "text/plain": [
       "\"(12-4)\""
      ]
     },
     "metadata": {},
     "output_type": "display_data"
    },
    {
     "data": {
      "text/plain": [
       "8"
      ]
     },
     "metadata": {},
     "output_type": "display_data"
    },
    {
     "data": {
      "text/plain": [
       "\"(3*8)\""
      ]
     },
     "metadata": {},
     "output_type": "display_data"
    },
    {
     "data": {
      "text/plain": [
       "24"
      ]
     },
     "metadata": {},
     "output_type": "display_data"
    }
   ],
   "source": [
    "show' (Lit 4)\n",
    "show' (Add (Lit 7) (Lit 5))\n",
    "eval' (Add (Lit 7) (Lit 5))\n",
    "show' (Subtr (Lit 12) (Lit 4))\n",
    "eval' (Subtr (Lit 12) (Lit 4))\n",
    "show' (Mult (Lit 3) (Lit 8))\n",
    "eval' (Mult (Lit 3) (Lit 8))"
   ]
  },
  {
   "cell_type": "markdown",
   "id": "a9a7b8b6",
   "metadata": {},
   "source": [
    "**16. Zmodyfikować definicję data Expr a wykorzystując ‘infixowe konstruktory’ (uwaga: pierwszym znakiem nazwy musi być w tej notacji ‘:’)**"
   ]
  },
  {
   "cell_type": "code",
   "execution_count": 75,
   "id": "62bdbb59",
   "metadata": {},
   "outputs": [],
   "source": [
    "data Expr a = Lit a |\n",
    "              Expr a :+: Expr a |\n",
    "              Expr a :-: Expr a              "
   ]
  },
  {
   "cell_type": "markdown",
   "id": "7745f6b2",
   "metadata": {},
   "source": [
    "**oraz odpowiednio zmienić funkcje eval i show'.**"
   ]
  },
  {
   "cell_type": "code",
   "execution_count": 76,
   "id": "5020f3e6",
   "metadata": {},
   "outputs": [],
   "source": [
    "eval'' :: Num a => Expr a -> a\n",
    "eval'' (Lit n) = n\n",
    "eval'' (e1 :+: e2) = eval'' e1 + eval'' e2\n",
    "eval'' (e1 :-: e2) = eval'' e1 - eval'' e2"
   ]
  },
  {
   "cell_type": "code",
   "execution_count": 77,
   "id": "1479a2d6",
   "metadata": {},
   "outputs": [],
   "source": [
    "show'' :: Show a => Expr a -> String\n",
    "show'' (Lit n) = show n\n",
    "show'' (e1 :+: e2) = \"(\" ++ show'' e1 ++ \"+\" ++ show'' e2 ++ \")\"\n",
    "show'' (e1 :-: e2) = \"(\" ++ show'' e1 ++ \"-\" ++ show'' e2 ++ \")\""
   ]
  },
  {
   "cell_type": "code",
   "execution_count": 78,
   "id": "2d74c2c3",
   "metadata": {},
   "outputs": [
    {
     "data": {
      "text/plain": [
       "\"4\""
      ]
     },
     "metadata": {},
     "output_type": "display_data"
    },
    {
     "data": {
      "text/plain": [
       "\"(7+5)\""
      ]
     },
     "metadata": {},
     "output_type": "display_data"
    },
    {
     "data": {
      "text/plain": [
       "12"
      ]
     },
     "metadata": {},
     "output_type": "display_data"
    },
    {
     "data": {
      "text/plain": [
       "\"(12-4)\""
      ]
     },
     "metadata": {},
     "output_type": "display_data"
    },
    {
     "data": {
      "text/plain": [
       "8"
      ]
     },
     "metadata": {},
     "output_type": "display_data"
    }
   ],
   "source": [
    "show'' (Lit 4)\n",
    "show'' (Lit 7 :+: Lit 5)\n",
    "eval'' (Lit 7 :+: Lit 5)\n",
    "show'' (Lit 12 :-: Lit 4)\n",
    "eval'' (Lit 12 :-: Lit 4)"
   ]
  },
  {
   "cell_type": "markdown",
   "id": "e465fdcb",
   "metadata": {},
   "source": [
    "# 5) Klasy typów i ich instancje 1: dołączanie typu do istniejącej klasy"
   ]
  },
  {
   "cell_type": "markdown",
   "id": "6cf9d09f",
   "metadata": {},
   "source": [
    "**17. Dołączyć BinTree a do klasy Eq (deklaracja instance Eq a => Eq (BinTree a) where).**"
   ]
  },
  {
   "cell_type": "code",
   "execution_count": 79,
   "id": "735ebccd",
   "metadata": {
    "scrolled": true
   },
   "outputs": [],
   "source": [
    "data BinTree a = EmptyBT |\n",
    "                 NodeBT a (BinTree a) (BinTree a)"
   ]
  },
  {
   "cell_type": "code",
   "execution_count": 80,
   "id": "ad26a3fb",
   "metadata": {},
   "outputs": [],
   "source": [
    "instance Eq a => Eq (BinTree a) where\n",
    "    (==) EmptyBT EmptyBT = True\n",
    "    (==) EmptyBT _       = False\n",
    "    (==) _ EmptyBT       = False\n",
    "    (==) (NodeBT n1 l1 r1) (NodeBT n2 l2 r2) = n1 == n2 && l1 == l2 && r1 == r2"
   ]
  },
  {
   "cell_type": "code",
   "execution_count": 81,
   "id": "cae03567",
   "metadata": {},
   "outputs": [
    {
     "data": {
      "text/plain": [
       "True"
      ]
     },
     "metadata": {},
     "output_type": "display_data"
    },
    {
     "data": {
      "text/plain": [
       "False"
      ]
     },
     "metadata": {},
     "output_type": "display_data"
    }
   ],
   "source": [
    "NodeBT 2 (NodeBT 4 EmptyBT EmptyBT) (NodeBT 1 EmptyBT EmptyBT) == NodeBT 2 (NodeBT 4 EmptyBT EmptyBT) (NodeBT 1 EmptyBT EmptyBT)\n",
    "NodeBT 2 (NodeBT 4 EmptyBT EmptyBT) (NodeBT 1 EmptyBT EmptyBT) == NodeBT 7 (NodeBT 5 EmptyBT EmptyBT) (NodeBT 4 EmptyBT EmptyBT)"
   ]
  },
  {
   "cell_type": "markdown",
   "id": "bd7548a7",
   "metadata": {},
   "source": [
    "**18. Dołączyć Cart3DVec a do klas Eq i Num.**"
   ]
  },
  {
   "cell_type": "code",
   "execution_count": 82,
   "id": "ee08f20c",
   "metadata": {},
   "outputs": [],
   "source": [
    "data Cart3DVec = MkCart3DVec Int Int Int"
   ]
  },
  {
   "cell_type": "code",
   "execution_count": 83,
   "id": "20e9c2fb",
   "metadata": {},
   "outputs": [],
   "source": [
    "instance Eq Cart3DVec where\n",
    "    (==) (MkCart3DVec x1 y1 z1) (MkCart3DVec x2 y2 z2) = x1 == x2 && y1 == y2 && z1 == z2"
   ]
  },
  {
   "cell_type": "code",
   "execution_count": 84,
   "id": "7bec1f9e",
   "metadata": {},
   "outputs": [
    {
     "data": {
      "text/plain": [
       "True"
      ]
     },
     "metadata": {},
     "output_type": "display_data"
    },
    {
     "data": {
      "text/plain": [
       "False"
      ]
     },
     "metadata": {},
     "output_type": "display_data"
    }
   ],
   "source": [
    "MkCart3DVec 5 6 10 == MkCart3DVec 5 6 10\n",
    "MkCart3DVec 5 6 10 == MkCart3DVec 4 6 17"
   ]
  },
  {
   "cell_type": "code",
   "execution_count": 85,
   "id": "46128117",
   "metadata": {},
   "outputs": [],
   "source": [
    "instance Num Cart3DVec where\n",
    "    (+) (MkCart3DVec x1 y1 z1) (MkCart3DVec x2 y2 z2) = MkCart3DVec (x1 + x2) (y1 + y2) (z1 + z2)\n",
    "    (*) (MkCart3DVec x1 y1 z1) (MkCart3DVec x2 y2 z2) = MkCart3DVec (x1 * x2) (y1 * y2) (z1 * z2)\n",
    "    abs (MkCart3DVec x y z) = MkCart3DVec (abs x) (abs y) (abs z)\n",
    "    signum (MkCart3DVec x y z) = MkCart3DVec (signum x) (signum y) (signum z)\n",
    "    fromInteger int = MkCart3DVec (fromIntegral int) (fromIntegral int) (fromIntegral int)\n",
    "    negate (MkCart3DVec x y z) = MkCart3DVec (-x) (-y) (-z)"
   ]
  },
  {
   "cell_type": "code",
   "execution_count": 86,
   "id": "0640c7ed",
   "metadata": {},
   "outputs": [],
   "source": [
    "instance Show Cart3DVec where\n",
    "    show (MkCart3DVec x y z) = \"MkCart3DVec \" ++ show x ++ \" \" ++ show y ++ \" \" ++ show z"
   ]
  },
  {
   "cell_type": "code",
   "execution_count": 87,
   "id": "04148061",
   "metadata": {},
   "outputs": [
    {
     "data": {
      "text/plain": [
       "MkCart3DVec 6 14 13"
      ]
     },
     "metadata": {},
     "output_type": "display_data"
    },
    {
     "data": {
      "text/plain": [
       "MkCart3DVec 4 -2 7"
      ]
     },
     "metadata": {},
     "output_type": "display_data"
    },
    {
     "data": {
      "text/plain": [
       "MkCart3DVec 5 48 30"
      ]
     },
     "metadata": {},
     "output_type": "display_data"
    },
    {
     "data": {
      "text/plain": [
       "MkCart3DVec 5 6 10"
      ]
     },
     "metadata": {},
     "output_type": "display_data"
    },
    {
     "data": {
      "text/plain": [
       "MkCart3DVec 1 -1 0"
      ]
     },
     "metadata": {},
     "output_type": "display_data"
    }
   ],
   "source": [
    "MkCart3DVec 5 6 10 + MkCart3DVec 1 8 3\n",
    "MkCart3DVec 5 6 10 - MkCart3DVec 1 8 3\n",
    "MkCart3DVec 5 6 10 * MkCart3DVec 1 8 3\n",
    "abs(MkCart3DVec (-5) 6 (-10))\n",
    "signum(MkCart3DVec 1 (-8) 0)"
   ]
  },
  {
   "cell_type": "markdown",
   "id": "59a58bc0",
   "metadata": {},
   "source": [
    "**19. Dołączyć typ (reprezentujący liczby wymierne):**"
   ]
  },
  {
   "cell_type": "code",
   "execution_count": 88,
   "id": "1a330efa",
   "metadata": {},
   "outputs": [],
   "source": [
    "data MyFraction a = MkFraction {num::a, denom::a} -- num - numerator, denom - denominator"
   ]
  },
  {
   "cell_type": "markdown",
   "id": "ed7cdff5",
   "metadata": {},
   "source": [
    "**do klas Show, Eq, Ord i Num; sprawdzić poprawność implementacji.**"
   ]
  },
  {
   "cell_type": "code",
   "execution_count": 89,
   "id": "af0ec262",
   "metadata": {},
   "outputs": [],
   "source": [
    "instance Show a => Show (MyFraction a) where\n",
    "    show (MkFraction num denom) = show num ++ \"/\" ++ show denom"
   ]
  },
  {
   "cell_type": "code",
   "execution_count": 90,
   "id": "aeb626fe",
   "metadata": {},
   "outputs": [
    {
     "data": {
      "text/plain": [
       "\"4/5\""
      ]
     },
     "metadata": {},
     "output_type": "display_data"
    }
   ],
   "source": [
    "show (MkFraction 4 5)"
   ]
  },
  {
   "cell_type": "code",
   "execution_count": 91,
   "id": "25844798",
   "metadata": {},
   "outputs": [],
   "source": [
    "instance Eq a => Eq (MyFraction a) where\n",
    "    (==) (MkFraction num1 denom1) (MkFraction num2 denom2) = num1 == num2 && denom1 == denom2"
   ]
  },
  {
   "cell_type": "code",
   "execution_count": 92,
   "id": "2dfb2c41",
   "metadata": {},
   "outputs": [],
   "source": [
    "instance Ord a => Ord (MyFraction a) where\n",
    "    (<=) (MkFraction num1 denom1) (MkFraction num2 denom2) = num1 <= num2 && num1 >= num2"
   ]
  },
  {
   "cell_type": "code",
   "execution_count": 93,
   "id": "5a0bfebf",
   "metadata": {},
   "outputs": [],
   "source": [
    "instance Num a => Num (MyFraction a) where\n",
    "    (+) (MkFraction num1 denom1) (MkFraction num2 denom2) =  MkFraction (num1 + num2) denom1\n",
    "    (*) (MkFraction num1 denom1) (MkFraction num2 denom2) = MkFraction (num1 * num2) (denom1*denom2)\n",
    "    abs (MkFraction num denom) = MkFraction (abs num) (abs denom)\n",
    "    signum (MkFraction num denom) = MkFraction (signum num) (signum denom)\n",
    "    fromInteger int = MkFraction (fromIntegral int) (fromIntegral int)\n",
    "    negate (MkFraction num denom) = MkFraction (- num) denom"
   ]
  },
  {
   "cell_type": "code",
   "execution_count": 94,
   "id": "6dfba9d3",
   "metadata": {},
   "outputs": [
    {
     "data": {
      "text/plain": [
       "True"
      ]
     },
     "metadata": {},
     "output_type": "display_data"
    },
    {
     "data": {
      "text/plain": [
       "False"
      ]
     },
     "metadata": {},
     "output_type": "display_data"
    },
    {
     "data": {
      "text/plain": [
       "True"
      ]
     },
     "metadata": {},
     "output_type": "display_data"
    },
    {
     "data": {
      "text/plain": [
       "False"
      ]
     },
     "metadata": {},
     "output_type": "display_data"
    },
    {
     "data": {
      "text/plain": [
       "12/5"
      ]
     },
     "metadata": {},
     "output_type": "display_data"
    },
    {
     "data": {
      "text/plain": [
       "1/5"
      ]
     },
     "metadata": {},
     "output_type": "display_data"
    },
    {
     "data": {
      "text/plain": [
       "12/25"
      ]
     },
     "metadata": {},
     "output_type": "display_data"
    },
    {
     "data": {
      "text/plain": [
       "4/5"
      ]
     },
     "metadata": {},
     "output_type": "display_data"
    },
    {
     "data": {
      "text/plain": [
       "8/5"
      ]
     },
     "metadata": {},
     "output_type": "display_data"
    }
   ],
   "source": [
    "MkFraction 4 5 == MkFraction 4 5\n",
    "MkFraction 4 5 == MkFraction 7 9\n",
    "MkFraction 4 5 > MkFraction 7 9\n",
    "MkFraction 4 5 <= MkFraction 7 9\n",
    "MkFraction 4 5 + MkFraction 8 5\n",
    "MkFraction 4 5 - MkFraction 3 5\n",
    "MkFraction 4 5 * MkFraction 3 5\n",
    "abs (MkFraction (-4) 5)\n",
    "negate (MkFraction (-8) 5)"
   ]
  },
  {
   "cell_type": "markdown",
   "id": "58d195b5",
   "metadata": {},
   "source": [
    "**20. Zaproponować implementację operatora < dla Cart3DVec a; sprawdzić, czy kompilator może wygenerować automatycznie (jakąkolwiek) implementację operatora <.**"
   ]
  },
  {
   "cell_type": "code",
   "execution_count": 95,
   "id": "9ebafaf8",
   "metadata": {},
   "outputs": [],
   "source": [
    "instance Ord Cart3DVec where\n",
    "    (<=) (MkCart3DVec x1 y1 z1) (MkCart3DVec x2 y2 z2) = x1 <= x2 && y1 <= y2 && z1 <= z2"
   ]
  },
  {
   "cell_type": "code",
   "execution_count": 96,
   "id": "a626f446",
   "metadata": {},
   "outputs": [
    {
     "data": {
      "text/plain": [
       "True"
      ]
     },
     "metadata": {},
     "output_type": "display_data"
    }
   ],
   "source": [
    "MkCart3DVec 5 6 10 > MkCart3DVec 1 8 11"
   ]
  },
  {
   "cell_type": "markdown",
   "id": "06ce52fd",
   "metadata": {},
   "source": [
    "# 6) Klasy typów i ich instancje 2: tworzenie własnych klas typów"
   ]
  },
  {
   "cell_type": "code",
   "execution_count": 97,
   "id": "759990fe",
   "metadata": {},
   "outputs": [],
   "source": [
    "class Mappable t where \n",
    "    fMap :: (a -> b) -> t a -> t b"
   ]
  },
  {
   "cell_type": "markdown",
   "id": "2aa1dde4",
   "metadata": {},
   "source": [
    "**21. Dodać typ:**"
   ]
  },
  {
   "cell_type": "code",
   "execution_count": 98,
   "id": "584b3dff",
   "metadata": {},
   "outputs": [],
   "source": [
    "data BinTree a = EmptyBT |\n",
    "                 NodeBT a (BinTree a) (BinTree a)\n",
    "                 deriving Show"
   ]
  },
  {
   "cell_type": "markdown",
   "id": "5759be15",
   "metadata": {},
   "source": [
    "**do klasy Mappable; sprawdzić działanie fMap dla kilku drzew.**"
   ]
  },
  {
   "cell_type": "code",
   "execution_count": 99,
   "id": "e733e037",
   "metadata": {},
   "outputs": [],
   "source": [
    "instance Mappable BinTree where\n",
    "    fMap _ EmptyBT = EmptyBT\n",
    "    fMap f (NodeBT n lt rt) = NodeBT (f n) (fMap f lt) (fMap f rt)"
   ]
  },
  {
   "cell_type": "code",
   "execution_count": 100,
   "id": "83ac5f87",
   "metadata": {},
   "outputs": [
    {
     "data": {
      "text/plain": [
       "NodeBT 4 (NodeBT 8 EmptyBT EmptyBT) (NodeBT 2 EmptyBT EmptyBT)"
      ]
     },
     "metadata": {},
     "output_type": "display_data"
    }
   ],
   "source": [
    "fMap (*2) (NodeBT 2 (NodeBT 4 EmptyBT EmptyBT) (NodeBT 1 EmptyBT EmptyBT))"
   ]
  },
  {
   "cell_type": "markdown",
   "id": "7771e3ff",
   "metadata": {},
   "source": [
    "**22. Dołączyć Maybe do klasy Mappable (deklaracja instance Mappable Maybe).**"
   ]
  },
  {
   "cell_type": "code",
   "execution_count": 101,
   "id": "083fa7f9",
   "metadata": {},
   "outputs": [],
   "source": [
    "instance Mappable Maybe where\n",
    "    fMap _ Nothing = Nothing\n",
    "    fMap f (Just x) = Just (f x)"
   ]
  },
  {
   "cell_type": "code",
   "execution_count": 102,
   "id": "41c829cf",
   "metadata": {},
   "outputs": [
    {
     "data": {
      "text/plain": [
       "Just 25"
      ]
     },
     "metadata": {},
     "output_type": "display_data"
    }
   ],
   "source": [
    "fMap (^2) (Just 5)"
   ]
  },
  {
   "cell_type": "markdown",
   "id": "d0f73156",
   "metadata": {},
   "source": [
    "**23. Dołączyć Either do klasy Mappable (uwaga na liczbę parametrów typu).**"
   ]
  },
  {
   "cell_type": "code",
   "execution_count": 106,
   "id": "1a4c7055",
   "metadata": {},
   "outputs": [],
   "source": [
    "instance Mappable (Either a) where\n",
    "    fMap f (Left x) = Left x\n",
    "    fMap f (Right y) = Right (f y)"
   ]
  },
  {
   "cell_type": "markdown",
   "id": "30623675",
   "metadata": {},
   "source": [
    "**24. Uzupełnić definicję:**\n",
    "\n",
    "**instance Mappable ((->) a) where**\n",
    "\n",
    "**fMap f g = ___**"
   ]
  },
  {
   "cell_type": "code",
   "execution_count": 108,
   "id": "792e1ed8",
   "metadata": {},
   "outputs": [],
   "source": [
    "instance Mappable ((->) a) where\n",
    "  fMap f g = f . g"
   ]
  },
  {
   "cell_type": "markdown",
   "id": "3d7fc397",
   "metadata": {},
   "source": [
    "**25. Zdefiniować klasę:**"
   ]
  },
  {
   "cell_type": "code",
   "execution_count": 109,
   "id": "a7e7dece",
   "metadata": {},
   "outputs": [],
   "source": [
    "class VectorLike t where\n",
    " (|==|) :: Eq a => t a -> t a -> Bool\n",
    " (|+|), (|-|) :: (Num a) => t a -> t a -> t a\n",
    " (|*|) :: (Num a) => t a -> t a -> a\n",
    " (||?), (|-?) :: (Num a, Eq a) => t a -> t a -> Bool -- równoległość i prostopadłość\n",
    " vectLength :: Floating a => t a -> a\n",
    " unitVectOf :: Floating a => t a -> t a"
   ]
  },
  {
   "cell_type": "markdown",
   "id": "c9349ec9",
   "metadata": {},
   "source": [
    "**a następnie jej instancje dla Vec2D i Vec3D (tj. dodać te typy do klasy VectorLike).**"
   ]
  },
  {
   "cell_type": "code",
   "execution_count": 110,
   "id": "ab17b980",
   "metadata": {},
   "outputs": [],
   "source": [
    "data Vec2D a = Vec2D {a::a, b::a} deriving Show"
   ]
  },
  {
   "cell_type": "code",
   "execution_count": 111,
   "id": "0f8df3a1",
   "metadata": {},
   "outputs": [],
   "source": [
    "instance VectorLike Vec2D where\n",
    "    (|==|) (Vec2D x1 y1) (Vec2D x2 y2) = x1 == x2 && y1 == y2\n",
    "    (|+|) (Vec2D x1 y1) (Vec2D x2 y2) = Vec2D (x1 + x2) (y1 + y2)\n",
    "    (|*|) (Vec2D x1 y1) (Vec2D x2 y2) = (x1 * x2) + (y1 * y2)\n",
    "    (||?) (Vec2D x1 y1) (Vec2D x2 y2) = (x1 * y2) - (x2 * y1) == 0\n",
    "    (|-?) (Vec2D x1 y1) (Vec2D x2 y2) = Vec2D x1 y1 |*| Vec2D x2 y2 == 0\n",
    "    vectLength (Vec2D x y) = sqrt(x^2 + y^2)\n",
    "    unitVectOf (Vec2D x y) = let vectorLength = vectLength(Vec2D x y)\n",
    "                             in Vec2D (x/ vectorLength) (y/ vectorLength)"
   ]
  },
  {
   "cell_type": "code",
   "execution_count": 112,
   "id": "3d40e94d",
   "metadata": {},
   "outputs": [
    {
     "data": {
      "text/plain": [
       "False"
      ]
     },
     "metadata": {},
     "output_type": "display_data"
    },
    {
     "data": {
      "text/plain": [
       "True"
      ]
     },
     "metadata": {},
     "output_type": "display_data"
    },
    {
     "data": {
      "text/plain": [
       "Vec2D {a = 12, b = 17}"
      ]
     },
     "metadata": {},
     "output_type": "display_data"
    },
    {
     "data": {
      "text/plain": [
       "107"
      ]
     },
     "metadata": {},
     "output_type": "display_data"
    },
    {
     "data": {
      "text/plain": [
       "False"
      ]
     },
     "metadata": {},
     "output_type": "display_data"
    },
    {
     "data": {
      "text/plain": [
       "False"
      ]
     },
     "metadata": {},
     "output_type": "display_data"
    },
    {
     "data": {
      "text/plain": [
       "10.63014581273465"
      ]
     },
     "metadata": {},
     "output_type": "display_data"
    },
    {
     "data": {
      "text/plain": [
       "Vec2D {a = 0.658504607868518, b = 0.7525766947068778}"
      ]
     },
     "metadata": {},
     "output_type": "display_data"
    }
   ],
   "source": [
    "Vec2D 7 8 |==| Vec2D 5 9\n",
    "Vec2D 7 8 |==| Vec2D 7 8\n",
    "Vec2D 7 8 |+| Vec2D 5 9\n",
    "Vec2D 7 8 |*| Vec2D 5 9\n",
    "Vec2D 7 8 ||? Vec2D 5 9\n",
    "Vec2D 7 8 |-? Vec2D 5 9\n",
    "vectLength (Vec2D 7 8)\n",
    "unitVectOf (Vec2D 7 8)"
   ]
  },
  {
   "cell_type": "code",
   "execution_count": 113,
   "id": "f1a21f8c",
   "metadata": {},
   "outputs": [],
   "source": [
    "data Vec3D a = Vec3D {a::a, b::a, c::a} deriving Show"
   ]
  },
  {
   "cell_type": "code",
   "execution_count": 114,
   "id": "4a09dcf0",
   "metadata": {},
   "outputs": [],
   "source": [
    "instance VectorLike Vec3D where\n",
    "    (|==|) (Vec3D x1 y1 z1) (Vec3D x2 y2 z2) = x1 == x2 && y1 == y2 && z1 == z2\n",
    "    (|+|) (Vec3D x1 y1 z1) (Vec3D x2 y2 z2) = Vec3D (x1 + x2) (y1 + y2) (z1 + z2)\n",
    "    (|*|) (Vec3D x1 y1 z1) (Vec3D x2 y2 z2) = (x1 * x2) + (y1 * y2) + (z1 * z2)   \n",
    "    vectLength (Vec3D x y z) = sqrt(x^2 + y^2 + z^2)\n",
    "    unitVectOf (Vec3D x y z) = let vectorLength = vectLength(Vec3D x y z)\n",
    "                             in Vec3D (x/ vectorLength) (y/ vectorLength) (z/vectorLength)"
   ]
  },
  {
   "cell_type": "code",
   "execution_count": 115,
   "id": "d6890246",
   "metadata": {},
   "outputs": [
    {
     "data": {
      "text/plain": [
       "False"
      ]
     },
     "metadata": {},
     "output_type": "display_data"
    },
    {
     "data": {
      "text/plain": [
       "True"
      ]
     },
     "metadata": {},
     "output_type": "display_data"
    },
    {
     "data": {
      "text/plain": [
       "Vec3D {a = 12, b = 17, c = 21}"
      ]
     },
     "metadata": {},
     "output_type": "display_data"
    },
    {
     "data": {
      "text/plain": [
       "215"
      ]
     },
     "metadata": {},
     "output_type": "display_data"
    },
    {
     "data": {
      "text/plain": [
       "15.811388300841896"
      ]
     },
     "metadata": {},
     "output_type": "display_data"
    },
    {
     "data": {
      "text/plain": [
       "Vec3D {a = 0.31622776601683794, b = 0.5692099788303083, c = 0.7589466384404111}"
      ]
     },
     "metadata": {},
     "output_type": "display_data"
    }
   ],
   "source": [
    "Vec3D 7 8 9 |==| Vec3D 5 9 12\n",
    "Vec3D 7 8 9 |==| Vec3D 7 8 9\n",
    "Vec3D 7 8 9 |+| Vec3D 5 9 12\n",
    "Vec3D 7 8 9 |*| Vec3D 5 9 12\n",
    "vectLength (Vec3D 5 9 12)\n",
    "unitVectOf (Vec3D 5 9 12)"
   ]
  },
  {
   "cell_type": "markdown",
   "id": "a4c33dce",
   "metadata": {},
   "source": [
    "# 8) Moduły jako mechanizm definicji abstrakcyjnych typów danych (ADT)"
   ]
  },
  {
   "cell_type": "markdown",
   "id": "eaadba92",
   "metadata": {},
   "source": [
    "**26. Zaimplementować następujący ADT dla kolejki:**"
   ]
  },
  {
   "cell_type": "code",
   "execution_count": 116,
   "id": "cabb2ec5",
   "metadata": {},
   "outputs": [],
   "source": [
    "module Queue\n",
    "  ( Queue\n",
    "  , emptyQ   -- :: Queue a\n",
    "  , isEmptyQ -- :: Queue a -> Bool\n",
    "  , addQ     -- :: a -> Queue a -> Queue a\n",
    "  , remQ     -- :: Queue a -> (a, Queue a)\n",
    "  ) where\n",
    "  \n",
    "emptyQ :: Queue a \n",
    "isEmptyQ :: Queue a -> Bool\n",
    "addQ :: a -> Queue a -> Queue a\n",
    "remQ :: Queue a -> (a, Queue a)\n",
    "\n",
    "newtype Queue a = MkQueue [a] deriving Show\n",
    "\n",
    "emptyQ = MkQueue []\n",
    "isEmptyQ (MkQueue q) = null q\n",
    "addQ x (MkQueue q) = MkQueue (x:q)\n",
    "remQ (MkQueue (q:qs)) = (q, MkQueue qs)"
   ]
  },
  {
   "cell_type": "code",
   "execution_count": 117,
   "id": "d44c410f",
   "metadata": {},
   "outputs": [
    {
     "data": {
      "text/plain": [
       "MkQueue []"
      ]
     },
     "metadata": {},
     "output_type": "display_data"
    },
    {
     "data": {
      "text/plain": [
       "MkQueue [1]"
      ]
     },
     "metadata": {},
     "output_type": "display_data"
    },
    {
     "data": {
      "text/plain": [
       "MkQueue [[1,2,3]]"
      ]
     },
     "metadata": {},
     "output_type": "display_data"
    },
    {
     "data": {
      "text/plain": [
       "(2,MkQueue [5,7])"
      ]
     },
     "metadata": {},
     "output_type": "display_data"
    }
   ],
   "source": [
    ":module -Queue\n",
    "import Queue\n",
    "emptyQ\n",
    "addQ 1 $ emptyQ\n",
    "addQ [1,2,3] $ emptyQ\n",
    "remQ $ addQ 2 $ addQ 5 $ addQ 7 $ emptyQ"
   ]
  },
  {
   "cell_type": "markdown",
   "id": "28da02d7",
   "metadata": {},
   "source": [
    "**27. Zaimplementować następujący ADT dla kolejki dwukierunkowej:**"
   ]
  },
  {
   "cell_type": "code",
   "execution_count": 119,
   "id": "c4acdd43",
   "metadata": {},
   "outputs": [],
   "source": [
    "module Dequeue\n",
    "    ( Dequeue\n",
    "    , emptyDEQ\n",
    "    , isEmptyDEQ\n",
    "    , lengthDEQ\n",
    "    , firstDEQ\n",
    "    , lastDEQ\n",
    "    , takeFrontDEQ\n",
    "    , takeBackDEQ\n",
    "    , pushFrontDEQ\n",
    "    , popFrontDEQ\n",
    "    , pushBackDEQ\n",
    "    , popBackDEQ\n",
    "    , fromListDEQ\n",
    "    ) where\n",
    "\n",
    "emptyDEQ :: Dequeue a\n",
    "isEmptyDEQ :: Dequeue a -> Bool\n",
    "lengthDEQ :: Dequeue a -> Int -- O(1)\n",
    "firstDEQ :: Dequeue a -> Maybe a --  O(1)\n",
    "lastDEQ :: Dequeue a -> Maybe a -- O(1)\n",
    "takeFrontDEQ :: Int -> Dequeue a -> [a] -- O(n)\n",
    "takeBackDEQ :: Int -> Dequeue a -> [a] -- O(n)\n",
    "pushFrontDEQ :: Dequeue a -> a -> Dequeue a -- O(1) amortised\n",
    "popFrontDEQ :: Dequeue a -> Maybe (a, Dequeue a) -- O(1) amortised\n",
    "pushBackDEQ :: Dequeue a -> a -> Dequeue a -- O(1) amortised\n",
    "popBackDEQ :: Dequeue a -> Maybe (a, Dequeue a) -- O(1) amortised\n",
    "fromListDEQ :: [a] -> Dequeue a -- O(n)\n",
    "\n",
    "newtype Dequeue a = MkDequeue [a] deriving Show\n",
    "\n",
    "emptyDEQ = MkDequeue []\n",
    "--\n",
    "isEmptyDEQ (MkDequeue qs) = null qs\n",
    "--\n",
    "lengthDEQ (MkDequeue qs) = length qs\n",
    "--\n",
    "firstDEQ (MkDequeue []) = Nothing\n",
    "firstDEQ (MkDequeue (q:qs)) = Just q\n",
    "--\n",
    "lastDEQ (MkDequeue []) = Nothing\n",
    "lastDEQ (MkDequeue qs) = Just (last qs)\n",
    "--\n",
    "takeFrontDEQ n (MkDequeue (q:qs)) | n == 0 = []\n",
    "                                  | otherwise = q : takeFrontDEQ (n-1) (MkDequeue qs)\n",
    "--                                \n",
    "takeBackDEQ n (MkDequeue qss) = takeLastN (length qss - n) qss\n",
    "                            where takeLastN num (q:qs) | num > 0   = takeLastN (num - 1) qs\n",
    "                                                       | null qs   = [q]\n",
    "--                                                        | otherwise = (takeLastN num qs) ++ [q] \n",
    "pushFrontDEQ (MkDequeue qs) x = MkDequeue (x:qs)\n",
    "--\n",
    "popFrontDEQ (MkDequeue [])     = Nothing\n",
    "popFrontDEQ (MkDequeue (q:qs)) = Just (q, MkDequeue qs)\n",
    "--\n",
    "pushBackDEQ (MkDequeue qs) x = MkDequeue (qs ++ [x])\n",
    "--\n",
    "popBackDEQ (MkDequeue []) = Nothing\n",
    "popBackDEQ (MkDequeue qs) = Just (last qs, MkDequeue (init qs))\n",
    "--\n",
    "fromListDEQ = MkDequeue"
   ]
  }
 ],
 "metadata": {
  "kernelspec": {
   "display_name": "Haskell",
   "language": "haskell",
   "name": "haskell"
  },
  "language_info": {
   "codemirror_mode": "ihaskell",
   "file_extension": ".hs",
   "mimetype": "text/x-haskell",
   "name": "haskell",
   "pygments_lexer": "Haskell",
   "version": "8.10.7"
  }
 },
 "nbformat": 4,
 "nbformat_minor": 5
}

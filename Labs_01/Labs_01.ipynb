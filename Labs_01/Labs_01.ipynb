{
 "cells": [
  {
   "cell_type": "markdown",
   "id": "0a9f0c96",
   "metadata": {},
   "source": [
    "# Labs 1"
   ]
  },
  {
   "cell_type": "markdown",
   "id": "d55e6c05",
   "metadata": {},
   "source": [
    "**1. Zdefiniować funkcję obliczającą długość wektora w 3D**"
   ]
  },
  {
   "cell_type": "code",
   "execution_count": 1,
   "id": "1a5620ac",
   "metadata": {},
   "outputs": [],
   "source": [
    "vec3DLen :: (Double, Double, Double) -> Double\n",
    "vec3DLen (x, y, z) = sqrt(x^2 + y^2 + z^2)"
   ]
  },
  {
   "cell_type": "code",
   "execution_count": 2,
   "id": "a7df4bd7",
   "metadata": {},
   "outputs": [
    {
     "data": {
      "text/plain": [
       "6.708203932499369"
      ]
     },
     "metadata": {},
     "output_type": "display_data"
    }
   ],
   "source": [
    "vec3DLen (4, 2, 5)"
   ]
  },
  {
   "cell_type": "markdown",
   "id": "1a81be8c",
   "metadata": {},
   "source": [
    "**2. Zdefiniować funkcję swap**"
   ]
  },
  {
   "cell_type": "code",
   "execution_count": 3,
   "id": "410de2ad",
   "metadata": {},
   "outputs": [],
   "source": [
    "swap :: (Int, Char) -> (Char, Int)\n",
    "swap (number, char) = (char, number)"
   ]
  },
  {
   "cell_type": "code",
   "execution_count": 4,
   "id": "92f5aac7",
   "metadata": {},
   "outputs": [
    {
     "data": {
      "text/plain": [
       "('a',5)"
      ]
     },
     "metadata": {},
     "output_type": "display_data"
    }
   ],
   "source": [
    "swap (5, 'a')"
   ]
  },
  {
   "cell_type": "markdown",
   "id": "6e31b4ac",
   "metadata": {},
   "source": [
    "**3. Zdefiniować funkcję sprawdzającą, czy przekazane trzy liczby całkowite są równe**"
   ]
  },
  {
   "cell_type": "code",
   "execution_count": 5,
   "id": "36792586",
   "metadata": {},
   "outputs": [],
   "source": [
    "threeEqual :: (Int, Int, Int) -> Bool\n",
    "threeEqual (x, y, z) = x == y && x == z"
   ]
  },
  {
   "cell_type": "code",
   "execution_count": 6,
   "id": "7c39b27f",
   "metadata": {},
   "outputs": [
    {
     "data": {
      "text/plain": [
       "True"
      ]
     },
     "metadata": {},
     "output_type": "display_data"
    },
    {
     "data": {
      "text/plain": [
       "False"
      ]
     },
     "metadata": {},
     "output_type": "display_data"
    }
   ],
   "source": [
    "threeEqual (4, 4, 4)\n",
    "threeEqual(1, 3, 7)"
   ]
  },
  {
   "cell_type": "markdown",
   "id": "15c65cfa",
   "metadata": {},
   "source": [
    "**4. Zdefiniować (bez użycia where, let...in) funkcję obliczającą pole trójkąta, jeśli znane są długości a, bi c jego boków (wzór Herona)**"
   ]
  },
  {
   "cell_type": "code",
   "execution_count": 7,
   "id": "114a491b",
   "metadata": {},
   "outputs": [],
   "source": [
    "triangleArea :: (Double, Double, Double) -> Double\n",
    "triangleArea (a, b, c) = sqrt((a+b+c)/2 * ((a+b+c)/2 - a) * ((a+b+c)/2 - b) * ((a+b+c)/2 -c))"
   ]
  },
  {
   "cell_type": "code",
   "execution_count": 8,
   "id": "5470001e",
   "metadata": {},
   "outputs": [
    {
     "data": {
      "text/plain": [
       "17.66175246118006"
      ]
     },
     "metadata": {},
     "output_type": "display_data"
    }
   ],
   "source": [
    "triangleArea(4, 12, 15)"
   ]
  },
  {
   "cell_type": "markdown",
   "id": "2a2fb2ea",
   "metadata": {},
   "source": [
    "**5. Używając if...else zdefiniować funkcję obliczającą wartość bezwzględną liczby całkowitej**"
   ]
  },
  {
   "cell_type": "code",
   "execution_count": 9,
   "id": "45d4ef56",
   "metadata": {},
   "outputs": [],
   "source": [
    "absInt :: Int -> Int\n",
    "absInt number =\n",
    "    if number < 0\n",
    "    then -number\n",
    "    else number"
   ]
  },
  {
   "cell_type": "code",
   "execution_count": 10,
   "id": "18ddaa01",
   "metadata": {},
   "outputs": [
    {
     "data": {
      "text/plain": [
       "4"
      ]
     },
     "metadata": {},
     "output_type": "display_data"
    },
    {
     "data": {
      "text/plain": [
       "2"
      ]
     },
     "metadata": {},
     "output_type": "display_data"
    },
    {
     "data": {
      "text/plain": [
       "0"
      ]
     },
     "metadata": {},
     "output_type": "display_data"
    }
   ],
   "source": [
    "absInt 4\n",
    "absInt (-2)\n",
    "absInt 0"
   ]
  },
  {
   "cell_type": "markdown",
   "id": "30acd72b",
   "metadata": {},
   "source": [
    "**6. Używając if...else zdefiniować funkcję min2Int**"
   ]
  },
  {
   "cell_type": "code",
   "execution_count": 11,
   "id": "615c48ad",
   "metadata": {},
   "outputs": [],
   "source": [
    "min2Int :: (Int, Int) -> Int\n",
    "min2Int (num1, num2) =\n",
    "    if num1 >= num2\n",
    "    then num2\n",
    "    else num1"
   ]
  },
  {
   "cell_type": "code",
   "execution_count": 12,
   "id": "c780ed11",
   "metadata": {},
   "outputs": [
    {
     "data": {
      "text/plain": [
       "1"
      ]
     },
     "metadata": {},
     "output_type": "display_data"
    },
    {
     "data": {
      "text/plain": [
       "-1"
      ]
     },
     "metadata": {},
     "output_type": "display_data"
    }
   ],
   "source": [
    "min2Int (1,2)\n",
    "min2Int(-1, -1)"
   ]
  },
  {
   "cell_type": "markdown",
   "id": "2a10e87c",
   "metadata": {},
   "source": [
    "**7. Używając if...else zdefiniować funkcję min3Int**"
   ]
  },
  {
   "cell_type": "code",
   "execution_count": 13,
   "id": "5623d9bc",
   "metadata": {},
   "outputs": [
    {
     "data": {
      "text/html": [
       "<style>/* Styles used for the Hoogle display in the pager */\n",
       ".hoogle-doc {\n",
       "display: block;\n",
       "padding-bottom: 1.3em;\n",
       "padding-left: 0.4em;\n",
       "}\n",
       ".hoogle-code {\n",
       "display: block;\n",
       "font-family: monospace;\n",
       "white-space: pre;\n",
       "}\n",
       ".hoogle-text {\n",
       "display: block;\n",
       "}\n",
       ".hoogle-name {\n",
       "color: green;\n",
       "font-weight: bold;\n",
       "}\n",
       ".hoogle-head {\n",
       "font-weight: bold;\n",
       "}\n",
       ".hoogle-sub {\n",
       "display: block;\n",
       "margin-left: 0.4em;\n",
       "}\n",
       ".hoogle-package {\n",
       "font-weight: bold;\n",
       "font-style: italic;\n",
       "}\n",
       ".hoogle-module {\n",
       "font-weight: bold;\n",
       "}\n",
       ".hoogle-class {\n",
       "font-weight: bold;\n",
       "}\n",
       ".get-type {\n",
       "color: green;\n",
       "font-weight: bold;\n",
       "font-family: monospace;\n",
       "display: block;\n",
       "white-space: pre-wrap;\n",
       "}\n",
       ".show-type {\n",
       "color: green;\n",
       "font-weight: bold;\n",
       "font-family: monospace;\n",
       "margin-left: 1em;\n",
       "}\n",
       ".mono {\n",
       "font-family: monospace;\n",
       "display: block;\n",
       "}\n",
       ".err-msg {\n",
       "color: red;\n",
       "font-style: italic;\n",
       "font-family: monospace;\n",
       "white-space: pre;\n",
       "display: block;\n",
       "}\n",
       "#unshowable {\n",
       "color: red;\n",
       "font-weight: bold;\n",
       "}\n",
       ".err-msg.in.collapse {\n",
       "padding-top: 0.7em;\n",
       "}\n",
       ".highlight-code {\n",
       "white-space: pre;\n",
       "font-family: monospace;\n",
       "}\n",
       ".suggestion-warning { \n",
       "font-weight: bold;\n",
       "color: rgb(200, 130, 0);\n",
       "}\n",
       ".suggestion-error { \n",
       "font-weight: bold;\n",
       "color: red;\n",
       "}\n",
       ".suggestion-name {\n",
       "font-weight: bold;\n",
       "}\n",
       "</style><div class=\"suggestion-name\" style=\"clear:both;\">Use guards</div><div class=\"suggestion-row\" style=\"float: left;\"><div class=\"suggestion-warning\">Found:</div><div class=\"highlight-code\" id=\"haskell\">min3Int (num1, num2, num3)\n",
       "  = if num1 <= num2 && num1 <= num3 then\n",
       "        num1\n",
       "    else\n",
       "        if num1 <= num3 && num2 <= num3 then num2 else num3</div></div><div class=\"suggestion-row\" style=\"float: left;\"><div class=\"suggestion-warning\">Why Not:</div><div class=\"highlight-code\" id=\"haskell\">min3Int (num1, num2, num3)\n",
       "  | num1 <= num2 && num1 <= num3 = num1\n",
       "  | num1 <= num3 && num2 <= num3 = num2\n",
       "  | otherwise = num3</div></div>"
      ],
      "text/plain": [
       "Line 2: Use guards\n",
       "Found:\n",
       "min3Int (num1, num2, num3)\n",
       "  = if num1 <= num2 && num1 <= num3 then\n",
       "        num1\n",
       "    else\n",
       "        if num1 <= num3 && num2 <= num3 then num2 else num3\n",
       "Why not:\n",
       "min3Int (num1, num2, num3)\n",
       "  | num1 <= num2 && num1 <= num3 = num1\n",
       "  | num1 <= num3 && num2 <= num3 = num2\n",
       "  | otherwise = num3"
      ]
     },
     "metadata": {},
     "output_type": "display_data"
    }
   ],
   "source": [
    "min3Int :: (Int, Int, Int) -> Int\n",
    "min3Int (num1, num2, num3) =\n",
    "    if num1 <= num2 && num1 <= num3 then num1\n",
    "    else if num1 <= num3 && num2 <= num3 then num2\n",
    "    else num3"
   ]
  },
  {
   "cell_type": "code",
   "execution_count": 14,
   "id": "98dc9883",
   "metadata": {},
   "outputs": [
    {
     "data": {
      "text/plain": [
       "1"
      ]
     },
     "metadata": {},
     "output_type": "display_data"
    },
    {
     "data": {
      "text/plain": [
       "2"
      ]
     },
     "metadata": {},
     "output_type": "display_data"
    },
    {
     "data": {
      "text/plain": [
       "4"
      ]
     },
     "metadata": {},
     "output_type": "display_data"
    }
   ],
   "source": [
    "min3Int(1, 5, 7)\n",
    "min3Int(4, 2, 9)\n",
    "min3Int(11, 7, 4)"
   ]
  },
  {
   "cell_type": "markdown",
   "id": "ac286ca6",
   "metadata": {},
   "source": [
    "**8. Używając if...else zdefiniować funkcję min3Int używając min2Int**"
   ]
  },
  {
   "cell_type": "code",
   "execution_count": 15,
   "id": "eed11752",
   "metadata": {},
   "outputs": [
    {
     "data": {
      "text/html": [
       "<style>/* Styles used for the Hoogle display in the pager */\n",
       ".hoogle-doc {\n",
       "display: block;\n",
       "padding-bottom: 1.3em;\n",
       "padding-left: 0.4em;\n",
       "}\n",
       ".hoogle-code {\n",
       "display: block;\n",
       "font-family: monospace;\n",
       "white-space: pre;\n",
       "}\n",
       ".hoogle-text {\n",
       "display: block;\n",
       "}\n",
       ".hoogle-name {\n",
       "color: green;\n",
       "font-weight: bold;\n",
       "}\n",
       ".hoogle-head {\n",
       "font-weight: bold;\n",
       "}\n",
       ".hoogle-sub {\n",
       "display: block;\n",
       "margin-left: 0.4em;\n",
       "}\n",
       ".hoogle-package {\n",
       "font-weight: bold;\n",
       "font-style: italic;\n",
       "}\n",
       ".hoogle-module {\n",
       "font-weight: bold;\n",
       "}\n",
       ".hoogle-class {\n",
       "font-weight: bold;\n",
       "}\n",
       ".get-type {\n",
       "color: green;\n",
       "font-weight: bold;\n",
       "font-family: monospace;\n",
       "display: block;\n",
       "white-space: pre-wrap;\n",
       "}\n",
       ".show-type {\n",
       "color: green;\n",
       "font-weight: bold;\n",
       "font-family: monospace;\n",
       "margin-left: 1em;\n",
       "}\n",
       ".mono {\n",
       "font-family: monospace;\n",
       "display: block;\n",
       "}\n",
       ".err-msg {\n",
       "color: red;\n",
       "font-style: italic;\n",
       "font-family: monospace;\n",
       "white-space: pre;\n",
       "display: block;\n",
       "}\n",
       "#unshowable {\n",
       "color: red;\n",
       "font-weight: bold;\n",
       "}\n",
       ".err-msg.in.collapse {\n",
       "padding-top: 0.7em;\n",
       "}\n",
       ".highlight-code {\n",
       "white-space: pre;\n",
       "font-family: monospace;\n",
       "}\n",
       ".suggestion-warning { \n",
       "font-weight: bold;\n",
       "color: rgb(200, 130, 0);\n",
       "}\n",
       ".suggestion-error { \n",
       "font-weight: bold;\n",
       "color: red;\n",
       "}\n",
       ".suggestion-name {\n",
       "font-weight: bold;\n",
       "}\n",
       "</style><div class=\"suggestion-name\" style=\"clear:both;\">Use guards</div><div class=\"suggestion-row\" style=\"float: left;\"><div class=\"suggestion-warning\">Found:</div><div class=\"highlight-code\" id=\"haskell\">min3Int (num1, num2, num3)\n",
       "  = if min2Int (num1, num2) == num1\n",
       "         && min2Int (num1, num3) == num1 then\n",
       "        num1\n",
       "    else\n",
       "        if min2Int (num2, num1) == num2\n",
       "             && min2Int (num2, num3) == num2 then\n",
       "            num2\n",
       "        else\n",
       "            num3</div></div><div class=\"suggestion-row\" style=\"float: left;\"><div class=\"suggestion-warning\">Why Not:</div><div class=\"highlight-code\" id=\"haskell\">min3Int (num1, num2, num3)\n",
       "  | min2Int (num1, num2) == num1 && min2Int (num1, num3) == num1\n",
       "  = num1\n",
       "  | min2Int (num2, num1) == num2 && min2Int (num2, num3) == num2\n",
       "  = num2\n",
       "  | otherwise = num3</div></div>"
      ],
      "text/plain": [
       "Line 8: Use guards\n",
       "Found:\n",
       "min3Int (num1, num2, num3)\n",
       "  = if min2Int (num1, num2) == num1\n",
       "         && min2Int (num1, num3) == num1 then\n",
       "        num1\n",
       "    else\n",
       "        if min2Int (num2, num1) == num2\n",
       "             && min2Int (num2, num3) == num2 then\n",
       "            num2\n",
       "        else\n",
       "            num3\n",
       "Why not:\n",
       "min3Int (num1, num2, num3)\n",
       "  | min2Int (num1, num2) == num1 && min2Int (num1, num3) == num1\n",
       "  = num1\n",
       "  | min2Int (num2, num1) == num2 && min2Int (num2, num3) == num2\n",
       "  = num2\n",
       "  | otherwise = num3"
      ]
     },
     "metadata": {},
     "output_type": "display_data"
    }
   ],
   "source": [
    "min2Int :: (Int, Int) -> Int\n",
    "min2Int (num1, num2) =\n",
    "    if num1 <= num2\n",
    "    then  num1\n",
    "    else num2\n",
    "\n",
    "min3Int :: (Int, Int, Int) -> Int\n",
    "min3Int (num1, num2, num3) =\n",
    "    if min2Int(num1, num2) == num1 && min2Int(num1, num3) == num1 then num1\n",
    "    else if min2Int(num2, num1) == num2 && min2Int(num2, num3) == num2 then num2\n",
    "    else num3"
   ]
  },
  {
   "cell_type": "code",
   "execution_count": 16,
   "id": "1a762aea",
   "metadata": {},
   "outputs": [
    {
     "data": {
      "text/plain": [
       "2"
      ]
     },
     "metadata": {},
     "output_type": "display_data"
    },
    {
     "data": {
      "text/plain": [
       "3"
      ]
     },
     "metadata": {},
     "output_type": "display_data"
    },
    {
     "data": {
      "text/plain": [
       "-2"
      ]
     },
     "metadata": {},
     "output_type": "display_data"
    }
   ],
   "source": [
    "min3Int(2, 6, 7)\n",
    "min3Int(4, 3, 12)\n",
    "min3Int(6, -2, 5)"
   ]
  },
  {
   "cell_type": "markdown",
   "id": "50929bc4",
   "metadata": {},
   "source": [
    "**9. Używając if...else zdefiniować funkcję toUpper**"
   ]
  },
  {
   "cell_type": "code",
   "execution_count": 17,
   "id": "e720bec1",
   "metadata": {
    "scrolled": true
   },
   "outputs": [
    {
     "data": {
      "text/html": [
       "<style>/* Styles used for the Hoogle display in the pager */\n",
       ".hoogle-doc {\n",
       "display: block;\n",
       "padding-bottom: 1.3em;\n",
       "padding-left: 0.4em;\n",
       "}\n",
       ".hoogle-code {\n",
       "display: block;\n",
       "font-family: monospace;\n",
       "white-space: pre;\n",
       "}\n",
       ".hoogle-text {\n",
       "display: block;\n",
       "}\n",
       ".hoogle-name {\n",
       "color: green;\n",
       "font-weight: bold;\n",
       "}\n",
       ".hoogle-head {\n",
       "font-weight: bold;\n",
       "}\n",
       ".hoogle-sub {\n",
       "display: block;\n",
       "margin-left: 0.4em;\n",
       "}\n",
       ".hoogle-package {\n",
       "font-weight: bold;\n",
       "font-style: italic;\n",
       "}\n",
       ".hoogle-module {\n",
       "font-weight: bold;\n",
       "}\n",
       ".hoogle-class {\n",
       "font-weight: bold;\n",
       "}\n",
       ".get-type {\n",
       "color: green;\n",
       "font-weight: bold;\n",
       "font-family: monospace;\n",
       "display: block;\n",
       "white-space: pre-wrap;\n",
       "}\n",
       ".show-type {\n",
       "color: green;\n",
       "font-weight: bold;\n",
       "font-family: monospace;\n",
       "margin-left: 1em;\n",
       "}\n",
       ".mono {\n",
       "font-family: monospace;\n",
       "display: block;\n",
       "}\n",
       ".err-msg {\n",
       "color: red;\n",
       "font-style: italic;\n",
       "font-family: monospace;\n",
       "white-space: pre;\n",
       "display: block;\n",
       "}\n",
       "#unshowable {\n",
       "color: red;\n",
       "font-weight: bold;\n",
       "}\n",
       ".err-msg.in.collapse {\n",
       "padding-top: 0.7em;\n",
       "}\n",
       ".highlight-code {\n",
       "white-space: pre;\n",
       "font-family: monospace;\n",
       "}\n",
       ".suggestion-warning { \n",
       "font-weight: bold;\n",
       "color: rgb(200, 130, 0);\n",
       "}\n",
       ".suggestion-error { \n",
       "font-weight: bold;\n",
       "color: red;\n",
       "}\n",
       ".suggestion-name {\n",
       "font-weight: bold;\n",
       "}\n",
       "</style><div class=\"suggestion-name\" style=\"clear:both;\">Use isAsciiLower</div><div class=\"suggestion-row\" style=\"float: left;\"><div class=\"suggestion-warning\">Found:</div><div class=\"highlight-code\" id=\"haskell\">char >= 'a' && char <= 'z'</div></div><div class=\"suggestion-row\" style=\"float: left;\"><div class=\"suggestion-warning\">Why Not:</div><div class=\"highlight-code\" id=\"haskell\">isAsciiLower char</div></div>"
      ],
      "text/plain": [
       "Line 3: Use isAsciiLower\n",
       "Found:\n",
       "char >= 'a' && char <= 'z'\n",
       "Why not:\n",
       "isAsciiLower char"
      ]
     },
     "metadata": {},
     "output_type": "display_data"
    }
   ],
   "source": [
    "toUpper :: Char -> Char\n",
    "toUpper char =\n",
    "    if char >= 'a' && char <= 'z' then toEnum(fromEnum char - 32)\n",
    "    else char"
   ]
  },
  {
   "cell_type": "code",
   "execution_count": 18,
   "id": "82690e56",
   "metadata": {},
   "outputs": [
    {
     "data": {
      "text/plain": [
       "'A'"
      ]
     },
     "metadata": {},
     "output_type": "display_data"
    }
   ],
   "source": [
    "toUpper 'a'"
   ]
  },
  {
   "cell_type": "markdown",
   "id": "101b2b4e",
   "metadata": {},
   "source": [
    "**10. Używając if...else zdefiniować funkcję toLower**"
   ]
  },
  {
   "cell_type": "code",
   "execution_count": 19,
   "id": "06c4ed49",
   "metadata": {},
   "outputs": [
    {
     "data": {
      "text/html": [
       "<style>/* Styles used for the Hoogle display in the pager */\n",
       ".hoogle-doc {\n",
       "display: block;\n",
       "padding-bottom: 1.3em;\n",
       "padding-left: 0.4em;\n",
       "}\n",
       ".hoogle-code {\n",
       "display: block;\n",
       "font-family: monospace;\n",
       "white-space: pre;\n",
       "}\n",
       ".hoogle-text {\n",
       "display: block;\n",
       "}\n",
       ".hoogle-name {\n",
       "color: green;\n",
       "font-weight: bold;\n",
       "}\n",
       ".hoogle-head {\n",
       "font-weight: bold;\n",
       "}\n",
       ".hoogle-sub {\n",
       "display: block;\n",
       "margin-left: 0.4em;\n",
       "}\n",
       ".hoogle-package {\n",
       "font-weight: bold;\n",
       "font-style: italic;\n",
       "}\n",
       ".hoogle-module {\n",
       "font-weight: bold;\n",
       "}\n",
       ".hoogle-class {\n",
       "font-weight: bold;\n",
       "}\n",
       ".get-type {\n",
       "color: green;\n",
       "font-weight: bold;\n",
       "font-family: monospace;\n",
       "display: block;\n",
       "white-space: pre-wrap;\n",
       "}\n",
       ".show-type {\n",
       "color: green;\n",
       "font-weight: bold;\n",
       "font-family: monospace;\n",
       "margin-left: 1em;\n",
       "}\n",
       ".mono {\n",
       "font-family: monospace;\n",
       "display: block;\n",
       "}\n",
       ".err-msg {\n",
       "color: red;\n",
       "font-style: italic;\n",
       "font-family: monospace;\n",
       "white-space: pre;\n",
       "display: block;\n",
       "}\n",
       "#unshowable {\n",
       "color: red;\n",
       "font-weight: bold;\n",
       "}\n",
       ".err-msg.in.collapse {\n",
       "padding-top: 0.7em;\n",
       "}\n",
       ".highlight-code {\n",
       "white-space: pre;\n",
       "font-family: monospace;\n",
       "}\n",
       ".suggestion-warning { \n",
       "font-weight: bold;\n",
       "color: rgb(200, 130, 0);\n",
       "}\n",
       ".suggestion-error { \n",
       "font-weight: bold;\n",
       "color: red;\n",
       "}\n",
       ".suggestion-name {\n",
       "font-weight: bold;\n",
       "}\n",
       "</style><div class=\"suggestion-name\" style=\"clear:both;\">Use isAsciiUpper</div><div class=\"suggestion-row\" style=\"float: left;\"><div class=\"suggestion-warning\">Found:</div><div class=\"highlight-code\" id=\"haskell\">char >= 'A' && char <= 'Z'</div></div><div class=\"suggestion-row\" style=\"float: left;\"><div class=\"suggestion-warning\">Why Not:</div><div class=\"highlight-code\" id=\"haskell\">isAsciiUpper char</div></div>"
      ],
      "text/plain": [
       "Line 3: Use isAsciiUpper\n",
       "Found:\n",
       "char >= 'A' && char <= 'Z'\n",
       "Why not:\n",
       "isAsciiUpper char"
      ]
     },
     "metadata": {},
     "output_type": "display_data"
    }
   ],
   "source": [
    "toLower :: Char -> Char\n",
    "toLower char = \n",
    "    if char >= 'A' && char <= 'Z' then toEnum(fromEnum char + 32)\n",
    "    else char"
   ]
  },
  {
   "cell_type": "code",
   "execution_count": 20,
   "id": "b553b89d",
   "metadata": {},
   "outputs": [
    {
     "data": {
      "text/plain": [
       "'a'"
      ]
     },
     "metadata": {},
     "output_type": "display_data"
    }
   ],
   "source": [
    "toLower 'A'"
   ]
  },
  {
   "cell_type": "markdown",
   "id": "45ebc13d",
   "metadata": {},
   "source": [
    "**11. Używając if...else zdefiniować funkcję isDigit**"
   ]
  },
  {
   "cell_type": "code",
   "execution_count": 21,
   "id": "4652d802",
   "metadata": {},
   "outputs": [
    {
     "data": {
      "text/html": [
       "<style>/* Styles used for the Hoogle display in the pager */\n",
       ".hoogle-doc {\n",
       "display: block;\n",
       "padding-bottom: 1.3em;\n",
       "padding-left: 0.4em;\n",
       "}\n",
       ".hoogle-code {\n",
       "display: block;\n",
       "font-family: monospace;\n",
       "white-space: pre;\n",
       "}\n",
       ".hoogle-text {\n",
       "display: block;\n",
       "}\n",
       ".hoogle-name {\n",
       "color: green;\n",
       "font-weight: bold;\n",
       "}\n",
       ".hoogle-head {\n",
       "font-weight: bold;\n",
       "}\n",
       ".hoogle-sub {\n",
       "display: block;\n",
       "margin-left: 0.4em;\n",
       "}\n",
       ".hoogle-package {\n",
       "font-weight: bold;\n",
       "font-style: italic;\n",
       "}\n",
       ".hoogle-module {\n",
       "font-weight: bold;\n",
       "}\n",
       ".hoogle-class {\n",
       "font-weight: bold;\n",
       "}\n",
       ".get-type {\n",
       "color: green;\n",
       "font-weight: bold;\n",
       "font-family: monospace;\n",
       "display: block;\n",
       "white-space: pre-wrap;\n",
       "}\n",
       ".show-type {\n",
       "color: green;\n",
       "font-weight: bold;\n",
       "font-family: monospace;\n",
       "margin-left: 1em;\n",
       "}\n",
       ".mono {\n",
       "font-family: monospace;\n",
       "display: block;\n",
       "}\n",
       ".err-msg {\n",
       "color: red;\n",
       "font-style: italic;\n",
       "font-family: monospace;\n",
       "white-space: pre;\n",
       "display: block;\n",
       "}\n",
       "#unshowable {\n",
       "color: red;\n",
       "font-weight: bold;\n",
       "}\n",
       ".err-msg.in.collapse {\n",
       "padding-top: 0.7em;\n",
       "}\n",
       ".highlight-code {\n",
       "white-space: pre;\n",
       "font-family: monospace;\n",
       "}\n",
       ".suggestion-warning { \n",
       "font-weight: bold;\n",
       "color: rgb(200, 130, 0);\n",
       "}\n",
       ".suggestion-error { \n",
       "font-weight: bold;\n",
       "color: red;\n",
       "}\n",
       ".suggestion-name {\n",
       "font-weight: bold;\n",
       "}\n",
       "</style><div class=\"suggestion-name\" style=\"clear:both;\">Redundant if</div><div class=\"suggestion-row\" style=\"float: left;\"><div class=\"suggestion-warning\">Found:</div><div class=\"highlight-code\" id=\"haskell\">if fromEnum char > 47 && fromEnum char < 58 then True else False</div></div><div class=\"suggestion-row\" style=\"float: left;\"><div class=\"suggestion-warning\">Why Not:</div><div class=\"highlight-code\" id=\"haskell\">fromEnum char > 47 && fromEnum char < 58</div></div>"
      ],
      "text/plain": [
       "Line 3: Redundant if\n",
       "Found:\n",
       "if fromEnum char > 47 && fromEnum char < 58 then True else False\n",
       "Why not:\n",
       "fromEnum char > 47 && fromEnum char < 58"
      ]
     },
     "metadata": {},
     "output_type": "display_data"
    }
   ],
   "source": [
    "isDigit :: Char -> Bool\n",
    "isDigit char =\n",
    "    if fromEnum char > 47 && fromEnum char < 58 then True\n",
    "    else False"
   ]
  },
  {
   "cell_type": "code",
   "execution_count": 22,
   "id": "918b3ed7",
   "metadata": {},
   "outputs": [
    {
     "data": {
      "text/plain": [
       "True"
      ]
     },
     "metadata": {},
     "output_type": "display_data"
    },
    {
     "data": {
      "text/plain": [
       "False"
      ]
     },
     "metadata": {},
     "output_type": "display_data"
    }
   ],
   "source": [
    "isDigit '5'\n",
    "isDigit 'a'"
   ]
  },
  {
   "cell_type": "markdown",
   "id": "7940c2a0",
   "metadata": {},
   "source": [
    "**12. Używając if...else zdefiniować funkcję charToNum**"
   ]
  },
  {
   "cell_type": "code",
   "execution_count": 23,
   "id": "8576d22b",
   "metadata": {},
   "outputs": [
    {
     "data": {
      "text/html": [
       "<style>/* Styles used for the Hoogle display in the pager */\n",
       ".hoogle-doc {\n",
       "display: block;\n",
       "padding-bottom: 1.3em;\n",
       "padding-left: 0.4em;\n",
       "}\n",
       ".hoogle-code {\n",
       "display: block;\n",
       "font-family: monospace;\n",
       "white-space: pre;\n",
       "}\n",
       ".hoogle-text {\n",
       "display: block;\n",
       "}\n",
       ".hoogle-name {\n",
       "color: green;\n",
       "font-weight: bold;\n",
       "}\n",
       ".hoogle-head {\n",
       "font-weight: bold;\n",
       "}\n",
       ".hoogle-sub {\n",
       "display: block;\n",
       "margin-left: 0.4em;\n",
       "}\n",
       ".hoogle-package {\n",
       "font-weight: bold;\n",
       "font-style: italic;\n",
       "}\n",
       ".hoogle-module {\n",
       "font-weight: bold;\n",
       "}\n",
       ".hoogle-class {\n",
       "font-weight: bold;\n",
       "}\n",
       ".get-type {\n",
       "color: green;\n",
       "font-weight: bold;\n",
       "font-family: monospace;\n",
       "display: block;\n",
       "white-space: pre-wrap;\n",
       "}\n",
       ".show-type {\n",
       "color: green;\n",
       "font-weight: bold;\n",
       "font-family: monospace;\n",
       "margin-left: 1em;\n",
       "}\n",
       ".mono {\n",
       "font-family: monospace;\n",
       "display: block;\n",
       "}\n",
       ".err-msg {\n",
       "color: red;\n",
       "font-style: italic;\n",
       "font-family: monospace;\n",
       "white-space: pre;\n",
       "display: block;\n",
       "}\n",
       "#unshowable {\n",
       "color: red;\n",
       "font-weight: bold;\n",
       "}\n",
       ".err-msg.in.collapse {\n",
       "padding-top: 0.7em;\n",
       "}\n",
       ".highlight-code {\n",
       "white-space: pre;\n",
       "font-family: monospace;\n",
       "}\n",
       ".suggestion-warning { \n",
       "font-weight: bold;\n",
       "color: rgb(200, 130, 0);\n",
       "}\n",
       ".suggestion-error { \n",
       "font-weight: bold;\n",
       "color: red;\n",
       "}\n",
       ".suggestion-name {\n",
       "font-weight: bold;\n",
       "}\n",
       "</style><div class=\"suggestion-name\" style=\"clear:both;\">Use guards</div><div class=\"suggestion-row\" style=\"float: left;\"><div class=\"suggestion-warning\">Found:</div><div class=\"highlight-code\" id=\"haskell\">charToNum char\n",
       "  = if char == '1' then\n",
       "        1\n",
       "    else\n",
       "        if char == '2' then\n",
       "            2\n",
       "        else\n",
       "            if char == '3' then\n",
       "                3\n",
       "            else\n",
       "                if char == '4' then\n",
       "                    4\n",
       "                else\n",
       "                    if char == '5' then\n",
       "                        5\n",
       "                    else\n",
       "                        if char == '6' then\n",
       "                            6\n",
       "                        else\n",
       "                            if char == '7' then 7 else if char == '8' then 8 else 9</div></div><div class=\"suggestion-row\" style=\"float: left;\"><div class=\"suggestion-warning\">Why Not:</div><div class=\"highlight-code\" id=\"haskell\">charToNum char\n",
       "  | char == '1' = 1\n",
       "  | char == '2' = 2\n",
       "  | char == '3' = 3\n",
       "  | char == '4' = 4\n",
       "  | char == '5' = 5\n",
       "  | char == '6' = 6\n",
       "  | char == '7' = 7\n",
       "  | char == '8' = 8\n",
       "  | otherwise = 9</div></div>"
      ],
      "text/plain": [
       "Line 2: Use guards\n",
       "Found:\n",
       "charToNum char\n",
       "  = if char == '1' then\n",
       "        1\n",
       "    else\n",
       "        if char == '2' then\n",
       "            2\n",
       "        else\n",
       "            if char == '3' then\n",
       "                3\n",
       "            else\n",
       "                if char == '4' then\n",
       "                    4\n",
       "                else\n",
       "                    if char == '5' then\n",
       "                        5\n",
       "                    else\n",
       "                        if char == '6' then\n",
       "                            6\n",
       "                        else\n",
       "                            if char == '7' then 7 else if char == '8' then 8 else 9\n",
       "Why not:\n",
       "charToNum char\n",
       "  | char == '1' = 1\n",
       "  | char == '2' = 2\n",
       "  | char == '3' = 3\n",
       "  | char == '4' = 4\n",
       "  | char == '5' = 5\n",
       "  | char == '6' = 6\n",
       "  | char == '7' = 7\n",
       "  | char == '8' = 8\n",
       "  | otherwise = 9"
      ]
     },
     "metadata": {},
     "output_type": "display_data"
    }
   ],
   "source": [
    "charToNum :: Char -> Int\n",
    "charToNum char =\n",
    "    if char == '1' then 1\n",
    "    else if char == '2' then 2\n",
    "    else if char == '3' then 3\n",
    "    else if char == '4' then 4\n",
    "    else if char == '5' then 5\n",
    "    else if char == '6' then 6\n",
    "    else if char == '7' then 7\n",
    "    else if char == '8' then 8\n",
    "    else 9"
   ]
  },
  {
   "cell_type": "code",
   "execution_count": 24,
   "id": "31b497b2",
   "metadata": {},
   "outputs": [
    {
     "data": {
      "text/plain": [
       "1"
      ]
     },
     "metadata": {},
     "output_type": "display_data"
    },
    {
     "data": {
      "text/plain": [
       "9"
      ]
     },
     "metadata": {},
     "output_type": "display_data"
    }
   ],
   "source": [
    "charToNum '1'\n",
    "charToNum '9'"
   ]
  },
  {
   "cell_type": "markdown",
   "id": "4a6b383f",
   "metadata": {},
   "source": [
    "**13. Używając if...else zdefiniować funkcję romanDigit**"
   ]
  },
  {
   "cell_type": "code",
   "execution_count": 25,
   "id": "5e9f7533",
   "metadata": {},
   "outputs": [
    {
     "data": {
      "text/html": [
       "<style>/* Styles used for the Hoogle display in the pager */\n",
       ".hoogle-doc {\n",
       "display: block;\n",
       "padding-bottom: 1.3em;\n",
       "padding-left: 0.4em;\n",
       "}\n",
       ".hoogle-code {\n",
       "display: block;\n",
       "font-family: monospace;\n",
       "white-space: pre;\n",
       "}\n",
       ".hoogle-text {\n",
       "display: block;\n",
       "}\n",
       ".hoogle-name {\n",
       "color: green;\n",
       "font-weight: bold;\n",
       "}\n",
       ".hoogle-head {\n",
       "font-weight: bold;\n",
       "}\n",
       ".hoogle-sub {\n",
       "display: block;\n",
       "margin-left: 0.4em;\n",
       "}\n",
       ".hoogle-package {\n",
       "font-weight: bold;\n",
       "font-style: italic;\n",
       "}\n",
       ".hoogle-module {\n",
       "font-weight: bold;\n",
       "}\n",
       ".hoogle-class {\n",
       "font-weight: bold;\n",
       "}\n",
       ".get-type {\n",
       "color: green;\n",
       "font-weight: bold;\n",
       "font-family: monospace;\n",
       "display: block;\n",
       "white-space: pre-wrap;\n",
       "}\n",
       ".show-type {\n",
       "color: green;\n",
       "font-weight: bold;\n",
       "font-family: monospace;\n",
       "margin-left: 1em;\n",
       "}\n",
       ".mono {\n",
       "font-family: monospace;\n",
       "display: block;\n",
       "}\n",
       ".err-msg {\n",
       "color: red;\n",
       "font-style: italic;\n",
       "font-family: monospace;\n",
       "white-space: pre;\n",
       "display: block;\n",
       "}\n",
       "#unshowable {\n",
       "color: red;\n",
       "font-weight: bold;\n",
       "}\n",
       ".err-msg.in.collapse {\n",
       "padding-top: 0.7em;\n",
       "}\n",
       ".highlight-code {\n",
       "white-space: pre;\n",
       "font-family: monospace;\n",
       "}\n",
       ".suggestion-warning { \n",
       "font-weight: bold;\n",
       "color: rgb(200, 130, 0);\n",
       "}\n",
       ".suggestion-error { \n",
       "font-weight: bold;\n",
       "color: red;\n",
       "}\n",
       ".suggestion-name {\n",
       "font-weight: bold;\n",
       "}\n",
       "</style><div class=\"suggestion-name\" style=\"clear:both;\">Use guards</div><div class=\"suggestion-row\" style=\"float: left;\"><div class=\"suggestion-warning\">Found:</div><div class=\"highlight-code\" id=\"haskell\">romanDigit char\n",
       "  = if char == '1' then\n",
       "        \"I\"\n",
       "    else\n",
       "        if char == '2' then\n",
       "            \"II\"\n",
       "        else\n",
       "            if char == '3' then\n",
       "                \"III\"\n",
       "            else\n",
       "                if char == '4' then\n",
       "                    \"IV\"\n",
       "                else\n",
       "                    if char == '5' then\n",
       "                        \"V\"\n",
       "                    else\n",
       "                        if char == '6' then\n",
       "                            \"VI\"\n",
       "                        else\n",
       "                            if char == '7' then \"VII\" else if char == '8' then \"VIII\" else \"IX\"</div></div><div class=\"suggestion-row\" style=\"float: left;\"><div class=\"suggestion-warning\">Why Not:</div><div class=\"highlight-code\" id=\"haskell\">romanDigit char\n",
       "  | char == '1' = \"I\"\n",
       "  | char == '2' = \"II\"\n",
       "  | char == '3' = \"III\"\n",
       "  | char == '4' = \"IV\"\n",
       "  | char == '5' = \"V\"\n",
       "  | char == '6' = \"VI\"\n",
       "  | char == '7' = \"VII\"\n",
       "  | char == '8' = \"VIII\"\n",
       "  | otherwise = \"IX\"</div></div>"
      ],
      "text/plain": [
       "Line 2: Use guards\n",
       "Found:\n",
       "romanDigit char\n",
       "  = if char == '1' then\n",
       "        \"I\"\n",
       "    else\n",
       "        if char == '2' then\n",
       "            \"II\"\n",
       "        else\n",
       "            if char == '3' then\n",
       "                \"III\"\n",
       "            else\n",
       "                if char == '4' then\n",
       "                    \"IV\"\n",
       "                else\n",
       "                    if char == '5' then\n",
       "                        \"V\"\n",
       "                    else\n",
       "                        if char == '6' then\n",
       "                            \"VI\"\n",
       "                        else\n",
       "                            if char == '7' then \"VII\" else if char == '8' then \"VIII\" else \"IX\"\n",
       "Why not:\n",
       "romanDigit char\n",
       "  | char == '1' = \"I\"\n",
       "  | char == '2' = \"II\"\n",
       "  | char == '3' = \"III\"\n",
       "  | char == '4' = \"IV\"\n",
       "  | char == '5' = \"V\"\n",
       "  | char == '6' = \"VI\"\n",
       "  | char == '7' = \"VII\"\n",
       "  | char == '8' = \"VIII\"\n",
       "  | otherwise = \"IX\""
      ]
     },
     "metadata": {},
     "output_type": "display_data"
    }
   ],
   "source": [
    "romanDigit :: Char -> String\n",
    "romanDigit char = \n",
    "    if char == '1' then \"I\"\n",
    "    else if char == '2' then \"II\"\n",
    "    else if char == '3' then \"III\"\n",
    "    else if char == '4' then \"IV\"\n",
    "    else if char == '5' then \"V\"\n",
    "    else if char == '6' then \"VI\"\n",
    "    else if char == '7' then \"VII\"\n",
    "    else if char == '8' then \"VIII\"\n",
    "    else \"IX\""
   ]
  },
  {
   "cell_type": "code",
   "execution_count": 26,
   "id": "e73c3697",
   "metadata": {},
   "outputs": [
    {
     "data": {
      "text/plain": [
       "\"V\""
      ]
     },
     "metadata": {},
     "output_type": "display_data"
    },
    {
     "data": {
      "text/plain": [
       "\"IX\""
      ]
     },
     "metadata": {},
     "output_type": "display_data"
    }
   ],
   "source": [
    "romanDigit '5'\n",
    "romanDigit '9'"
   ]
  },
  {
   "cell_type": "markdown",
   "id": "2d7be4f3",
   "metadata": {},
   "source": [
    "**14. Używając \"guards\" zdefiniować funkcje sgn**"
   ]
  },
  {
   "cell_type": "code",
   "execution_count": 27,
   "id": "cedb6ae2",
   "metadata": {},
   "outputs": [],
   "source": [
    "sgn :: Int -> Int\n",
    "sgn number\n",
    "    | number < 0 = -1\n",
    "    | number == 0 = 0\n",
    "    | number > 0 = 1"
   ]
  },
  {
   "cell_type": "code",
   "execution_count": 28,
   "id": "1f8597bb",
   "metadata": {},
   "outputs": [
    {
     "data": {
      "text/plain": [
       "-1"
      ]
     },
     "metadata": {},
     "output_type": "display_data"
    },
    {
     "data": {
      "text/plain": [
       "0"
      ]
     },
     "metadata": {},
     "output_type": "display_data"
    },
    {
     "data": {
      "text/plain": [
       "1"
      ]
     },
     "metadata": {},
     "output_type": "display_data"
    }
   ],
   "source": [
    "sgn (-2)\n",
    "sgn 0\n",
    "sgn 11"
   ]
  },
  {
   "cell_type": "markdown",
   "id": "7bcb1e6b",
   "metadata": {},
   "source": [
    "**15. Używając \"guards\" zdefiniować funkcje min3Int**"
   ]
  },
  {
   "cell_type": "code",
   "execution_count": 29,
   "id": "d9ee6a66",
   "metadata": {},
   "outputs": [],
   "source": [
    "min3Int :: (Int, Int, Int) -> Int\n",
    "min3Int (num1, num2, num3)\n",
    "    | num1 <= num2 && num1 <= num3 = num1\n",
    "    | num2 <= num1 && num2 <= num3 = num2\n",
    "    | otherwise = num3"
   ]
  },
  {
   "cell_type": "code",
   "execution_count": 30,
   "id": "44112414",
   "metadata": {
    "scrolled": false
   },
   "outputs": [
    {
     "data": {
      "text/plain": [
       "1"
      ]
     },
     "metadata": {},
     "output_type": "display_data"
    },
    {
     "data": {
      "text/plain": [
       "2"
      ]
     },
     "metadata": {},
     "output_type": "display_data"
    },
    {
     "data": {
      "text/plain": [
       "4"
      ]
     },
     "metadata": {},
     "output_type": "display_data"
    }
   ],
   "source": [
    "min3Int(1, 5, 7)\n",
    "min3Int(4, 2, 9)\n",
    "min3Int(11, 7, 4)"
   ]
  },
  {
   "cell_type": "markdown",
   "id": "dbdee73f",
   "metadata": {},
   "source": [
    "**16. Używając \"guards\" zdefiniować funkcje toUpper**"
   ]
  },
  {
   "cell_type": "code",
   "execution_count": 31,
   "id": "60f29a85",
   "metadata": {},
   "outputs": [
    {
     "data": {
      "text/html": [
       "<style>/* Styles used for the Hoogle display in the pager */\n",
       ".hoogle-doc {\n",
       "display: block;\n",
       "padding-bottom: 1.3em;\n",
       "padding-left: 0.4em;\n",
       "}\n",
       ".hoogle-code {\n",
       "display: block;\n",
       "font-family: monospace;\n",
       "white-space: pre;\n",
       "}\n",
       ".hoogle-text {\n",
       "display: block;\n",
       "}\n",
       ".hoogle-name {\n",
       "color: green;\n",
       "font-weight: bold;\n",
       "}\n",
       ".hoogle-head {\n",
       "font-weight: bold;\n",
       "}\n",
       ".hoogle-sub {\n",
       "display: block;\n",
       "margin-left: 0.4em;\n",
       "}\n",
       ".hoogle-package {\n",
       "font-weight: bold;\n",
       "font-style: italic;\n",
       "}\n",
       ".hoogle-module {\n",
       "font-weight: bold;\n",
       "}\n",
       ".hoogle-class {\n",
       "font-weight: bold;\n",
       "}\n",
       ".get-type {\n",
       "color: green;\n",
       "font-weight: bold;\n",
       "font-family: monospace;\n",
       "display: block;\n",
       "white-space: pre-wrap;\n",
       "}\n",
       ".show-type {\n",
       "color: green;\n",
       "font-weight: bold;\n",
       "font-family: monospace;\n",
       "margin-left: 1em;\n",
       "}\n",
       ".mono {\n",
       "font-family: monospace;\n",
       "display: block;\n",
       "}\n",
       ".err-msg {\n",
       "color: red;\n",
       "font-style: italic;\n",
       "font-family: monospace;\n",
       "white-space: pre;\n",
       "display: block;\n",
       "}\n",
       "#unshowable {\n",
       "color: red;\n",
       "font-weight: bold;\n",
       "}\n",
       ".err-msg.in.collapse {\n",
       "padding-top: 0.7em;\n",
       "}\n",
       ".highlight-code {\n",
       "white-space: pre;\n",
       "font-family: monospace;\n",
       "}\n",
       ".suggestion-warning { \n",
       "font-weight: bold;\n",
       "color: rgb(200, 130, 0);\n",
       "}\n",
       ".suggestion-error { \n",
       "font-weight: bold;\n",
       "color: red;\n",
       "}\n",
       ".suggestion-name {\n",
       "font-weight: bold;\n",
       "}\n",
       "</style><div class=\"suggestion-name\" style=\"clear:both;\">Use isAsciiLower</div><div class=\"suggestion-row\" style=\"float: left;\"><div class=\"suggestion-warning\">Found:</div><div class=\"highlight-code\" id=\"haskell\">char >= 'a' && char <= 'z'</div></div><div class=\"suggestion-row\" style=\"float: left;\"><div class=\"suggestion-warning\">Why Not:</div><div class=\"highlight-code\" id=\"haskell\">isAsciiLower char</div></div>"
      ],
      "text/plain": [
       "Line 3: Use isAsciiLower\n",
       "Found:\n",
       "char >= 'a' && char <= 'z'\n",
       "Why not:\n",
       "isAsciiLower char"
      ]
     },
     "metadata": {},
     "output_type": "display_data"
    }
   ],
   "source": [
    "toUpper :: Char -> Char\n",
    "toUpper char \n",
    "    | char >= 'a' && char <= 'z' = toEnum(fromEnum char - 32)\n",
    "    | otherwise = char"
   ]
  },
  {
   "cell_type": "code",
   "execution_count": 32,
   "id": "9040394b",
   "metadata": {},
   "outputs": [
    {
     "data": {
      "text/plain": [
       "'K'"
      ]
     },
     "metadata": {},
     "output_type": "display_data"
    }
   ],
   "source": [
    "toUpper 'k'"
   ]
  },
  {
   "cell_type": "markdown",
   "id": "04f7b920",
   "metadata": {},
   "source": [
    "**17. Używając \"guards\" zdefiniować funkcjetoLower**"
   ]
  },
  {
   "cell_type": "code",
   "execution_count": 33,
   "id": "216c96f7",
   "metadata": {},
   "outputs": [
    {
     "data": {
      "text/html": [
       "<style>/* Styles used for the Hoogle display in the pager */\n",
       ".hoogle-doc {\n",
       "display: block;\n",
       "padding-bottom: 1.3em;\n",
       "padding-left: 0.4em;\n",
       "}\n",
       ".hoogle-code {\n",
       "display: block;\n",
       "font-family: monospace;\n",
       "white-space: pre;\n",
       "}\n",
       ".hoogle-text {\n",
       "display: block;\n",
       "}\n",
       ".hoogle-name {\n",
       "color: green;\n",
       "font-weight: bold;\n",
       "}\n",
       ".hoogle-head {\n",
       "font-weight: bold;\n",
       "}\n",
       ".hoogle-sub {\n",
       "display: block;\n",
       "margin-left: 0.4em;\n",
       "}\n",
       ".hoogle-package {\n",
       "font-weight: bold;\n",
       "font-style: italic;\n",
       "}\n",
       ".hoogle-module {\n",
       "font-weight: bold;\n",
       "}\n",
       ".hoogle-class {\n",
       "font-weight: bold;\n",
       "}\n",
       ".get-type {\n",
       "color: green;\n",
       "font-weight: bold;\n",
       "font-family: monospace;\n",
       "display: block;\n",
       "white-space: pre-wrap;\n",
       "}\n",
       ".show-type {\n",
       "color: green;\n",
       "font-weight: bold;\n",
       "font-family: monospace;\n",
       "margin-left: 1em;\n",
       "}\n",
       ".mono {\n",
       "font-family: monospace;\n",
       "display: block;\n",
       "}\n",
       ".err-msg {\n",
       "color: red;\n",
       "font-style: italic;\n",
       "font-family: monospace;\n",
       "white-space: pre;\n",
       "display: block;\n",
       "}\n",
       "#unshowable {\n",
       "color: red;\n",
       "font-weight: bold;\n",
       "}\n",
       ".err-msg.in.collapse {\n",
       "padding-top: 0.7em;\n",
       "}\n",
       ".highlight-code {\n",
       "white-space: pre;\n",
       "font-family: monospace;\n",
       "}\n",
       ".suggestion-warning { \n",
       "font-weight: bold;\n",
       "color: rgb(200, 130, 0);\n",
       "}\n",
       ".suggestion-error { \n",
       "font-weight: bold;\n",
       "color: red;\n",
       "}\n",
       ".suggestion-name {\n",
       "font-weight: bold;\n",
       "}\n",
       "</style><div class=\"suggestion-name\" style=\"clear:both;\">Use isAsciiUpper</div><div class=\"suggestion-row\" style=\"float: left;\"><div class=\"suggestion-warning\">Found:</div><div class=\"highlight-code\" id=\"haskell\">char >= 'A' && char <= 'Z'</div></div><div class=\"suggestion-row\" style=\"float: left;\"><div class=\"suggestion-warning\">Why Not:</div><div class=\"highlight-code\" id=\"haskell\">isAsciiUpper char</div></div>"
      ],
      "text/plain": [
       "Line 3: Use isAsciiUpper\n",
       "Found:\n",
       "char >= 'A' && char <= 'Z'\n",
       "Why not:\n",
       "isAsciiUpper char"
      ]
     },
     "metadata": {},
     "output_type": "display_data"
    }
   ],
   "source": [
    "toLower :: Char -> Char\n",
    "toLower char\n",
    "    | char >= 'A' && char <= 'Z' = toEnum(fromEnum char + 32)\n",
    "    | otherwise = char"
   ]
  },
  {
   "cell_type": "code",
   "execution_count": 34,
   "id": "8f337c9c",
   "metadata": {},
   "outputs": [
    {
     "data": {
      "text/plain": [
       "'y'"
      ]
     },
     "metadata": {},
     "output_type": "display_data"
    }
   ],
   "source": [
    "toLower 'Y'"
   ]
  },
  {
   "cell_type": "markdown",
   "id": "dc5cb639",
   "metadata": {},
   "source": [
    "**18. Używając \"guards\" zdefiniować funkcje isDigit**"
   ]
  },
  {
   "cell_type": "code",
   "execution_count": 35,
   "id": "a85f2e1b",
   "metadata": {},
   "outputs": [],
   "source": [
    "isDigit :: Char -> Bool\n",
    "isDigit char\n",
    "    | fromEnum char > 47 && fromEnum char < 58 = True\n",
    "    | otherwise = False"
   ]
  },
  {
   "cell_type": "code",
   "execution_count": 36,
   "id": "d33b9a67",
   "metadata": {},
   "outputs": [
    {
     "data": {
      "text/plain": [
       "True"
      ]
     },
     "metadata": {},
     "output_type": "display_data"
    },
    {
     "data": {
      "text/plain": [
       "False"
      ]
     },
     "metadata": {},
     "output_type": "display_data"
    }
   ],
   "source": [
    "isDigit '8'\n",
    "isDigit 'r'"
   ]
  },
  {
   "cell_type": "markdown",
   "id": "3e25ea89",
   "metadata": {},
   "source": [
    "**19. Używając \"guards\" zdefiniować funkcje charToNum**"
   ]
  },
  {
   "cell_type": "code",
   "execution_count": 37,
   "id": "eff93996",
   "metadata": {},
   "outputs": [],
   "source": [
    "charToNum :: Char -> Int\n",
    "charToNum char\n",
    "    | char == '1' = 1\n",
    "    | char == '2' = 2\n",
    "    | char == '3' = 3\n",
    "    | char == '4' = 4\n",
    "    | char == '5' = 5\n",
    "    | char == '6' = 6\n",
    "    | char == '7' = 7\n",
    "    | char == '8' = 8\n",
    "    | otherwise = 9"
   ]
  },
  {
   "cell_type": "code",
   "execution_count": 38,
   "id": "31c96cc4",
   "metadata": {},
   "outputs": [
    {
     "data": {
      "text/plain": [
       "5"
      ]
     },
     "metadata": {},
     "output_type": "display_data"
    },
    {
     "data": {
      "text/plain": [
       "7"
      ]
     },
     "metadata": {},
     "output_type": "display_data"
    }
   ],
   "source": [
    "charToNum '5'\n",
    "charToNum '7'"
   ]
  },
  {
   "cell_type": "markdown",
   "id": "0434a55e",
   "metadata": {},
   "source": [
    "**20. Używając \"guards\" zdefiniować funkcje romanDigit**"
   ]
  },
  {
   "cell_type": "code",
   "execution_count": 39,
   "id": "e9102b5c",
   "metadata": {},
   "outputs": [],
   "source": [
    "romanDigit :: Char -> String\n",
    "romanDigit char \n",
    "    | char == '1' = \"I\"\n",
    "    | char == '2' = \"II\"\n",
    "    | char == '3' = \"III\"\n",
    "    | char == '4' = \"IV\"\n",
    "    | char == '5' = \"V\"\n",
    "    | char == '6' = \"VI\"\n",
    "    | char == '7' = \"VII\"\n",
    "    | char == '8' = \"VIII\"\n",
    "    | otherwise = \"IX\""
   ]
  },
  {
   "cell_type": "code",
   "execution_count": 40,
   "id": "b6b53e2d",
   "metadata": {},
   "outputs": [
    {
     "data": {
      "text/plain": [
       "\"IV\""
      ]
     },
     "metadata": {},
     "output_type": "display_data"
    },
    {
     "data": {
      "text/plain": [
       "\"VII\""
      ]
     },
     "metadata": {},
     "output_type": "display_data"
    }
   ],
   "source": [
    "romanDigit '4'\n",
    "romanDigit '7'"
   ]
  },
  {
   "cell_type": "markdown",
   "id": "56f1847d",
   "metadata": {},
   "source": [
    "**21. Wykorzystując dopasowanie wzorców napisać definicję or'**"
   ]
  },
  {
   "cell_type": "code",
   "execution_count": 41,
   "id": "ddae5be6",
   "metadata": {},
   "outputs": [],
   "source": [
    "or' :: (Bool, Bool) -> Bool\n",
    "or' (True, True) = True\n",
    "or' (True, False) = True\n",
    "or' (False, True) = True\n",
    "or' (False, False) = False"
   ]
  },
  {
   "cell_type": "code",
   "execution_count": 42,
   "id": "ff354264",
   "metadata": {},
   "outputs": [
    {
     "data": {
      "text/plain": [
       "True"
      ]
     },
     "metadata": {},
     "output_type": "display_data"
    }
   ],
   "source": [
    "or' (False, True)"
   ]
  },
  {
   "cell_type": "markdown",
   "id": "5d64ea0f",
   "metadata": {},
   "source": [
    "**22. Wykorzystując dopasowanie wzorców napisać definicję and'**"
   ]
  },
  {
   "cell_type": "code",
   "execution_count": 43,
   "id": "47827ffc",
   "metadata": {},
   "outputs": [],
   "source": [
    "and' :: (Bool, Bool) -> Bool\n",
    "and' (True, True) = True\n",
    "and' (True, False) = False\n",
    "and' (False, True) = False\n",
    "and' (False, False) = False"
   ]
  },
  {
   "cell_type": "code",
   "execution_count": 44,
   "id": "32db63e2",
   "metadata": {},
   "outputs": [
    {
     "data": {
      "text/plain": [
       "False"
      ]
     },
     "metadata": {},
     "output_type": "display_data"
    }
   ],
   "source": [
    "and' (True, False)"
   ]
  },
  {
   "cell_type": "markdown",
   "id": "5ae604cc",
   "metadata": {},
   "source": [
    "**23. Wykorzystując dopasowanie wzorców napisać definicję nand'**"
   ]
  },
  {
   "cell_type": "code",
   "execution_count": 45,
   "id": "c186396f",
   "metadata": {},
   "outputs": [],
   "source": [
    "nand' :: (Bool, Bool) -> Bool\n",
    "nand' (True, True) = False\n",
    "nand' (True, False) = True\n",
    "nand' (False, True) = True\n",
    "nand' (False, False) = True"
   ]
  },
  {
   "cell_type": "code",
   "execution_count": 46,
   "id": "b699310b",
   "metadata": {},
   "outputs": [
    {
     "data": {
      "text/plain": [
       "True"
      ]
     },
     "metadata": {},
     "output_type": "display_data"
    }
   ],
   "source": [
    "nand' (False, False)"
   ]
  },
  {
   "cell_type": "markdown",
   "id": "c8d7bb5b",
   "metadata": {},
   "source": [
    "**24. Wykorzystując dopasowanie wzorców napisać definicję xor'**"
   ]
  },
  {
   "cell_type": "code",
   "execution_count": 47,
   "id": "9e286a71",
   "metadata": {},
   "outputs": [],
   "source": [
    "xor' :: (Bool, Bool) -> Bool\n",
    "xor' (True, True) = False\n",
    "xor' (True, False) = True\n",
    "xor' (False, True) = True\n",
    "xor' (False, False) = False"
   ]
  },
  {
   "cell_type": "code",
   "execution_count": 48,
   "id": "4ede60e3",
   "metadata": {},
   "outputs": [
    {
     "data": {
      "text/plain": [
       "False"
      ]
     },
     "metadata": {},
     "output_type": "display_data"
    }
   ],
   "source": [
    "xor' (True, True)"
   ]
  },
  {
   "cell_type": "markdown",
   "id": "5fc7e39a",
   "metadata": {},
   "source": [
    "**25. Każdą z powyższych funkcji można zaimplementować w różny sposób. Czy istnieją ich optymalne implementacje (w sensie wydajności)?**"
   ]
  },
  {
   "cell_type": "markdown",
   "id": "563529db",
   "metadata": {},
   "source": [
    "TAK"
   ]
  },
  {
   "cell_type": "code",
   "execution_count": 49,
   "id": "c64521b4",
   "metadata": {},
   "outputs": [],
   "source": [
    "or'' :: Bool -> Bool -> Bool\n",
    "or'' False False = False\n",
    "or'' _ _ = True"
   ]
  },
  {
   "cell_type": "code",
   "execution_count": 50,
   "id": "d659fe4d",
   "metadata": {},
   "outputs": [
    {
     "data": {
      "text/plain": [
       "True"
      ]
     },
     "metadata": {},
     "output_type": "display_data"
    }
   ],
   "source": [
    "or'' False True"
   ]
  },
  {
   "cell_type": "code",
   "execution_count": 51,
   "id": "87482d2f",
   "metadata": {},
   "outputs": [],
   "source": [
    "and'' :: Bool -> Bool -> Bool\n",
    "and'' True True = True\n",
    "and'' _ _ = False"
   ]
  },
  {
   "cell_type": "code",
   "execution_count": 52,
   "id": "ac8b379e",
   "metadata": {},
   "outputs": [
    {
     "data": {
      "text/plain": [
       "False"
      ]
     },
     "metadata": {},
     "output_type": "display_data"
    }
   ],
   "source": [
    "and'' True False"
   ]
  },
  {
   "cell_type": "code",
   "execution_count": 53,
   "id": "78562a95",
   "metadata": {},
   "outputs": [],
   "source": [
    "nand'' :: Bool -> Bool -> Bool\n",
    "nand'' True True = False\n",
    "nand'' _ _ = True"
   ]
  },
  {
   "cell_type": "code",
   "execution_count": 54,
   "id": "968622c2",
   "metadata": {},
   "outputs": [
    {
     "data": {
      "text/plain": [
       "True"
      ]
     },
     "metadata": {},
     "output_type": "display_data"
    }
   ],
   "source": [
    "nand'' False False"
   ]
  },
  {
   "cell_type": "code",
   "execution_count": 55,
   "id": "271880e4",
   "metadata": {},
   "outputs": [],
   "source": [
    "xor'' :: Bool -> Bool -> Bool\n",
    "xor'' True x = not x\n",
    "xor'' False x = x"
   ]
  },
  {
   "cell_type": "code",
   "execution_count": 56,
   "id": "ab22efb1",
   "metadata": {
    "scrolled": true
   },
   "outputs": [
    {
     "data": {
      "text/plain": [
       "True"
      ]
     },
     "metadata": {},
     "output_type": "display_data"
    }
   ],
   "source": [
    "xor'' True False"
   ]
  },
  {
   "cell_type": "markdown",
   "id": "86d06407",
   "metadata": {},
   "source": [
    "**26. Wykorzystując case...of napisać definicję isItTheAnswer**"
   ]
  },
  {
   "cell_type": "code",
   "execution_count": 57,
   "id": "8bda20e1",
   "metadata": {},
   "outputs": [],
   "source": [
    "isItTheAnswer :: String -> Bool\n",
    "isItTheAnswer x = case x of\n",
    "    \"Love\" -> True\n",
    "    _ -> False"
   ]
  },
  {
   "cell_type": "code",
   "execution_count": 58,
   "id": "a1b7be4b",
   "metadata": {},
   "outputs": [
    {
     "data": {
      "text/plain": [
       "True"
      ]
     },
     "metadata": {},
     "output_type": "display_data"
    },
    {
     "data": {
      "text/plain": [
       "False"
      ]
     },
     "metadata": {},
     "output_type": "display_data"
    }
   ],
   "source": [
    "isItTheAnswer \"Love\"\n",
    "isItTheAnswer \"abd\""
   ]
  },
  {
   "cell_type": "markdown",
   "id": "9fe9e4b7",
   "metadata": {},
   "source": [
    "**27. Wykorzystując case...of napisać definicję not'''**"
   ]
  },
  {
   "cell_type": "code",
   "execution_count": 59,
   "id": "80d2afc9",
   "metadata": {},
   "outputs": [
    {
     "data": {
      "text/html": [
       "<style>/* Styles used for the Hoogle display in the pager */\n",
       ".hoogle-doc {\n",
       "display: block;\n",
       "padding-bottom: 1.3em;\n",
       "padding-left: 0.4em;\n",
       "}\n",
       ".hoogle-code {\n",
       "display: block;\n",
       "font-family: monospace;\n",
       "white-space: pre;\n",
       "}\n",
       ".hoogle-text {\n",
       "display: block;\n",
       "}\n",
       ".hoogle-name {\n",
       "color: green;\n",
       "font-weight: bold;\n",
       "}\n",
       ".hoogle-head {\n",
       "font-weight: bold;\n",
       "}\n",
       ".hoogle-sub {\n",
       "display: block;\n",
       "margin-left: 0.4em;\n",
       "}\n",
       ".hoogle-package {\n",
       "font-weight: bold;\n",
       "font-style: italic;\n",
       "}\n",
       ".hoogle-module {\n",
       "font-weight: bold;\n",
       "}\n",
       ".hoogle-class {\n",
       "font-weight: bold;\n",
       "}\n",
       ".get-type {\n",
       "color: green;\n",
       "font-weight: bold;\n",
       "font-family: monospace;\n",
       "display: block;\n",
       "white-space: pre-wrap;\n",
       "}\n",
       ".show-type {\n",
       "color: green;\n",
       "font-weight: bold;\n",
       "font-family: monospace;\n",
       "margin-left: 1em;\n",
       "}\n",
       ".mono {\n",
       "font-family: monospace;\n",
       "display: block;\n",
       "}\n",
       ".err-msg {\n",
       "color: red;\n",
       "font-style: italic;\n",
       "font-family: monospace;\n",
       "white-space: pre;\n",
       "display: block;\n",
       "}\n",
       "#unshowable {\n",
       "color: red;\n",
       "font-weight: bold;\n",
       "}\n",
       ".err-msg.in.collapse {\n",
       "padding-top: 0.7em;\n",
       "}\n",
       ".highlight-code {\n",
       "white-space: pre;\n",
       "font-family: monospace;\n",
       "}\n",
       ".suggestion-warning { \n",
       "font-weight: bold;\n",
       "color: rgb(200, 130, 0);\n",
       "}\n",
       ".suggestion-error { \n",
       "font-weight: bold;\n",
       "color: red;\n",
       "}\n",
       ".suggestion-name {\n",
       "font-weight: bold;\n",
       "}\n",
       "</style><div class=\"suggestion-name\" style=\"clear:both;\">Use if</div><div class=\"suggestion-row\" style=\"float: left;\"><div class=\"suggestion-warning\">Found:</div><div class=\"highlight-code\" id=\"haskell\">case x of\n",
       "  True -> False\n",
       "  False -> True</div></div><div class=\"suggestion-row\" style=\"float: left;\"><div class=\"suggestion-warning\">Why Not:</div><div class=\"highlight-code\" id=\"haskell\">if x then False else True</div></div>"
      ],
      "text/plain": [
       "Line 2: Use if\n",
       "Found:\n",
       "case x of\n",
       "  True -> False\n",
       "  False -> True\n",
       "Why not:\n",
       "if x then False else True"
      ]
     },
     "metadata": {},
     "output_type": "display_data"
    }
   ],
   "source": [
    "not''' :: Bool -> Bool\n",
    "not''' x = case x of\n",
    "    True -> False\n",
    "    False -> True"
   ]
  },
  {
   "cell_type": "code",
   "execution_count": 60,
   "id": "7aa54845",
   "metadata": {},
   "outputs": [
    {
     "data": {
      "text/plain": [
       "True"
      ]
     },
     "metadata": {},
     "output_type": "display_data"
    }
   ],
   "source": [
    "not''' False"
   ]
  },
  {
   "cell_type": "markdown",
   "id": "7ecd5277",
   "metadata": {},
   "source": [
    "**28. Wykorzystując case...of napisać definicję or'''**"
   ]
  },
  {
   "cell_type": "code",
   "execution_count": 61,
   "id": "9f3b5daf",
   "metadata": {},
   "outputs": [],
   "source": [
    "or''' :: (Bool, Bool) -> Bool\n",
    "or''' (x, y) = case (x, y) of\n",
    "    (False, False) -> False\n",
    "    _ -> True"
   ]
  },
  {
   "cell_type": "code",
   "execution_count": 62,
   "id": "ff4eca11",
   "metadata": {},
   "outputs": [
    {
     "data": {
      "text/plain": [
       "True"
      ]
     },
     "metadata": {},
     "output_type": "display_data"
    }
   ],
   "source": [
    "or''' (False, True)"
   ]
  },
  {
   "cell_type": "markdown",
   "id": "ff214fe6",
   "metadata": {},
   "source": [
    "**29. Wykorzystując case...of napisać definicję and'''**"
   ]
  },
  {
   "cell_type": "code",
   "execution_count": 63,
   "id": "85aff107",
   "metadata": {},
   "outputs": [],
   "source": [
    "and''' :: (Bool, Bool) -> Bool\n",
    "and''' (x, y) = case (x, y) of\n",
    "    (True, True) -> True\n",
    "    _ -> False"
   ]
  },
  {
   "cell_type": "code",
   "execution_count": 64,
   "id": "968506ed",
   "metadata": {},
   "outputs": [
    {
     "data": {
      "text/plain": [
       "True"
      ]
     },
     "metadata": {},
     "output_type": "display_data"
    }
   ],
   "source": [
    "and''' (True, True)"
   ]
  },
  {
   "cell_type": "markdown",
   "id": "936bf304",
   "metadata": {},
   "source": [
    "**30. Wykorzystując case...of napisać definicję nand'''**"
   ]
  },
  {
   "cell_type": "code",
   "execution_count": 65,
   "id": "aaf6715f",
   "metadata": {},
   "outputs": [],
   "source": [
    "nand''' :: (Bool, Bool) -> Bool\n",
    "nand''' (x, y) = case (x, y) of\n",
    "    (True, True) -> False\n",
    "    _ -> True"
   ]
  },
  {
   "cell_type": "code",
   "execution_count": 66,
   "id": "5975890e",
   "metadata": {},
   "outputs": [
    {
     "data": {
      "text/plain": [
       "True"
      ]
     },
     "metadata": {},
     "output_type": "display_data"
    }
   ],
   "source": [
    "nand''' (True, False)"
   ]
  },
  {
   "cell_type": "markdown",
   "id": "8401cd3c",
   "metadata": {},
   "source": [
    "**31. Wykorzystując case...of napisać definicję xor'''**"
   ]
  },
  {
   "cell_type": "code",
   "execution_count": 67,
   "id": "3d7a72a2",
   "metadata": {},
   "outputs": [],
   "source": [
    "xor''' :: (Bool, Bool) -> Bool\n",
    "xor''' (x, y) = case (x, y) of\n",
    "    (True, True) -> False\n",
    "    (False, False) -> False\n",
    "    _ -> True"
   ]
  },
  {
   "cell_type": "code",
   "execution_count": 68,
   "id": "d5cd89c7",
   "metadata": {},
   "outputs": [
    {
     "data": {
      "text/plain": [
       "False"
      ]
     },
     "metadata": {},
     "output_type": "display_data"
    }
   ],
   "source": [
    "xor''' (False, False)"
   ]
  },
  {
   "cell_type": "markdown",
   "id": "fe515570",
   "metadata": {},
   "source": [
    "**32. Wykorzystując klauzulę where napisać definicję funkcji obliczającą wersor (wektor jednostkowy) podanego jako argument wektora 2D**"
   ]
  },
  {
   "cell_type": "code",
   "execution_count": 69,
   "id": "93c5546f",
   "metadata": {},
   "outputs": [],
   "source": [
    "unitVec2D :: (Double, Double) -> (Double, Double)\n",
    "unitVec2D (x, y) = (x / d,y / d)\n",
    "    where d = sqrt(x^2 + y^2)"
   ]
  },
  {
   "cell_type": "code",
   "execution_count": 70,
   "id": "a53eaf10",
   "metadata": {},
   "outputs": [
    {
     "data": {
      "text/plain": [
       "(0.49613893835683387,0.8682431421244593)"
      ]
     },
     "metadata": {},
     "output_type": "display_data"
    }
   ],
   "source": [
    "unitVec2D (4, 7)"
   ]
  },
  {
   "cell_type": "markdown",
   "id": "1298bfa5",
   "metadata": {},
   "source": [
    "**33. Wykorzystując klauzulę where napisać definicję funkcji unitVec3D**"
   ]
  },
  {
   "cell_type": "code",
   "execution_count": 71,
   "id": "ed58a05d",
   "metadata": {},
   "outputs": [],
   "source": [
    "unitVec3D :: (Double, Double, Double) -> (Double, Double, Double)\n",
    "unitVec3D (x, y, z) = (x / d, y / d, z / d)\n",
    "    where d = sqrt(x^2 + y^2 + z^2)"
   ]
  },
  {
   "cell_type": "code",
   "execution_count": 72,
   "id": "cf012ea5",
   "metadata": {},
   "outputs": [
    {
     "data": {
      "text/plain": [
       "(0.2407717061715384,0.9630868246861536,0.1203858530857692)"
      ]
     },
     "metadata": {},
     "output_type": "display_data"
    }
   ],
   "source": [
    "unitVec3D (2, 8, 1)"
   ]
  },
  {
   "cell_type": "markdown",
   "id": "6330c188",
   "metadata": {},
   "source": [
    "**34. Przepisać funkcję obliczającą pole trójkąta na podstawie wzoru Herona; wykorzystać where do definicji zmiennej lokalnej p (połowa obwodu trójkąta)**"
   ]
  },
  {
   "cell_type": "code",
   "execution_count": 73,
   "id": "aa5e36a6",
   "metadata": {},
   "outputs": [],
   "source": [
    "triangleArea :: (Double, Double, Double) -> Double\n",
    "triangleArea (a, b, c) = sqrt(p * (p - a) * (p - b) * (p -c))\n",
    "    where p = (a+b+c)/2"
   ]
  },
  {
   "cell_type": "code",
   "execution_count": 74,
   "id": "65fa6789",
   "metadata": {},
   "outputs": [
    {
     "data": {
      "text/plain": [
       "8.181534085976786"
      ]
     },
     "metadata": {},
     "output_type": "display_data"
    }
   ],
   "source": [
    "triangleArea (4, 5, 8)"
   ]
  },
  {
   "cell_type": "markdown",
   "id": "df26584a",
   "metadata": {},
   "source": [
    "**35. Wykorzystując klauzulę let...in napisać definicję funkcji obliczającą wersor (wektor jednostkowy) podanego jako argument wektora 2D**"
   ]
  },
  {
   "cell_type": "code",
   "execution_count": 75,
   "id": "869349ad",
   "metadata": {},
   "outputs": [],
   "source": [
    "unitVec2D' :: (Double, Double) -> (Double, Double)\n",
    "unitVec2D' (x, y) =\n",
    "    let d = sqrt(x^2 + y^2)\n",
    "    in (x / d,y / d)"
   ]
  },
  {
   "cell_type": "code",
   "execution_count": 76,
   "id": "1f8158f7",
   "metadata": {},
   "outputs": [
    {
     "data": {
      "text/plain": [
       "(0.49613893835683387,0.8682431421244593)"
      ]
     },
     "metadata": {},
     "output_type": "display_data"
    }
   ],
   "source": [
    "unitVec2D' (4, 7)"
   ]
  },
  {
   "cell_type": "markdown",
   "id": "1cea79d7",
   "metadata": {},
   "source": [
    "**36. Wykorzystując klauzulę let...in napisać definicję funkcji unitVec3D**"
   ]
  },
  {
   "cell_type": "code",
   "execution_count": 77,
   "id": "e7150c61",
   "metadata": {},
   "outputs": [],
   "source": [
    "unitVec3D' :: (Double, Double, Double) -> (Double, Double, Double)\n",
    "unitVec3D' (x, y, z) =\n",
    "    let d = sqrt(x^2 + y^2 + z^2)\n",
    "    in (x / d, y / d, z / d)"
   ]
  },
  {
   "cell_type": "code",
   "execution_count": 78,
   "id": "7c4e04d4",
   "metadata": {},
   "outputs": [
    {
     "data": {
      "text/plain": [
       "(0.2407717061715384,0.9630868246861536,0.1203858530857692)"
      ]
     },
     "metadata": {},
     "output_type": "display_data"
    }
   ],
   "source": [
    "unitVec3D' (2, 8, 1)"
   ]
  },
  {
   "cell_type": "markdown",
   "id": "57d655d4",
   "metadata": {},
   "source": [
    "**37. Przepisać funkcję obliczającą pole trójkąta na podstawie wzoru Herona; wykorzystać let...in do definicji zmiennej lokalnej p (połowa obwodu trójkąta)**"
   ]
  },
  {
   "cell_type": "code",
   "execution_count": 79,
   "id": "9845afbb",
   "metadata": {},
   "outputs": [],
   "source": [
    "triangleArea' :: (Double, Double, Double) -> Double\n",
    "triangleArea' (a, b, c) =\n",
    "    let p = (a+b+c)/2\n",
    "    in sqrt(p * (p - a) * (p - b) * (p -c))"
   ]
  },
  {
   "cell_type": "code",
   "execution_count": 80,
   "id": "726404fc",
   "metadata": {},
   "outputs": [
    {
     "data": {
      "text/plain": [
       "8.181534085976786"
      ]
     },
     "metadata": {},
     "output_type": "display_data"
    }
   ],
   "source": [
    "triangleArea' (4, 5, 8)"
   ]
  },
  {
   "cell_type": "markdown",
   "id": "8d833c69",
   "metadata": {},
   "source": [
    "**38. Zmodyfikować klauzulę where w funkcji roots używając nawiasów {} do definicji granic bloku**"
   ]
  },
  {
   "cell_type": "code",
   "execution_count": 81,
   "id": "27aa93ae",
   "metadata": {},
   "outputs": [],
   "source": [
    "roots :: (Double, Double, Double) -> (Double, Double)\n",
    "roots (a, b, c) = ((-b - d) / e, (-b + d) / e)\n",
    "    where d = sqrt (b * b - 4 * a * c)\n",
    "          e = 2 * a"
   ]
  },
  {
   "cell_type": "code",
   "execution_count": 82,
   "id": "5996cd7e",
   "metadata": {},
   "outputs": [
    {
     "data": {
      "text/plain": [
       "(-4.561552812808831,-0.4384471871911697)"
      ]
     },
     "metadata": {},
     "output_type": "display_data"
    }
   ],
   "source": [
    "roots (1, 5, 2)"
   ]
  },
  {
   "cell_type": "code",
   "execution_count": 83,
   "id": "e35a3adb",
   "metadata": {},
   "outputs": [],
   "source": [
    "roots' :: (Double, Double, Double) -> (Double, Double)\n",
    "roots' (a, b, c) = ((-b - d) / e, (-b + d) / e)\n",
    "    where {d = sqrt (b * b - 4 * a * c); e = 2 * a}"
   ]
  },
  {
   "cell_type": "code",
   "execution_count": 84,
   "id": "a15798aa",
   "metadata": {},
   "outputs": [
    {
     "data": {
      "text/plain": [
       "(-4.561552812808831,-0.4384471871911697)"
      ]
     },
     "metadata": {},
     "output_type": "display_data"
    }
   ],
   "source": [
    "roots' (1, 5, 2)"
   ]
  },
  {
   "cell_type": "markdown",
   "id": "f344626d",
   "metadata": {},
   "source": [
    "**39. Powtórzyć zmianę (dodanie {}) dla implementacji roots wykorzystującej let...in**"
   ]
  },
  {
   "cell_type": "code",
   "execution_count": 85,
   "id": "b5e6a69f",
   "metadata": {},
   "outputs": [],
   "source": [
    "roots'' :: (Double, Double, Double) -> (Double, Double)\n",
    "roots'' (a, b, c) =\n",
    "    let {d = sqrt (b * b - 4 * a * c); e = 2 * a}\n",
    "    in ((-b - d) / e, (-b + d) / e)"
   ]
  },
  {
   "cell_type": "code",
   "execution_count": 86,
   "id": "2f3c3b19",
   "metadata": {},
   "outputs": [
    {
     "data": {
      "text/plain": [
       "(-4.561552812808831,-0.4384471871911697)"
      ]
     },
     "metadata": {},
     "output_type": "display_data"
    }
   ],
   "source": [
    "roots'' (1, 5, 2)"
   ]
  },
  {
   "cell_type": "markdown",
   "id": "c1dc59da",
   "metadata": {},
   "source": [
    "**40. Napisać kilka (-naście?) definicji funkcji (bez jawnego podawania typu, jak powyżej) za każdym razem zgadując wynik wnioskowania typów**"
   ]
  },
  {
   "cell_type": "code",
   "execution_count": 87,
   "id": "f1929d82",
   "metadata": {},
   "outputs": [
    {
     "data": {
      "text/html": [
       "<style>/* Styles used for the Hoogle display in the pager */\n",
       ".hoogle-doc {\n",
       "display: block;\n",
       "padding-bottom: 1.3em;\n",
       "padding-left: 0.4em;\n",
       "}\n",
       ".hoogle-code {\n",
       "display: block;\n",
       "font-family: monospace;\n",
       "white-space: pre;\n",
       "}\n",
       ".hoogle-text {\n",
       "display: block;\n",
       "}\n",
       ".hoogle-name {\n",
       "color: green;\n",
       "font-weight: bold;\n",
       "}\n",
       ".hoogle-head {\n",
       "font-weight: bold;\n",
       "}\n",
       ".hoogle-sub {\n",
       "display: block;\n",
       "margin-left: 0.4em;\n",
       "}\n",
       ".hoogle-package {\n",
       "font-weight: bold;\n",
       "font-style: italic;\n",
       "}\n",
       ".hoogle-module {\n",
       "font-weight: bold;\n",
       "}\n",
       ".hoogle-class {\n",
       "font-weight: bold;\n",
       "}\n",
       ".get-type {\n",
       "color: green;\n",
       "font-weight: bold;\n",
       "font-family: monospace;\n",
       "display: block;\n",
       "white-space: pre-wrap;\n",
       "}\n",
       ".show-type {\n",
       "color: green;\n",
       "font-weight: bold;\n",
       "font-family: monospace;\n",
       "margin-left: 1em;\n",
       "}\n",
       ".mono {\n",
       "font-family: monospace;\n",
       "display: block;\n",
       "}\n",
       ".err-msg {\n",
       "color: red;\n",
       "font-style: italic;\n",
       "font-family: monospace;\n",
       "white-space: pre;\n",
       "display: block;\n",
       "}\n",
       "#unshowable {\n",
       "color: red;\n",
       "font-weight: bold;\n",
       "}\n",
       ".err-msg.in.collapse {\n",
       "padding-top: 0.7em;\n",
       "}\n",
       ".highlight-code {\n",
       "white-space: pre;\n",
       "font-family: monospace;\n",
       "}\n",
       ".suggestion-warning { \n",
       "font-weight: bold;\n",
       "color: rgb(200, 130, 0);\n",
       "}\n",
       ".suggestion-error { \n",
       "font-weight: bold;\n",
       "color: red;\n",
       "}\n",
       ".suggestion-name {\n",
       "font-weight: bold;\n",
       "}\n",
       "</style><span class='get-type'>f1 :: forall p. p -> p</span>"
      ],
      "text/plain": [
       "f1 :: forall p. p -> p"
      ]
     },
     "metadata": {},
     "output_type": "display_data"
    }
   ],
   "source": [
    "let f1 x = x\n",
    ":t f1"
   ]
  },
  {
   "cell_type": "code",
   "execution_count": 88,
   "id": "2fc7180a",
   "metadata": {},
   "outputs": [
    {
     "data": {
      "text/html": [
       "<style>/* Styles used for the Hoogle display in the pager */\n",
       ".hoogle-doc {\n",
       "display: block;\n",
       "padding-bottom: 1.3em;\n",
       "padding-left: 0.4em;\n",
       "}\n",
       ".hoogle-code {\n",
       "display: block;\n",
       "font-family: monospace;\n",
       "white-space: pre;\n",
       "}\n",
       ".hoogle-text {\n",
       "display: block;\n",
       "}\n",
       ".hoogle-name {\n",
       "color: green;\n",
       "font-weight: bold;\n",
       "}\n",
       ".hoogle-head {\n",
       "font-weight: bold;\n",
       "}\n",
       ".hoogle-sub {\n",
       "display: block;\n",
       "margin-left: 0.4em;\n",
       "}\n",
       ".hoogle-package {\n",
       "font-weight: bold;\n",
       "font-style: italic;\n",
       "}\n",
       ".hoogle-module {\n",
       "font-weight: bold;\n",
       "}\n",
       ".hoogle-class {\n",
       "font-weight: bold;\n",
       "}\n",
       ".get-type {\n",
       "color: green;\n",
       "font-weight: bold;\n",
       "font-family: monospace;\n",
       "display: block;\n",
       "white-space: pre-wrap;\n",
       "}\n",
       ".show-type {\n",
       "color: green;\n",
       "font-weight: bold;\n",
       "font-family: monospace;\n",
       "margin-left: 1em;\n",
       "}\n",
       ".mono {\n",
       "font-family: monospace;\n",
       "display: block;\n",
       "}\n",
       ".err-msg {\n",
       "color: red;\n",
       "font-style: italic;\n",
       "font-family: monospace;\n",
       "white-space: pre;\n",
       "display: block;\n",
       "}\n",
       "#unshowable {\n",
       "color: red;\n",
       "font-weight: bold;\n",
       "}\n",
       ".err-msg.in.collapse {\n",
       "padding-top: 0.7em;\n",
       "}\n",
       ".highlight-code {\n",
       "white-space: pre;\n",
       "font-family: monospace;\n",
       "}\n",
       ".suggestion-warning { \n",
       "font-weight: bold;\n",
       "color: rgb(200, 130, 0);\n",
       "}\n",
       ".suggestion-error { \n",
       "font-weight: bold;\n",
       "color: red;\n",
       "}\n",
       ".suggestion-name {\n",
       "font-weight: bold;\n",
       "}\n",
       "</style><span class='get-type'>f2 :: forall p. p -> Bool</span>"
      ],
      "text/plain": [
       "f2 :: forall p. p -> Bool"
      ]
     },
     "metadata": {},
     "output_type": "display_data"
    }
   ],
   "source": [
    "let f2 x = False\n",
    ":t f2"
   ]
  },
  {
   "cell_type": "code",
   "execution_count": 89,
   "id": "97244510",
   "metadata": {},
   "outputs": [
    {
     "data": {
      "text/html": [
       "<style>/* Styles used for the Hoogle display in the pager */\n",
       ".hoogle-doc {\n",
       "display: block;\n",
       "padding-bottom: 1.3em;\n",
       "padding-left: 0.4em;\n",
       "}\n",
       ".hoogle-code {\n",
       "display: block;\n",
       "font-family: monospace;\n",
       "white-space: pre;\n",
       "}\n",
       ".hoogle-text {\n",
       "display: block;\n",
       "}\n",
       ".hoogle-name {\n",
       "color: green;\n",
       "font-weight: bold;\n",
       "}\n",
       ".hoogle-head {\n",
       "font-weight: bold;\n",
       "}\n",
       ".hoogle-sub {\n",
       "display: block;\n",
       "margin-left: 0.4em;\n",
       "}\n",
       ".hoogle-package {\n",
       "font-weight: bold;\n",
       "font-style: italic;\n",
       "}\n",
       ".hoogle-module {\n",
       "font-weight: bold;\n",
       "}\n",
       ".hoogle-class {\n",
       "font-weight: bold;\n",
       "}\n",
       ".get-type {\n",
       "color: green;\n",
       "font-weight: bold;\n",
       "font-family: monospace;\n",
       "display: block;\n",
       "white-space: pre-wrap;\n",
       "}\n",
       ".show-type {\n",
       "color: green;\n",
       "font-weight: bold;\n",
       "font-family: monospace;\n",
       "margin-left: 1em;\n",
       "}\n",
       ".mono {\n",
       "font-family: monospace;\n",
       "display: block;\n",
       "}\n",
       ".err-msg {\n",
       "color: red;\n",
       "font-style: italic;\n",
       "font-family: monospace;\n",
       "white-space: pre;\n",
       "display: block;\n",
       "}\n",
       "#unshowable {\n",
       "color: red;\n",
       "font-weight: bold;\n",
       "}\n",
       ".err-msg.in.collapse {\n",
       "padding-top: 0.7em;\n",
       "}\n",
       ".highlight-code {\n",
       "white-space: pre;\n",
       "font-family: monospace;\n",
       "}\n",
       ".suggestion-warning { \n",
       "font-weight: bold;\n",
       "color: rgb(200, 130, 0);\n",
       "}\n",
       ".suggestion-error { \n",
       "font-weight: bold;\n",
       "color: red;\n",
       "}\n",
       ".suggestion-name {\n",
       "font-weight: bold;\n",
       "}\n",
       "</style><span class='get-type'>f3 :: forall a. Num a => a -> a</span>"
      ],
      "text/plain": [
       "f3 :: forall a. Num a => a -> a"
      ]
     },
     "metadata": {},
     "output_type": "display_data"
    }
   ],
   "source": [
    "let f3 x = x*x\n",
    ":t f3"
   ]
  },
  {
   "cell_type": "code",
   "execution_count": 90,
   "id": "20bf950b",
   "metadata": {},
   "outputs": [
    {
     "data": {
      "text/html": [
       "<style>/* Styles used for the Hoogle display in the pager */\n",
       ".hoogle-doc {\n",
       "display: block;\n",
       "padding-bottom: 1.3em;\n",
       "padding-left: 0.4em;\n",
       "}\n",
       ".hoogle-code {\n",
       "display: block;\n",
       "font-family: monospace;\n",
       "white-space: pre;\n",
       "}\n",
       ".hoogle-text {\n",
       "display: block;\n",
       "}\n",
       ".hoogle-name {\n",
       "color: green;\n",
       "font-weight: bold;\n",
       "}\n",
       ".hoogle-head {\n",
       "font-weight: bold;\n",
       "}\n",
       ".hoogle-sub {\n",
       "display: block;\n",
       "margin-left: 0.4em;\n",
       "}\n",
       ".hoogle-package {\n",
       "font-weight: bold;\n",
       "font-style: italic;\n",
       "}\n",
       ".hoogle-module {\n",
       "font-weight: bold;\n",
       "}\n",
       ".hoogle-class {\n",
       "font-weight: bold;\n",
       "}\n",
       ".get-type {\n",
       "color: green;\n",
       "font-weight: bold;\n",
       "font-family: monospace;\n",
       "display: block;\n",
       "white-space: pre-wrap;\n",
       "}\n",
       ".show-type {\n",
       "color: green;\n",
       "font-weight: bold;\n",
       "font-family: monospace;\n",
       "margin-left: 1em;\n",
       "}\n",
       ".mono {\n",
       "font-family: monospace;\n",
       "display: block;\n",
       "}\n",
       ".err-msg {\n",
       "color: red;\n",
       "font-style: italic;\n",
       "font-family: monospace;\n",
       "white-space: pre;\n",
       "display: block;\n",
       "}\n",
       "#unshowable {\n",
       "color: red;\n",
       "font-weight: bold;\n",
       "}\n",
       ".err-msg.in.collapse {\n",
       "padding-top: 0.7em;\n",
       "}\n",
       ".highlight-code {\n",
       "white-space: pre;\n",
       "font-family: monospace;\n",
       "}\n",
       ".suggestion-warning { \n",
       "font-weight: bold;\n",
       "color: rgb(200, 130, 0);\n",
       "}\n",
       ".suggestion-error { \n",
       "font-weight: bold;\n",
       "color: red;\n",
       "}\n",
       ".suggestion-name {\n",
       "font-weight: bold;\n",
       "}\n",
       "</style><span class='get-type'>f4 :: forall b a. (Integral b, Num a) => (a, b) -> a</span>"
      ],
      "text/plain": [
       "f4 :: forall b a. (Integral b, Num a) => (a, b) -> a"
      ]
     },
     "metadata": {},
     "output_type": "display_data"
    }
   ],
   "source": [
    "let f4 (x, y) = x^y\n",
    ":t f4"
   ]
  },
  {
   "cell_type": "code",
   "execution_count": 91,
   "id": "63b249ce",
   "metadata": {},
   "outputs": [
    {
     "data": {
      "text/html": [
       "<style>/* Styles used for the Hoogle display in the pager */\n",
       ".hoogle-doc {\n",
       "display: block;\n",
       "padding-bottom: 1.3em;\n",
       "padding-left: 0.4em;\n",
       "}\n",
       ".hoogle-code {\n",
       "display: block;\n",
       "font-family: monospace;\n",
       "white-space: pre;\n",
       "}\n",
       ".hoogle-text {\n",
       "display: block;\n",
       "}\n",
       ".hoogle-name {\n",
       "color: green;\n",
       "font-weight: bold;\n",
       "}\n",
       ".hoogle-head {\n",
       "font-weight: bold;\n",
       "}\n",
       ".hoogle-sub {\n",
       "display: block;\n",
       "margin-left: 0.4em;\n",
       "}\n",
       ".hoogle-package {\n",
       "font-weight: bold;\n",
       "font-style: italic;\n",
       "}\n",
       ".hoogle-module {\n",
       "font-weight: bold;\n",
       "}\n",
       ".hoogle-class {\n",
       "font-weight: bold;\n",
       "}\n",
       ".get-type {\n",
       "color: green;\n",
       "font-weight: bold;\n",
       "font-family: monospace;\n",
       "display: block;\n",
       "white-space: pre-wrap;\n",
       "}\n",
       ".show-type {\n",
       "color: green;\n",
       "font-weight: bold;\n",
       "font-family: monospace;\n",
       "margin-left: 1em;\n",
       "}\n",
       ".mono {\n",
       "font-family: monospace;\n",
       "display: block;\n",
       "}\n",
       ".err-msg {\n",
       "color: red;\n",
       "font-style: italic;\n",
       "font-family: monospace;\n",
       "white-space: pre;\n",
       "display: block;\n",
       "}\n",
       "#unshowable {\n",
       "color: red;\n",
       "font-weight: bold;\n",
       "}\n",
       ".err-msg.in.collapse {\n",
       "padding-top: 0.7em;\n",
       "}\n",
       ".highlight-code {\n",
       "white-space: pre;\n",
       "font-family: monospace;\n",
       "}\n",
       ".suggestion-warning { \n",
       "font-weight: bold;\n",
       "color: rgb(200, 130, 0);\n",
       "}\n",
       ".suggestion-error { \n",
       "font-weight: bold;\n",
       "color: red;\n",
       "}\n",
       ".suggestion-name {\n",
       "font-weight: bold;\n",
       "}\n",
       "</style><span class='get-type'>f5 :: forall a. Fractional a => a -> a</span>"
      ],
      "text/plain": [
       "f5 :: forall a. Fractional a => a -> a"
      ]
     },
     "metadata": {},
     "output_type": "display_data"
    }
   ],
   "source": [
    "let f5 x = x / 7\n",
    ":t f5"
   ]
  },
  {
   "cell_type": "code",
   "execution_count": 92,
   "id": "b52e3004",
   "metadata": {},
   "outputs": [
    {
     "data": {
      "text/html": [
       "<style>/* Styles used for the Hoogle display in the pager */\n",
       ".hoogle-doc {\n",
       "display: block;\n",
       "padding-bottom: 1.3em;\n",
       "padding-left: 0.4em;\n",
       "}\n",
       ".hoogle-code {\n",
       "display: block;\n",
       "font-family: monospace;\n",
       "white-space: pre;\n",
       "}\n",
       ".hoogle-text {\n",
       "display: block;\n",
       "}\n",
       ".hoogle-name {\n",
       "color: green;\n",
       "font-weight: bold;\n",
       "}\n",
       ".hoogle-head {\n",
       "font-weight: bold;\n",
       "}\n",
       ".hoogle-sub {\n",
       "display: block;\n",
       "margin-left: 0.4em;\n",
       "}\n",
       ".hoogle-package {\n",
       "font-weight: bold;\n",
       "font-style: italic;\n",
       "}\n",
       ".hoogle-module {\n",
       "font-weight: bold;\n",
       "}\n",
       ".hoogle-class {\n",
       "font-weight: bold;\n",
       "}\n",
       ".get-type {\n",
       "color: green;\n",
       "font-weight: bold;\n",
       "font-family: monospace;\n",
       "display: block;\n",
       "white-space: pre-wrap;\n",
       "}\n",
       ".show-type {\n",
       "color: green;\n",
       "font-weight: bold;\n",
       "font-family: monospace;\n",
       "margin-left: 1em;\n",
       "}\n",
       ".mono {\n",
       "font-family: monospace;\n",
       "display: block;\n",
       "}\n",
       ".err-msg {\n",
       "color: red;\n",
       "font-style: italic;\n",
       "font-family: monospace;\n",
       "white-space: pre;\n",
       "display: block;\n",
       "}\n",
       "#unshowable {\n",
       "color: red;\n",
       "font-weight: bold;\n",
       "}\n",
       ".err-msg.in.collapse {\n",
       "padding-top: 0.7em;\n",
       "}\n",
       ".highlight-code {\n",
       "white-space: pre;\n",
       "font-family: monospace;\n",
       "}\n",
       ".suggestion-warning { \n",
       "font-weight: bold;\n",
       "color: rgb(200, 130, 0);\n",
       "}\n",
       ".suggestion-error { \n",
       "font-weight: bold;\n",
       "color: red;\n",
       "}\n",
       ".suggestion-name {\n",
       "font-weight: bold;\n",
       "}\n",
       "</style><span class='get-type'>f6 :: forall a. (Eq a, Num a) => a -> Bool</span>"
      ],
      "text/plain": [
       "f6 :: forall a. (Eq a, Num a) => a -> Bool"
      ]
     },
     "metadata": {},
     "output_type": "display_data"
    }
   ],
   "source": [
    "let f6 x = x /= 1\n",
    ":t f6"
   ]
  },
  {
   "cell_type": "code",
   "execution_count": 93,
   "id": "aa3256cb",
   "metadata": {},
   "outputs": [
    {
     "data": {
      "text/html": [
       "<style>/* Styles used for the Hoogle display in the pager */\n",
       ".hoogle-doc {\n",
       "display: block;\n",
       "padding-bottom: 1.3em;\n",
       "padding-left: 0.4em;\n",
       "}\n",
       ".hoogle-code {\n",
       "display: block;\n",
       "font-family: monospace;\n",
       "white-space: pre;\n",
       "}\n",
       ".hoogle-text {\n",
       "display: block;\n",
       "}\n",
       ".hoogle-name {\n",
       "color: green;\n",
       "font-weight: bold;\n",
       "}\n",
       ".hoogle-head {\n",
       "font-weight: bold;\n",
       "}\n",
       ".hoogle-sub {\n",
       "display: block;\n",
       "margin-left: 0.4em;\n",
       "}\n",
       ".hoogle-package {\n",
       "font-weight: bold;\n",
       "font-style: italic;\n",
       "}\n",
       ".hoogle-module {\n",
       "font-weight: bold;\n",
       "}\n",
       ".hoogle-class {\n",
       "font-weight: bold;\n",
       "}\n",
       ".get-type {\n",
       "color: green;\n",
       "font-weight: bold;\n",
       "font-family: monospace;\n",
       "display: block;\n",
       "white-space: pre-wrap;\n",
       "}\n",
       ".show-type {\n",
       "color: green;\n",
       "font-weight: bold;\n",
       "font-family: monospace;\n",
       "margin-left: 1em;\n",
       "}\n",
       ".mono {\n",
       "font-family: monospace;\n",
       "display: block;\n",
       "}\n",
       ".err-msg {\n",
       "color: red;\n",
       "font-style: italic;\n",
       "font-family: monospace;\n",
       "white-space: pre;\n",
       "display: block;\n",
       "}\n",
       "#unshowable {\n",
       "color: red;\n",
       "font-weight: bold;\n",
       "}\n",
       ".err-msg.in.collapse {\n",
       "padding-top: 0.7em;\n",
       "}\n",
       ".highlight-code {\n",
       "white-space: pre;\n",
       "font-family: monospace;\n",
       "}\n",
       ".suggestion-warning { \n",
       "font-weight: bold;\n",
       "color: rgb(200, 130, 0);\n",
       "}\n",
       ".suggestion-error { \n",
       "font-weight: bold;\n",
       "color: red;\n",
       "}\n",
       ".suggestion-name {\n",
       "font-weight: bold;\n",
       "}\n",
       "</style><span class='get-type'>f7 :: forall a. (Ord a, Fractional a) => a -> a</span>"
      ],
      "text/plain": [
       "f7 :: forall a. (Ord a, Fractional a) => a -> a"
      ]
     },
     "metadata": {},
     "output_type": "display_data"
    }
   ],
   "source": [
    "let f7 x = if x > 0 then 4*x else x/4\n",
    ":t f7"
   ]
  },
  {
   "cell_type": "code",
   "execution_count": 94,
   "id": "f058fffd",
   "metadata": {},
   "outputs": [
    {
     "data": {
      "text/html": [
       "<style>/* Styles used for the Hoogle display in the pager */\n",
       ".hoogle-doc {\n",
       "display: block;\n",
       "padding-bottom: 1.3em;\n",
       "padding-left: 0.4em;\n",
       "}\n",
       ".hoogle-code {\n",
       "display: block;\n",
       "font-family: monospace;\n",
       "white-space: pre;\n",
       "}\n",
       ".hoogle-text {\n",
       "display: block;\n",
       "}\n",
       ".hoogle-name {\n",
       "color: green;\n",
       "font-weight: bold;\n",
       "}\n",
       ".hoogle-head {\n",
       "font-weight: bold;\n",
       "}\n",
       ".hoogle-sub {\n",
       "display: block;\n",
       "margin-left: 0.4em;\n",
       "}\n",
       ".hoogle-package {\n",
       "font-weight: bold;\n",
       "font-style: italic;\n",
       "}\n",
       ".hoogle-module {\n",
       "font-weight: bold;\n",
       "}\n",
       ".hoogle-class {\n",
       "font-weight: bold;\n",
       "}\n",
       ".get-type {\n",
       "color: green;\n",
       "font-weight: bold;\n",
       "font-family: monospace;\n",
       "display: block;\n",
       "white-space: pre-wrap;\n",
       "}\n",
       ".show-type {\n",
       "color: green;\n",
       "font-weight: bold;\n",
       "font-family: monospace;\n",
       "margin-left: 1em;\n",
       "}\n",
       ".mono {\n",
       "font-family: monospace;\n",
       "display: block;\n",
       "}\n",
       ".err-msg {\n",
       "color: red;\n",
       "font-style: italic;\n",
       "font-family: monospace;\n",
       "white-space: pre;\n",
       "display: block;\n",
       "}\n",
       "#unshowable {\n",
       "color: red;\n",
       "font-weight: bold;\n",
       "}\n",
       ".err-msg.in.collapse {\n",
       "padding-top: 0.7em;\n",
       "}\n",
       ".highlight-code {\n",
       "white-space: pre;\n",
       "font-family: monospace;\n",
       "}\n",
       ".suggestion-warning { \n",
       "font-weight: bold;\n",
       "color: rgb(200, 130, 0);\n",
       "}\n",
       ".suggestion-error { \n",
       "font-weight: bold;\n",
       "color: red;\n",
       "}\n",
       ".suggestion-name {\n",
       "font-weight: bold;\n",
       "}\n",
       "</style><span class='get-type'>f8 :: (Bool, Bool) -> Bool</span>"
      ],
      "text/plain": [
       "f8 :: (Bool, Bool) -> Bool"
      ]
     },
     "metadata": {},
     "output_type": "display_data"
    }
   ],
   "source": [
    "let f8 (x, y) = x && y\n",
    ":t f8"
   ]
  },
  {
   "cell_type": "code",
   "execution_count": 95,
   "id": "1a4fae00",
   "metadata": {},
   "outputs": [
    {
     "data": {
      "text/html": [
       "<style>/* Styles used for the Hoogle display in the pager */\n",
       ".hoogle-doc {\n",
       "display: block;\n",
       "padding-bottom: 1.3em;\n",
       "padding-left: 0.4em;\n",
       "}\n",
       ".hoogle-code {\n",
       "display: block;\n",
       "font-family: monospace;\n",
       "white-space: pre;\n",
       "}\n",
       ".hoogle-text {\n",
       "display: block;\n",
       "}\n",
       ".hoogle-name {\n",
       "color: green;\n",
       "font-weight: bold;\n",
       "}\n",
       ".hoogle-head {\n",
       "font-weight: bold;\n",
       "}\n",
       ".hoogle-sub {\n",
       "display: block;\n",
       "margin-left: 0.4em;\n",
       "}\n",
       ".hoogle-package {\n",
       "font-weight: bold;\n",
       "font-style: italic;\n",
       "}\n",
       ".hoogle-module {\n",
       "font-weight: bold;\n",
       "}\n",
       ".hoogle-class {\n",
       "font-weight: bold;\n",
       "}\n",
       ".get-type {\n",
       "color: green;\n",
       "font-weight: bold;\n",
       "font-family: monospace;\n",
       "display: block;\n",
       "white-space: pre-wrap;\n",
       "}\n",
       ".show-type {\n",
       "color: green;\n",
       "font-weight: bold;\n",
       "font-family: monospace;\n",
       "margin-left: 1em;\n",
       "}\n",
       ".mono {\n",
       "font-family: monospace;\n",
       "display: block;\n",
       "}\n",
       ".err-msg {\n",
       "color: red;\n",
       "font-style: italic;\n",
       "font-family: monospace;\n",
       "white-space: pre;\n",
       "display: block;\n",
       "}\n",
       "#unshowable {\n",
       "color: red;\n",
       "font-weight: bold;\n",
       "}\n",
       ".err-msg.in.collapse {\n",
       "padding-top: 0.7em;\n",
       "}\n",
       ".highlight-code {\n",
       "white-space: pre;\n",
       "font-family: monospace;\n",
       "}\n",
       ".suggestion-warning { \n",
       "font-weight: bold;\n",
       "color: rgb(200, 130, 0);\n",
       "}\n",
       ".suggestion-error { \n",
       "font-weight: bold;\n",
       "color: red;\n",
       "}\n",
       ".suggestion-name {\n",
       "font-weight: bold;\n",
       "}\n",
       "</style><span class='get-type'>f9 :: forall b. (Integral b, Fractional b) => (b, b, b) -> b</span>"
      ],
      "text/plain": [
       "f9 :: forall b. (Integral b, Fractional b) => (b, b, b) -> b"
      ]
     },
     "metadata": {},
     "output_type": "display_data"
    }
   ],
   "source": [
    "f9 (x, y, z)=\n",
    "    let {a=x*y+1; b=x/y+z}\n",
    "    in a^b\n",
    ":t f9"
   ]
  },
  {
   "cell_type": "code",
   "execution_count": 96,
   "id": "b588d1a7",
   "metadata": {},
   "outputs": [
    {
     "data": {
      "text/html": [
       "<style>/* Styles used for the Hoogle display in the pager */\n",
       ".hoogle-doc {\n",
       "display: block;\n",
       "padding-bottom: 1.3em;\n",
       "padding-left: 0.4em;\n",
       "}\n",
       ".hoogle-code {\n",
       "display: block;\n",
       "font-family: monospace;\n",
       "white-space: pre;\n",
       "}\n",
       ".hoogle-text {\n",
       "display: block;\n",
       "}\n",
       ".hoogle-name {\n",
       "color: green;\n",
       "font-weight: bold;\n",
       "}\n",
       ".hoogle-head {\n",
       "font-weight: bold;\n",
       "}\n",
       ".hoogle-sub {\n",
       "display: block;\n",
       "margin-left: 0.4em;\n",
       "}\n",
       ".hoogle-package {\n",
       "font-weight: bold;\n",
       "font-style: italic;\n",
       "}\n",
       ".hoogle-module {\n",
       "font-weight: bold;\n",
       "}\n",
       ".hoogle-class {\n",
       "font-weight: bold;\n",
       "}\n",
       ".get-type {\n",
       "color: green;\n",
       "font-weight: bold;\n",
       "font-family: monospace;\n",
       "display: block;\n",
       "white-space: pre-wrap;\n",
       "}\n",
       ".show-type {\n",
       "color: green;\n",
       "font-weight: bold;\n",
       "font-family: monospace;\n",
       "margin-left: 1em;\n",
       "}\n",
       ".mono {\n",
       "font-family: monospace;\n",
       "display: block;\n",
       "}\n",
       ".err-msg {\n",
       "color: red;\n",
       "font-style: italic;\n",
       "font-family: monospace;\n",
       "white-space: pre;\n",
       "display: block;\n",
       "}\n",
       "#unshowable {\n",
       "color: red;\n",
       "font-weight: bold;\n",
       "}\n",
       ".err-msg.in.collapse {\n",
       "padding-top: 0.7em;\n",
       "}\n",
       ".highlight-code {\n",
       "white-space: pre;\n",
       "font-family: monospace;\n",
       "}\n",
       ".suggestion-warning { \n",
       "font-weight: bold;\n",
       "color: rgb(200, 130, 0);\n",
       "}\n",
       ".suggestion-error { \n",
       "font-weight: bold;\n",
       "color: red;\n",
       "}\n",
       ".suggestion-name {\n",
       "font-weight: bold;\n",
       "}\n",
       "</style><span class='get-type'>f10 :: forall p. Ord p => (p, p, p, p) -> p</span>"
      ],
      "text/plain": [
       "f10 :: forall p. Ord p => (p, p, p, p) -> p"
      ]
     },
     "metadata": {},
     "output_type": "display_data"
    }
   ],
   "source": [
    "f10 (a, b, c, d)\n",
    "    | a < b && d == c = d\n",
    "    | otherwise = a\n",
    ":t f10"
   ]
  }
 ],
 "metadata": {
  "kernelspec": {
   "display_name": "Haskell",
   "language": "haskell",
   "name": "haskell"
  },
  "language_info": {
   "codemirror_mode": "ihaskell",
   "file_extension": ".hs",
   "mimetype": "text/x-haskell",
   "name": "haskell",
   "pygments_lexer": "Haskell",
   "version": "8.10.7"
  }
 },
 "nbformat": 4,
 "nbformat_minor": 5
}

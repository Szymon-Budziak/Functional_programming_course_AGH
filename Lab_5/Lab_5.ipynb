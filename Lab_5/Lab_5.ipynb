{
 "cells": [
  {
   "cell_type": "markdown",
   "id": "567dd216",
   "metadata": {},
   "source": [
    "# Labs 5"
   ]
  },
  {
   "cell_type": "markdown",
   "id": "2941f15e",
   "metadata": {},
   "source": [
    "## 2) Łączenie (sekwencje) ‘akcji’ I/O — operatory >> (`then`) i >>= (`bind`), notacja do"
   ]
  },
  {
   "cell_type": "markdown",
   "id": "0ba6b7aa",
   "metadata": {},
   "source": [
    "**1. Napisać odpowiedniki `echo3` i `dialog` wykorzystujące notację `do`.**"
   ]
  },
  {
   "cell_type": "markdown",
   "id": "0eac9477",
   "metadata": {},
   "source": [
    "**echo3 z użyciem do**"
   ]
  },
  {
   "cell_type": "code",
   "execution_count": 1,
   "id": "d48b38a1",
   "metadata": {},
   "outputs": [],
   "source": [
    "echo3 :: IO()\n",
    "echo3 = getLine >>= \\l1 -> getLine >>= \\l2 -> putStrLn $ l1 ++ l2"
   ]
  },
  {
   "cell_type": "markdown",
   "id": "7bffaea1",
   "metadata": {},
   "source": [
    "**echo3 bez użycia do**"
   ]
  },
  {
   "cell_type": "code",
   "execution_count": 2,
   "id": "26acb16f",
   "metadata": {},
   "outputs": [],
   "source": [
    "echo3' :: IO()\n",
    "echo3' = do\n",
    "    l1 <- getLine\n",
    "    l2 <- getLine\n",
    "    putStrLn $ l1 ++ l2"
   ]
  },
  {
   "cell_type": "markdown",
   "id": "f1cfed9e",
   "metadata": {},
   "source": [
    "**dialog z użyciem do**"
   ]
  },
  {
   "cell_type": "code",
   "execution_count": 3,
   "id": "ccd71b6f",
   "metadata": {},
   "outputs": [],
   "source": [
    "dialog :: IO()\n",
    "dialog = putStr \"What is your happy number? \"\n",
    "    >> getLine\n",
    "    >>= \\choice -> let num = read choice :: Int in\n",
    "        if num == 7\n",
    "        then putStrLn \"Ah, lucky 7!\"\n",
    "        else if odd num\n",
    "            then putStrLn \"Odd number! That's most people's choice...\"\n",
    "            else putStrLn \"Hm, even number? Unusual!\""
   ]
  },
  {
   "cell_type": "markdown",
   "id": "933ff3bb",
   "metadata": {},
   "source": [
    "**dialog bez użycia do**"
   ]
  },
  {
   "cell_type": "code",
   "execution_count": 4,
   "id": "e5f4c0c1",
   "metadata": {},
   "outputs": [],
   "source": [
    "dialog' :: IO()\n",
    "dialog' = do\n",
    "    putStr \"What is your happy number? \"\n",
    "    choice <- getLine\n",
    "    let num = read choice :: Int in\n",
    "        if num == 7\n",
    "        then putStrLn \"Ah, lucky 7!\"\n",
    "        else if odd num\n",
    "            then putStrLn \"Odd number! That's most people's choice...\"\n",
    "            else putStrLn \"Hm, even number? Unusual!\""
   ]
  },
  {
   "cell_type": "markdown",
   "id": "94f8b8f8",
   "metadata": {},
   "source": [
    "**2. Napisać odpowiednik `twoQuestions` bez użycia notacji `do`.**"
   ]
  },
  {
   "cell_type": "markdown",
   "id": "b847473e",
   "metadata": {},
   "source": [
    "**twoQuestions z użyciem do**"
   ]
  },
  {
   "cell_type": "code",
   "execution_count": 5,
   "id": "b61b1e30",
   "metadata": {},
   "outputs": [],
   "source": [
    "twoQuestions :: IO ()\n",
    "twoQuestions = do\n",
    "  putStr \"What is your name? \"\n",
    "  name <- getLine\n",
    "  putStr \"How old are you? \"\n",
    "  age <- getLine\n",
    "  print (name,age)"
   ]
  },
  {
   "cell_type": "markdown",
   "id": "61919e87",
   "metadata": {},
   "source": [
    "**twoQuestions bez użycia do**"
   ]
  },
  {
   "cell_type": "code",
   "execution_count": 6,
   "id": "b93d3067",
   "metadata": {},
   "outputs": [],
   "source": [
    "twoQuestions :: IO ()\n",
    "twoQuestions = putStr \"What is your name? \"\n",
    "    >> getLine\n",
    "    >>= \\name -> putStr \"How old are you? \"\n",
    "    >> getLine\n",
    "    >>= \\age -> print(name, age)"
   ]
  },
  {
   "cell_type": "markdown",
   "id": "c78b777c",
   "metadata": {},
   "source": [
    "**3. Napisać ‘akcję’ `getLine'` odpowiadającą `getLine` z biblioteki `Prelude`.**"
   ]
  },
  {
   "cell_type": "code",
   "execution_count": 7,
   "id": "e843de75",
   "metadata": {},
   "outputs": [],
   "source": [
    "getLine' :: IO String\n",
    "getLine' = do\n",
    "    char <- getChar\n",
    "    if char == '\\n'\n",
    "    then return \"\"\n",
    "    else do\n",
    "        line <- getLine\n",
    "        return (char:line)"
   ]
  },
  {
   "cell_type": "markdown",
   "id": "67546c42",
   "metadata": {},
   "source": [
    "## 6) Funktory 2: dołączanie typów użytkownika do klasy `Functor`"
   ]
  },
  {
   "cell_type": "markdown",
   "id": "4ef86a9c",
   "metadata": {},
   "source": [
    "**4. Sprawdzić możliwość automatycznego wygenerowania instancji `Functor` dla typu `MyList` (klauzula deriving)**"
   ]
  },
  {
   "cell_type": "code",
   "execution_count": 8,
   "id": "db5096ea",
   "metadata": {},
   "outputs": [],
   "source": [
    "{-# LANGUAGE DeriveFunctor #-}\n",
    "data MyList a = EmptyList\n",
    "              | Cons a (MyList a) deriving (Show, Functor)"
   ]
  },
  {
   "cell_type": "code",
   "execution_count": 9,
   "id": "03d52957",
   "metadata": {},
   "outputs": [
    {
     "data": {
      "text/plain": [
       "Cons 10 (Cons 8 (Cons 34 EmptyList))"
      ]
     },
     "metadata": {},
     "output_type": "display_data"
    }
   ],
   "source": [
    "list = Cons 5 (Cons 3 (Cons 29 EmptyList))\n",
    "fmap (+5) list"
   ]
  },
  {
   "cell_type": "markdown",
   "id": "e2dfedff",
   "metadata": {},
   "source": [
    "**5. Napisać własną implementację funktora (`instance Functor`), a następnie sprawdzić możliwość jej automatycznego wygenerowania dla drzewa binarnego zdefiniowanego jako**\n",
    "\n",
    "**data BinTree a = EmptyBT | NodeBT a (BinTree a) (BinTree a) deriving (Show)**"
   ]
  },
  {
   "cell_type": "code",
   "execution_count": 10,
   "id": "1039c172",
   "metadata": {},
   "outputs": [],
   "source": [
    "data BinTree a = EmptyBT\n",
    "             | NodeBT a (BinTree a) (BinTree a) deriving (Show)"
   ]
  },
  {
   "cell_type": "code",
   "execution_count": 11,
   "id": "ee4f88d3",
   "metadata": {},
   "outputs": [],
   "source": [
    "instance Functor BinTree where\n",
    "    fmap _ EmptyBT = EmptyBT\n",
    "    fmap f (NodeBT a lt rt) = NodeBT (f a) (fmap f lt) (fmap f rt)"
   ]
  },
  {
   "cell_type": "code",
   "execution_count": 12,
   "id": "b2ab73e4",
   "metadata": {},
   "outputs": [],
   "source": [
    "data BinTree' a = EmptyBT'\n",
    "             | NodeBT' a (BinTree' a) (BinTree' a) deriving (Show, Functor)"
   ]
  },
  {
   "cell_type": "code",
   "execution_count": 13,
   "id": "f114ddab",
   "metadata": {},
   "outputs": [
    {
     "data": {
      "text/plain": [
       "NodeBT' 20 (NodeBT' 16 (NodeBT' 28 EmptyBT' EmptyBT') EmptyBT') EmptyBT'"
      ]
     },
     "metadata": {},
     "output_type": "display_data"
    }
   ],
   "source": [
    "binTree' = NodeBT' 5 (NodeBT' 4 (NodeBT' 7 EmptyBT' EmptyBT') EmptyBT') EmptyBT'\n",
    "fmap (*4) binTree'"
   ]
  },
  {
   "cell_type": "markdown",
   "id": "b3ed4043",
   "metadata": {},
   "source": [
    "**6. Napisać implementacje funktora (`instance Functor`) dla następujących typów:**"
   ]
  },
  {
   "cell_type": "markdown",
   "id": "5587cfd3",
   "metadata": {},
   "source": [
    "**a) newtype Pair b a = Pair { getPair :: (a,b) } -- fmap should change the first element**"
   ]
  },
  {
   "cell_type": "code",
   "execution_count": 14,
   "id": "1166928a",
   "metadata": {},
   "outputs": [],
   "source": [
    "newtype Pair b a = Pair { getPair :: (a,b) } deriving Show"
   ]
  },
  {
   "cell_type": "code",
   "execution_count": 15,
   "id": "07eb3398",
   "metadata": {},
   "outputs": [],
   "source": [
    "instance Functor (Pair b) where\n",
    "    fmap f Pair {getPair = (a, b)} = Pair {getPair = (f a, b)}"
   ]
  },
  {
   "cell_type": "code",
   "execution_count": 16,
   "id": "a9c4a85b",
   "metadata": {},
   "outputs": [
    {
     "data": {
      "text/plain": [
       "Pair {getPair = (24,3)}"
      ]
     },
     "metadata": {},
     "output_type": "display_data"
    }
   ],
   "source": [
    "fmap (*4) (Pair (6, 3))"
   ]
  },
  {
   "cell_type": "markdown",
   "id": "50a5d99f",
   "metadata": {},
   "source": [
    "**b) data Tree2 a = EmptyT2 | Leaf a | Node (Tree2 a) a (Tree2 a) deriving Show**"
   ]
  },
  {
   "cell_type": "code",
   "execution_count": 17,
   "id": "299aafb2",
   "metadata": {},
   "outputs": [],
   "source": [
    "data Tree2 a = EmptyT2\n",
    "             | Leaf a\n",
    "             | Node (Tree2 a) a (Tree2 a) deriving Show"
   ]
  },
  {
   "cell_type": "code",
   "execution_count": 18,
   "id": "8eea3bc6",
   "metadata": {},
   "outputs": [],
   "source": [
    "instance Functor Tree2 where\n",
    "    fmap _ EmptyT2 = EmptyT2\n",
    "    fmap f (Leaf a) = Leaf (f a)\n",
    "    fmap f (Node lt a rt) = Node (fmap f lt) (f a) (fmap f rt)"
   ]
  },
  {
   "cell_type": "code",
   "execution_count": 19,
   "id": "c8c2f36b",
   "metadata": {},
   "outputs": [],
   "source": [
    "tree2 = Node (Leaf 3) 5 (Leaf 9)"
   ]
  },
  {
   "cell_type": "code",
   "execution_count": 20,
   "id": "4ed795fb",
   "metadata": {},
   "outputs": [
    {
     "data": {
      "text/plain": [
       "Node (Leaf 8) 10 (Leaf 14)"
      ]
     },
     "metadata": {},
     "output_type": "display_data"
    }
   ],
   "source": [
    "fmap (+5) tree2"
   ]
  },
  {
   "cell_type": "markdown",
   "id": "af653544",
   "metadata": {},
   "source": [
    "**c) data GTree a = Leaf a | GNode [GTree a] deriving Show**"
   ]
  },
  {
   "cell_type": "code",
   "execution_count": 21,
   "id": "5df0cba7",
   "metadata": {},
   "outputs": [],
   "source": [
    "data GTree a = Leaf a\n",
    "             | GNode [GTree a] deriving Show"
   ]
  },
  {
   "cell_type": "code",
   "execution_count": 22,
   "id": "f5aaf2ff",
   "metadata": {},
   "outputs": [],
   "source": [
    "instance Functor GTree where\n",
    "    fmap f (Leaf a) = Leaf (f a)\n",
    "    fmap f (GNode []) = GNode []\n",
    "    fmap f (GNode [x]) = GNode [fmap f x]"
   ]
  },
  {
   "cell_type": "code",
   "execution_count": 23,
   "id": "fcada0a1",
   "metadata": {},
   "outputs": [],
   "source": [
    "gTree = GNode [GNode [Leaf 7]]"
   ]
  },
  {
   "cell_type": "code",
   "execution_count": 24,
   "id": "75702f4d",
   "metadata": {},
   "outputs": [
    {
     "data": {
      "text/plain": [
       "GNode [GNode [Leaf 11]]"
      ]
     },
     "metadata": {},
     "output_type": "display_data"
    }
   ],
   "source": [
    "fmap (+4) gTree"
   ]
  },
  {
   "cell_type": "markdown",
   "id": "06e4065f",
   "metadata": {},
   "source": [
    "## 8) Funktory aplikatywne 2: dołączanie typów użytkownika do klasy `Applicative`"
   ]
  },
  {
   "cell_type": "markdown",
   "id": "46df063b",
   "metadata": {},
   "source": [
    "**7. Napisać implementacje funktora aplikatywnego (`instance Applicative`) dla typu:**\n",
    "\n",
    "**newtype MyTriple a = MyTriple (a,a,a) deriving Show**"
   ]
  },
  {
   "cell_type": "code",
   "execution_count": 25,
   "id": "c13b07b5",
   "metadata": {},
   "outputs": [],
   "source": [
    "newtype MyTriple a = MyTriple (a,a,a) deriving Show"
   ]
  },
  {
   "cell_type": "code",
   "execution_count": 26,
   "id": "0983d13d",
   "metadata": {},
   "outputs": [],
   "source": [
    "instance Functor MyTriple where\n",
    "    fmap f (MyTriple (a, b, c)) = MyTriple (f a, f b, f c)"
   ]
  },
  {
   "cell_type": "code",
   "execution_count": 27,
   "id": "b8d843e8",
   "metadata": {},
   "outputs": [],
   "source": [
    "instance Applicative MyTriple where\n",
    "    pure a = MyTriple (a,a,a)\n",
    "    (MyTriple (f, g, h)) <*> (MyTriple (a, b, c)) = MyTriple (f a, g b, h c)"
   ]
  },
  {
   "cell_type": "code",
   "execution_count": 28,
   "id": "1eeec3c3",
   "metadata": {},
   "outputs": [
    {
     "data": {
      "text/plain": [
       "MyTriple (13,8,7)"
      ]
     },
     "metadata": {},
     "output_type": "display_data"
    }
   ],
   "source": [
    "fmap (+7) (MyTriple (6, 1, 0))"
   ]
  }
 ],
 "metadata": {
  "kernelspec": {
   "display_name": "Haskell",
   "language": "haskell",
   "name": "haskell"
  },
  "language_info": {
   "codemirror_mode": "ihaskell",
   "file_extension": ".hs",
   "mimetype": "text/x-haskell",
   "name": "haskell",
   "pygments_lexer": "Haskell",
   "version": "8.10.7"
  }
 },
 "nbformat": 4,
 "nbformat_minor": 5
}

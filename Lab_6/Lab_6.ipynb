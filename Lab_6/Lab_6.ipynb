{
 "cells": [
  {
   "cell_type": "markdown",
   "id": "daef0314",
   "metadata": {},
   "source": [
    "# Labs 6"
   ]
  },
  {
   "cell_type": "markdown",
   "id": "89567b97",
   "metadata": {},
   "source": [
    "## 1) Składanie i \"aplikacja\" funkcji: funkcje postaci: `a→b` vs. `a→m b` (rozszerzone/monadyczne, Kleisli arrows)"
   ]
  },
  {
   "cell_type": "markdown",
   "id": "436fb6d9",
   "metadata": {},
   "source": [
    "**1. Zmodyfikować definicję**\n",
    "\n",
    "**f >.>> g = \\x -> g (extractMaybe (f x))**\n",
    "\n",
    "### tak, aby zamiast `extractMaybe` wykorzystać `>^$>`, tzn.\n",
    "\n",
    "### f >.>> g = \\x -> ___ >^$> ___"
   ]
  },
  {
   "cell_type": "code",
   "execution_count": 1,
   "id": "c85f29da",
   "metadata": {},
   "outputs": [],
   "source": [
    "(>^$>) :: Maybe a -> (a -> Maybe b) -> Maybe b\n",
    "Nothing >^$> _ = Nothing\n",
    "(Just x) >^$> f = f x \n",
    "infixl 1 >^$>"
   ]
  },
  {
   "cell_type": "code",
   "execution_count": 2,
   "id": "e134f643",
   "metadata": {},
   "outputs": [],
   "source": [
    "extractMaybe :: Maybe a -> a\n",
    "extractMaybe Nothing  = error \"Nothing inside!\"\n",
    "extractMaybe (Just x) = x"
   ]
  },
  {
   "cell_type": "code",
   "execution_count": 3,
   "id": "498912a6",
   "metadata": {},
   "outputs": [
    {
     "data": {
      "text/html": [
       "<style>/* Styles used for the Hoogle display in the pager */\n",
       ".hoogle-doc {\n",
       "display: block;\n",
       "padding-bottom: 1.3em;\n",
       "padding-left: 0.4em;\n",
       "}\n",
       ".hoogle-code {\n",
       "display: block;\n",
       "font-family: monospace;\n",
       "white-space: pre;\n",
       "}\n",
       ".hoogle-text {\n",
       "display: block;\n",
       "}\n",
       ".hoogle-name {\n",
       "color: green;\n",
       "font-weight: bold;\n",
       "}\n",
       ".hoogle-head {\n",
       "font-weight: bold;\n",
       "}\n",
       ".hoogle-sub {\n",
       "display: block;\n",
       "margin-left: 0.4em;\n",
       "}\n",
       ".hoogle-package {\n",
       "font-weight: bold;\n",
       "font-style: italic;\n",
       "}\n",
       ".hoogle-module {\n",
       "font-weight: bold;\n",
       "}\n",
       ".hoogle-class {\n",
       "font-weight: bold;\n",
       "}\n",
       ".get-type {\n",
       "color: green;\n",
       "font-weight: bold;\n",
       "font-family: monospace;\n",
       "display: block;\n",
       "white-space: pre-wrap;\n",
       "}\n",
       ".show-type {\n",
       "color: green;\n",
       "font-weight: bold;\n",
       "font-family: monospace;\n",
       "margin-left: 1em;\n",
       "}\n",
       ".mono {\n",
       "font-family: monospace;\n",
       "display: block;\n",
       "}\n",
       ".err-msg {\n",
       "color: red;\n",
       "font-style: italic;\n",
       "font-family: monospace;\n",
       "white-space: pre;\n",
       "display: block;\n",
       "}\n",
       "#unshowable {\n",
       "color: red;\n",
       "font-weight: bold;\n",
       "}\n",
       ".err-msg.in.collapse {\n",
       "padding-top: 0.7em;\n",
       "}\n",
       ".highlight-code {\n",
       "white-space: pre;\n",
       "font-family: monospace;\n",
       "}\n",
       ".suggestion-warning { \n",
       "font-weight: bold;\n",
       "color: rgb(200, 130, 0);\n",
       "}\n",
       ".suggestion-error { \n",
       "font-weight: bold;\n",
       "color: red;\n",
       "}\n",
       ".suggestion-name {\n",
       "font-weight: bold;\n",
       "}\n",
       "</style><div class=\"suggestion-name\" style=\"clear:both;\">Avoid lambda</div><div class=\"suggestion-row\" style=\"float: left;\"><div class=\"suggestion-warning\">Found:</div><div class=\"highlight-code\" id=\"haskell\">\\ x -> g (extractMaybe (f x))</div></div><div class=\"suggestion-row\" style=\"float: left;\"><div class=\"suggestion-warning\">Why Not:</div><div class=\"highlight-code\" id=\"haskell\">g . extractMaybe . f</div></div>"
      ],
      "text/plain": [
       "Line 2: Avoid lambda\n",
       "Found:\n",
       "\\ x -> g (extractMaybe (f x))\n",
       "Why not:\n",
       "g . extractMaybe . f"
      ]
     },
     "metadata": {},
     "output_type": "display_data"
    }
   ],
   "source": [
    "(>.>>) :: (a -> Maybe b) -> (b -> Maybe c) -> (a -> Maybe c)\n",
    "f >.>> g = \\x -> g (extractMaybe (f x))"
   ]
  },
  {
   "cell_type": "code",
   "execution_count": 4,
   "id": "20ce4b64",
   "metadata": {},
   "outputs": [],
   "source": [
    "f >.>> g = \\x -> f x >^$> g "
   ]
  },
  {
   "cell_type": "markdown",
   "id": "11d706e8",
   "metadata": {},
   "source": [
    "**2. Ponownie zmodyfikować definicję**\n",
    "\n",
    "**f >.>> g = ...**\n",
    "\n",
    "**ale tym razem zamiast `extractMaybe` wykorzystać `fmap`, tzn.**\n",
    "\n",
    "**f >.>> g = \\x -> ___ fmap ___ ___**\n",
    "\n",
    "**wskazówka: rozważyć użycie funkcji pomocniczej**\n",
    "\n",
    "**joinMaybe :: Maybe (Maybe a) -> (Maybe a)**"
   ]
  },
  {
   "cell_type": "code",
   "execution_count": 5,
   "id": "636b3ef6",
   "metadata": {},
   "outputs": [],
   "source": [
    "joinMaybe :: Maybe (Maybe a) -> Maybe a\n",
    "joinMaybe (Just Nothing) = Nothing\n",
    "joinMaybe (Just (Just x)) = Just x\n",
    "joinMaybe Nothing = Nothing"
   ]
  },
  {
   "cell_type": "markdown",
   "id": "ced1054c",
   "metadata": {},
   "source": [
    "## 2) Przykłady monad: `Maybe`"
   ]
  },
  {
   "cell_type": "markdown",
   "id": "870f929a",
   "metadata": {},
   "source": [
    "**3. (Dla monady `Maybe`) zdefiniować (`>=>`) przy pomocy `>>=`; czy można tę definicję uogólnić, aby była prawdziwa dla dowolnej monady?**"
   ]
  },
  {
   "cell_type": "code",
   "execution_count": 6,
   "id": "09f41cca",
   "metadata": {},
   "outputs": [],
   "source": [
    "(>=>) :: Monad m => (a -> m b) -> (b -> m c) -> a -> m c\n",
    "f >=> g = \\x -> f x >>= g"
   ]
  },
  {
   "cell_type": "markdown",
   "id": "5d99a2e3",
   "metadata": {},
   "source": [
    "**4. Napisać funkcję join dla monady `Maybe`**"
   ]
  },
  {
   "cell_type": "code",
   "execution_count": 7,
   "id": "8ac11bdc",
   "metadata": {},
   "outputs": [],
   "source": [
    "maybeJoin :: Maybe (Maybe a) -> Maybe a\n",
    "maybeJoin (Just (Just x))    = Just x\n",
    "maybeJoin (Just Nothing)     = Nothing\n",
    "maybeJoin Nothing            = Nothing"
   ]
  },
  {
   "cell_type": "code",
   "execution_count": 8,
   "id": "f2d7e9b2",
   "metadata": {},
   "outputs": [
    {
     "data": {
      "text/plain": [
       "Just 12"
      ]
     },
     "metadata": {},
     "output_type": "display_data"
    }
   ],
   "source": [
    "maybeJoin (Just (Just 12))"
   ]
  },
  {
   "cell_type": "code",
   "execution_count": 9,
   "id": "a396610d",
   "metadata": {},
   "outputs": [
    {
     "data": {
      "text/plain": [
       "Nothing"
      ]
     },
     "metadata": {},
     "output_type": "display_data"
    }
   ],
   "source": [
    "maybeJoin (Just Nothing)"
   ]
  },
  {
   "cell_type": "markdown",
   "id": "93bf43b1",
   "metadata": {},
   "source": [
    "## 3) Przykłady monad: `Either e`"
   ]
  },
  {
   "cell_type": "markdown",
   "id": "4393d5a5",
   "metadata": {},
   "source": [
    "**5. Napisać funkcję `join` dla monady (`Either e`)**"
   ]
  },
  {
   "cell_type": "code",
   "execution_count": 10,
   "id": "919ffbac",
   "metadata": {},
   "outputs": [],
   "source": [
    "eitherJoin :: Either e (Either e a) -> Either e a\n",
    "eitherJoin (Right (Right x)) = Right x\n",
    "eitherJoin (Right (Left er)) = Left er\n",
    "eitherJoin (Left er)         = Left er"
   ]
  },
  {
   "cell_type": "code",
   "execution_count": 11,
   "id": "ffa5c884",
   "metadata": {},
   "outputs": [
    {
     "data": {
      "text/plain": [
       "Right 10"
      ]
     },
     "metadata": {},
     "output_type": "display_data"
    }
   ],
   "source": [
    "eitherJoin (Right (Right 10))"
   ]
  },
  {
   "cell_type": "code",
   "execution_count": 12,
   "id": "66b96780",
   "metadata": {},
   "outputs": [
    {
     "data": {
      "text/plain": [
       "Left \"Error\""
      ]
     },
     "metadata": {},
     "output_type": "display_data"
    }
   ],
   "source": [
    "eitherJoin (Left \"Error\")"
   ]
  },
  {
   "cell_type": "markdown",
   "id": "e1e140c1",
   "metadata": {},
   "source": [
    "## 4) Przykłady monad: `[]`"
   ]
  },
  {
   "cell_type": "markdown",
   "id": "8dbc106d",
   "metadata": {},
   "source": [
    "**6. Napisać funkcję `join` dla monady `[]`**"
   ]
  },
  {
   "cell_type": "code",
   "execution_count": 13,
   "id": "f8b10c3b",
   "metadata": {},
   "outputs": [
    {
     "data": {
      "text/html": [
       "<style>/* Styles used for the Hoogle display in the pager */\n",
       ".hoogle-doc {\n",
       "display: block;\n",
       "padding-bottom: 1.3em;\n",
       "padding-left: 0.4em;\n",
       "}\n",
       ".hoogle-code {\n",
       "display: block;\n",
       "font-family: monospace;\n",
       "white-space: pre;\n",
       "}\n",
       ".hoogle-text {\n",
       "display: block;\n",
       "}\n",
       ".hoogle-name {\n",
       "color: green;\n",
       "font-weight: bold;\n",
       "}\n",
       ".hoogle-head {\n",
       "font-weight: bold;\n",
       "}\n",
       ".hoogle-sub {\n",
       "display: block;\n",
       "margin-left: 0.4em;\n",
       "}\n",
       ".hoogle-package {\n",
       "font-weight: bold;\n",
       "font-style: italic;\n",
       "}\n",
       ".hoogle-module {\n",
       "font-weight: bold;\n",
       "}\n",
       ".hoogle-class {\n",
       "font-weight: bold;\n",
       "}\n",
       ".get-type {\n",
       "color: green;\n",
       "font-weight: bold;\n",
       "font-family: monospace;\n",
       "display: block;\n",
       "white-space: pre-wrap;\n",
       "}\n",
       ".show-type {\n",
       "color: green;\n",
       "font-weight: bold;\n",
       "font-family: monospace;\n",
       "margin-left: 1em;\n",
       "}\n",
       ".mono {\n",
       "font-family: monospace;\n",
       "display: block;\n",
       "}\n",
       ".err-msg {\n",
       "color: red;\n",
       "font-style: italic;\n",
       "font-family: monospace;\n",
       "white-space: pre;\n",
       "display: block;\n",
       "}\n",
       "#unshowable {\n",
       "color: red;\n",
       "font-weight: bold;\n",
       "}\n",
       ".err-msg.in.collapse {\n",
       "padding-top: 0.7em;\n",
       "}\n",
       ".highlight-code {\n",
       "white-space: pre;\n",
       "font-family: monospace;\n",
       "}\n",
       ".suggestion-warning { \n",
       "font-weight: bold;\n",
       "color: rgb(200, 130, 0);\n",
       "}\n",
       ".suggestion-error { \n",
       "font-weight: bold;\n",
       "color: red;\n",
       "}\n",
       ".suggestion-name {\n",
       "font-weight: bold;\n",
       "}\n",
       "</style><div class=\"suggestion-name\" style=\"clear:both;\">Use foldr</div><div class=\"suggestion-row\" style=\"float: left;\"><div class=\"suggestion-warning\">Found:</div><div class=\"highlight-code\" id=\"haskell\">joinList [] = []\n",
       "joinList (xs : xss) = xs ++ joinList xss</div></div><div class=\"suggestion-row\" style=\"float: left;\"><div class=\"suggestion-warning\">Why Not:</div><div class=\"highlight-code\" id=\"haskell\">joinList xss = foldr (++) [] xss</div></div>"
      ],
      "text/plain": [
       "Line 2: Use foldr\n",
       "Found:\n",
       "joinList [] = []\n",
       "joinList (xs : xss) = xs ++ joinList xss\n",
       "Why not:\n",
       "joinList xss = foldr (++) [] xss"
      ]
     },
     "metadata": {},
     "output_type": "display_data"
    }
   ],
   "source": [
    "joinList :: [[a]] -> [a]\n",
    "joinList [] = []\n",
    "joinList (xs:xss) = xs ++ joinList xss"
   ]
  },
  {
   "cell_type": "code",
   "execution_count": 14,
   "id": "a8d14d63",
   "metadata": {},
   "outputs": [
    {
     "data": {
      "text/plain": [
       "[1,2,3,4,5]"
      ]
     },
     "metadata": {},
     "output_type": "display_data"
    }
   ],
   "source": [
    "joinList [[1,2,3,4,5]]"
   ]
  },
  {
   "cell_type": "code",
   "execution_count": 15,
   "id": "e7f5048e",
   "metadata": {},
   "outputs": [
    {
     "data": {
      "text/plain": [
       "[1,2,3,4,5,6,7,8,1,2,3]"
      ]
     },
     "metadata": {},
     "output_type": "display_data"
    }
   ],
   "source": [
    "joinList [[1..8], [1..3]]"
   ]
  },
  {
   "cell_type": "code",
   "execution_count": 16,
   "id": "3691f1db",
   "metadata": {},
   "outputs": [
    {
     "data": {
      "text/plain": [
       "[]"
      ]
     },
     "metadata": {},
     "output_type": "display_data"
    }
   ],
   "source": [
    "joinList []"
   ]
  }
 ],
 "metadata": {
  "kernelspec": {
   "display_name": "Haskell",
   "language": "haskell",
   "name": "haskell"
  },
  "language_info": {
   "codemirror_mode": "ihaskell",
   "file_extension": ".hs",
   "mimetype": "text/x-haskell",
   "name": "haskell",
   "pygments_lexer": "Haskell",
   "version": "8.10.7"
  }
 },
 "nbformat": 4,
 "nbformat_minor": 5
}
